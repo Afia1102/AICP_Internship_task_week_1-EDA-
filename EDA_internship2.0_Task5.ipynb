{
 "cells": [
  {
   "cell_type": "markdown",
   "id": "75a64c43-e2bc-4871-a704-695b6fba7196",
   "metadata": {},
   "source": [
    "Find Dataset “Instagram data.csv” and implement EDA techniques.\r\n",
    "Import following libraries at start:\r\n",
    "import pandas as pd\r\n",
    "import plotly.express as px\r\n",
    "import plotly.graph_objects as go\r\n",
    "import plotly.io as pio\r\n",
    "from wordcloud import WordCloud\r\n",
    "pio.templates.default = \"plotly_ask sing values"
   ]
  },
  {
   "cell_type": "code",
   "execution_count": 38,
   "id": "131fe5aa-94fb-4328-8dbe-af042df10207",
   "metadata": {},
   "outputs": [],
   "source": [
    "import pandas as pd\n",
    "import plotly.express as px\n",
    "import plotly.graph_objects as go\n",
    "import plotly.io as pio\n",
    "import seaborn as sns\n",
    "import matplotlib.pyplot as plt\n",
    "from wordcloud import WordCloud,STOPWORDS\n",
    "pio.templates.default = \"plotly_white\"\n",
    "import matplotlib.colors as mcolors"
   ]
  },
  {
   "cell_type": "code",
   "execution_count": 2,
   "id": "216e1b7a-45b9-4cf6-93ac-717a0f6ea2e1",
   "metadata": {},
   "outputs": [],
   "source": [
    "data=pd.read_csv('instagram data.csv', encoding='latin1')"
   ]
  },
  {
   "cell_type": "markdown",
   "id": "7713cfad-abc7-43b8-b171-6a13695eaf4a",
   "metadata": {},
   "source": [
    "Q.1: Show column names and have a look at their info.\n"
   ]
  },
  {
   "cell_type": "code",
   "execution_count": 3,
   "id": "e37bd2c4-6015-47df-9217-bd5483c79faf",
   "metadata": {},
   "outputs": [
    {
     "name": "stdout",
     "output_type": "stream",
     "text": [
      "Column names:\n",
      "Index(['Impressions', 'From Home', 'From Hashtags', 'From Explore',\n",
      "       'From Other', 'Saves', 'Comments', 'Shares', 'Likes', 'Profile Visits',\n",
      "       'Follows', 'Caption', 'Hashtags'],\n",
      "      dtype='object')\n"
     ]
    }
   ],
   "source": [
    "print(\"Column names:\")\n",
    "print(data.columns)"
   ]
  },
  {
   "cell_type": "code",
   "execution_count": 5,
   "id": "a3f0847f-cd0b-4dc8-997f-94366ecf4e5e",
   "metadata": {},
   "outputs": [
    {
     "name": "stdout",
     "output_type": "stream",
     "text": [
      "column info:\n",
      "<class 'pandas.core.frame.DataFrame'>\n",
      "RangeIndex: 119 entries, 0 to 118\n",
      "Data columns (total 13 columns):\n",
      " #   Column          Non-Null Count  Dtype \n",
      "---  ------          --------------  ----- \n",
      " 0   Impressions     119 non-null    int64 \n",
      " 1   From Home       119 non-null    int64 \n",
      " 2   From Hashtags   119 non-null    int64 \n",
      " 3   From Explore    119 non-null    int64 \n",
      " 4   From Other      119 non-null    int64 \n",
      " 5   Saves           119 non-null    int64 \n",
      " 6   Comments        119 non-null    int64 \n",
      " 7   Shares          119 non-null    int64 \n",
      " 8   Likes           119 non-null    int64 \n",
      " 9   Profile Visits  119 non-null    int64 \n",
      " 10  Follows         119 non-null    int64 \n",
      " 11  Caption         119 non-null    object\n",
      " 12  Hashtags        119 non-null    object\n",
      "dtypes: int64(11), object(2)\n",
      "memory usage: 12.2+ KB\n",
      "None\n"
     ]
    }
   ],
   "source": [
    "print(\"column info:\")\n",
    "print(data.info())"
   ]
  },
  {
   "cell_type": "markdown",
   "id": "284e711c-1261-4f7e-b472-7aa2139600f5",
   "metadata": {},
   "source": [
    "Q.2: Show the descriptive statistics of the data.\n"
   ]
  },
  {
   "cell_type": "code",
   "execution_count": 6,
   "id": "891b1eea-aef3-40d6-bc83-c9c8fbf6e88e",
   "metadata": {},
   "outputs": [
    {
     "name": "stdout",
     "output_type": "stream",
     "text": [
      "Descriptive statistics:\n",
      "        Impressions     From Home  From Hashtags  From Explore   From Other  \\\n",
      "count    119.000000    119.000000     119.000000    119.000000   119.000000   \n",
      "mean    5703.991597   2475.789916    1887.512605   1078.100840   171.092437   \n",
      "std     4843.780105   1489.386348    1884.361443   2613.026132   289.431031   \n",
      "min     1941.000000   1133.000000     116.000000      0.000000     9.000000   \n",
      "25%     3467.000000   1945.000000     726.000000    157.500000    38.000000   \n",
      "50%     4289.000000   2207.000000    1278.000000    326.000000    74.000000   \n",
      "75%     6138.000000   2602.500000    2363.500000    689.500000   196.000000   \n",
      "max    36919.000000  13473.000000   11817.000000  17414.000000  2547.000000   \n",
      "\n",
      "             Saves    Comments      Shares       Likes  Profile Visits  \\\n",
      "count   119.000000  119.000000  119.000000  119.000000      119.000000   \n",
      "mean    153.310924    6.663866    9.361345  173.781513       50.621849   \n",
      "std     156.317731    3.544576   10.089205   82.378947       87.088402   \n",
      "min      22.000000    0.000000    0.000000   72.000000        4.000000   \n",
      "25%      65.000000    4.000000    3.000000  121.500000       15.000000   \n",
      "50%     109.000000    6.000000    6.000000  151.000000       23.000000   \n",
      "75%     169.000000    8.000000   13.500000  204.000000       42.000000   \n",
      "max    1095.000000   19.000000   75.000000  549.000000      611.000000   \n",
      "\n",
      "          Follows  \n",
      "count  119.000000  \n",
      "mean    20.756303  \n",
      "std     40.921580  \n",
      "min      0.000000  \n",
      "25%      4.000000  \n",
      "50%      8.000000  \n",
      "75%     18.000000  \n",
      "max    260.000000  \n"
     ]
    }
   ],
   "source": [
    "print(\"Descriptive statistics:\")\n",
    "print(data.describe())"
   ]
  },
  {
   "cell_type": "markdown",
   "id": "8ff1a953-9295-4838-88cc-8198230ddcb9",
   "metadata": {},
   "source": [
    "Q.3: Check if your data contains any missing values"
   ]
  },
  {
   "cell_type": "code",
   "execution_count": 7,
   "id": "318b5a67-c6b9-4fa8-bb46-84e3508fc3c5",
   "metadata": {},
   "outputs": [
    {
     "name": "stdout",
     "output_type": "stream",
     "text": [
      "Null values checking:\n",
      "<bound method DataFrame.sum of      Impressions  From Home  From Hashtags  From Explore  From Other  Saves  \\\n",
      "0          False      False          False         False       False  False   \n",
      "1          False      False          False         False       False  False   \n",
      "2          False      False          False         False       False  False   \n",
      "3          False      False          False         False       False  False   \n",
      "4          False      False          False         False       False  False   \n",
      "..           ...        ...            ...           ...         ...    ...   \n",
      "114        False      False          False         False       False  False   \n",
      "115        False      False          False         False       False  False   \n",
      "116        False      False          False         False       False  False   \n",
      "117        False      False          False         False       False  False   \n",
      "118        False      False          False         False       False  False   \n",
      "\n",
      "     Comments  Shares  Likes  Profile Visits  Follows  Caption  Hashtags  \n",
      "0       False   False  False           False    False    False     False  \n",
      "1       False   False  False           False    False    False     False  \n",
      "2       False   False  False           False    False    False     False  \n",
      "3       False   False  False           False    False    False     False  \n",
      "4       False   False  False           False    False    False     False  \n",
      "..        ...     ...    ...             ...      ...      ...       ...  \n",
      "114     False   False  False           False    False    False     False  \n",
      "115     False   False  False           False    False    False     False  \n",
      "116     False   False  False           False    False    False     False  \n",
      "117     False   False  False           False    False    False     False  \n",
      "118     False   False  False           False    False    False     False  \n",
      "\n",
      "[119 rows x 13 columns]>\n"
     ]
    }
   ],
   "source": [
    "print(\"Null values checking:\")\n",
    "print(data.isnull().sum)"
   ]
  },
  {
   "cell_type": "markdown",
   "id": "eacb75d4-d796-435a-a3f0-dc39191f69ba",
   "metadata": {},
   "source": [
    "Q.4: When you start exploring your data, always start by exploring the main feature of your data. For\n",
    "example, as we are working on a dataset based on Instagram Reach, we should start by exploring the\n",
    "feature that contains data about reach. In our data, the Impressions column contains the data about the\n",
    "reach of an Instagram post. So let’s have a look at the distribution of the Impressions"
   ]
  },
  {
   "cell_type": "code",
   "execution_count": 66,
   "id": "799c957d-9d67-4eba-a15c-55fdfe6c5dfd",
   "metadata": {},
   "outputs": [
    {
     "data": {
      "application/vnd.plotly.v1+json": {
       "config": {
        "plotlyServerURL": "https://plot.ly"
       },
       "data": [
        {
         "alignmentgroup": "True",
         "bingroup": "x",
         "hovertemplate": "Impressions=%{x}<br>count=%{y}<extra></extra>",
         "legendgroup": "",
         "marker": {
          "color": "#636efa",
          "pattern": {
           "shape": ""
          }
         },
         "name": "",
         "nbinsx": 10,
         "offsetgroup": "",
         "orientation": "v",
         "showlegend": false,
         "type": "histogram",
         "x": [
          3920,
          5394,
          4021,
          4528,
          2518,
          3884,
          2621,
          3541,
          3749,
          4115,
          2218,
          3234,
          4344,
          3216,
          9453,
          5055,
          4002,
          3169,
          6168,
          2407,
          2064,
          3973,
          7281,
          3052,
          4628,
          4082,
          5394,
          2766,
          3924,
          3015,
          6666,
          3854,
          4355,
          4343,
          6108,
          2523,
          2327,
          3990,
          2191,
          1941,
          16062,
          4998,
          4289,
          3880,
          3786,
          4298,
          3630,
          2826,
          7407,
          10386,
          2998,
          7018,
          2941,
          6432,
          10667,
          3988,
          4978,
          3388,
          4467,
          3246,
          5072,
          6339,
          4239,
          3454,
          7571,
          3333,
          3818,
          10933,
          5058,
          3601,
          3480,
          3525,
          3606,
          5542,
          6559,
          3623,
          10493,
          4446,
          2957,
          5538,
          4681,
          5273,
          5055,
          4002,
          3169,
          6168,
          2407,
          3630,
          2826,
          7407,
          10386,
          2998,
          3052,
          4628,
          4082,
          5394,
          2766,
          3924,
          3015,
          5409,
          5323,
          8001,
          4150,
          4609,
          6348,
          11068,
          7231,
          17396,
          6814,
          17713,
          5563,
          4842,
          11149,
          10206,
          13700,
          5731,
          4139,
          32695,
          36919
         ],
         "xaxis": "x",
         "yaxis": "y"
        }
       ],
       "layout": {
        "autosize": true,
        "barmode": "relative",
        "legend": {
         "tracegroupgap": 0
        },
        "template": {
         "data": {
          "bar": [
           {
            "error_x": {
             "color": "#2a3f5f"
            },
            "error_y": {
             "color": "#2a3f5f"
            },
            "marker": {
             "line": {
              "color": "white",
              "width": 0.5
             },
             "pattern": {
              "fillmode": "overlay",
              "size": 10,
              "solidity": 0.2
             }
            },
            "type": "bar"
           }
          ],
          "barpolar": [
           {
            "marker": {
             "line": {
              "color": "white",
              "width": 0.5
             },
             "pattern": {
              "fillmode": "overlay",
              "size": 10,
              "solidity": 0.2
             }
            },
            "type": "barpolar"
           }
          ],
          "carpet": [
           {
            "aaxis": {
             "endlinecolor": "#2a3f5f",
             "gridcolor": "#C8D4E3",
             "linecolor": "#C8D4E3",
             "minorgridcolor": "#C8D4E3",
             "startlinecolor": "#2a3f5f"
            },
            "baxis": {
             "endlinecolor": "#2a3f5f",
             "gridcolor": "#C8D4E3",
             "linecolor": "#C8D4E3",
             "minorgridcolor": "#C8D4E3",
             "startlinecolor": "#2a3f5f"
            },
            "type": "carpet"
           }
          ],
          "choropleth": [
           {
            "colorbar": {
             "outlinewidth": 0,
             "ticks": ""
            },
            "type": "choropleth"
           }
          ],
          "contour": [
           {
            "colorbar": {
             "outlinewidth": 0,
             "ticks": ""
            },
            "colorscale": [
             [
              0,
              "#0d0887"
             ],
             [
              0.1111111111111111,
              "#46039f"
             ],
             [
              0.2222222222222222,
              "#7201a8"
             ],
             [
              0.3333333333333333,
              "#9c179e"
             ],
             [
              0.4444444444444444,
              "#bd3786"
             ],
             [
              0.5555555555555556,
              "#d8576b"
             ],
             [
              0.6666666666666666,
              "#ed7953"
             ],
             [
              0.7777777777777778,
              "#fb9f3a"
             ],
             [
              0.8888888888888888,
              "#fdca26"
             ],
             [
              1,
              "#f0f921"
             ]
            ],
            "type": "contour"
           }
          ],
          "contourcarpet": [
           {
            "colorbar": {
             "outlinewidth": 0,
             "ticks": ""
            },
            "type": "contourcarpet"
           }
          ],
          "heatmap": [
           {
            "colorbar": {
             "outlinewidth": 0,
             "ticks": ""
            },
            "colorscale": [
             [
              0,
              "#0d0887"
             ],
             [
              0.1111111111111111,
              "#46039f"
             ],
             [
              0.2222222222222222,
              "#7201a8"
             ],
             [
              0.3333333333333333,
              "#9c179e"
             ],
             [
              0.4444444444444444,
              "#bd3786"
             ],
             [
              0.5555555555555556,
              "#d8576b"
             ],
             [
              0.6666666666666666,
              "#ed7953"
             ],
             [
              0.7777777777777778,
              "#fb9f3a"
             ],
             [
              0.8888888888888888,
              "#fdca26"
             ],
             [
              1,
              "#f0f921"
             ]
            ],
            "type": "heatmap"
           }
          ],
          "heatmapgl": [
           {
            "colorbar": {
             "outlinewidth": 0,
             "ticks": ""
            },
            "colorscale": [
             [
              0,
              "#0d0887"
             ],
             [
              0.1111111111111111,
              "#46039f"
             ],
             [
              0.2222222222222222,
              "#7201a8"
             ],
             [
              0.3333333333333333,
              "#9c179e"
             ],
             [
              0.4444444444444444,
              "#bd3786"
             ],
             [
              0.5555555555555556,
              "#d8576b"
             ],
             [
              0.6666666666666666,
              "#ed7953"
             ],
             [
              0.7777777777777778,
              "#fb9f3a"
             ],
             [
              0.8888888888888888,
              "#fdca26"
             ],
             [
              1,
              "#f0f921"
             ]
            ],
            "type": "heatmapgl"
           }
          ],
          "histogram": [
           {
            "marker": {
             "pattern": {
              "fillmode": "overlay",
              "size": 10,
              "solidity": 0.2
             }
            },
            "type": "histogram"
           }
          ],
          "histogram2d": [
           {
            "colorbar": {
             "outlinewidth": 0,
             "ticks": ""
            },
            "colorscale": [
             [
              0,
              "#0d0887"
             ],
             [
              0.1111111111111111,
              "#46039f"
             ],
             [
              0.2222222222222222,
              "#7201a8"
             ],
             [
              0.3333333333333333,
              "#9c179e"
             ],
             [
              0.4444444444444444,
              "#bd3786"
             ],
             [
              0.5555555555555556,
              "#d8576b"
             ],
             [
              0.6666666666666666,
              "#ed7953"
             ],
             [
              0.7777777777777778,
              "#fb9f3a"
             ],
             [
              0.8888888888888888,
              "#fdca26"
             ],
             [
              1,
              "#f0f921"
             ]
            ],
            "type": "histogram2d"
           }
          ],
          "histogram2dcontour": [
           {
            "colorbar": {
             "outlinewidth": 0,
             "ticks": ""
            },
            "colorscale": [
             [
              0,
              "#0d0887"
             ],
             [
              0.1111111111111111,
              "#46039f"
             ],
             [
              0.2222222222222222,
              "#7201a8"
             ],
             [
              0.3333333333333333,
              "#9c179e"
             ],
             [
              0.4444444444444444,
              "#bd3786"
             ],
             [
              0.5555555555555556,
              "#d8576b"
             ],
             [
              0.6666666666666666,
              "#ed7953"
             ],
             [
              0.7777777777777778,
              "#fb9f3a"
             ],
             [
              0.8888888888888888,
              "#fdca26"
             ],
             [
              1,
              "#f0f921"
             ]
            ],
            "type": "histogram2dcontour"
           }
          ],
          "mesh3d": [
           {
            "colorbar": {
             "outlinewidth": 0,
             "ticks": ""
            },
            "type": "mesh3d"
           }
          ],
          "parcoords": [
           {
            "line": {
             "colorbar": {
              "outlinewidth": 0,
              "ticks": ""
             }
            },
            "type": "parcoords"
           }
          ],
          "pie": [
           {
            "automargin": true,
            "type": "pie"
           }
          ],
          "scatter": [
           {
            "fillpattern": {
             "fillmode": "overlay",
             "size": 10,
             "solidity": 0.2
            },
            "type": "scatter"
           }
          ],
          "scatter3d": [
           {
            "line": {
             "colorbar": {
              "outlinewidth": 0,
              "ticks": ""
             }
            },
            "marker": {
             "colorbar": {
              "outlinewidth": 0,
              "ticks": ""
             }
            },
            "type": "scatter3d"
           }
          ],
          "scattercarpet": [
           {
            "marker": {
             "colorbar": {
              "outlinewidth": 0,
              "ticks": ""
             }
            },
            "type": "scattercarpet"
           }
          ],
          "scattergeo": [
           {
            "marker": {
             "colorbar": {
              "outlinewidth": 0,
              "ticks": ""
             }
            },
            "type": "scattergeo"
           }
          ],
          "scattergl": [
           {
            "marker": {
             "colorbar": {
              "outlinewidth": 0,
              "ticks": ""
             }
            },
            "type": "scattergl"
           }
          ],
          "scattermapbox": [
           {
            "marker": {
             "colorbar": {
              "outlinewidth": 0,
              "ticks": ""
             }
            },
            "type": "scattermapbox"
           }
          ],
          "scatterpolar": [
           {
            "marker": {
             "colorbar": {
              "outlinewidth": 0,
              "ticks": ""
             }
            },
            "type": "scatterpolar"
           }
          ],
          "scatterpolargl": [
           {
            "marker": {
             "colorbar": {
              "outlinewidth": 0,
              "ticks": ""
             }
            },
            "type": "scatterpolargl"
           }
          ],
          "scatterternary": [
           {
            "marker": {
             "colorbar": {
              "outlinewidth": 0,
              "ticks": ""
             }
            },
            "type": "scatterternary"
           }
          ],
          "surface": [
           {
            "colorbar": {
             "outlinewidth": 0,
             "ticks": ""
            },
            "colorscale": [
             [
              0,
              "#0d0887"
             ],
             [
              0.1111111111111111,
              "#46039f"
             ],
             [
              0.2222222222222222,
              "#7201a8"
             ],
             [
              0.3333333333333333,
              "#9c179e"
             ],
             [
              0.4444444444444444,
              "#bd3786"
             ],
             [
              0.5555555555555556,
              "#d8576b"
             ],
             [
              0.6666666666666666,
              "#ed7953"
             ],
             [
              0.7777777777777778,
              "#fb9f3a"
             ],
             [
              0.8888888888888888,
              "#fdca26"
             ],
             [
              1,
              "#f0f921"
             ]
            ],
            "type": "surface"
           }
          ],
          "table": [
           {
            "cells": {
             "fill": {
              "color": "#EBF0F8"
             },
             "line": {
              "color": "white"
             }
            },
            "header": {
             "fill": {
              "color": "#C8D4E3"
             },
             "line": {
              "color": "white"
             }
            },
            "type": "table"
           }
          ]
         },
         "layout": {
          "annotationdefaults": {
           "arrowcolor": "#2a3f5f",
           "arrowhead": 0,
           "arrowwidth": 1
          },
          "autotypenumbers": "strict",
          "coloraxis": {
           "colorbar": {
            "outlinewidth": 0,
            "ticks": ""
           }
          },
          "colorscale": {
           "diverging": [
            [
             0,
             "#8e0152"
            ],
            [
             0.1,
             "#c51b7d"
            ],
            [
             0.2,
             "#de77ae"
            ],
            [
             0.3,
             "#f1b6da"
            ],
            [
             0.4,
             "#fde0ef"
            ],
            [
             0.5,
             "#f7f7f7"
            ],
            [
             0.6,
             "#e6f5d0"
            ],
            [
             0.7,
             "#b8e186"
            ],
            [
             0.8,
             "#7fbc41"
            ],
            [
             0.9,
             "#4d9221"
            ],
            [
             1,
             "#276419"
            ]
           ],
           "sequential": [
            [
             0,
             "#0d0887"
            ],
            [
             0.1111111111111111,
             "#46039f"
            ],
            [
             0.2222222222222222,
             "#7201a8"
            ],
            [
             0.3333333333333333,
             "#9c179e"
            ],
            [
             0.4444444444444444,
             "#bd3786"
            ],
            [
             0.5555555555555556,
             "#d8576b"
            ],
            [
             0.6666666666666666,
             "#ed7953"
            ],
            [
             0.7777777777777778,
             "#fb9f3a"
            ],
            [
             0.8888888888888888,
             "#fdca26"
            ],
            [
             1,
             "#f0f921"
            ]
           ],
           "sequentialminus": [
            [
             0,
             "#0d0887"
            ],
            [
             0.1111111111111111,
             "#46039f"
            ],
            [
             0.2222222222222222,
             "#7201a8"
            ],
            [
             0.3333333333333333,
             "#9c179e"
            ],
            [
             0.4444444444444444,
             "#bd3786"
            ],
            [
             0.5555555555555556,
             "#d8576b"
            ],
            [
             0.6666666666666666,
             "#ed7953"
            ],
            [
             0.7777777777777778,
             "#fb9f3a"
            ],
            [
             0.8888888888888888,
             "#fdca26"
            ],
            [
             1,
             "#f0f921"
            ]
           ]
          },
          "colorway": [
           "#636efa",
           "#EF553B",
           "#00cc96",
           "#ab63fa",
           "#FFA15A",
           "#19d3f3",
           "#FF6692",
           "#B6E880",
           "#FF97FF",
           "#FECB52"
          ],
          "font": {
           "color": "#2a3f5f"
          },
          "geo": {
           "bgcolor": "white",
           "lakecolor": "white",
           "landcolor": "white",
           "showlakes": true,
           "showland": true,
           "subunitcolor": "#C8D4E3"
          },
          "hoverlabel": {
           "align": "left"
          },
          "hovermode": "closest",
          "mapbox": {
           "style": "light"
          },
          "paper_bgcolor": "white",
          "plot_bgcolor": "white",
          "polar": {
           "angularaxis": {
            "gridcolor": "#EBF0F8",
            "linecolor": "#EBF0F8",
            "ticks": ""
           },
           "bgcolor": "white",
           "radialaxis": {
            "gridcolor": "#EBF0F8",
            "linecolor": "#EBF0F8",
            "ticks": ""
           }
          },
          "scene": {
           "xaxis": {
            "backgroundcolor": "white",
            "gridcolor": "#DFE8F3",
            "gridwidth": 2,
            "linecolor": "#EBF0F8",
            "showbackground": true,
            "ticks": "",
            "zerolinecolor": "#EBF0F8"
           },
           "yaxis": {
            "backgroundcolor": "white",
            "gridcolor": "#DFE8F3",
            "gridwidth": 2,
            "linecolor": "#EBF0F8",
            "showbackground": true,
            "ticks": "",
            "zerolinecolor": "#EBF0F8"
           },
           "zaxis": {
            "backgroundcolor": "white",
            "gridcolor": "#DFE8F3",
            "gridwidth": 2,
            "linecolor": "#EBF0F8",
            "showbackground": true,
            "ticks": "",
            "zerolinecolor": "#EBF0F8"
           }
          },
          "shapedefaults": {
           "line": {
            "color": "#2a3f5f"
           }
          },
          "ternary": {
           "aaxis": {
            "gridcolor": "#DFE8F3",
            "linecolor": "#A2B1C6",
            "ticks": ""
           },
           "baxis": {
            "gridcolor": "#DFE8F3",
            "linecolor": "#A2B1C6",
            "ticks": ""
           },
           "bgcolor": "white",
           "caxis": {
            "gridcolor": "#DFE8F3",
            "linecolor": "#A2B1C6",
            "ticks": ""
           }
          },
          "title": {
           "x": 0.05
          },
          "xaxis": {
           "automargin": true,
           "gridcolor": "#EBF0F8",
           "linecolor": "#EBF0F8",
           "ticks": "",
           "title": {
            "standoff": 15
           },
           "zerolinecolor": "#EBF0F8",
           "zerolinewidth": 2
          },
          "yaxis": {
           "automargin": true,
           "gridcolor": "#EBF0F8",
           "linecolor": "#EBF0F8",
           "ticks": "",
           "title": {
            "standoff": 15
           },
           "zerolinecolor": "#EBF0F8",
           "zerolinewidth": 2
          }
         }
        },
        "title": {
         "text": "Distribution of Impressions"
        },
        "xaxis": {
         "anchor": "y",
         "autorange": true,
         "domain": [
          0,
          1
         ],
         "range": [
          -0.5,
          39999.5
         ],
         "title": {
          "text": "Impressions"
         },
         "type": "linear"
        },
        "yaxis": {
         "anchor": "x",
         "autorange": true,
         "domain": [
          0,
          1
         ],
         "range": [
          0,
          77.89473684210526
         ],
         "title": {
          "text": "count"
         }
        }
       }
      },
      "image/png": "[encoded data removed]",
      "text/html": [
       "<div>                            <div id=\"0df16237-1dbd-4fe2-ad81-3e1c4fcf5d6f\" class=\"plotly-graph-div\" style=\"height:525px; width:100%;\"></div>            <script type=\"text/javascript\">                require([\"plotly\"], function(Plotly) {                    window.PLOTLYENV=window.PLOTLYENV || {};                                    if (document.getElementById(\"0df16237-1dbd-4fe2-ad81-3e1c4fcf5d6f\")) {                    Plotly.newPlot(                        \"0df16237-1dbd-4fe2-ad81-3e1c4fcf5d6f\",                        [{\"alignmentgroup\":\"True\",\"bingroup\":\"x\",\"hovertemplate\":\"Impressions=%{x}\\u003cbr\\u003ecount=%{y}\\u003cextra\\u003e\\u003c\\u002fextra\\u003e\",\"legendgroup\":\"\",\"marker\":{\"color\":\"#636efa\",\"pattern\":{\"shape\":\"\"}},\"name\":\"\",\"nbinsx\":10,\"offsetgroup\":\"\",\"orientation\":\"v\",\"showlegend\":false,\"x\":[3920,5394,4021,4528,2518,3884,2621,3541,3749,4115,2218,3234,4344,3216,9453,5055,4002,3169,6168,2407,2064,3973,7281,3052,4628,4082,5394,2766,3924,3015,6666,3854,4355,4343,6108,2523,2327,3990,2191,1941,16062,4998,4289,3880,3786,4298,3630,2826,7407,10386,2998,7018,2941,6432,10667,3988,4978,3388,4467,3246,5072,6339,4239,3454,7571,3333,3818,10933,5058,3601,3480,3525,3606,5542,6559,3623,10493,4446,2957,5538,4681,5273,5055,4002,3169,6168,2407,3630,2826,7407,10386,2998,3052,4628,4082,5394,2766,3924,3015,5409,5323,8001,4150,4609,6348,11068,7231,17396,6814,17713,5563,4842,11149,10206,13700,5731,4139,32695,36919],\"xaxis\":\"x\",\"yaxis\":\"y\",\"type\":\"histogram\"}],                        {\"template\":{\"data\":{\"histogram2dcontour\":[{\"type\":\"histogram2dcontour\",\"colorbar\":{\"outlinewidth\":0,\"ticks\":\"\"},\"colorscale\":[[0.0,\"#0d0887\"],[0.1111111111111111,\"#46039f\"],[0.2222222222222222,\"#7201a8\"],[0.3333333333333333,\"#9c179e\"],[0.4444444444444444,\"#bd3786\"],[0.5555555555555556,\"#d8576b\"],[0.6666666666666666,\"#ed7953\"],[0.7777777777777778,\"#fb9f3a\"],[0.8888888888888888,\"#fdca26\"],[1.0,\"#f0f921\"]]}],\"choropleth\":[{\"type\":\"choropleth\",\"colorbar\":{\"outlinewidth\":0,\"ticks\":\"\"}}],\"histogram2d\":[{\"type\":\"histogram2d\",\"colorbar\":{\"outlinewidth\":0,\"ticks\":\"\"},\"colorscale\":[[0.0,\"#0d0887\"],[0.1111111111111111,\"#46039f\"],[0.2222222222222222,\"#7201a8\"],[0.3333333333333333,\"#9c179e\"],[0.4444444444444444,\"#bd3786\"],[0.5555555555555556,\"#d8576b\"],[0.6666666666666666,\"#ed7953\"],[0.7777777777777778,\"#fb9f3a\"],[0.8888888888888888,\"#fdca26\"],[1.0,\"#f0f921\"]]}],\"heatmap\":[{\"type\":\"heatmap\",\"colorbar\":{\"outlinewidth\":0,\"ticks\":\"\"},\"colorscale\":[[0.0,\"#0d0887\"],[0.1111111111111111,\"#46039f\"],[0.2222222222222222,\"#7201a8\"],[0.3333333333333333,\"#9c179e\"],[0.4444444444444444,\"#bd3786\"],[0.5555555555555556,\"#d8576b\"],[0.6666666666666666,\"#ed7953\"],[0.7777777777777778,\"#fb9f3a\"],[0.8888888888888888,\"#fdca26\"],[1.0,\"#f0f921\"]]}],\"heatmapgl\":[{\"type\":\"heatmapgl\",\"colorbar\":{\"outlinewidth\":0,\"ticks\":\"\"},\"colorscale\":[[0.0,\"#0d0887\"],[0.1111111111111111,\"#46039f\"],[0.2222222222222222,\"#7201a8\"],[0.3333333333333333,\"#9c179e\"],[0.4444444444444444,\"#bd3786\"],[0.5555555555555556,\"#d8576b\"],[0.6666666666666666,\"#ed7953\"],[0.7777777777777778,\"#fb9f3a\"],[0.8888888888888888,\"#fdca26\"],[1.0,\"#f0f921\"]]}],\"contourcarpet\":[{\"type\":\"contourcarpet\",\"colorbar\":{\"outlinewidth\":0,\"ticks\":\"\"}}],\"contour\":[{\"type\":\"contour\",\"colorbar\":{\"outlinewidth\":0,\"ticks\":\"\"},\"colorscale\":[[0.0,\"#0d0887\"],[0.1111111111111111,\"#46039f\"],[0.2222222222222222,\"#7201a8\"],[0.3333333333333333,\"#9c179e\"],[0.4444444444444444,\"#bd3786\"],[0.5555555555555556,\"#d8576b\"],[0.6666666666666666,\"#ed7953\"],[0.7777777777777778,\"#fb9f3a\"],[0.8888888888888888,\"#fdca26\"],[1.0,\"#f0f921\"]]}],\"surface\":[{\"type\":\"surface\",\"colorbar\":{\"outlinewidth\":0,\"ticks\":\"\"},\"colorscale\":[[0.0,\"#0d0887\"],[0.1111111111111111,\"#46039f\"],[0.2222222222222222,\"#7201a8\"],[0.3333333333333333,\"#9c179e\"],[0.4444444444444444,\"#bd3786\"],[0.5555555555555556,\"#d8576b\"],[0.6666666666666666,\"#ed7953\"],[0.7777777777777778,\"#fb9f3a\"],[0.8888888888888888,\"#fdca26\"],[1.0,\"#f0f921\"]]}],\"mesh3d\":[{\"type\":\"mesh3d\",\"colorbar\":{\"outlinewidth\":0,\"ticks\":\"\"}}],\"scatter\":[{\"fillpattern\":{\"fillmode\":\"overlay\",\"size\":10,\"solidity\":0.2},\"type\":\"scatter\"}],\"parcoords\":[{\"type\":\"parcoords\",\"line\":{\"colorbar\":{\"outlinewidth\":0,\"ticks\":\"\"}}}],\"scatterpolargl\":[{\"type\":\"scatterpolargl\",\"marker\":{\"colorbar\":{\"outlinewidth\":0,\"ticks\":\"\"}}}],\"bar\":[{\"error_x\":{\"color\":\"#2a3f5f\"},\"error_y\":{\"color\":\"#2a3f5f\"},\"marker\":{\"line\":{\"color\":\"white\",\"width\":0.5},\"pattern\":{\"fillmode\":\"overlay\",\"size\":10,\"solidity\":0.2}},\"type\":\"bar\"}],\"scattergeo\":[{\"type\":\"scattergeo\",\"marker\":{\"colorbar\":{\"outlinewidth\":0,\"ticks\":\"\"}}}],\"scatterpolar\":[{\"type\":\"scatterpolar\",\"marker\":{\"colorbar\":{\"outlinewidth\":0,\"ticks\":\"\"}}}],\"histogram\":[{\"marker\":{\"pattern\":{\"fillmode\":\"overlay\",\"size\":10,\"solidity\":0.2}},\"type\":\"histogram\"}],\"scattergl\":[{\"type\":\"scattergl\",\"marker\":{\"colorbar\":{\"outlinewidth\":0,\"ticks\":\"\"}}}],\"scatter3d\":[{\"type\":\"scatter3d\",\"line\":{\"colorbar\":{\"outlinewidth\":0,\"ticks\":\"\"}},\"marker\":{\"colorbar\":{\"outlinewidth\":0,\"ticks\":\"\"}}}],\"scattermapbox\":[{\"type\":\"scattermapbox\",\"marker\":{\"colorbar\":{\"outlinewidth\":0,\"ticks\":\"\"}}}],\"scatterternary\":[{\"type\":\"scatterternary\",\"marker\":{\"colorbar\":{\"outlinewidth\":0,\"ticks\":\"\"}}}],\"scattercarpet\":[{\"type\":\"scattercarpet\",\"marker\":{\"colorbar\":{\"outlinewidth\":0,\"ticks\":\"\"}}}],\"carpet\":[{\"aaxis\":{\"endlinecolor\":\"#2a3f5f\",\"gridcolor\":\"#C8D4E3\",\"linecolor\":\"#C8D4E3\",\"minorgridcolor\":\"#C8D4E3\",\"startlinecolor\":\"#2a3f5f\"},\"baxis\":{\"endlinecolor\":\"#2a3f5f\",\"gridcolor\":\"#C8D4E3\",\"linecolor\":\"#C8D4E3\",\"minorgridcolor\":\"#C8D4E3\",\"startlinecolor\":\"#2a3f5f\"},\"type\":\"carpet\"}],\"table\":[{\"cells\":{\"fill\":{\"color\":\"#EBF0F8\"},\"line\":{\"color\":\"white\"}},\"header\":{\"fill\":{\"color\":\"#C8D4E3\"},\"line\":{\"color\":\"white\"}},\"type\":\"table\"}],\"barpolar\":[{\"marker\":{\"line\":{\"color\":\"white\",\"width\":0.5},\"pattern\":{\"fillmode\":\"overlay\",\"size\":10,\"solidity\":0.2}},\"type\":\"barpolar\"}],\"pie\":[{\"automargin\":true,\"type\":\"pie\"}]},\"layout\":{\"autotypenumbers\":\"strict\",\"colorway\":[\"#636efa\",\"#EF553B\",\"#00cc96\",\"#ab63fa\",\"#FFA15A\",\"#19d3f3\",\"#FF6692\",\"#B6E880\",\"#FF97FF\",\"#FECB52\"],\"font\":{\"color\":\"#2a3f5f\"},\"hovermode\":\"closest\",\"hoverlabel\":{\"align\":\"left\"},\"paper_bgcolor\":\"white\",\"plot_bgcolor\":\"white\",\"polar\":{\"bgcolor\":\"white\",\"angularaxis\":{\"gridcolor\":\"#EBF0F8\",\"linecolor\":\"#EBF0F8\",\"ticks\":\"\"},\"radialaxis\":{\"gridcolor\":\"#EBF0F8\",\"linecolor\":\"#EBF0F8\",\"ticks\":\"\"}},\"ternary\":{\"bgcolor\":\"white\",\"aaxis\":{\"gridcolor\":\"#DFE8F3\",\"linecolor\":\"#A2B1C6\",\"ticks\":\"\"},\"baxis\":{\"gridcolor\":\"#DFE8F3\",\"linecolor\":\"#A2B1C6\",\"ticks\":\"\"},\"caxis\":{\"gridcolor\":\"#DFE8F3\",\"linecolor\":\"#A2B1C6\",\"ticks\":\"\"}},\"coloraxis\":{\"colorbar\":{\"outlinewidth\":0,\"ticks\":\"\"}},\"colorscale\":{\"sequential\":[[0.0,\"#0d0887\"],[0.1111111111111111,\"#46039f\"],[0.2222222222222222,\"#7201a8\"],[0.3333333333333333,\"#9c179e\"],[0.4444444444444444,\"#bd3786\"],[0.5555555555555556,\"#d8576b\"],[0.6666666666666666,\"#ed7953\"],[0.7777777777777778,\"#fb9f3a\"],[0.8888888888888888,\"#fdca26\"],[1.0,\"#f0f921\"]],\"sequentialminus\":[[0.0,\"#0d0887\"],[0.1111111111111111,\"#46039f\"],[0.2222222222222222,\"#7201a8\"],[0.3333333333333333,\"#9c179e\"],[0.4444444444444444,\"#bd3786\"],[0.5555555555555556,\"#d8576b\"],[0.6666666666666666,\"#ed7953\"],[0.7777777777777778,\"#fb9f3a\"],[0.8888888888888888,\"#fdca26\"],[1.0,\"#f0f921\"]],\"diverging\":[[0,\"#8e0152\"],[0.1,\"#c51b7d\"],[0.2,\"#de77ae\"],[0.3,\"#f1b6da\"],[0.4,\"#fde0ef\"],[0.5,\"#f7f7f7\"],[0.6,\"#e6f5d0\"],[0.7,\"#b8e186\"],[0.8,\"#7fbc41\"],[0.9,\"#4d9221\"],[1,\"#276419\"]]},\"xaxis\":{\"gridcolor\":\"#EBF0F8\",\"linecolor\":\"#EBF0F8\",\"ticks\":\"\",\"title\":{\"standoff\":15},\"zerolinecolor\":\"#EBF0F8\",\"automargin\":true,\"zerolinewidth\":2},\"yaxis\":{\"gridcolor\":\"#EBF0F8\",\"linecolor\":\"#EBF0F8\",\"ticks\":\"\",\"title\":{\"standoff\":15},\"zerolinecolor\":\"#EBF0F8\",\"automargin\":true,\"zerolinewidth\":2},\"scene\":{\"xaxis\":{\"backgroundcolor\":\"white\",\"gridcolor\":\"#DFE8F3\",\"linecolor\":\"#EBF0F8\",\"showbackground\":true,\"ticks\":\"\",\"zerolinecolor\":\"#EBF0F8\",\"gridwidth\":2},\"yaxis\":{\"backgroundcolor\":\"white\",\"gridcolor\":\"#DFE8F3\",\"linecolor\":\"#EBF0F8\",\"showbackground\":true,\"ticks\":\"\",\"zerolinecolor\":\"#EBF0F8\",\"gridwidth\":2},\"zaxis\":{\"backgroundcolor\":\"white\",\"gridcolor\":\"#DFE8F3\",\"linecolor\":\"#EBF0F8\",\"showbackground\":true,\"ticks\":\"\",\"zerolinecolor\":\"#EBF0F8\",\"gridwidth\":2}},\"shapedefaults\":{\"line\":{\"color\":\"#2a3f5f\"}},\"annotationdefaults\":{\"arrowcolor\":\"#2a3f5f\",\"arrowhead\":0,\"arrowwidth\":1},\"geo\":{\"bgcolor\":\"white\",\"landcolor\":\"white\",\"subunitcolor\":\"#C8D4E3\",\"showland\":true,\"showlakes\":true,\"lakecolor\":\"white\"},\"title\":{\"x\":0.05},\"mapbox\":{\"style\":\"light\"}}},\"xaxis\":{\"anchor\":\"y\",\"domain\":[0.0,1.0],\"title\":{\"text\":\"Impressions\"}},\"yaxis\":{\"anchor\":\"x\",\"domain\":[0.0,1.0],\"title\":{\"text\":\"count\"}},\"legend\":{\"tracegroupgap\":0},\"title\":{\"text\":\"Distribution of Impressions\"},\"barmode\":\"relative\"},                        {\"responsive\": true}                    ).then(function(){\n",
       "                            \n",
       "var gd = document.getElementById('0df16237-1dbd-4fe2-ad81-3e1c4fcf5d6f');\n",
       "var x = new MutationObserver(function (mutations, observer) {{\n",
       "        var display = window.getComputedStyle(gd).display;\n",
       "        if (!display || display === 'none') {{\n",
       "            console.log([gd, 'removed!']);\n",
       "            Plotly.purge(gd);\n",
       "            observer.disconnect();\n",
       "        }}\n",
       "}});\n",
       "\n",
       "// Listen for the removal of the full notebook cells\n",
       "var notebookContainer = gd.closest('#notebook-container');\n",
       "if (notebookContainer) {{\n",
       "    x.observe(notebookContainer, {childList: true});\n",
       "}}\n",
       "\n",
       "// Listen for the clearing of the current output cell\n",
       "var outputEl = gd.closest('.output');\n",
       "if (outputEl) {{\n",
       "    x.observe(outputEl, {childList: true});\n",
       "}}\n",
       "\n",
       "                        })                };                });            </script>        </div>"
      ]
     },
     "metadata": {},
     "output_type": "display_data"
    }
   ],
   "source": [
    "\n",
    "df = pd.DataFrame(data)\n",
    "fig = px.histogram(df, x='Impressions',nbins=10, title=\"Distribution of Impressions\")\n",
    "fig.show()"
   ]
  },
  {
   "cell_type": "markdown",
   "id": "43e159f0-c7e5-4849-9294-5e5c68b8a703",
   "metadata": {},
   "source": [
    "Q.5: Have a look at the number of impressions on each post over time as shown below"
   ]
  },
  {
   "cell_type": "code",
   "execution_count": 70,
   "id": "28ffb3d8-c2a1-4a4e-9136-e819ab066e03",
   "metadata": {},
   "outputs": [
    {
     "data": {
      "application/vnd.plotly.v1+json": {
       "config": {
        "plotlyServerURL": "https://plot.ly"
       },
       "data": [
        {
         "hovertemplate": "index=%{x}<br>Impressions=%{y}<extra></extra>",
         "legendgroup": "",
         "line": {
          "color": "#636efa",
          "dash": "solid"
         },
         "marker": {
          "symbol": "circle"
         },
         "mode": "lines",
         "name": "",
         "orientation": "v",
         "showlegend": false,
         "type": "scatter",
         "x": [
          0,
          1,
          2,
          3,
          4,
          5,
          6,
          7,
          8,
          9,
          10,
          11,
          12,
          13,
          14,
          15,
          16,
          17,
          18,
          19,
          20,
          21,
          22,
          23,
          24,
          25,
          26,
          27,
          28,
          29,
          30,
          31,
          32,
          33,
          34,
          35,
          36,
          37,
          38,
          39,
          40,
          41,
          42,
          43,
          44,
          45,
          46,
          47,
          48,
          49,
          50,
          51,
          52,
          53,
          54,
          55,
          56,
          57,
          58,
          59,
          60,
          61,
          62,
          63,
          64,
          65,
          66,
          67,
          68,
          69,
          70,
          71,
          72,
          73,
          74,
          75,
          76,
          77,
          78,
          79,
          80,
          81,
          82,
          83,
          84,
          85,
          86,
          87,
          88,
          89,
          90,
          91,
          92,
          93,
          94,
          95,
          96,
          97,
          98,
          99,
          100,
          101,
          102,
          103,
          104,
          105,
          106,
          107,
          108,
          109,
          110,
          111,
          112,
          113,
          114,
          115,
          116,
          117,
          118
         ],
         "xaxis": "x",
         "y": [
          3920,
          5394,
          4021,
          4528,
          2518,
          3884,
          2621,
          3541,
          3749,
          4115,
          2218,
          3234,
          4344,
          3216,
          9453,
          5055,
          4002,
          3169,
          6168,
          2407,
          2064,
          3973,
          7281,
          3052,
          4628,
          4082,
          5394,
          2766,
          3924,
          3015,
          6666,
          3854,
          4355,
          4343,
          6108,
          2523,
          2327,
          3990,
          2191,
          1941,
          16062,
          4998,
          4289,
          3880,
          3786,
          4298,
          3630,
          2826,
          7407,
          10386,
          2998,
          7018,
          2941,
          6432,
          10667,
          3988,
          4978,
          3388,
          4467,
          3246,
          5072,
          6339,
          4239,
          3454,
          7571,
          3333,
          3818,
          10933,
          5058,
          3601,
          3480,
          3525,
          3606,
          5542,
          6559,
          3623,
          10493,
          4446,
          2957,
          5538,
          4681,
          5273,
          5055,
          4002,
          3169,
          6168,
          2407,
          3630,
          2826,
          7407,
          10386,
          2998,
          3052,
          4628,
          4082,
          5394,
          2766,
          3924,
          3015,
          5409,
          5323,
          8001,
          4150,
          4609,
          6348,
          11068,
          7231,
          17396,
          6814,
          17713,
          5563,
          4842,
          11149,
          10206,
          13700,
          5731,
          4139,
          32695,
          36919
         ],
         "yaxis": "y"
        }
       ],
       "layout": {
        "autosize": true,
        "legend": {
         "tracegroupgap": 0
        },
        "template": {
         "data": {
          "bar": [
           {
            "error_x": {
             "color": "#2a3f5f"
            },
            "error_y": {
             "color": "#2a3f5f"
            },
            "marker": {
             "line": {
              "color": "white",
              "width": 0.5
             },
             "pattern": {
              "fillmode": "overlay",
              "size": 10,
              "solidity": 0.2
             }
            },
            "type": "bar"
           }
          ],
          "barpolar": [
           {
            "marker": {
             "line": {
              "color": "white",
              "width": 0.5
             },
             "pattern": {
              "fillmode": "overlay",
              "size": 10,
              "solidity": 0.2
             }
            },
            "type": "barpolar"
           }
          ],
          "carpet": [
           {
            "aaxis": {
             "endlinecolor": "#2a3f5f",
             "gridcolor": "#C8D4E3",
             "linecolor": "#C8D4E3",
             "minorgridcolor": "#C8D4E3",
             "startlinecolor": "#2a3f5f"
            },
            "baxis": {
             "endlinecolor": "#2a3f5f",
             "gridcolor": "#C8D4E3",
             "linecolor": "#C8D4E3",
             "minorgridcolor": "#C8D4E3",
             "startlinecolor": "#2a3f5f"
            },
            "type": "carpet"
           }
          ],
          "choropleth": [
           {
            "colorbar": {
             "outlinewidth": 0,
             "ticks": ""
            },
            "type": "choropleth"
           }
          ],
          "contour": [
           {
            "colorbar": {
             "outlinewidth": 0,
             "ticks": ""
            },
            "colorscale": [
             [
              0,
              "#0d0887"
             ],
             [
              0.1111111111111111,
              "#46039f"
             ],
             [
              0.2222222222222222,
              "#7201a8"
             ],
             [
              0.3333333333333333,
              "#9c179e"
             ],
             [
              0.4444444444444444,
              "#bd3786"
             ],
             [
              0.5555555555555556,
              "#d8576b"
             ],
             [
              0.6666666666666666,
              "#ed7953"
             ],
             [
              0.7777777777777778,
              "#fb9f3a"
             ],
             [
              0.8888888888888888,
              "#fdca26"
             ],
             [
              1,
              "#f0f921"
             ]
            ],
            "type": "contour"
           }
          ],
          "contourcarpet": [
           {
            "colorbar": {
             "outlinewidth": 0,
             "ticks": ""
            },
            "type": "contourcarpet"
           }
          ],
          "heatmap": [
           {
            "colorbar": {
             "outlinewidth": 0,
             "ticks": ""
            },
            "colorscale": [
             [
              0,
              "#0d0887"
             ],
             [
              0.1111111111111111,
              "#46039f"
             ],
             [
              0.2222222222222222,
              "#7201a8"
             ],
             [
              0.3333333333333333,
              "#9c179e"
             ],
             [
              0.4444444444444444,
              "#bd3786"
             ],
             [
              0.5555555555555556,
              "#d8576b"
             ],
             [
              0.6666666666666666,
              "#ed7953"
             ],
             [
              0.7777777777777778,
              "#fb9f3a"
             ],
             [
              0.8888888888888888,
              "#fdca26"
             ],
             [
              1,
              "#f0f921"
             ]
            ],
            "type": "heatmap"
           }
          ],
          "heatmapgl": [
           {
            "colorbar": {
             "outlinewidth": 0,
             "ticks": ""
            },
            "colorscale": [
             [
              0,
              "#0d0887"
             ],
             [
              0.1111111111111111,
              "#46039f"
             ],
             [
              0.2222222222222222,
              "#7201a8"
             ],
             [
              0.3333333333333333,
              "#9c179e"
             ],
             [
              0.4444444444444444,
              "#bd3786"
             ],
             [
              0.5555555555555556,
              "#d8576b"
             ],
             [
              0.6666666666666666,
              "#ed7953"
             ],
             [
              0.7777777777777778,
              "#fb9f3a"
             ],
             [
              0.8888888888888888,
              "#fdca26"
             ],
             [
              1,
              "#f0f921"
             ]
            ],
            "type": "heatmapgl"
           }
          ],
          "histogram": [
           {
            "marker": {
             "pattern": {
              "fillmode": "overlay",
              "size": 10,
              "solidity": 0.2
             }
            },
            "type": "histogram"
           }
          ],
          "histogram2d": [
           {
            "colorbar": {
             "outlinewidth": 0,
             "ticks": ""
            },
            "colorscale": [
             [
              0,
              "#0d0887"
             ],
             [
              0.1111111111111111,
              "#46039f"
             ],
             [
              0.2222222222222222,
              "#7201a8"
             ],
             [
              0.3333333333333333,
              "#9c179e"
             ],
             [
              0.4444444444444444,
              "#bd3786"
             ],
             [
              0.5555555555555556,
              "#d8576b"
             ],
             [
              0.6666666666666666,
              "#ed7953"
             ],
             [
              0.7777777777777778,
              "#fb9f3a"
             ],
             [
              0.8888888888888888,
              "#fdca26"
             ],
             [
              1,
              "#f0f921"
             ]
            ],
            "type": "histogram2d"
           }
          ],
          "histogram2dcontour": [
           {
            "colorbar": {
             "outlinewidth": 0,
             "ticks": ""
            },
            "colorscale": [
             [
              0,
              "#0d0887"
             ],
             [
              0.1111111111111111,
              "#46039f"
             ],
             [
              0.2222222222222222,
              "#7201a8"
             ],
             [
              0.3333333333333333,
              "#9c179e"
             ],
             [
              0.4444444444444444,
              "#bd3786"
             ],
             [
              0.5555555555555556,
              "#d8576b"
             ],
             [
              0.6666666666666666,
              "#ed7953"
             ],
             [
              0.7777777777777778,
              "#fb9f3a"
             ],
             [
              0.8888888888888888,
              "#fdca26"
             ],
             [
              1,
              "#f0f921"
             ]
            ],
            "type": "histogram2dcontour"
           }
          ],
          "mesh3d": [
           {
            "colorbar": {
             "outlinewidth": 0,
             "ticks": ""
            },
            "type": "mesh3d"
           }
          ],
          "parcoords": [
           {
            "line": {
             "colorbar": {
              "outlinewidth": 0,
              "ticks": ""
             }
            },
            "type": "parcoords"
           }
          ],
          "pie": [
           {
            "automargin": true,
            "type": "pie"
           }
          ],
          "scatter": [
           {
            "fillpattern": {
             "fillmode": "overlay",
             "size": 10,
             "solidity": 0.2
            },
            "type": "scatter"
           }
          ],
          "scatter3d": [
           {
            "line": {
             "colorbar": {
              "outlinewidth": 0,
              "ticks": ""
             }
            },
            "marker": {
             "colorbar": {
              "outlinewidth": 0,
              "ticks": ""
             }
            },
            "type": "scatter3d"
           }
          ],
          "scattercarpet": [
           {
            "marker": {
             "colorbar": {
              "outlinewidth": 0,
              "ticks": ""
             }
            },
            "type": "scattercarpet"
           }
          ],
          "scattergeo": [
           {
            "marker": {
             "colorbar": {
              "outlinewidth": 0,
              "ticks": ""
             }
            },
            "type": "scattergeo"
           }
          ],
          "scattergl": [
           {
            "marker": {
             "colorbar": {
              "outlinewidth": 0,
              "ticks": ""
             }
            },
            "type": "scattergl"
           }
          ],
          "scattermapbox": [
           {
            "marker": {
             "colorbar": {
              "outlinewidth": 0,
              "ticks": ""
             }
            },
            "type": "scattermapbox"
           }
          ],
          "scatterpolar": [
           {
            "marker": {
             "colorbar": {
              "outlinewidth": 0,
              "ticks": ""
             }
            },
            "type": "scatterpolar"
           }
          ],
          "scatterpolargl": [
           {
            "marker": {
             "colorbar": {
              "outlinewidth": 0,
              "ticks": ""
             }
            },
            "type": "scatterpolargl"
           }
          ],
          "scatterternary": [
           {
            "marker": {
             "colorbar": {
              "outlinewidth": 0,
              "ticks": ""
             }
            },
            "type": "scatterternary"
           }
          ],
          "surface": [
           {
            "colorbar": {
             "outlinewidth": 0,
             "ticks": ""
            },
            "colorscale": [
             [
              0,
              "#0d0887"
             ],
             [
              0.1111111111111111,
              "#46039f"
             ],
             [
              0.2222222222222222,
              "#7201a8"
             ],
             [
              0.3333333333333333,
              "#9c179e"
             ],
             [
              0.4444444444444444,
              "#bd3786"
             ],
             [
              0.5555555555555556,
              "#d8576b"
             ],
             [
              0.6666666666666666,
              "#ed7953"
             ],
             [
              0.7777777777777778,
              "#fb9f3a"
             ],
             [
              0.8888888888888888,
              "#fdca26"
             ],
             [
              1,
              "#f0f921"
             ]
            ],
            "type": "surface"
           }
          ],
          "table": [
           {
            "cells": {
             "fill": {
              "color": "#EBF0F8"
             },
             "line": {
              "color": "white"
             }
            },
            "header": {
             "fill": {
              "color": "#C8D4E3"
             },
             "line": {
              "color": "white"
             }
            },
            "type": "table"
           }
          ]
         },
         "layout": {
          "annotationdefaults": {
           "arrowcolor": "#2a3f5f",
           "arrowhead": 0,
           "arrowwidth": 1
          },
          "autotypenumbers": "strict",
          "coloraxis": {
           "colorbar": {
            "outlinewidth": 0,
            "ticks": ""
           }
          },
          "colorscale": {
           "diverging": [
            [
             0,
             "#8e0152"
            ],
            [
             0.1,
             "#c51b7d"
            ],
            [
             0.2,
             "#de77ae"
            ],
            [
             0.3,
             "#f1b6da"
            ],
            [
             0.4,
             "#fde0ef"
            ],
            [
             0.5,
             "#f7f7f7"
            ],
            [
             0.6,
             "#e6f5d0"
            ],
            [
             0.7,
             "#b8e186"
            ],
            [
             0.8,
             "#7fbc41"
            ],
            [
             0.9,
             "#4d9221"
            ],
            [
             1,
             "#276419"
            ]
           ],
           "sequential": [
            [
             0,
             "#0d0887"
            ],
            [
             0.1111111111111111,
             "#46039f"
            ],
            [
             0.2222222222222222,
             "#7201a8"
            ],
            [
             0.3333333333333333,
             "#9c179e"
            ],
            [
             0.4444444444444444,
             "#bd3786"
            ],
            [
             0.5555555555555556,
             "#d8576b"
            ],
            [
             0.6666666666666666,
             "#ed7953"
            ],
            [
             0.7777777777777778,
             "#fb9f3a"
            ],
            [
             0.8888888888888888,
             "#fdca26"
            ],
            [
             1,
             "#f0f921"
            ]
           ],
           "sequentialminus": [
            [
             0,
             "#0d0887"
            ],
            [
             0.1111111111111111,
             "#46039f"
            ],
            [
             0.2222222222222222,
             "#7201a8"
            ],
            [
             0.3333333333333333,
             "#9c179e"
            ],
            [
             0.4444444444444444,
             "#bd3786"
            ],
            [
             0.5555555555555556,
             "#d8576b"
            ],
            [
             0.6666666666666666,
             "#ed7953"
            ],
            [
             0.7777777777777778,
             "#fb9f3a"
            ],
            [
             0.8888888888888888,
             "#fdca26"
            ],
            [
             1,
             "#f0f921"
            ]
           ]
          },
          "colorway": [
           "#636efa",
           "#EF553B",
           "#00cc96",
           "#ab63fa",
           "#FFA15A",
           "#19d3f3",
           "#FF6692",
           "#B6E880",
           "#FF97FF",
           "#FECB52"
          ],
          "font": {
           "color": "#2a3f5f"
          },
          "geo": {
           "bgcolor": "white",
           "lakecolor": "white",
           "landcolor": "white",
           "showlakes": true,
           "showland": true,
           "subunitcolor": "#C8D4E3"
          },
          "hoverlabel": {
           "align": "left"
          },
          "hovermode": "closest",
          "mapbox": {
           "style": "light"
          },
          "paper_bgcolor": "white",
          "plot_bgcolor": "white",
          "polar": {
           "angularaxis": {
            "gridcolor": "#EBF0F8",
            "linecolor": "#EBF0F8",
            "ticks": ""
           },
           "bgcolor": "white",
           "radialaxis": {
            "gridcolor": "#EBF0F8",
            "linecolor": "#EBF0F8",
            "ticks": ""
           }
          },
          "scene": {
           "xaxis": {
            "backgroundcolor": "white",
            "gridcolor": "#DFE8F3",
            "gridwidth": 2,
            "linecolor": "#EBF0F8",
            "showbackground": true,
            "ticks": "",
            "zerolinecolor": "#EBF0F8"
           },
           "yaxis": {
            "backgroundcolor": "white",
            "gridcolor": "#DFE8F3",
            "gridwidth": 2,
            "linecolor": "#EBF0F8",
            "showbackground": true,
            "ticks": "",
            "zerolinecolor": "#EBF0F8"
           },
           "zaxis": {
            "backgroundcolor": "white",
            "gridcolor": "#DFE8F3",
            "gridwidth": 2,
            "linecolor": "#EBF0F8",
            "showbackground": true,
            "ticks": "",
            "zerolinecolor": "#EBF0F8"
           }
          },
          "shapedefaults": {
           "line": {
            "color": "#2a3f5f"
           }
          },
          "ternary": {
           "aaxis": {
            "gridcolor": "#DFE8F3",
            "linecolor": "#A2B1C6",
            "ticks": ""
           },
           "baxis": {
            "gridcolor": "#DFE8F3",
            "linecolor": "#A2B1C6",
            "ticks": ""
           },
           "bgcolor": "white",
           "caxis": {
            "gridcolor": "#DFE8F3",
            "linecolor": "#A2B1C6",
            "ticks": ""
           }
          },
          "title": {
           "x": 0.05
          },
          "xaxis": {
           "automargin": true,
           "gridcolor": "#EBF0F8",
           "linecolor": "#EBF0F8",
           "ticks": "",
           "title": {
            "standoff": 15
           },
           "zerolinecolor": "#EBF0F8",
           "zerolinewidth": 2
          },
          "yaxis": {
           "automargin": true,
           "gridcolor": "#EBF0F8",
           "linecolor": "#EBF0F8",
           "ticks": "",
           "title": {
            "standoff": 15
           },
           "zerolinecolor": "#EBF0F8",
           "zerolinewidth": 2
          }
         }
        },
        "title": {
         "text": "Impressions Over Time"
        },
        "xaxis": {
         "anchor": "y",
         "autorange": true,
         "domain": [
          0,
          1
         ],
         "range": [
          0,
          118
         ],
         "title": {
          "text": "index"
         },
         "type": "linear"
        },
        "yaxis": {
         "anchor": "x",
         "autorange": true,
         "domain": [
          0,
          1
         ],
         "range": [
          -2.2222222222221717,
          38862.22222222222
         ],
         "title": {
          "text": "Impressions"
         },
         "type": "linear"
        }
       }
      },
      "image/png": "[encoded data removed]",
      "text/html": [
       "<div>                            <div id=\"48204af0-876b-41ff-ae08-c627457e86bd\" class=\"plotly-graph-div\" style=\"height:525px; width:100%;\"></div>            <script type=\"text/javascript\">                require([\"plotly\"], function(Plotly) {                    window.PLOTLYENV=window.PLOTLYENV || {};                                    if (document.getElementById(\"48204af0-876b-41ff-ae08-c627457e86bd\")) {                    Plotly.newPlot(                        \"48204af0-876b-41ff-ae08-c627457e86bd\",                        [{\"hovertemplate\":\"index=%{x}\\u003cbr\\u003eImpressions=%{y}\\u003cextra\\u003e\\u003c\\u002fextra\\u003e\",\"legendgroup\":\"\",\"line\":{\"color\":\"#636efa\",\"dash\":\"solid\"},\"marker\":{\"symbol\":\"circle\"},\"mode\":\"lines\",\"name\":\"\",\"orientation\":\"v\",\"showlegend\":false,\"x\":[0,1,2,3,4,5,6,7,8,9,10,11,12,13,14,15,16,17,18,19,20,21,22,23,24,25,26,27,28,29,30,31,32,33,34,35,36,37,38,39,40,41,42,43,44,45,46,47,48,49,50,51,52,53,54,55,56,57,58,59,60,61,62,63,64,65,66,67,68,69,70,71,72,73,74,75,76,77,78,79,80,81,82,83,84,85,86,87,88,89,90,91,92,93,94,95,96,97,98,99,100,101,102,103,104,105,106,107,108,109,110,111,112,113,114,115,116,117,118],\"xaxis\":\"x\",\"y\":[3920,5394,4021,4528,2518,3884,2621,3541,3749,4115,2218,3234,4344,3216,9453,5055,4002,3169,6168,2407,2064,3973,7281,3052,4628,4082,5394,2766,3924,3015,6666,3854,4355,4343,6108,2523,2327,3990,2191,1941,16062,4998,4289,3880,3786,4298,3630,2826,7407,10386,2998,7018,2941,6432,10667,3988,4978,3388,4467,3246,5072,6339,4239,3454,7571,3333,3818,10933,5058,3601,3480,3525,3606,5542,6559,3623,10493,4446,2957,5538,4681,5273,5055,4002,3169,6168,2407,3630,2826,7407,10386,2998,3052,4628,4082,5394,2766,3924,3015,5409,5323,8001,4150,4609,6348,11068,7231,17396,6814,17713,5563,4842,11149,10206,13700,5731,4139,32695,36919],\"yaxis\":\"y\",\"type\":\"scatter\"}],                        {\"template\":{\"data\":{\"histogram2dcontour\":[{\"type\":\"histogram2dcontour\",\"colorbar\":{\"outlinewidth\":0,\"ticks\":\"\"},\"colorscale\":[[0.0,\"#0d0887\"],[0.1111111111111111,\"#46039f\"],[0.2222222222222222,\"#7201a8\"],[0.3333333333333333,\"#9c179e\"],[0.4444444444444444,\"#bd3786\"],[0.5555555555555556,\"#d8576b\"],[0.6666666666666666,\"#ed7953\"],[0.7777777777777778,\"#fb9f3a\"],[0.8888888888888888,\"#fdca26\"],[1.0,\"#f0f921\"]]}],\"choropleth\":[{\"type\":\"choropleth\",\"colorbar\":{\"outlinewidth\":0,\"ticks\":\"\"}}],\"histogram2d\":[{\"type\":\"histogram2d\",\"colorbar\":{\"outlinewidth\":0,\"ticks\":\"\"},\"colorscale\":[[0.0,\"#0d0887\"],[0.1111111111111111,\"#46039f\"],[0.2222222222222222,\"#7201a8\"],[0.3333333333333333,\"#9c179e\"],[0.4444444444444444,\"#bd3786\"],[0.5555555555555556,\"#d8576b\"],[0.6666666666666666,\"#ed7953\"],[0.7777777777777778,\"#fb9f3a\"],[0.8888888888888888,\"#fdca26\"],[1.0,\"#f0f921\"]]}],\"heatmap\":[{\"type\":\"heatmap\",\"colorbar\":{\"outlinewidth\":0,\"ticks\":\"\"},\"colorscale\":[[0.0,\"#0d0887\"],[0.1111111111111111,\"#46039f\"],[0.2222222222222222,\"#7201a8\"],[0.3333333333333333,\"#9c179e\"],[0.4444444444444444,\"#bd3786\"],[0.5555555555555556,\"#d8576b\"],[0.6666666666666666,\"#ed7953\"],[0.7777777777777778,\"#fb9f3a\"],[0.8888888888888888,\"#fdca26\"],[1.0,\"#f0f921\"]]}],\"heatmapgl\":[{\"type\":\"heatmapgl\",\"colorbar\":{\"outlinewidth\":0,\"ticks\":\"\"},\"colorscale\":[[0.0,\"#0d0887\"],[0.1111111111111111,\"#46039f\"],[0.2222222222222222,\"#7201a8\"],[0.3333333333333333,\"#9c179e\"],[0.4444444444444444,\"#bd3786\"],[0.5555555555555556,\"#d8576b\"],[0.6666666666666666,\"#ed7953\"],[0.7777777777777778,\"#fb9f3a\"],[0.8888888888888888,\"#fdca26\"],[1.0,\"#f0f921\"]]}],\"contourcarpet\":[{\"type\":\"contourcarpet\",\"colorbar\":{\"outlinewidth\":0,\"ticks\":\"\"}}],\"contour\":[{\"type\":\"contour\",\"colorbar\":{\"outlinewidth\":0,\"ticks\":\"\"},\"colorscale\":[[0.0,\"#0d0887\"],[0.1111111111111111,\"#46039f\"],[0.2222222222222222,\"#7201a8\"],[0.3333333333333333,\"#9c179e\"],[0.4444444444444444,\"#bd3786\"],[0.5555555555555556,\"#d8576b\"],[0.6666666666666666,\"#ed7953\"],[0.7777777777777778,\"#fb9f3a\"],[0.8888888888888888,\"#fdca26\"],[1.0,\"#f0f921\"]]}],\"surface\":[{\"type\":\"surface\",\"colorbar\":{\"outlinewidth\":0,\"ticks\":\"\"},\"colorscale\":[[0.0,\"#0d0887\"],[0.1111111111111111,\"#46039f\"],[0.2222222222222222,\"#7201a8\"],[0.3333333333333333,\"#9c179e\"],[0.4444444444444444,\"#bd3786\"],[0.5555555555555556,\"#d8576b\"],[0.6666666666666666,\"#ed7953\"],[0.7777777777777778,\"#fb9f3a\"],[0.8888888888888888,\"#fdca26\"],[1.0,\"#f0f921\"]]}],\"mesh3d\":[{\"type\":\"mesh3d\",\"colorbar\":{\"outlinewidth\":0,\"ticks\":\"\"}}],\"scatter\":[{\"fillpattern\":{\"fillmode\":\"overlay\",\"size\":10,\"solidity\":0.2},\"type\":\"scatter\"}],\"parcoords\":[{\"type\":\"parcoords\",\"line\":{\"colorbar\":{\"outlinewidth\":0,\"ticks\":\"\"}}}],\"scatterpolargl\":[{\"type\":\"scatterpolargl\",\"marker\":{\"colorbar\":{\"outlinewidth\":0,\"ticks\":\"\"}}}],\"bar\":[{\"error_x\":{\"color\":\"#2a3f5f\"},\"error_y\":{\"color\":\"#2a3f5f\"},\"marker\":{\"line\":{\"color\":\"white\",\"width\":0.5},\"pattern\":{\"fillmode\":\"overlay\",\"size\":10,\"solidity\":0.2}},\"type\":\"bar\"}],\"scattergeo\":[{\"type\":\"scattergeo\",\"marker\":{\"colorbar\":{\"outlinewidth\":0,\"ticks\":\"\"}}}],\"scatterpolar\":[{\"type\":\"scatterpolar\",\"marker\":{\"colorbar\":{\"outlinewidth\":0,\"ticks\":\"\"}}}],\"histogram\":[{\"marker\":{\"pattern\":{\"fillmode\":\"overlay\",\"size\":10,\"solidity\":0.2}},\"type\":\"histogram\"}],\"scattergl\":[{\"type\":\"scattergl\",\"marker\":{\"colorbar\":{\"outlinewidth\":0,\"ticks\":\"\"}}}],\"scatter3d\":[{\"type\":\"scatter3d\",\"line\":{\"colorbar\":{\"outlinewidth\":0,\"ticks\":\"\"}},\"marker\":{\"colorbar\":{\"outlinewidth\":0,\"ticks\":\"\"}}}],\"scattermapbox\":[{\"type\":\"scattermapbox\",\"marker\":{\"colorbar\":{\"outlinewidth\":0,\"ticks\":\"\"}}}],\"scatterternary\":[{\"type\":\"scatterternary\",\"marker\":{\"colorbar\":{\"outlinewidth\":0,\"ticks\":\"\"}}}],\"scattercarpet\":[{\"type\":\"scattercarpet\",\"marker\":{\"colorbar\":{\"outlinewidth\":0,\"ticks\":\"\"}}}],\"carpet\":[{\"aaxis\":{\"endlinecolor\":\"#2a3f5f\",\"gridcolor\":\"#C8D4E3\",\"linecolor\":\"#C8D4E3\",\"minorgridcolor\":\"#C8D4E3\",\"startlinecolor\":\"#2a3f5f\"},\"baxis\":{\"endlinecolor\":\"#2a3f5f\",\"gridcolor\":\"#C8D4E3\",\"linecolor\":\"#C8D4E3\",\"minorgridcolor\":\"#C8D4E3\",\"startlinecolor\":\"#2a3f5f\"},\"type\":\"carpet\"}],\"table\":[{\"cells\":{\"fill\":{\"color\":\"#EBF0F8\"},\"line\":{\"color\":\"white\"}},\"header\":{\"fill\":{\"color\":\"#C8D4E3\"},\"line\":{\"color\":\"white\"}},\"type\":\"table\"}],\"barpolar\":[{\"marker\":{\"line\":{\"color\":\"white\",\"width\":0.5},\"pattern\":{\"fillmode\":\"overlay\",\"size\":10,\"solidity\":0.2}},\"type\":\"barpolar\"}],\"pie\":[{\"automargin\":true,\"type\":\"pie\"}]},\"layout\":{\"autotypenumbers\":\"strict\",\"colorway\":[\"#636efa\",\"#EF553B\",\"#00cc96\",\"#ab63fa\",\"#FFA15A\",\"#19d3f3\",\"#FF6692\",\"#B6E880\",\"#FF97FF\",\"#FECB52\"],\"font\":{\"color\":\"#2a3f5f\"},\"hovermode\":\"closest\",\"hoverlabel\":{\"align\":\"left\"},\"paper_bgcolor\":\"white\",\"plot_bgcolor\":\"white\",\"polar\":{\"bgcolor\":\"white\",\"angularaxis\":{\"gridcolor\":\"#EBF0F8\",\"linecolor\":\"#EBF0F8\",\"ticks\":\"\"},\"radialaxis\":{\"gridcolor\":\"#EBF0F8\",\"linecolor\":\"#EBF0F8\",\"ticks\":\"\"}},\"ternary\":{\"bgcolor\":\"white\",\"aaxis\":{\"gridcolor\":\"#DFE8F3\",\"linecolor\":\"#A2B1C6\",\"ticks\":\"\"},\"baxis\":{\"gridcolor\":\"#DFE8F3\",\"linecolor\":\"#A2B1C6\",\"ticks\":\"\"},\"caxis\":{\"gridcolor\":\"#DFE8F3\",\"linecolor\":\"#A2B1C6\",\"ticks\":\"\"}},\"coloraxis\":{\"colorbar\":{\"outlinewidth\":0,\"ticks\":\"\"}},\"colorscale\":{\"sequential\":[[0.0,\"#0d0887\"],[0.1111111111111111,\"#46039f\"],[0.2222222222222222,\"#7201a8\"],[0.3333333333333333,\"#9c179e\"],[0.4444444444444444,\"#bd3786\"],[0.5555555555555556,\"#d8576b\"],[0.6666666666666666,\"#ed7953\"],[0.7777777777777778,\"#fb9f3a\"],[0.8888888888888888,\"#fdca26\"],[1.0,\"#f0f921\"]],\"sequentialminus\":[[0.0,\"#0d0887\"],[0.1111111111111111,\"#46039f\"],[0.2222222222222222,\"#7201a8\"],[0.3333333333333333,\"#9c179e\"],[0.4444444444444444,\"#bd3786\"],[0.5555555555555556,\"#d8576b\"],[0.6666666666666666,\"#ed7953\"],[0.7777777777777778,\"#fb9f3a\"],[0.8888888888888888,\"#fdca26\"],[1.0,\"#f0f921\"]],\"diverging\":[[0,\"#8e0152\"],[0.1,\"#c51b7d\"],[0.2,\"#de77ae\"],[0.3,\"#f1b6da\"],[0.4,\"#fde0ef\"],[0.5,\"#f7f7f7\"],[0.6,\"#e6f5d0\"],[0.7,\"#b8e186\"],[0.8,\"#7fbc41\"],[0.9,\"#4d9221\"],[1,\"#276419\"]]},\"xaxis\":{\"gridcolor\":\"#EBF0F8\",\"linecolor\":\"#EBF0F8\",\"ticks\":\"\",\"title\":{\"standoff\":15},\"zerolinecolor\":\"#EBF0F8\",\"automargin\":true,\"zerolinewidth\":2},\"yaxis\":{\"gridcolor\":\"#EBF0F8\",\"linecolor\":\"#EBF0F8\",\"ticks\":\"\",\"title\":{\"standoff\":15},\"zerolinecolor\":\"#EBF0F8\",\"automargin\":true,\"zerolinewidth\":2},\"scene\":{\"xaxis\":{\"backgroundcolor\":\"white\",\"gridcolor\":\"#DFE8F3\",\"linecolor\":\"#EBF0F8\",\"showbackground\":true,\"ticks\":\"\",\"zerolinecolor\":\"#EBF0F8\",\"gridwidth\":2},\"yaxis\":{\"backgroundcolor\":\"white\",\"gridcolor\":\"#DFE8F3\",\"linecolor\":\"#EBF0F8\",\"showbackground\":true,\"ticks\":\"\",\"zerolinecolor\":\"#EBF0F8\",\"gridwidth\":2},\"zaxis\":{\"backgroundcolor\":\"white\",\"gridcolor\":\"#DFE8F3\",\"linecolor\":\"#EBF0F8\",\"showbackground\":true,\"ticks\":\"\",\"zerolinecolor\":\"#EBF0F8\",\"gridwidth\":2}},\"shapedefaults\":{\"line\":{\"color\":\"#2a3f5f\"}},\"annotationdefaults\":{\"arrowcolor\":\"#2a3f5f\",\"arrowhead\":0,\"arrowwidth\":1},\"geo\":{\"bgcolor\":\"white\",\"landcolor\":\"white\",\"subunitcolor\":\"#C8D4E3\",\"showland\":true,\"showlakes\":true,\"lakecolor\":\"white\"},\"title\":{\"x\":0.05},\"mapbox\":{\"style\":\"light\"}}},\"xaxis\":{\"anchor\":\"y\",\"domain\":[0.0,1.0],\"title\":{\"text\":\"index\"}},\"yaxis\":{\"anchor\":\"x\",\"domain\":[0.0,1.0],\"title\":{\"text\":\"Impressions\"}},\"legend\":{\"tracegroupgap\":0},\"title\":{\"text\":\"Impressions Over Time\"}},                        {\"responsive\": true}                    ).then(function(){\n",
       "                            \n",
       "var gd = document.getElementById('48204af0-876b-41ff-ae08-c627457e86bd');\n",
       "var x = new MutationObserver(function (mutations, observer) {{\n",
       "        var display = window.getComputedStyle(gd).display;\n",
       "        if (!display || display === 'none') {{\n",
       "            console.log([gd, 'removed!']);\n",
       "            Plotly.purge(gd);\n",
       "            observer.disconnect();\n",
       "        }}\n",
       "}});\n",
       "\n",
       "// Listen for the removal of the full notebook cells\n",
       "var notebookContainer = gd.closest('#notebook-container');\n",
       "if (notebookContainer) {{\n",
       "    x.observe(notebookContainer, {childList: true});\n",
       "}}\n",
       "\n",
       "// Listen for the clearing of the current output cell\n",
       "var outputEl = gd.closest('.output');\n",
       "if (outputEl) {{\n",
       "    x.observe(outputEl, {childList: true});\n",
       "}}\n",
       "\n",
       "                        })                };                });            </script>        </div>"
      ]
     },
     "metadata": {},
     "output_type": "display_data"
    }
   ],
   "source": [
    "fig=px.line(data,x=data.index,y='Impressions',title=\"Impressions Over Time\")\n",
    "fig.show()"
   ]
  },
  {
   "cell_type": "markdown",
   "id": "9d0c61b7-9d0e-4220-9f05-c178744e0210",
   "metadata": {},
   "source": [
    "Q.6: Have a look at all the metrics like Likes, Saves, and Follows from each post over time as\n",
    "shown below"
   ]
  },
  {
   "cell_type": "code",
   "execution_count": 83,
   "id": "e1c8861b-559e-4865-be98-46a6def3507a",
   "metadata": {},
   "outputs": [
    {
     "data": {
      "application/vnd.plotly.v1+json": {
       "config": {
        "plotlyServerURL": "https://plot.ly"
       },
       "data": [
        {
         "name": "Likes",
         "type": "scatter",
         "x": [
          0,
          1,
          2,
          3,
          4,
          5,
          6,
          7,
          8,
          9,
          10,
          11,
          12,
          13,
          14,
          15,
          16,
          17,
          18,
          19,
          20,
          21,
          22,
          23,
          24,
          25,
          26,
          27,
          28,
          29,
          30,
          31,
          32,
          33,
          34,
          35,
          36,
          37,
          38,
          39,
          40,
          41,
          42,
          43,
          44,
          45,
          46,
          47,
          48,
          49,
          50,
          51,
          52,
          53,
          54,
          55,
          56,
          57,
          58,
          59,
          60,
          61,
          62,
          63,
          64,
          65,
          66,
          67,
          68,
          69,
          70,
          71,
          72,
          73,
          74,
          75,
          76,
          77,
          78,
          79,
          80,
          81,
          82,
          83,
          84,
          85,
          86,
          87,
          88,
          89,
          90,
          91,
          92,
          93,
          94,
          95,
          96,
          97,
          98,
          99,
          100,
          101,
          102,
          103,
          104,
          105,
          106,
          107,
          108,
          109,
          110,
          111,
          112,
          113,
          114,
          115,
          116,
          117,
          118
         ],
         "y": [
          162,
          224,
          131,
          213,
          123,
          144,
          76,
          124,
          159,
          191,
          81,
          151,
          162,
          142,
          294,
          159,
          205,
          121,
          151,
          72,
          76,
          91,
          195,
          129,
          160,
          175,
          147,
          114,
          151,
          92,
          214,
          150,
          122,
          152,
          196,
          86,
          85,
          156,
          72,
          82,
          416,
          180,
          150,
          127,
          167,
          225,
          137,
          114,
          263,
          328,
          126,
          236,
          99,
          212,
          297,
          142,
          186,
          112,
          149,
          132,
          115,
          248,
          178,
          107,
          269,
          96,
          134,
          301,
          187,
          94,
          114,
          96,
          138,
          122,
          257,
          95,
          244,
          190,
          118,
          178,
          170,
          250,
          159,
          205,
          121,
          151,
          72,
          137,
          114,
          263,
          328,
          126,
          129,
          160,
          175,
          147,
          114,
          151,
          92,
          275,
          192,
          203,
          145,
          168,
          194,
          250,
          171,
          416,
          249,
          308,
          163,
          86,
          210,
          172,
          373,
          148,
          92,
          549,
          443
         ]
        },
        {
         "name": "Saves",
         "type": "scatter",
         "x": [
          0,
          1,
          2,
          3,
          4,
          5,
          6,
          7,
          8,
          9,
          10,
          11,
          12,
          13,
          14,
          15,
          16,
          17,
          18,
          19,
          20,
          21,
          22,
          23,
          24,
          25,
          26,
          27,
          28,
          29,
          30,
          31,
          32,
          33,
          34,
          35,
          36,
          37,
          38,
          39,
          40,
          41,
          42,
          43,
          44,
          45,
          46,
          47,
          48,
          49,
          50,
          51,
          52,
          53,
          54,
          55,
          56,
          57,
          58,
          59,
          60,
          61,
          62,
          63,
          64,
          65,
          66,
          67,
          68,
          69,
          70,
          71,
          72,
          73,
          74,
          75,
          76,
          77,
          78,
          79,
          80,
          81,
          82,
          83,
          84,
          85,
          86,
          87,
          88,
          89,
          90,
          91,
          92,
          93,
          94,
          95,
          96,
          97,
          98,
          99,
          100,
          101,
          102,
          103,
          104,
          105,
          106,
          107,
          108,
          109,
          110,
          111,
          112,
          113,
          114,
          115,
          116,
          117,
          118
         ],
         "y": [
          98,
          194,
          41,
          172,
          96,
          74,
          22,
          135,
          155,
          122,
          28,
          122,
          119,
          121,
          100,
          101,
          111,
          106,
          82,
          40,
          49,
          72,
          167,
          63,
          144,
          135,
          61,
          40,
          139,
          52,
          84,
          81,
          79,
          105,
          90,
          34,
          45,
          98,
          35,
          49,
          252,
          167,
          111,
          90,
          144,
          263,
          137,
          67,
          288,
          668,
          42,
          342,
          48,
          250,
          219,
          118,
          143,
          99,
          89,
          148,
          42,
          171,
          109,
          38,
          421,
          38,
          116,
          225,
          144,
          51,
          104,
          33,
          174,
          46,
          179,
          34,
          99,
          174,
          70,
          149,
          207,
          318,
          101,
          111,
          106,
          82,
          40,
          137,
          67,
          288,
          668,
          42,
          63,
          144,
          135,
          61,
          40,
          139,
          52,
          393,
          152,
          83,
          74,
          94,
          188,
          214,
          73,
          285,
          469,
          504,
          149,
          55,
          273,
          182,
          573,
          135,
          36,
          1095,
          653
         ]
        },
        {
         "name": "Follows",
         "type": "scatter",
         "x": [
          0,
          1,
          2,
          3,
          4,
          5,
          6,
          7,
          8,
          9,
          10,
          11,
          12,
          13,
          14,
          15,
          16,
          17,
          18,
          19,
          20,
          21,
          22,
          23,
          24,
          25,
          26,
          27,
          28,
          29,
          30,
          31,
          32,
          33,
          34,
          35,
          36,
          37,
          38,
          39,
          40,
          41,
          42,
          43,
          44,
          45,
          46,
          47,
          48,
          49,
          50,
          51,
          52,
          53,
          54,
          55,
          56,
          57,
          58,
          59,
          60,
          61,
          62,
          63,
          64,
          65,
          66,
          67,
          68,
          69,
          70,
          71,
          72,
          73,
          74,
          75,
          76,
          77,
          78,
          79,
          80,
          81,
          82,
          83,
          84,
          85,
          86,
          87,
          88,
          89,
          90,
          91,
          92,
          93,
          94,
          95,
          96,
          97,
          98,
          99,
          100,
          101,
          102,
          103,
          104,
          105,
          106,
          107,
          108,
          109,
          110,
          111,
          112,
          113,
          114,
          115,
          116,
          117,
          118
         ],
         "y": [
          2,
          10,
          12,
          8,
          0,
          2,
          0,
          6,
          4,
          6,
          4,
          0,
          2,
          4,
          42,
          6,
          2,
          2,
          30,
          0,
          0,
          24,
          100,
          2,
          4,
          6,
          6,
          6,
          2,
          2,
          20,
          2,
          4,
          8,
          26,
          2,
          2,
          4,
          0,
          2,
          94,
          8,
          18,
          10,
          4,
          4,
          4,
          4,
          18,
          38,
          10,
          12,
          4,
          4,
          74,
          0,
          6,
          6,
          0,
          6,
          12,
          10,
          8,
          8,
          46,
          12,
          10,
          94,
          6,
          10,
          6,
          4,
          12,
          16,
          12,
          8,
          32,
          8,
          16,
          6,
          10,
          10,
          6,
          2,
          2,
          30,
          0,
          4,
          4,
          18,
          38,
          10,
          2,
          4,
          6,
          6,
          6,
          2,
          2,
          14,
          8,
          14,
          28,
          18,
          12,
          34,
          26,
          260,
          16,
          96,
          20,
          30,
          58,
          100,
          80,
          18,
          10,
          214,
          228
         ]
        }
       ],
       "layout": {
        "autosize": true,
        "template": {
         "data": {
          "bar": [
           {
            "error_x": {
             "color": "#2a3f5f"
            },
            "error_y": {
             "color": "#2a3f5f"
            },
            "marker": {
             "line": {
              "color": "white",
              "width": 0.5
             },
             "pattern": {
              "fillmode": "overlay",
              "size": 10,
              "solidity": 0.2
             }
            },
            "type": "bar"
           }
          ],
          "barpolar": [
           {
            "marker": {
             "line": {
              "color": "white",
              "width": 0.5
             },
             "pattern": {
              "fillmode": "overlay",
              "size": 10,
              "solidity": 0.2
             }
            },
            "type": "barpolar"
           }
          ],
          "carpet": [
           {
            "aaxis": {
             "endlinecolor": "#2a3f5f",
             "gridcolor": "#C8D4E3",
             "linecolor": "#C8D4E3",
             "minorgridcolor": "#C8D4E3",
             "startlinecolor": "#2a3f5f"
            },
            "baxis": {
             "endlinecolor": "#2a3f5f",
             "gridcolor": "#C8D4E3",
             "linecolor": "#C8D4E3",
             "minorgridcolor": "#C8D4E3",
             "startlinecolor": "#2a3f5f"
            },
            "type": "carpet"
           }
          ],
          "choropleth": [
           {
            "colorbar": {
             "outlinewidth": 0,
             "ticks": ""
            },
            "type": "choropleth"
           }
          ],
          "contour": [
           {
            "colorbar": {
             "outlinewidth": 0,
             "ticks": ""
            },
            "colorscale": [
             [
              0,
              "#0d0887"
             ],
             [
              0.1111111111111111,
              "#46039f"
             ],
             [
              0.2222222222222222,
              "#7201a8"
             ],
             [
              0.3333333333333333,
              "#9c179e"
             ],
             [
              0.4444444444444444,
              "#bd3786"
             ],
             [
              0.5555555555555556,
              "#d8576b"
             ],
             [
              0.6666666666666666,
              "#ed7953"
             ],
             [
              0.7777777777777778,
              "#fb9f3a"
             ],
             [
              0.8888888888888888,
              "#fdca26"
             ],
             [
              1,
              "#f0f921"
             ]
            ],
            "type": "contour"
           }
          ],
          "contourcarpet": [
           {
            "colorbar": {
             "outlinewidth": 0,
             "ticks": ""
            },
            "type": "contourcarpet"
           }
          ],
          "heatmap": [
           {
            "colorbar": {
             "outlinewidth": 0,
             "ticks": ""
            },
            "colorscale": [
             [
              0,
              "#0d0887"
             ],
             [
              0.1111111111111111,
              "#46039f"
             ],
             [
              0.2222222222222222,
              "#7201a8"
             ],
             [
              0.3333333333333333,
              "#9c179e"
             ],
             [
              0.4444444444444444,
              "#bd3786"
             ],
             [
              0.5555555555555556,
              "#d8576b"
             ],
             [
              0.6666666666666666,
              "#ed7953"
             ],
             [
              0.7777777777777778,
              "#fb9f3a"
             ],
             [
              0.8888888888888888,
              "#fdca26"
             ],
             [
              1,
              "#f0f921"
             ]
            ],
            "type": "heatmap"
           }
          ],
          "heatmapgl": [
           {
            "colorbar": {
             "outlinewidth": 0,
             "ticks": ""
            },
            "colorscale": [
             [
              0,
              "#0d0887"
             ],
             [
              0.1111111111111111,
              "#46039f"
             ],
             [
              0.2222222222222222,
              "#7201a8"
             ],
             [
              0.3333333333333333,
              "#9c179e"
             ],
             [
              0.4444444444444444,
              "#bd3786"
             ],
             [
              0.5555555555555556,
              "#d8576b"
             ],
             [
              0.6666666666666666,
              "#ed7953"
             ],
             [
              0.7777777777777778,
              "#fb9f3a"
             ],
             [
              0.8888888888888888,
              "#fdca26"
             ],
             [
              1,
              "#f0f921"
             ]
            ],
            "type": "heatmapgl"
           }
          ],
          "histogram": [
           {
            "marker": {
             "pattern": {
              "fillmode": "overlay",
              "size": 10,
              "solidity": 0.2
             }
            },
            "type": "histogram"
           }
          ],
          "histogram2d": [
           {
            "colorbar": {
             "outlinewidth": 0,
             "ticks": ""
            },
            "colorscale": [
             [
              0,
              "#0d0887"
             ],
             [
              0.1111111111111111,
              "#46039f"
             ],
             [
              0.2222222222222222,
              "#7201a8"
             ],
             [
              0.3333333333333333,
              "#9c179e"
             ],
             [
              0.4444444444444444,
              "#bd3786"
             ],
             [
              0.5555555555555556,
              "#d8576b"
             ],
             [
              0.6666666666666666,
              "#ed7953"
             ],
             [
              0.7777777777777778,
              "#fb9f3a"
             ],
             [
              0.8888888888888888,
              "#fdca26"
             ],
             [
              1,
              "#f0f921"
             ]
            ],
            "type": "histogram2d"
           }
          ],
          "histogram2dcontour": [
           {
            "colorbar": {
             "outlinewidth": 0,
             "ticks": ""
            },
            "colorscale": [
             [
              0,
              "#0d0887"
             ],
             [
              0.1111111111111111,
              "#46039f"
             ],
             [
              0.2222222222222222,
              "#7201a8"
             ],
             [
              0.3333333333333333,
              "#9c179e"
             ],
             [
              0.4444444444444444,
              "#bd3786"
             ],
             [
              0.5555555555555556,
              "#d8576b"
             ],
             [
              0.6666666666666666,
              "#ed7953"
             ],
             [
              0.7777777777777778,
              "#fb9f3a"
             ],
             [
              0.8888888888888888,
              "#fdca26"
             ],
             [
              1,
              "#f0f921"
             ]
            ],
            "type": "histogram2dcontour"
           }
          ],
          "mesh3d": [
           {
            "colorbar": {
             "outlinewidth": 0,
             "ticks": ""
            },
            "type": "mesh3d"
           }
          ],
          "parcoords": [
           {
            "line": {
             "colorbar": {
              "outlinewidth": 0,
              "ticks": ""
             }
            },
            "type": "parcoords"
           }
          ],
          "pie": [
           {
            "automargin": true,
            "type": "pie"
           }
          ],
          "scatter": [
           {
            "fillpattern": {
             "fillmode": "overlay",
             "size": 10,
             "solidity": 0.2
            },
            "type": "scatter"
           }
          ],
          "scatter3d": [
           {
            "line": {
             "colorbar": {
              "outlinewidth": 0,
              "ticks": ""
             }
            },
            "marker": {
             "colorbar": {
              "outlinewidth": 0,
              "ticks": ""
             }
            },
            "type": "scatter3d"
           }
          ],
          "scattercarpet": [
           {
            "marker": {
             "colorbar": {
              "outlinewidth": 0,
              "ticks": ""
             }
            },
            "type": "scattercarpet"
           }
          ],
          "scattergeo": [
           {
            "marker": {
             "colorbar": {
              "outlinewidth": 0,
              "ticks": ""
             }
            },
            "type": "scattergeo"
           }
          ],
          "scattergl": [
           {
            "marker": {
             "colorbar": {
              "outlinewidth": 0,
              "ticks": ""
             }
            },
            "type": "scattergl"
           }
          ],
          "scattermapbox": [
           {
            "marker": {
             "colorbar": {
              "outlinewidth": 0,
              "ticks": ""
             }
            },
            "type": "scattermapbox"
           }
          ],
          "scatterpolar": [
           {
            "marker": {
             "colorbar": {
              "outlinewidth": 0,
              "ticks": ""
             }
            },
            "type": "scatterpolar"
           }
          ],
          "scatterpolargl": [
           {
            "marker": {
             "colorbar": {
              "outlinewidth": 0,
              "ticks": ""
             }
            },
            "type": "scatterpolargl"
           }
          ],
          "scatterternary": [
           {
            "marker": {
             "colorbar": {
              "outlinewidth": 0,
              "ticks": ""
             }
            },
            "type": "scatterternary"
           }
          ],
          "surface": [
           {
            "colorbar": {
             "outlinewidth": 0,
             "ticks": ""
            },
            "colorscale": [
             [
              0,
              "#0d0887"
             ],
             [
              0.1111111111111111,
              "#46039f"
             ],
             [
              0.2222222222222222,
              "#7201a8"
             ],
             [
              0.3333333333333333,
              "#9c179e"
             ],
             [
              0.4444444444444444,
              "#bd3786"
             ],
             [
              0.5555555555555556,
              "#d8576b"
             ],
             [
              0.6666666666666666,
              "#ed7953"
             ],
             [
              0.7777777777777778,
              "#fb9f3a"
             ],
             [
              0.8888888888888888,
              "#fdca26"
             ],
             [
              1,
              "#f0f921"
             ]
            ],
            "type": "surface"
           }
          ],
          "table": [
           {
            "cells": {
             "fill": {
              "color": "#EBF0F8"
             },
             "line": {
              "color": "white"
             }
            },
            "header": {
             "fill": {
              "color": "#C8D4E3"
             },
             "line": {
              "color": "white"
             }
            },
            "type": "table"
           }
          ]
         },
         "layout": {
          "annotationdefaults": {
           "arrowcolor": "#2a3f5f",
           "arrowhead": 0,
           "arrowwidth": 1
          },
          "autotypenumbers": "strict",
          "coloraxis": {
           "colorbar": {
            "outlinewidth": 0,
            "ticks": ""
           }
          },
          "colorscale": {
           "diverging": [
            [
             0,
             "#8e0152"
            ],
            [
             0.1,
             "#c51b7d"
            ],
            [
             0.2,
             "#de77ae"
            ],
            [
             0.3,
             "#f1b6da"
            ],
            [
             0.4,
             "#fde0ef"
            ],
            [
             0.5,
             "#f7f7f7"
            ],
            [
             0.6,
             "#e6f5d0"
            ],
            [
             0.7,
             "#b8e186"
            ],
            [
             0.8,
             "#7fbc41"
            ],
            [
             0.9,
             "#4d9221"
            ],
            [
             1,
             "#276419"
            ]
           ],
           "sequential": [
            [
             0,
             "#0d0887"
            ],
            [
             0.1111111111111111,
             "#46039f"
            ],
            [
             0.2222222222222222,
             "#7201a8"
            ],
            [
             0.3333333333333333,
             "#9c179e"
            ],
            [
             0.4444444444444444,
             "#bd3786"
            ],
            [
             0.5555555555555556,
             "#d8576b"
            ],
            [
             0.6666666666666666,
             "#ed7953"
            ],
            [
             0.7777777777777778,
             "#fb9f3a"
            ],
            [
             0.8888888888888888,
             "#fdca26"
            ],
            [
             1,
             "#f0f921"
            ]
           ],
           "sequentialminus": [
            [
             0,
             "#0d0887"
            ],
            [
             0.1111111111111111,
             "#46039f"
            ],
            [
             0.2222222222222222,
             "#7201a8"
            ],
            [
             0.3333333333333333,
             "#9c179e"
            ],
            [
             0.4444444444444444,
             "#bd3786"
            ],
            [
             0.5555555555555556,
             "#d8576b"
            ],
            [
             0.6666666666666666,
             "#ed7953"
            ],
            [
             0.7777777777777778,
             "#fb9f3a"
            ],
            [
             0.8888888888888888,
             "#fdca26"
            ],
            [
             1,
             "#f0f921"
            ]
           ]
          },
          "colorway": [
           "#636efa",
           "#EF553B",
           "#00cc96",
           "#ab63fa",
           "#FFA15A",
           "#19d3f3",
           "#FF6692",
           "#B6E880",
           "#FF97FF",
           "#FECB52"
          ],
          "font": {
           "color": "#2a3f5f"
          },
          "geo": {
           "bgcolor": "white",
           "lakecolor": "white",
           "landcolor": "white",
           "showlakes": true,
           "showland": true,
           "subunitcolor": "#C8D4E3"
          },
          "hoverlabel": {
           "align": "left"
          },
          "hovermode": "closest",
          "mapbox": {
           "style": "light"
          },
          "paper_bgcolor": "white",
          "plot_bgcolor": "white",
          "polar": {
           "angularaxis": {
            "gridcolor": "#EBF0F8",
            "linecolor": "#EBF0F8",
            "ticks": ""
           },
           "bgcolor": "white",
           "radialaxis": {
            "gridcolor": "#EBF0F8",
            "linecolor": "#EBF0F8",
            "ticks": ""
           }
          },
          "scene": {
           "xaxis": {
            "backgroundcolor": "white",
            "gridcolor": "#DFE8F3",
            "gridwidth": 2,
            "linecolor": "#EBF0F8",
            "showbackground": true,
            "ticks": "",
            "zerolinecolor": "#EBF0F8"
           },
           "yaxis": {
            "backgroundcolor": "white",
            "gridcolor": "#DFE8F3",
            "gridwidth": 2,
            "linecolor": "#EBF0F8",
            "showbackground": true,
            "ticks": "",
            "zerolinecolor": "#EBF0F8"
           },
           "zaxis": {
            "backgroundcolor": "white",
            "gridcolor": "#DFE8F3",
            "gridwidth": 2,
            "linecolor": "#EBF0F8",
            "showbackground": true,
            "ticks": "",
            "zerolinecolor": "#EBF0F8"
           }
          },
          "shapedefaults": {
           "line": {
            "color": "#2a3f5f"
           }
          },
          "ternary": {
           "aaxis": {
            "gridcolor": "#DFE8F3",
            "linecolor": "#A2B1C6",
            "ticks": ""
           },
           "baxis": {
            "gridcolor": "#DFE8F3",
            "linecolor": "#A2B1C6",
            "ticks": ""
           },
           "bgcolor": "white",
           "caxis": {
            "gridcolor": "#DFE8F3",
            "linecolor": "#A2B1C6",
            "ticks": ""
           }
          },
          "title": {
           "x": 0.05
          },
          "xaxis": {
           "automargin": true,
           "gridcolor": "#EBF0F8",
           "linecolor": "#EBF0F8",
           "ticks": "",
           "title": {
            "standoff": 15
           },
           "zerolinecolor": "#EBF0F8",
           "zerolinewidth": 2
          },
          "yaxis": {
           "automargin": true,
           "gridcolor": "#EBF0F8",
           "linecolor": "#EBF0F8",
           "ticks": "",
           "title": {
            "standoff": 15
           },
           "zerolinecolor": "#EBF0F8",
           "zerolinewidth": 2
          }
         }
        },
        "title": {
         "text": "Metrics Over Time"
        },
        "xaxis": {
         "autorange": true,
         "range": [
          0,
          118
         ],
         "title": {
          "text": "Date"
         },
         "type": "linear"
        },
        "yaxis": {
         "autorange": true,
         "range": [
          -60.833333333333336,
          1155.8333333333333
         ],
         "title": {
          "text": "Count"
         },
         "type": "linear"
        }
       }
      },
      "image/png": "[encoded data removed]",
      "text/html": [
       "<div>                            <div id=\"2bfdc1eb-2516-4cc8-8df9-fab8aeb75ce3\" class=\"plotly-graph-div\" style=\"height:525px; width:100%;\"></div>            <script type=\"text/javascript\">                require([\"plotly\"], function(Plotly) {                    window.PLOTLYENV=window.PLOTLYENV || {};                                    if (document.getElementById(\"2bfdc1eb-2516-4cc8-8df9-fab8aeb75ce3\")) {                    Plotly.newPlot(                        \"2bfdc1eb-2516-4cc8-8df9-fab8aeb75ce3\",                        [{\"name\":\"Likes\",\"x\":[0,1,2,3,4,5,6,7,8,9,10,11,12,13,14,15,16,17,18,19,20,21,22,23,24,25,26,27,28,29,30,31,32,33,34,35,36,37,38,39,40,41,42,43,44,45,46,47,48,49,50,51,52,53,54,55,56,57,58,59,60,61,62,63,64,65,66,67,68,69,70,71,72,73,74,75,76,77,78,79,80,81,82,83,84,85,86,87,88,89,90,91,92,93,94,95,96,97,98,99,100,101,102,103,104,105,106,107,108,109,110,111,112,113,114,115,116,117,118],\"y\":[162,224,131,213,123,144,76,124,159,191,81,151,162,142,294,159,205,121,151,72,76,91,195,129,160,175,147,114,151,92,214,150,122,152,196,86,85,156,72,82,416,180,150,127,167,225,137,114,263,328,126,236,99,212,297,142,186,112,149,132,115,248,178,107,269,96,134,301,187,94,114,96,138,122,257,95,244,190,118,178,170,250,159,205,121,151,72,137,114,263,328,126,129,160,175,147,114,151,92,275,192,203,145,168,194,250,171,416,249,308,163,86,210,172,373,148,92,549,443],\"type\":\"scatter\"},{\"name\":\"Saves\",\"x\":[0,1,2,3,4,5,6,7,8,9,10,11,12,13,14,15,16,17,18,19,20,21,22,23,24,25,26,27,28,29,30,31,32,33,34,35,36,37,38,39,40,41,42,43,44,45,46,47,48,49,50,51,52,53,54,55,56,57,58,59,60,61,62,63,64,65,66,67,68,69,70,71,72,73,74,75,76,77,78,79,80,81,82,83,84,85,86,87,88,89,90,91,92,93,94,95,96,97,98,99,100,101,102,103,104,105,106,107,108,109,110,111,112,113,114,115,116,117,118],\"y\":[98,194,41,172,96,74,22,135,155,122,28,122,119,121,100,101,111,106,82,40,49,72,167,63,144,135,61,40,139,52,84,81,79,105,90,34,45,98,35,49,252,167,111,90,144,263,137,67,288,668,42,342,48,250,219,118,143,99,89,148,42,171,109,38,421,38,116,225,144,51,104,33,174,46,179,34,99,174,70,149,207,318,101,111,106,82,40,137,67,288,668,42,63,144,135,61,40,139,52,393,152,83,74,94,188,214,73,285,469,504,149,55,273,182,573,135,36,1095,653],\"type\":\"scatter\"},{\"name\":\"Follows\",\"x\":[0,1,2,3,4,5,6,7,8,9,10,11,12,13,14,15,16,17,18,19,20,21,22,23,24,25,26,27,28,29,30,31,32,33,34,35,36,37,38,39,40,41,42,43,44,45,46,47,48,49,50,51,52,53,54,55,56,57,58,59,60,61,62,63,64,65,66,67,68,69,70,71,72,73,74,75,76,77,78,79,80,81,82,83,84,85,86,87,88,89,90,91,92,93,94,95,96,97,98,99,100,101,102,103,104,105,106,107,108,109,110,111,112,113,114,115,116,117,118],\"y\":[2,10,12,8,0,2,0,6,4,6,4,0,2,4,42,6,2,2,30,0,0,24,100,2,4,6,6,6,2,2,20,2,4,8,26,2,2,4,0,2,94,8,18,10,4,4,4,4,18,38,10,12,4,4,74,0,6,6,0,6,12,10,8,8,46,12,10,94,6,10,6,4,12,16,12,8,32,8,16,6,10,10,6,2,2,30,0,4,4,18,38,10,2,4,6,6,6,2,2,14,8,14,28,18,12,34,26,260,16,96,20,30,58,100,80,18,10,214,228],\"type\":\"scatter\"}],                        {\"template\":{\"data\":{\"histogram2dcontour\":[{\"type\":\"histogram2dcontour\",\"colorbar\":{\"outlinewidth\":0,\"ticks\":\"\"},\"colorscale\":[[0.0,\"#0d0887\"],[0.1111111111111111,\"#46039f\"],[0.2222222222222222,\"#7201a8\"],[0.3333333333333333,\"#9c179e\"],[0.4444444444444444,\"#bd3786\"],[0.5555555555555556,\"#d8576b\"],[0.6666666666666666,\"#ed7953\"],[0.7777777777777778,\"#fb9f3a\"],[0.8888888888888888,\"#fdca26\"],[1.0,\"#f0f921\"]]}],\"choropleth\":[{\"type\":\"choropleth\",\"colorbar\":{\"outlinewidth\":0,\"ticks\":\"\"}}],\"histogram2d\":[{\"type\":\"histogram2d\",\"colorbar\":{\"outlinewidth\":0,\"ticks\":\"\"},\"colorscale\":[[0.0,\"#0d0887\"],[0.1111111111111111,\"#46039f\"],[0.2222222222222222,\"#7201a8\"],[0.3333333333333333,\"#9c179e\"],[0.4444444444444444,\"#bd3786\"],[0.5555555555555556,\"#d8576b\"],[0.6666666666666666,\"#ed7953\"],[0.7777777777777778,\"#fb9f3a\"],[0.8888888888888888,\"#fdca26\"],[1.0,\"#f0f921\"]]}],\"heatmap\":[{\"type\":\"heatmap\",\"colorbar\":{\"outlinewidth\":0,\"ticks\":\"\"},\"colorscale\":[[0.0,\"#0d0887\"],[0.1111111111111111,\"#46039f\"],[0.2222222222222222,\"#7201a8\"],[0.3333333333333333,\"#9c179e\"],[0.4444444444444444,\"#bd3786\"],[0.5555555555555556,\"#d8576b\"],[0.6666666666666666,\"#ed7953\"],[0.7777777777777778,\"#fb9f3a\"],[0.8888888888888888,\"#fdca26\"],[1.0,\"#f0f921\"]]}],\"heatmapgl\":[{\"type\":\"heatmapgl\",\"colorbar\":{\"outlinewidth\":0,\"ticks\":\"\"},\"colorscale\":[[0.0,\"#0d0887\"],[0.1111111111111111,\"#46039f\"],[0.2222222222222222,\"#7201a8\"],[0.3333333333333333,\"#9c179e\"],[0.4444444444444444,\"#bd3786\"],[0.5555555555555556,\"#d8576b\"],[0.6666666666666666,\"#ed7953\"],[0.7777777777777778,\"#fb9f3a\"],[0.8888888888888888,\"#fdca26\"],[1.0,\"#f0f921\"]]}],\"contourcarpet\":[{\"type\":\"contourcarpet\",\"colorbar\":{\"outlinewidth\":0,\"ticks\":\"\"}}],\"contour\":[{\"type\":\"contour\",\"colorbar\":{\"outlinewidth\":0,\"ticks\":\"\"},\"colorscale\":[[0.0,\"#0d0887\"],[0.1111111111111111,\"#46039f\"],[0.2222222222222222,\"#7201a8\"],[0.3333333333333333,\"#9c179e\"],[0.4444444444444444,\"#bd3786\"],[0.5555555555555556,\"#d8576b\"],[0.6666666666666666,\"#ed7953\"],[0.7777777777777778,\"#fb9f3a\"],[0.8888888888888888,\"#fdca26\"],[1.0,\"#f0f921\"]]}],\"surface\":[{\"type\":\"surface\",\"colorbar\":{\"outlinewidth\":0,\"ticks\":\"\"},\"colorscale\":[[0.0,\"#0d0887\"],[0.1111111111111111,\"#46039f\"],[0.2222222222222222,\"#7201a8\"],[0.3333333333333333,\"#9c179e\"],[0.4444444444444444,\"#bd3786\"],[0.5555555555555556,\"#d8576b\"],[0.6666666666666666,\"#ed7953\"],[0.7777777777777778,\"#fb9f3a\"],[0.8888888888888888,\"#fdca26\"],[1.0,\"#f0f921\"]]}],\"mesh3d\":[{\"type\":\"mesh3d\",\"colorbar\":{\"outlinewidth\":0,\"ticks\":\"\"}}],\"scatter\":[{\"fillpattern\":{\"fillmode\":\"overlay\",\"size\":10,\"solidity\":0.2},\"type\":\"scatter\"}],\"parcoords\":[{\"type\":\"parcoords\",\"line\":{\"colorbar\":{\"outlinewidth\":0,\"ticks\":\"\"}}}],\"scatterpolargl\":[{\"type\":\"scatterpolargl\",\"marker\":{\"colorbar\":{\"outlinewidth\":0,\"ticks\":\"\"}}}],\"bar\":[{\"error_x\":{\"color\":\"#2a3f5f\"},\"error_y\":{\"color\":\"#2a3f5f\"},\"marker\":{\"line\":{\"color\":\"white\",\"width\":0.5},\"pattern\":{\"fillmode\":\"overlay\",\"size\":10,\"solidity\":0.2}},\"type\":\"bar\"}],\"scattergeo\":[{\"type\":\"scattergeo\",\"marker\":{\"colorbar\":{\"outlinewidth\":0,\"ticks\":\"\"}}}],\"scatterpolar\":[{\"type\":\"scatterpolar\",\"marker\":{\"colorbar\":{\"outlinewidth\":0,\"ticks\":\"\"}}}],\"histogram\":[{\"marker\":{\"pattern\":{\"fillmode\":\"overlay\",\"size\":10,\"solidity\":0.2}},\"type\":\"histogram\"}],\"scattergl\":[{\"type\":\"scattergl\",\"marker\":{\"colorbar\":{\"outlinewidth\":0,\"ticks\":\"\"}}}],\"scatter3d\":[{\"type\":\"scatter3d\",\"line\":{\"colorbar\":{\"outlinewidth\":0,\"ticks\":\"\"}},\"marker\":{\"colorbar\":{\"outlinewidth\":0,\"ticks\":\"\"}}}],\"scattermapbox\":[{\"type\":\"scattermapbox\",\"marker\":{\"colorbar\":{\"outlinewidth\":0,\"ticks\":\"\"}}}],\"scatterternary\":[{\"type\":\"scatterternary\",\"marker\":{\"colorbar\":{\"outlinewidth\":0,\"ticks\":\"\"}}}],\"scattercarpet\":[{\"type\":\"scattercarpet\",\"marker\":{\"colorbar\":{\"outlinewidth\":0,\"ticks\":\"\"}}}],\"carpet\":[{\"aaxis\":{\"endlinecolor\":\"#2a3f5f\",\"gridcolor\":\"#C8D4E3\",\"linecolor\":\"#C8D4E3\",\"minorgridcolor\":\"#C8D4E3\",\"startlinecolor\":\"#2a3f5f\"},\"baxis\":{\"endlinecolor\":\"#2a3f5f\",\"gridcolor\":\"#C8D4E3\",\"linecolor\":\"#C8D4E3\",\"minorgridcolor\":\"#C8D4E3\",\"startlinecolor\":\"#2a3f5f\"},\"type\":\"carpet\"}],\"table\":[{\"cells\":{\"fill\":{\"color\":\"#EBF0F8\"},\"line\":{\"color\":\"white\"}},\"header\":{\"fill\":{\"color\":\"#C8D4E3\"},\"line\":{\"color\":\"white\"}},\"type\":\"table\"}],\"barpolar\":[{\"marker\":{\"line\":{\"color\":\"white\",\"width\":0.5},\"pattern\":{\"fillmode\":\"overlay\",\"size\":10,\"solidity\":0.2}},\"type\":\"barpolar\"}],\"pie\":[{\"automargin\":true,\"type\":\"pie\"}]},\"layout\":{\"autotypenumbers\":\"strict\",\"colorway\":[\"#636efa\",\"#EF553B\",\"#00cc96\",\"#ab63fa\",\"#FFA15A\",\"#19d3f3\",\"#FF6692\",\"#B6E880\",\"#FF97FF\",\"#FECB52\"],\"font\":{\"color\":\"#2a3f5f\"},\"hovermode\":\"closest\",\"hoverlabel\":{\"align\":\"left\"},\"paper_bgcolor\":\"white\",\"plot_bgcolor\":\"white\",\"polar\":{\"bgcolor\":\"white\",\"angularaxis\":{\"gridcolor\":\"#EBF0F8\",\"linecolor\":\"#EBF0F8\",\"ticks\":\"\"},\"radialaxis\":{\"gridcolor\":\"#EBF0F8\",\"linecolor\":\"#EBF0F8\",\"ticks\":\"\"}},\"ternary\":{\"bgcolor\":\"white\",\"aaxis\":{\"gridcolor\":\"#DFE8F3\",\"linecolor\":\"#A2B1C6\",\"ticks\":\"\"},\"baxis\":{\"gridcolor\":\"#DFE8F3\",\"linecolor\":\"#A2B1C6\",\"ticks\":\"\"},\"caxis\":{\"gridcolor\":\"#DFE8F3\",\"linecolor\":\"#A2B1C6\",\"ticks\":\"\"}},\"coloraxis\":{\"colorbar\":{\"outlinewidth\":0,\"ticks\":\"\"}},\"colorscale\":{\"sequential\":[[0.0,\"#0d0887\"],[0.1111111111111111,\"#46039f\"],[0.2222222222222222,\"#7201a8\"],[0.3333333333333333,\"#9c179e\"],[0.4444444444444444,\"#bd3786\"],[0.5555555555555556,\"#d8576b\"],[0.6666666666666666,\"#ed7953\"],[0.7777777777777778,\"#fb9f3a\"],[0.8888888888888888,\"#fdca26\"],[1.0,\"#f0f921\"]],\"sequentialminus\":[[0.0,\"#0d0887\"],[0.1111111111111111,\"#46039f\"],[0.2222222222222222,\"#7201a8\"],[0.3333333333333333,\"#9c179e\"],[0.4444444444444444,\"#bd3786\"],[0.5555555555555556,\"#d8576b\"],[0.6666666666666666,\"#ed7953\"],[0.7777777777777778,\"#fb9f3a\"],[0.8888888888888888,\"#fdca26\"],[1.0,\"#f0f921\"]],\"diverging\":[[0,\"#8e0152\"],[0.1,\"#c51b7d\"],[0.2,\"#de77ae\"],[0.3,\"#f1b6da\"],[0.4,\"#fde0ef\"],[0.5,\"#f7f7f7\"],[0.6,\"#e6f5d0\"],[0.7,\"#b8e186\"],[0.8,\"#7fbc41\"],[0.9,\"#4d9221\"],[1,\"#276419\"]]},\"xaxis\":{\"gridcolor\":\"#EBF0F8\",\"linecolor\":\"#EBF0F8\",\"ticks\":\"\",\"title\":{\"standoff\":15},\"zerolinecolor\":\"#EBF0F8\",\"automargin\":true,\"zerolinewidth\":2},\"yaxis\":{\"gridcolor\":\"#EBF0F8\",\"linecolor\":\"#EBF0F8\",\"ticks\":\"\",\"title\":{\"standoff\":15},\"zerolinecolor\":\"#EBF0F8\",\"automargin\":true,\"zerolinewidth\":2},\"scene\":{\"xaxis\":{\"backgroundcolor\":\"white\",\"gridcolor\":\"#DFE8F3\",\"linecolor\":\"#EBF0F8\",\"showbackground\":true,\"ticks\":\"\",\"zerolinecolor\":\"#EBF0F8\",\"gridwidth\":2},\"yaxis\":{\"backgroundcolor\":\"white\",\"gridcolor\":\"#DFE8F3\",\"linecolor\":\"#EBF0F8\",\"showbackground\":true,\"ticks\":\"\",\"zerolinecolor\":\"#EBF0F8\",\"gridwidth\":2},\"zaxis\":{\"backgroundcolor\":\"white\",\"gridcolor\":\"#DFE8F3\",\"linecolor\":\"#EBF0F8\",\"showbackground\":true,\"ticks\":\"\",\"zerolinecolor\":\"#EBF0F8\",\"gridwidth\":2}},\"shapedefaults\":{\"line\":{\"color\":\"#2a3f5f\"}},\"annotationdefaults\":{\"arrowcolor\":\"#2a3f5f\",\"arrowhead\":0,\"arrowwidth\":1},\"geo\":{\"bgcolor\":\"white\",\"landcolor\":\"white\",\"subunitcolor\":\"#C8D4E3\",\"showland\":true,\"showlakes\":true,\"lakecolor\":\"white\"},\"title\":{\"x\":0.05},\"mapbox\":{\"style\":\"light\"}}},\"title\":{\"text\":\"Metrics Over Time\"},\"xaxis\":{\"title\":{\"text\":\"Date\"}},\"yaxis\":{\"title\":{\"text\":\"Count\"}}},                        {\"responsive\": true}                    ).then(function(){\n",
       "                            \n",
       "var gd = document.getElementById('2bfdc1eb-2516-4cc8-8df9-fab8aeb75ce3');\n",
       "var x = new MutationObserver(function (mutations, observer) {{\n",
       "        var display = window.getComputedStyle(gd).display;\n",
       "        if (!display || display === 'none') {{\n",
       "            console.log([gd, 'removed!']);\n",
       "            Plotly.purge(gd);\n",
       "            observer.disconnect();\n",
       "        }}\n",
       "}});\n",
       "\n",
       "// Listen for the removal of the full notebook cells\n",
       "var notebookContainer = gd.closest('#notebook-container');\n",
       "if (notebookContainer) {{\n",
       "    x.observe(notebookContainer, {childList: true});\n",
       "}}\n",
       "\n",
       "// Listen for the clearing of the current output cell\n",
       "var outputEl = gd.closest('.output');\n",
       "if (outputEl) {{\n",
       "    x.observe(outputEl, {childList: true});\n",
       "}}\n",
       "\n",
       "                        })                };                });            </script>        </div>"
      ]
     },
     "metadata": {},
     "output_type": "display_data"
    }
   ],
   "source": [
    "fig = go.Figure()\n",
    "metrics = ['Likes', 'Saves', 'Follows']\n",
    "for metric in metrics:\n",
    "    fig.add_trace(go.Scatter(x=data.index, y=data[metric], name=metric))\n",
    "fig.update_layout(title='Metrics Over Time',xaxis_title='Date',yaxis_title='Count')\n",
    "fig.show()"
   ]
  },
  {
   "cell_type": "markdown",
   "id": "1ed14d12-9312-4a4e-8467-2fabc0e751ac",
   "metadata": {},
   "source": [
    "Q.7: Have a look at the distribution of reach from different sources as shown below"
   ]
  },
  {
   "cell_type": "code",
   "execution_count": 84,
   "id": "9d4a3f1e-f520-4cfe-8221-85c865459d29",
   "metadata": {},
   "outputs": [
    {
     "data": {
      "application/vnd.plotly.v1+json": {
       "config": {
        "plotlyServerURL": "https://plot.ly"
       },
       "data": [
        {
         "domain": {
          "x": [
           0,
           1
          ],
          "y": [
           0,
           1
          ]
         },
         "hovertemplate": "label=%{label}<br>value=%{value}<extra></extra>",
         "labels": [
          "From Home",
          "From Hashtags",
          "From Explore",
          "Other"
         ],
         "legendgroup": "",
         "name": "",
         "showlegend": true,
         "type": "pie",
         "values": [
          294619,
          224614,
          128294,
          20360
         ]
        }
       ],
       "layout": {
        "autosize": true,
        "legend": {
         "tracegroupgap": 0
        },
        "piecolorway": [
         "#FFB6C1",
         "#87CEFA",
         "#90EE90",
         "#FFDAB9"
        ],
        "template": {
         "data": {
          "bar": [
           {
            "error_x": {
             "color": "#2a3f5f"
            },
            "error_y": {
             "color": "#2a3f5f"
            },
            "marker": {
             "line": {
              "color": "white",
              "width": 0.5
             },
             "pattern": {
              "fillmode": "overlay",
              "size": 10,
              "solidity": 0.2
             }
            },
            "type": "bar"
           }
          ],
          "barpolar": [
           {
            "marker": {
             "line": {
              "color": "white",
              "width": 0.5
             },
             "pattern": {
              "fillmode": "overlay",
              "size": 10,
              "solidity": 0.2
             }
            },
            "type": "barpolar"
           }
          ],
          "carpet": [
           {
            "aaxis": {
             "endlinecolor": "#2a3f5f",
             "gridcolor": "#C8D4E3",
             "linecolor": "#C8D4E3",
             "minorgridcolor": "#C8D4E3",
             "startlinecolor": "#2a3f5f"
            },
            "baxis": {
             "endlinecolor": "#2a3f5f",
             "gridcolor": "#C8D4E3",
             "linecolor": "#C8D4E3",
             "minorgridcolor": "#C8D4E3",
             "startlinecolor": "#2a3f5f"
            },
            "type": "carpet"
           }
          ],
          "choropleth": [
           {
            "colorbar": {
             "outlinewidth": 0,
             "ticks": ""
            },
            "type": "choropleth"
           }
          ],
          "contour": [
           {
            "colorbar": {
             "outlinewidth": 0,
             "ticks": ""
            },
            "colorscale": [
             [
              0,
              "#0d0887"
             ],
             [
              0.1111111111111111,
              "#46039f"
             ],
             [
              0.2222222222222222,
              "#7201a8"
             ],
             [
              0.3333333333333333,
              "#9c179e"
             ],
             [
              0.4444444444444444,
              "#bd3786"
             ],
             [
              0.5555555555555556,
              "#d8576b"
             ],
             [
              0.6666666666666666,
              "#ed7953"
             ],
             [
              0.7777777777777778,
              "#fb9f3a"
             ],
             [
              0.8888888888888888,
              "#fdca26"
             ],
             [
              1,
              "#f0f921"
             ]
            ],
            "type": "contour"
           }
          ],
          "contourcarpet": [
           {
            "colorbar": {
             "outlinewidth": 0,
             "ticks": ""
            },
            "type": "contourcarpet"
           }
          ],
          "heatmap": [
           {
            "colorbar": {
             "outlinewidth": 0,
             "ticks": ""
            },
            "colorscale": [
             [
              0,
              "#0d0887"
             ],
             [
              0.1111111111111111,
              "#46039f"
             ],
             [
              0.2222222222222222,
              "#7201a8"
             ],
             [
              0.3333333333333333,
              "#9c179e"
             ],
             [
              0.4444444444444444,
              "#bd3786"
             ],
             [
              0.5555555555555556,
              "#d8576b"
             ],
             [
              0.6666666666666666,
              "#ed7953"
             ],
             [
              0.7777777777777778,
              "#fb9f3a"
             ],
             [
              0.8888888888888888,
              "#fdca26"
             ],
             [
              1,
              "#f0f921"
             ]
            ],
            "type": "heatmap"
           }
          ],
          "heatmapgl": [
           {
            "colorbar": {
             "outlinewidth": 0,
             "ticks": ""
            },
            "colorscale": [
             [
              0,
              "#0d0887"
             ],
             [
              0.1111111111111111,
              "#46039f"
             ],
             [
              0.2222222222222222,
              "#7201a8"
             ],
             [
              0.3333333333333333,
              "#9c179e"
             ],
             [
              0.4444444444444444,
              "#bd3786"
             ],
             [
              0.5555555555555556,
              "#d8576b"
             ],
             [
              0.6666666666666666,
              "#ed7953"
             ],
             [
              0.7777777777777778,
              "#fb9f3a"
             ],
             [
              0.8888888888888888,
              "#fdca26"
             ],
             [
              1,
              "#f0f921"
             ]
            ],
            "type": "heatmapgl"
           }
          ],
          "histogram": [
           {
            "marker": {
             "pattern": {
              "fillmode": "overlay",
              "size": 10,
              "solidity": 0.2
             }
            },
            "type": "histogram"
           }
          ],
          "histogram2d": [
           {
            "colorbar": {
             "outlinewidth": 0,
             "ticks": ""
            },
            "colorscale": [
             [
              0,
              "#0d0887"
             ],
             [
              0.1111111111111111,
              "#46039f"
             ],
             [
              0.2222222222222222,
              "#7201a8"
             ],
             [
              0.3333333333333333,
              "#9c179e"
             ],
             [
              0.4444444444444444,
              "#bd3786"
             ],
             [
              0.5555555555555556,
              "#d8576b"
             ],
             [
              0.6666666666666666,
              "#ed7953"
             ],
             [
              0.7777777777777778,
              "#fb9f3a"
             ],
             [
              0.8888888888888888,
              "#fdca26"
             ],
             [
              1,
              "#f0f921"
             ]
            ],
            "type": "histogram2d"
           }
          ],
          "histogram2dcontour": [
           {
            "colorbar": {
             "outlinewidth": 0,
             "ticks": ""
            },
            "colorscale": [
             [
              0,
              "#0d0887"
             ],
             [
              0.1111111111111111,
              "#46039f"
             ],
             [
              0.2222222222222222,
              "#7201a8"
             ],
             [
              0.3333333333333333,
              "#9c179e"
             ],
             [
              0.4444444444444444,
              "#bd3786"
             ],
             [
              0.5555555555555556,
              "#d8576b"
             ],
             [
              0.6666666666666666,
              "#ed7953"
             ],
             [
              0.7777777777777778,
              "#fb9f3a"
             ],
             [
              0.8888888888888888,
              "#fdca26"
             ],
             [
              1,
              "#f0f921"
             ]
            ],
            "type": "histogram2dcontour"
           }
          ],
          "mesh3d": [
           {
            "colorbar": {
             "outlinewidth": 0,
             "ticks": ""
            },
            "type": "mesh3d"
           }
          ],
          "parcoords": [
           {
            "line": {
             "colorbar": {
              "outlinewidth": 0,
              "ticks": ""
             }
            },
            "type": "parcoords"
           }
          ],
          "pie": [
           {
            "automargin": true,
            "type": "pie"
           }
          ],
          "scatter": [
           {
            "fillpattern": {
             "fillmode": "overlay",
             "size": 10,
             "solidity": 0.2
            },
            "type": "scatter"
           }
          ],
          "scatter3d": [
           {
            "line": {
             "colorbar": {
              "outlinewidth": 0,
              "ticks": ""
             }
            },
            "marker": {
             "colorbar": {
              "outlinewidth": 0,
              "ticks": ""
             }
            },
            "type": "scatter3d"
           }
          ],
          "scattercarpet": [
           {
            "marker": {
             "colorbar": {
              "outlinewidth": 0,
              "ticks": ""
             }
            },
            "type": "scattercarpet"
           }
          ],
          "scattergeo": [
           {
            "marker": {
             "colorbar": {
              "outlinewidth": 0,
              "ticks": ""
             }
            },
            "type": "scattergeo"
           }
          ],
          "scattergl": [
           {
            "marker": {
             "colorbar": {
              "outlinewidth": 0,
              "ticks": ""
             }
            },
            "type": "scattergl"
           }
          ],
          "scattermapbox": [
           {
            "marker": {
             "colorbar": {
              "outlinewidth": 0,
              "ticks": ""
             }
            },
            "type": "scattermapbox"
           }
          ],
          "scatterpolar": [
           {
            "marker": {
             "colorbar": {
              "outlinewidth": 0,
              "ticks": ""
             }
            },
            "type": "scatterpolar"
           }
          ],
          "scatterpolargl": [
           {
            "marker": {
             "colorbar": {
              "outlinewidth": 0,
              "ticks": ""
             }
            },
            "type": "scatterpolargl"
           }
          ],
          "scatterternary": [
           {
            "marker": {
             "colorbar": {
              "outlinewidth": 0,
              "ticks": ""
             }
            },
            "type": "scatterternary"
           }
          ],
          "surface": [
           {
            "colorbar": {
             "outlinewidth": 0,
             "ticks": ""
            },
            "colorscale": [
             [
              0,
              "#0d0887"
             ],
             [
              0.1111111111111111,
              "#46039f"
             ],
             [
              0.2222222222222222,
              "#7201a8"
             ],
             [
              0.3333333333333333,
              "#9c179e"
             ],
             [
              0.4444444444444444,
              "#bd3786"
             ],
             [
              0.5555555555555556,
              "#d8576b"
             ],
             [
              0.6666666666666666,
              "#ed7953"
             ],
             [
              0.7777777777777778,
              "#fb9f3a"
             ],
             [
              0.8888888888888888,
              "#fdca26"
             ],
             [
              1,
              "#f0f921"
             ]
            ],
            "type": "surface"
           }
          ],
          "table": [
           {
            "cells": {
             "fill": {
              "color": "#EBF0F8"
             },
             "line": {
              "color": "white"
             }
            },
            "header": {
             "fill": {
              "color": "#C8D4E3"
             },
             "line": {
              "color": "white"
             }
            },
            "type": "table"
           }
          ]
         },
         "layout": {
          "annotationdefaults": {
           "arrowcolor": "#2a3f5f",
           "arrowhead": 0,
           "arrowwidth": 1
          },
          "autotypenumbers": "strict",
          "coloraxis": {
           "colorbar": {
            "outlinewidth": 0,
            "ticks": ""
           }
          },
          "colorscale": {
           "diverging": [
            [
             0,
             "#8e0152"
            ],
            [
             0.1,
             "#c51b7d"
            ],
            [
             0.2,
             "#de77ae"
            ],
            [
             0.3,
             "#f1b6da"
            ],
            [
             0.4,
             "#fde0ef"
            ],
            [
             0.5,
             "#f7f7f7"
            ],
            [
             0.6,
             "#e6f5d0"
            ],
            [
             0.7,
             "#b8e186"
            ],
            [
             0.8,
             "#7fbc41"
            ],
            [
             0.9,
             "#4d9221"
            ],
            [
             1,
             "#276419"
            ]
           ],
           "sequential": [
            [
             0,
             "#0d0887"
            ],
            [
             0.1111111111111111,
             "#46039f"
            ],
            [
             0.2222222222222222,
             "#7201a8"
            ],
            [
             0.3333333333333333,
             "#9c179e"
            ],
            [
             0.4444444444444444,
             "#bd3786"
            ],
            [
             0.5555555555555556,
             "#d8576b"
            ],
            [
             0.6666666666666666,
             "#ed7953"
            ],
            [
             0.7777777777777778,
             "#fb9f3a"
            ],
            [
             0.8888888888888888,
             "#fdca26"
            ],
            [
             1,
             "#f0f921"
            ]
           ],
           "sequentialminus": [
            [
             0,
             "#0d0887"
            ],
            [
             0.1111111111111111,
             "#46039f"
            ],
            [
             0.2222222222222222,
             "#7201a8"
            ],
            [
             0.3333333333333333,
             "#9c179e"
            ],
            [
             0.4444444444444444,
             "#bd3786"
            ],
            [
             0.5555555555555556,
             "#d8576b"
            ],
            [
             0.6666666666666666,
             "#ed7953"
            ],
            [
             0.7777777777777778,
             "#fb9f3a"
            ],
            [
             0.8888888888888888,
             "#fdca26"
            ],
            [
             1,
             "#f0f921"
            ]
           ]
          },
          "colorway": [
           "#636efa",
           "#EF553B",
           "#00cc96",
           "#ab63fa",
           "#FFA15A",
           "#19d3f3",
           "#FF6692",
           "#B6E880",
           "#FF97FF",
           "#FECB52"
          ],
          "font": {
           "color": "#2a3f5f"
          },
          "geo": {
           "bgcolor": "white",
           "lakecolor": "white",
           "landcolor": "white",
           "showlakes": true,
           "showland": true,
           "subunitcolor": "#C8D4E3"
          },
          "hoverlabel": {
           "align": "left"
          },
          "hovermode": "closest",
          "mapbox": {
           "style": "light"
          },
          "paper_bgcolor": "white",
          "plot_bgcolor": "white",
          "polar": {
           "angularaxis": {
            "gridcolor": "#EBF0F8",
            "linecolor": "#EBF0F8",
            "ticks": ""
           },
           "bgcolor": "white",
           "radialaxis": {
            "gridcolor": "#EBF0F8",
            "linecolor": "#EBF0F8",
            "ticks": ""
           }
          },
          "scene": {
           "xaxis": {
            "backgroundcolor": "white",
            "gridcolor": "#DFE8F3",
            "gridwidth": 2,
            "linecolor": "#EBF0F8",
            "showbackground": true,
            "ticks": "",
            "zerolinecolor": "#EBF0F8"
           },
           "yaxis": {
            "backgroundcolor": "white",
            "gridcolor": "#DFE8F3",
            "gridwidth": 2,
            "linecolor": "#EBF0F8",
            "showbackground": true,
            "ticks": "",
            "zerolinecolor": "#EBF0F8"
           },
           "zaxis": {
            "backgroundcolor": "white",
            "gridcolor": "#DFE8F3",
            "gridwidth": 2,
            "linecolor": "#EBF0F8",
            "showbackground": true,
            "ticks": "",
            "zerolinecolor": "#EBF0F8"
           }
          },
          "shapedefaults": {
           "line": {
            "color": "#2a3f5f"
           }
          },
          "ternary": {
           "aaxis": {
            "gridcolor": "#DFE8F3",
            "linecolor": "#A2B1C6",
            "ticks": ""
           },
           "baxis": {
            "gridcolor": "#DFE8F3",
            "linecolor": "#A2B1C6",
            "ticks": ""
           },
           "bgcolor": "white",
           "caxis": {
            "gridcolor": "#DFE8F3",
            "linecolor": "#A2B1C6",
            "ticks": ""
           }
          },
          "title": {
           "x": 0.05
          },
          "xaxis": {
           "automargin": true,
           "gridcolor": "#EBF0F8",
           "linecolor": "#EBF0F8",
           "ticks": "",
           "title": {
            "standoff": 15
           },
           "zerolinecolor": "#EBF0F8",
           "zerolinewidth": 2
          },
          "yaxis": {
           "automargin": true,
           "gridcolor": "#EBF0F8",
           "linecolor": "#EBF0F8",
           "ticks": "",
           "title": {
            "standoff": 15
           },
           "zerolinecolor": "#EBF0F8",
           "zerolinewidth": 2
          }
         }
        },
        "title": {
         "text": "Reach from Different Sources"
        }
       }
      },
      "image/png": "[encoded data removed]",
      "text/html": [
       "<div>                            <div id=\"f23e752b-84a1-487b-9fe7-2404c73101be\" class=\"plotly-graph-div\" style=\"height:525px; width:100%;\"></div>            <script type=\"text/javascript\">                require([\"plotly\"], function(Plotly) {                    window.PLOTLYENV=window.PLOTLYENV || {};                                    if (document.getElementById(\"f23e752b-84a1-487b-9fe7-2404c73101be\")) {                    Plotly.newPlot(                        \"f23e752b-84a1-487b-9fe7-2404c73101be\",                        [{\"domain\":{\"x\":[0.0,1.0],\"y\":[0.0,1.0]},\"hovertemplate\":\"label=%{label}\\u003cbr\\u003evalue=%{value}\\u003cextra\\u003e\\u003c\\u002fextra\\u003e\",\"labels\":[\"From Home\",\"From Hashtags\",\"From Explore\",\"Other\"],\"legendgroup\":\"\",\"name\":\"\",\"showlegend\":true,\"values\":[294619,224614,128294,20360],\"type\":\"pie\"}],                        {\"template\":{\"data\":{\"histogram2dcontour\":[{\"type\":\"histogram2dcontour\",\"colorbar\":{\"outlinewidth\":0,\"ticks\":\"\"},\"colorscale\":[[0.0,\"#0d0887\"],[0.1111111111111111,\"#46039f\"],[0.2222222222222222,\"#7201a8\"],[0.3333333333333333,\"#9c179e\"],[0.4444444444444444,\"#bd3786\"],[0.5555555555555556,\"#d8576b\"],[0.6666666666666666,\"#ed7953\"],[0.7777777777777778,\"#fb9f3a\"],[0.8888888888888888,\"#fdca26\"],[1.0,\"#f0f921\"]]}],\"choropleth\":[{\"type\":\"choropleth\",\"colorbar\":{\"outlinewidth\":0,\"ticks\":\"\"}}],\"histogram2d\":[{\"type\":\"histogram2d\",\"colorbar\":{\"outlinewidth\":0,\"ticks\":\"\"},\"colorscale\":[[0.0,\"#0d0887\"],[0.1111111111111111,\"#46039f\"],[0.2222222222222222,\"#7201a8\"],[0.3333333333333333,\"#9c179e\"],[0.4444444444444444,\"#bd3786\"],[0.5555555555555556,\"#d8576b\"],[0.6666666666666666,\"#ed7953\"],[0.7777777777777778,\"#fb9f3a\"],[0.8888888888888888,\"#fdca26\"],[1.0,\"#f0f921\"]]}],\"heatmap\":[{\"type\":\"heatmap\",\"colorbar\":{\"outlinewidth\":0,\"ticks\":\"\"},\"colorscale\":[[0.0,\"#0d0887\"],[0.1111111111111111,\"#46039f\"],[0.2222222222222222,\"#7201a8\"],[0.3333333333333333,\"#9c179e\"],[0.4444444444444444,\"#bd3786\"],[0.5555555555555556,\"#d8576b\"],[0.6666666666666666,\"#ed7953\"],[0.7777777777777778,\"#fb9f3a\"],[0.8888888888888888,\"#fdca26\"],[1.0,\"#f0f921\"]]}],\"heatmapgl\":[{\"type\":\"heatmapgl\",\"colorbar\":{\"outlinewidth\":0,\"ticks\":\"\"},\"colorscale\":[[0.0,\"#0d0887\"],[0.1111111111111111,\"#46039f\"],[0.2222222222222222,\"#7201a8\"],[0.3333333333333333,\"#9c179e\"],[0.4444444444444444,\"#bd3786\"],[0.5555555555555556,\"#d8576b\"],[0.6666666666666666,\"#ed7953\"],[0.7777777777777778,\"#fb9f3a\"],[0.8888888888888888,\"#fdca26\"],[1.0,\"#f0f921\"]]}],\"contourcarpet\":[{\"type\":\"contourcarpet\",\"colorbar\":{\"outlinewidth\":0,\"ticks\":\"\"}}],\"contour\":[{\"type\":\"contour\",\"colorbar\":{\"outlinewidth\":0,\"ticks\":\"\"},\"colorscale\":[[0.0,\"#0d0887\"],[0.1111111111111111,\"#46039f\"],[0.2222222222222222,\"#7201a8\"],[0.3333333333333333,\"#9c179e\"],[0.4444444444444444,\"#bd3786\"],[0.5555555555555556,\"#d8576b\"],[0.6666666666666666,\"#ed7953\"],[0.7777777777777778,\"#fb9f3a\"],[0.8888888888888888,\"#fdca26\"],[1.0,\"#f0f921\"]]}],\"surface\":[{\"type\":\"surface\",\"colorbar\":{\"outlinewidth\":0,\"ticks\":\"\"},\"colorscale\":[[0.0,\"#0d0887\"],[0.1111111111111111,\"#46039f\"],[0.2222222222222222,\"#7201a8\"],[0.3333333333333333,\"#9c179e\"],[0.4444444444444444,\"#bd3786\"],[0.5555555555555556,\"#d8576b\"],[0.6666666666666666,\"#ed7953\"],[0.7777777777777778,\"#fb9f3a\"],[0.8888888888888888,\"#fdca26\"],[1.0,\"#f0f921\"]]}],\"mesh3d\":[{\"type\":\"mesh3d\",\"colorbar\":{\"outlinewidth\":0,\"ticks\":\"\"}}],\"scatter\":[{\"fillpattern\":{\"fillmode\":\"overlay\",\"size\":10,\"solidity\":0.2},\"type\":\"scatter\"}],\"parcoords\":[{\"type\":\"parcoords\",\"line\":{\"colorbar\":{\"outlinewidth\":0,\"ticks\":\"\"}}}],\"scatterpolargl\":[{\"type\":\"scatterpolargl\",\"marker\":{\"colorbar\":{\"outlinewidth\":0,\"ticks\":\"\"}}}],\"bar\":[{\"error_x\":{\"color\":\"#2a3f5f\"},\"error_y\":{\"color\":\"#2a3f5f\"},\"marker\":{\"line\":{\"color\":\"white\",\"width\":0.5},\"pattern\":{\"fillmode\":\"overlay\",\"size\":10,\"solidity\":0.2}},\"type\":\"bar\"}],\"scattergeo\":[{\"type\":\"scattergeo\",\"marker\":{\"colorbar\":{\"outlinewidth\":0,\"ticks\":\"\"}}}],\"scatterpolar\":[{\"type\":\"scatterpolar\",\"marker\":{\"colorbar\":{\"outlinewidth\":0,\"ticks\":\"\"}}}],\"histogram\":[{\"marker\":{\"pattern\":{\"fillmode\":\"overlay\",\"size\":10,\"solidity\":0.2}},\"type\":\"histogram\"}],\"scattergl\":[{\"type\":\"scattergl\",\"marker\":{\"colorbar\":{\"outlinewidth\":0,\"ticks\":\"\"}}}],\"scatter3d\":[{\"type\":\"scatter3d\",\"line\":{\"colorbar\":{\"outlinewidth\":0,\"ticks\":\"\"}},\"marker\":{\"colorbar\":{\"outlinewidth\":0,\"ticks\":\"\"}}}],\"scattermapbox\":[{\"type\":\"scattermapbox\",\"marker\":{\"colorbar\":{\"outlinewidth\":0,\"ticks\":\"\"}}}],\"scatterternary\":[{\"type\":\"scatterternary\",\"marker\":{\"colorbar\":{\"outlinewidth\":0,\"ticks\":\"\"}}}],\"scattercarpet\":[{\"type\":\"scattercarpet\",\"marker\":{\"colorbar\":{\"outlinewidth\":0,\"ticks\":\"\"}}}],\"carpet\":[{\"aaxis\":{\"endlinecolor\":\"#2a3f5f\",\"gridcolor\":\"#C8D4E3\",\"linecolor\":\"#C8D4E3\",\"minorgridcolor\":\"#C8D4E3\",\"startlinecolor\":\"#2a3f5f\"},\"baxis\":{\"endlinecolor\":\"#2a3f5f\",\"gridcolor\":\"#C8D4E3\",\"linecolor\":\"#C8D4E3\",\"minorgridcolor\":\"#C8D4E3\",\"startlinecolor\":\"#2a3f5f\"},\"type\":\"carpet\"}],\"table\":[{\"cells\":{\"fill\":{\"color\":\"#EBF0F8\"},\"line\":{\"color\":\"white\"}},\"header\":{\"fill\":{\"color\":\"#C8D4E3\"},\"line\":{\"color\":\"white\"}},\"type\":\"table\"}],\"barpolar\":[{\"marker\":{\"line\":{\"color\":\"white\",\"width\":0.5},\"pattern\":{\"fillmode\":\"overlay\",\"size\":10,\"solidity\":0.2}},\"type\":\"barpolar\"}],\"pie\":[{\"automargin\":true,\"type\":\"pie\"}]},\"layout\":{\"autotypenumbers\":\"strict\",\"colorway\":[\"#636efa\",\"#EF553B\",\"#00cc96\",\"#ab63fa\",\"#FFA15A\",\"#19d3f3\",\"#FF6692\",\"#B6E880\",\"#FF97FF\",\"#FECB52\"],\"font\":{\"color\":\"#2a3f5f\"},\"hovermode\":\"closest\",\"hoverlabel\":{\"align\":\"left\"},\"paper_bgcolor\":\"white\",\"plot_bgcolor\":\"white\",\"polar\":{\"bgcolor\":\"white\",\"angularaxis\":{\"gridcolor\":\"#EBF0F8\",\"linecolor\":\"#EBF0F8\",\"ticks\":\"\"},\"radialaxis\":{\"gridcolor\":\"#EBF0F8\",\"linecolor\":\"#EBF0F8\",\"ticks\":\"\"}},\"ternary\":{\"bgcolor\":\"white\",\"aaxis\":{\"gridcolor\":\"#DFE8F3\",\"linecolor\":\"#A2B1C6\",\"ticks\":\"\"},\"baxis\":{\"gridcolor\":\"#DFE8F3\",\"linecolor\":\"#A2B1C6\",\"ticks\":\"\"},\"caxis\":{\"gridcolor\":\"#DFE8F3\",\"linecolor\":\"#A2B1C6\",\"ticks\":\"\"}},\"coloraxis\":{\"colorbar\":{\"outlinewidth\":0,\"ticks\":\"\"}},\"colorscale\":{\"sequential\":[[0.0,\"#0d0887\"],[0.1111111111111111,\"#46039f\"],[0.2222222222222222,\"#7201a8\"],[0.3333333333333333,\"#9c179e\"],[0.4444444444444444,\"#bd3786\"],[0.5555555555555556,\"#d8576b\"],[0.6666666666666666,\"#ed7953\"],[0.7777777777777778,\"#fb9f3a\"],[0.8888888888888888,\"#fdca26\"],[1.0,\"#f0f921\"]],\"sequentialminus\":[[0.0,\"#0d0887\"],[0.1111111111111111,\"#46039f\"],[0.2222222222222222,\"#7201a8\"],[0.3333333333333333,\"#9c179e\"],[0.4444444444444444,\"#bd3786\"],[0.5555555555555556,\"#d8576b\"],[0.6666666666666666,\"#ed7953\"],[0.7777777777777778,\"#fb9f3a\"],[0.8888888888888888,\"#fdca26\"],[1.0,\"#f0f921\"]],\"diverging\":[[0,\"#8e0152\"],[0.1,\"#c51b7d\"],[0.2,\"#de77ae\"],[0.3,\"#f1b6da\"],[0.4,\"#fde0ef\"],[0.5,\"#f7f7f7\"],[0.6,\"#e6f5d0\"],[0.7,\"#b8e186\"],[0.8,\"#7fbc41\"],[0.9,\"#4d9221\"],[1,\"#276419\"]]},\"xaxis\":{\"gridcolor\":\"#EBF0F8\",\"linecolor\":\"#EBF0F8\",\"ticks\":\"\",\"title\":{\"standoff\":15},\"zerolinecolor\":\"#EBF0F8\",\"automargin\":true,\"zerolinewidth\":2},\"yaxis\":{\"gridcolor\":\"#EBF0F8\",\"linecolor\":\"#EBF0F8\",\"ticks\":\"\",\"title\":{\"standoff\":15},\"zerolinecolor\":\"#EBF0F8\",\"automargin\":true,\"zerolinewidth\":2},\"scene\":{\"xaxis\":{\"backgroundcolor\":\"white\",\"gridcolor\":\"#DFE8F3\",\"linecolor\":\"#EBF0F8\",\"showbackground\":true,\"ticks\":\"\",\"zerolinecolor\":\"#EBF0F8\",\"gridwidth\":2},\"yaxis\":{\"backgroundcolor\":\"white\",\"gridcolor\":\"#DFE8F3\",\"linecolor\":\"#EBF0F8\",\"showbackground\":true,\"ticks\":\"\",\"zerolinecolor\":\"#EBF0F8\",\"gridwidth\":2},\"zaxis\":{\"backgroundcolor\":\"white\",\"gridcolor\":\"#DFE8F3\",\"linecolor\":\"#EBF0F8\",\"showbackground\":true,\"ticks\":\"\",\"zerolinecolor\":\"#EBF0F8\",\"gridwidth\":2}},\"shapedefaults\":{\"line\":{\"color\":\"#2a3f5f\"}},\"annotationdefaults\":{\"arrowcolor\":\"#2a3f5f\",\"arrowhead\":0,\"arrowwidth\":1},\"geo\":{\"bgcolor\":\"white\",\"landcolor\":\"white\",\"subunitcolor\":\"#C8D4E3\",\"showland\":true,\"showlakes\":true,\"lakecolor\":\"white\"},\"title\":{\"x\":0.05},\"mapbox\":{\"style\":\"light\"}}},\"legend\":{\"tracegroupgap\":0},\"title\":{\"text\":\"Reach from Different Sources\"},\"piecolorway\":[\"#FFB6C1\",\"#87CEFA\",\"#90EE90\",\"#FFDAB9\"]},                        {\"responsive\": true}                    ).then(function(){\n",
       "                            \n",
       "var gd = document.getElementById('f23e752b-84a1-487b-9fe7-2404c73101be');\n",
       "var x = new MutationObserver(function (mutations, observer) {{\n",
       "        var display = window.getComputedStyle(gd).display;\n",
       "        if (!display || display === 'none') {{\n",
       "            console.log([gd, 'removed!']);\n",
       "            Plotly.purge(gd);\n",
       "            observer.disconnect();\n",
       "        }}\n",
       "}});\n",
       "\n",
       "// Listen for the removal of the full notebook cells\n",
       "var notebookContainer = gd.closest('#notebook-container');\n",
       "if (notebookContainer) {{\n",
       "    x.observe(notebookContainer, {childList: true});\n",
       "}}\n",
       "\n",
       "// Listen for the clearing of the current output cell\n",
       "var outputEl = gd.closest('.output');\n",
       "if (outputEl) {{\n",
       "    x.observe(outputEl, {childList: true});\n",
       "}}\n",
       "\n",
       "                        })                };                });            </script>        </div>"
      ]
     },
     "metadata": {},
     "output_type": "display_data"
    }
   ],
   "source": [
    "df = pd.DataFrame(data)\n",
    "home = df[\"From Home\"].sum()\n",
    "hashtags =df[\"From Hashtags\"].sum()\n",
    "explore = df[\"From Explore\"].sum()\n",
    "other = df[\"From Other\"].sum()\n",
    "colors = ['#FFB6C1', '#87CEFA', '#90EE90', '#FFDAB9']\n",
    "labels = ['From Home','From Hashtags','From Explore','Other']\n",
    "values = [home, hashtags, explore, other]\n",
    "fig = px.pie(data, values=values, names=labels,title='Reach from Different Sources',color_discrete_sequence=colors)\n",
    "fig.show()"
   ]
  },
  {
   "cell_type": "markdown",
   "id": "0d91849e-82ab-4ca9-b236-d3f54fd06f82",
   "metadata": {},
   "source": [
    "Q.8: Have a look at the distribution of engagement sources as shown below\n"
   ]
  },
  {
   "cell_type": "code",
   "execution_count": 85,
   "id": "a6865da5-2667-4507-a28d-eca315bd1314",
   "metadata": {},
   "outputs": [
    {
     "data": {
      "application/vnd.plotly.v1+json": {
       "config": {
        "plotlyServerURL": "https://plot.ly"
       },
       "data": [
        {
         "domain": {
          "x": [
           0,
           1
          ],
          "y": [
           0,
           1
          ]
         },
         "hovertemplate": "label=%{label}<br>value=%{value}<extra></extra>",
         "labels": [
          "Likes",
          "Saves",
          "Share",
          "Comments"
         ],
         "legendgroup": "",
         "name": "",
         "showlegend": true,
         "type": "pie",
         "values": [
          20680,
          18244,
          1114,
          793
         ]
        }
       ],
       "layout": {
        "autosize": true,
        "legend": {
         "tracegroupgap": 0
        },
        "piecolorway": [
         "#FFB6C1",
         "#87CEFA",
         "#90EE90",
         "#FFDAB9"
        ],
        "template": {
         "data": {
          "bar": [
           {
            "error_x": {
             "color": "#2a3f5f"
            },
            "error_y": {
             "color": "#2a3f5f"
            },
            "marker": {
             "line": {
              "color": "white",
              "width": 0.5
             },
             "pattern": {
              "fillmode": "overlay",
              "size": 10,
              "solidity": 0.2
             }
            },
            "type": "bar"
           }
          ],
          "barpolar": [
           {
            "marker": {
             "line": {
              "color": "white",
              "width": 0.5
             },
             "pattern": {
              "fillmode": "overlay",
              "size": 10,
              "solidity": 0.2
             }
            },
            "type": "barpolar"
           }
          ],
          "carpet": [
           {
            "aaxis": {
             "endlinecolor": "#2a3f5f",
             "gridcolor": "#C8D4E3",
             "linecolor": "#C8D4E3",
             "minorgridcolor": "#C8D4E3",
             "startlinecolor": "#2a3f5f"
            },
            "baxis": {
             "endlinecolor": "#2a3f5f",
             "gridcolor": "#C8D4E3",
             "linecolor": "#C8D4E3",
             "minorgridcolor": "#C8D4E3",
             "startlinecolor": "#2a3f5f"
            },
            "type": "carpet"
           }
          ],
          "choropleth": [
           {
            "colorbar": {
             "outlinewidth": 0,
             "ticks": ""
            },
            "type": "choropleth"
           }
          ],
          "contour": [
           {
            "colorbar": {
             "outlinewidth": 0,
             "ticks": ""
            },
            "colorscale": [
             [
              0,
              "#0d0887"
             ],
             [
              0.1111111111111111,
              "#46039f"
             ],
             [
              0.2222222222222222,
              "#7201a8"
             ],
             [
              0.3333333333333333,
              "#9c179e"
             ],
             [
              0.4444444444444444,
              "#bd3786"
             ],
             [
              0.5555555555555556,
              "#d8576b"
             ],
             [
              0.6666666666666666,
              "#ed7953"
             ],
             [
              0.7777777777777778,
              "#fb9f3a"
             ],
             [
              0.8888888888888888,
              "#fdca26"
             ],
             [
              1,
              "#f0f921"
             ]
            ],
            "type": "contour"
           }
          ],
          "contourcarpet": [
           {
            "colorbar": {
             "outlinewidth": 0,
             "ticks": ""
            },
            "type": "contourcarpet"
           }
          ],
          "heatmap": [
           {
            "colorbar": {
             "outlinewidth": 0,
             "ticks": ""
            },
            "colorscale": [
             [
              0,
              "#0d0887"
             ],
             [
              0.1111111111111111,
              "#46039f"
             ],
             [
              0.2222222222222222,
              "#7201a8"
             ],
             [
              0.3333333333333333,
              "#9c179e"
             ],
             [
              0.4444444444444444,
              "#bd3786"
             ],
             [
              0.5555555555555556,
              "#d8576b"
             ],
             [
              0.6666666666666666,
              "#ed7953"
             ],
             [
              0.7777777777777778,
              "#fb9f3a"
             ],
             [
              0.8888888888888888,
              "#fdca26"
             ],
             [
              1,
              "#f0f921"
             ]
            ],
            "type": "heatmap"
           }
          ],
          "heatmapgl": [
           {
            "colorbar": {
             "outlinewidth": 0,
             "ticks": ""
            },
            "colorscale": [
             [
              0,
              "#0d0887"
             ],
             [
              0.1111111111111111,
              "#46039f"
             ],
             [
              0.2222222222222222,
              "#7201a8"
             ],
             [
              0.3333333333333333,
              "#9c179e"
             ],
             [
              0.4444444444444444,
              "#bd3786"
             ],
             [
              0.5555555555555556,
              "#d8576b"
             ],
             [
              0.6666666666666666,
              "#ed7953"
             ],
             [
              0.7777777777777778,
              "#fb9f3a"
             ],
             [
              0.8888888888888888,
              "#fdca26"
             ],
             [
              1,
              "#f0f921"
             ]
            ],
            "type": "heatmapgl"
           }
          ],
          "histogram": [
           {
            "marker": {
             "pattern": {
              "fillmode": "overlay",
              "size": 10,
              "solidity": 0.2
             }
            },
            "type": "histogram"
           }
          ],
          "histogram2d": [
           {
            "colorbar": {
             "outlinewidth": 0,
             "ticks": ""
            },
            "colorscale": [
             [
              0,
              "#0d0887"
             ],
             [
              0.1111111111111111,
              "#46039f"
             ],
             [
              0.2222222222222222,
              "#7201a8"
             ],
             [
              0.3333333333333333,
              "#9c179e"
             ],
             [
              0.4444444444444444,
              "#bd3786"
             ],
             [
              0.5555555555555556,
              "#d8576b"
             ],
             [
              0.6666666666666666,
              "#ed7953"
             ],
             [
              0.7777777777777778,
              "#fb9f3a"
             ],
             [
              0.8888888888888888,
              "#fdca26"
             ],
             [
              1,
              "#f0f921"
             ]
            ],
            "type": "histogram2d"
           }
          ],
          "histogram2dcontour": [
           {
            "colorbar": {
             "outlinewidth": 0,
             "ticks": ""
            },
            "colorscale": [
             [
              0,
              "#0d0887"
             ],
             [
              0.1111111111111111,
              "#46039f"
             ],
             [
              0.2222222222222222,
              "#7201a8"
             ],
             [
              0.3333333333333333,
              "#9c179e"
             ],
             [
              0.4444444444444444,
              "#bd3786"
             ],
             [
              0.5555555555555556,
              "#d8576b"
             ],
             [
              0.6666666666666666,
              "#ed7953"
             ],
             [
              0.7777777777777778,
              "#fb9f3a"
             ],
             [
              0.8888888888888888,
              "#fdca26"
             ],
             [
              1,
              "#f0f921"
             ]
            ],
            "type": "histogram2dcontour"
           }
          ],
          "mesh3d": [
           {
            "colorbar": {
             "outlinewidth": 0,
             "ticks": ""
            },
            "type": "mesh3d"
           }
          ],
          "parcoords": [
           {
            "line": {
             "colorbar": {
              "outlinewidth": 0,
              "ticks": ""
             }
            },
            "type": "parcoords"
           }
          ],
          "pie": [
           {
            "automargin": true,
            "type": "pie"
           }
          ],
          "scatter": [
           {
            "fillpattern": {
             "fillmode": "overlay",
             "size": 10,
             "solidity": 0.2
            },
            "type": "scatter"
           }
          ],
          "scatter3d": [
           {
            "line": {
             "colorbar": {
              "outlinewidth": 0,
              "ticks": ""
             }
            },
            "marker": {
             "colorbar": {
              "outlinewidth": 0,
              "ticks": ""
             }
            },
            "type": "scatter3d"
           }
          ],
          "scattercarpet": [
           {
            "marker": {
             "colorbar": {
              "outlinewidth": 0,
              "ticks": ""
             }
            },
            "type": "scattercarpet"
           }
          ],
          "scattergeo": [
           {
            "marker": {
             "colorbar": {
              "outlinewidth": 0,
              "ticks": ""
             }
            },
            "type": "scattergeo"
           }
          ],
          "scattergl": [
           {
            "marker": {
             "colorbar": {
              "outlinewidth": 0,
              "ticks": ""
             }
            },
            "type": "scattergl"
           }
          ],
          "scattermapbox": [
           {
            "marker": {
             "colorbar": {
              "outlinewidth": 0,
              "ticks": ""
             }
            },
            "type": "scattermapbox"
           }
          ],
          "scatterpolar": [
           {
            "marker": {
             "colorbar": {
              "outlinewidth": 0,
              "ticks": ""
             }
            },
            "type": "scatterpolar"
           }
          ],
          "scatterpolargl": [
           {
            "marker": {
             "colorbar": {
              "outlinewidth": 0,
              "ticks": ""
             }
            },
            "type": "scatterpolargl"
           }
          ],
          "scatterternary": [
           {
            "marker": {
             "colorbar": {
              "outlinewidth": 0,
              "ticks": ""
             }
            },
            "type": "scatterternary"
           }
          ],
          "surface": [
           {
            "colorbar": {
             "outlinewidth": 0,
             "ticks": ""
            },
            "colorscale": [
             [
              0,
              "#0d0887"
             ],
             [
              0.1111111111111111,
              "#46039f"
             ],
             [
              0.2222222222222222,
              "#7201a8"
             ],
             [
              0.3333333333333333,
              "#9c179e"
             ],
             [
              0.4444444444444444,
              "#bd3786"
             ],
             [
              0.5555555555555556,
              "#d8576b"
             ],
             [
              0.6666666666666666,
              "#ed7953"
             ],
             [
              0.7777777777777778,
              "#fb9f3a"
             ],
             [
              0.8888888888888888,
              "#fdca26"
             ],
             [
              1,
              "#f0f921"
             ]
            ],
            "type": "surface"
           }
          ],
          "table": [
           {
            "cells": {
             "fill": {
              "color": "#EBF0F8"
             },
             "line": {
              "color": "white"
             }
            },
            "header": {
             "fill": {
              "color": "#C8D4E3"
             },
             "line": {
              "color": "white"
             }
            },
            "type": "table"
           }
          ]
         },
         "layout": {
          "annotationdefaults": {
           "arrowcolor": "#2a3f5f",
           "arrowhead": 0,
           "arrowwidth": 1
          },
          "autotypenumbers": "strict",
          "coloraxis": {
           "colorbar": {
            "outlinewidth": 0,
            "ticks": ""
           }
          },
          "colorscale": {
           "diverging": [
            [
             0,
             "#8e0152"
            ],
            [
             0.1,
             "#c51b7d"
            ],
            [
             0.2,
             "#de77ae"
            ],
            [
             0.3,
             "#f1b6da"
            ],
            [
             0.4,
             "#fde0ef"
            ],
            [
             0.5,
             "#f7f7f7"
            ],
            [
             0.6,
             "#e6f5d0"
            ],
            [
             0.7,
             "#b8e186"
            ],
            [
             0.8,
             "#7fbc41"
            ],
            [
             0.9,
             "#4d9221"
            ],
            [
             1,
             "#276419"
            ]
           ],
           "sequential": [
            [
             0,
             "#0d0887"
            ],
            [
             0.1111111111111111,
             "#46039f"
            ],
            [
             0.2222222222222222,
             "#7201a8"
            ],
            [
             0.3333333333333333,
             "#9c179e"
            ],
            [
             0.4444444444444444,
             "#bd3786"
            ],
            [
             0.5555555555555556,
             "#d8576b"
            ],
            [
             0.6666666666666666,
             "#ed7953"
            ],
            [
             0.7777777777777778,
             "#fb9f3a"
            ],
            [
             0.8888888888888888,
             "#fdca26"
            ],
            [
             1,
             "#f0f921"
            ]
           ],
           "sequentialminus": [
            [
             0,
             "#0d0887"
            ],
            [
             0.1111111111111111,
             "#46039f"
            ],
            [
             0.2222222222222222,
             "#7201a8"
            ],
            [
             0.3333333333333333,
             "#9c179e"
            ],
            [
             0.4444444444444444,
             "#bd3786"
            ],
            [
             0.5555555555555556,
             "#d8576b"
            ],
            [
             0.6666666666666666,
             "#ed7953"
            ],
            [
             0.7777777777777778,
             "#fb9f3a"
            ],
            [
             0.8888888888888888,
             "#fdca26"
            ],
            [
             1,
             "#f0f921"
            ]
           ]
          },
          "colorway": [
           "#636efa",
           "#EF553B",
           "#00cc96",
           "#ab63fa",
           "#FFA15A",
           "#19d3f3",
           "#FF6692",
           "#B6E880",
           "#FF97FF",
           "#FECB52"
          ],
          "font": {
           "color": "#2a3f5f"
          },
          "geo": {
           "bgcolor": "white",
           "lakecolor": "white",
           "landcolor": "white",
           "showlakes": true,
           "showland": true,
           "subunitcolor": "#C8D4E3"
          },
          "hoverlabel": {
           "align": "left"
          },
          "hovermode": "closest",
          "mapbox": {
           "style": "light"
          },
          "paper_bgcolor": "white",
          "plot_bgcolor": "white",
          "polar": {
           "angularaxis": {
            "gridcolor": "#EBF0F8",
            "linecolor": "#EBF0F8",
            "ticks": ""
           },
           "bgcolor": "white",
           "radialaxis": {
            "gridcolor": "#EBF0F8",
            "linecolor": "#EBF0F8",
            "ticks": ""
           }
          },
          "scene": {
           "xaxis": {
            "backgroundcolor": "white",
            "gridcolor": "#DFE8F3",
            "gridwidth": 2,
            "linecolor": "#EBF0F8",
            "showbackground": true,
            "ticks": "",
            "zerolinecolor": "#EBF0F8"
           },
           "yaxis": {
            "backgroundcolor": "white",
            "gridcolor": "#DFE8F3",
            "gridwidth": 2,
            "linecolor": "#EBF0F8",
            "showbackground": true,
            "ticks": "",
            "zerolinecolor": "#EBF0F8"
           },
           "zaxis": {
            "backgroundcolor": "white",
            "gridcolor": "#DFE8F3",
            "gridwidth": 2,
            "linecolor": "#EBF0F8",
            "showbackground": true,
            "ticks": "",
            "zerolinecolor": "#EBF0F8"
           }
          },
          "shapedefaults": {
           "line": {
            "color": "#2a3f5f"
           }
          },
          "ternary": {
           "aaxis": {
            "gridcolor": "#DFE8F3",
            "linecolor": "#A2B1C6",
            "ticks": ""
           },
           "baxis": {
            "gridcolor": "#DFE8F3",
            "linecolor": "#A2B1C6",
            "ticks": ""
           },
           "bgcolor": "white",
           "caxis": {
            "gridcolor": "#DFE8F3",
            "linecolor": "#A2B1C6",
            "ticks": ""
           }
          },
          "title": {
           "x": 0.05
          },
          "xaxis": {
           "automargin": true,
           "gridcolor": "#EBF0F8",
           "linecolor": "#EBF0F8",
           "ticks": "",
           "title": {
            "standoff": 15
           },
           "zerolinecolor": "#EBF0F8",
           "zerolinewidth": 2
          },
          "yaxis": {
           "automargin": true,
           "gridcolor": "#EBF0F8",
           "linecolor": "#EBF0F8",
           "ticks": "",
           "title": {
            "standoff": 15
           },
           "zerolinecolor": "#EBF0F8",
           "zerolinewidth": 2
          }
         }
        },
        "title": {
         "text": "Engagement Sources"
        }
       }
      },
      "image/png": "[encoded data removed]",
      "text/html": [
       "<div>                            <div id=\"946fda02-fcd6-4017-b10a-e631a3ab6b9c\" class=\"plotly-graph-div\" style=\"height:525px; width:100%;\"></div>            <script type=\"text/javascript\">                require([\"plotly\"], function(Plotly) {                    window.PLOTLYENV=window.PLOTLYENV || {};                                    if (document.getElementById(\"946fda02-fcd6-4017-b10a-e631a3ab6b9c\")) {                    Plotly.newPlot(                        \"946fda02-fcd6-4017-b10a-e631a3ab6b9c\",                        [{\"domain\":{\"x\":[0.0,1.0],\"y\":[0.0,1.0]},\"hovertemplate\":\"label=%{label}\\u003cbr\\u003evalue=%{value}\\u003cextra\\u003e\\u003c\\u002fextra\\u003e\",\"labels\":[\"Likes\",\"Saves\",\"Share\",\"Comments\"],\"legendgroup\":\"\",\"name\":\"\",\"showlegend\":true,\"values\":[20680,18244,1114,793],\"type\":\"pie\"}],                        {\"template\":{\"data\":{\"histogram2dcontour\":[{\"type\":\"histogram2dcontour\",\"colorbar\":{\"outlinewidth\":0,\"ticks\":\"\"},\"colorscale\":[[0.0,\"#0d0887\"],[0.1111111111111111,\"#46039f\"],[0.2222222222222222,\"#7201a8\"],[0.3333333333333333,\"#9c179e\"],[0.4444444444444444,\"#bd3786\"],[0.5555555555555556,\"#d8576b\"],[0.6666666666666666,\"#ed7953\"],[0.7777777777777778,\"#fb9f3a\"],[0.8888888888888888,\"#fdca26\"],[1.0,\"#f0f921\"]]}],\"choropleth\":[{\"type\":\"choropleth\",\"colorbar\":{\"outlinewidth\":0,\"ticks\":\"\"}}],\"histogram2d\":[{\"type\":\"histogram2d\",\"colorbar\":{\"outlinewidth\":0,\"ticks\":\"\"},\"colorscale\":[[0.0,\"#0d0887\"],[0.1111111111111111,\"#46039f\"],[0.2222222222222222,\"#7201a8\"],[0.3333333333333333,\"#9c179e\"],[0.4444444444444444,\"#bd3786\"],[0.5555555555555556,\"#d8576b\"],[0.6666666666666666,\"#ed7953\"],[0.7777777777777778,\"#fb9f3a\"],[0.8888888888888888,\"#fdca26\"],[1.0,\"#f0f921\"]]}],\"heatmap\":[{\"type\":\"heatmap\",\"colorbar\":{\"outlinewidth\":0,\"ticks\":\"\"},\"colorscale\":[[0.0,\"#0d0887\"],[0.1111111111111111,\"#46039f\"],[0.2222222222222222,\"#7201a8\"],[0.3333333333333333,\"#9c179e\"],[0.4444444444444444,\"#bd3786\"],[0.5555555555555556,\"#d8576b\"],[0.6666666666666666,\"#ed7953\"],[0.7777777777777778,\"#fb9f3a\"],[0.8888888888888888,\"#fdca26\"],[1.0,\"#f0f921\"]]}],\"heatmapgl\":[{\"type\":\"heatmapgl\",\"colorbar\":{\"outlinewidth\":0,\"ticks\":\"\"},\"colorscale\":[[0.0,\"#0d0887\"],[0.1111111111111111,\"#46039f\"],[0.2222222222222222,\"#7201a8\"],[0.3333333333333333,\"#9c179e\"],[0.4444444444444444,\"#bd3786\"],[0.5555555555555556,\"#d8576b\"],[0.6666666666666666,\"#ed7953\"],[0.7777777777777778,\"#fb9f3a\"],[0.8888888888888888,\"#fdca26\"],[1.0,\"#f0f921\"]]}],\"contourcarpet\":[{\"type\":\"contourcarpet\",\"colorbar\":{\"outlinewidth\":0,\"ticks\":\"\"}}],\"contour\":[{\"type\":\"contour\",\"colorbar\":{\"outlinewidth\":0,\"ticks\":\"\"},\"colorscale\":[[0.0,\"#0d0887\"],[0.1111111111111111,\"#46039f\"],[0.2222222222222222,\"#7201a8\"],[0.3333333333333333,\"#9c179e\"],[0.4444444444444444,\"#bd3786\"],[0.5555555555555556,\"#d8576b\"],[0.6666666666666666,\"#ed7953\"],[0.7777777777777778,\"#fb9f3a\"],[0.8888888888888888,\"#fdca26\"],[1.0,\"#f0f921\"]]}],\"surface\":[{\"type\":\"surface\",\"colorbar\":{\"outlinewidth\":0,\"ticks\":\"\"},\"colorscale\":[[0.0,\"#0d0887\"],[0.1111111111111111,\"#46039f\"],[0.2222222222222222,\"#7201a8\"],[0.3333333333333333,\"#9c179e\"],[0.4444444444444444,\"#bd3786\"],[0.5555555555555556,\"#d8576b\"],[0.6666666666666666,\"#ed7953\"],[0.7777777777777778,\"#fb9f3a\"],[0.8888888888888888,\"#fdca26\"],[1.0,\"#f0f921\"]]}],\"mesh3d\":[{\"type\":\"mesh3d\",\"colorbar\":{\"outlinewidth\":0,\"ticks\":\"\"}}],\"scatter\":[{\"fillpattern\":{\"fillmode\":\"overlay\",\"size\":10,\"solidity\":0.2},\"type\":\"scatter\"}],\"parcoords\":[{\"type\":\"parcoords\",\"line\":{\"colorbar\":{\"outlinewidth\":0,\"ticks\":\"\"}}}],\"scatterpolargl\":[{\"type\":\"scatterpolargl\",\"marker\":{\"colorbar\":{\"outlinewidth\":0,\"ticks\":\"\"}}}],\"bar\":[{\"error_x\":{\"color\":\"#2a3f5f\"},\"error_y\":{\"color\":\"#2a3f5f\"},\"marker\":{\"line\":{\"color\":\"white\",\"width\":0.5},\"pattern\":{\"fillmode\":\"overlay\",\"size\":10,\"solidity\":0.2}},\"type\":\"bar\"}],\"scattergeo\":[{\"type\":\"scattergeo\",\"marker\":{\"colorbar\":{\"outlinewidth\":0,\"ticks\":\"\"}}}],\"scatterpolar\":[{\"type\":\"scatterpolar\",\"marker\":{\"colorbar\":{\"outlinewidth\":0,\"ticks\":\"\"}}}],\"histogram\":[{\"marker\":{\"pattern\":{\"fillmode\":\"overlay\",\"size\":10,\"solidity\":0.2}},\"type\":\"histogram\"}],\"scattergl\":[{\"type\":\"scattergl\",\"marker\":{\"colorbar\":{\"outlinewidth\":0,\"ticks\":\"\"}}}],\"scatter3d\":[{\"type\":\"scatter3d\",\"line\":{\"colorbar\":{\"outlinewidth\":0,\"ticks\":\"\"}},\"marker\":{\"colorbar\":{\"outlinewidth\":0,\"ticks\":\"\"}}}],\"scattermapbox\":[{\"type\":\"scattermapbox\",\"marker\":{\"colorbar\":{\"outlinewidth\":0,\"ticks\":\"\"}}}],\"scatterternary\":[{\"type\":\"scatterternary\",\"marker\":{\"colorbar\":{\"outlinewidth\":0,\"ticks\":\"\"}}}],\"scattercarpet\":[{\"type\":\"scattercarpet\",\"marker\":{\"colorbar\":{\"outlinewidth\":0,\"ticks\":\"\"}}}],\"carpet\":[{\"aaxis\":{\"endlinecolor\":\"#2a3f5f\",\"gridcolor\":\"#C8D4E3\",\"linecolor\":\"#C8D4E3\",\"minorgridcolor\":\"#C8D4E3\",\"startlinecolor\":\"#2a3f5f\"},\"baxis\":{\"endlinecolor\":\"#2a3f5f\",\"gridcolor\":\"#C8D4E3\",\"linecolor\":\"#C8D4E3\",\"minorgridcolor\":\"#C8D4E3\",\"startlinecolor\":\"#2a3f5f\"},\"type\":\"carpet\"}],\"table\":[{\"cells\":{\"fill\":{\"color\":\"#EBF0F8\"},\"line\":{\"color\":\"white\"}},\"header\":{\"fill\":{\"color\":\"#C8D4E3\"},\"line\":{\"color\":\"white\"}},\"type\":\"table\"}],\"barpolar\":[{\"marker\":{\"line\":{\"color\":\"white\",\"width\":0.5},\"pattern\":{\"fillmode\":\"overlay\",\"size\":10,\"solidity\":0.2}},\"type\":\"barpolar\"}],\"pie\":[{\"automargin\":true,\"type\":\"pie\"}]},\"layout\":{\"autotypenumbers\":\"strict\",\"colorway\":[\"#636efa\",\"#EF553B\",\"#00cc96\",\"#ab63fa\",\"#FFA15A\",\"#19d3f3\",\"#FF6692\",\"#B6E880\",\"#FF97FF\",\"#FECB52\"],\"font\":{\"color\":\"#2a3f5f\"},\"hovermode\":\"closest\",\"hoverlabel\":{\"align\":\"left\"},\"paper_bgcolor\":\"white\",\"plot_bgcolor\":\"white\",\"polar\":{\"bgcolor\":\"white\",\"angularaxis\":{\"gridcolor\":\"#EBF0F8\",\"linecolor\":\"#EBF0F8\",\"ticks\":\"\"},\"radialaxis\":{\"gridcolor\":\"#EBF0F8\",\"linecolor\":\"#EBF0F8\",\"ticks\":\"\"}},\"ternary\":{\"bgcolor\":\"white\",\"aaxis\":{\"gridcolor\":\"#DFE8F3\",\"linecolor\":\"#A2B1C6\",\"ticks\":\"\"},\"baxis\":{\"gridcolor\":\"#DFE8F3\",\"linecolor\":\"#A2B1C6\",\"ticks\":\"\"},\"caxis\":{\"gridcolor\":\"#DFE8F3\",\"linecolor\":\"#A2B1C6\",\"ticks\":\"\"}},\"coloraxis\":{\"colorbar\":{\"outlinewidth\":0,\"ticks\":\"\"}},\"colorscale\":{\"sequential\":[[0.0,\"#0d0887\"],[0.1111111111111111,\"#46039f\"],[0.2222222222222222,\"#7201a8\"],[0.3333333333333333,\"#9c179e\"],[0.4444444444444444,\"#bd3786\"],[0.5555555555555556,\"#d8576b\"],[0.6666666666666666,\"#ed7953\"],[0.7777777777777778,\"#fb9f3a\"],[0.8888888888888888,\"#fdca26\"],[1.0,\"#f0f921\"]],\"sequentialminus\":[[0.0,\"#0d0887\"],[0.1111111111111111,\"#46039f\"],[0.2222222222222222,\"#7201a8\"],[0.3333333333333333,\"#9c179e\"],[0.4444444444444444,\"#bd3786\"],[0.5555555555555556,\"#d8576b\"],[0.6666666666666666,\"#ed7953\"],[0.7777777777777778,\"#fb9f3a\"],[0.8888888888888888,\"#fdca26\"],[1.0,\"#f0f921\"]],\"diverging\":[[0,\"#8e0152\"],[0.1,\"#c51b7d\"],[0.2,\"#de77ae\"],[0.3,\"#f1b6da\"],[0.4,\"#fde0ef\"],[0.5,\"#f7f7f7\"],[0.6,\"#e6f5d0\"],[0.7,\"#b8e186\"],[0.8,\"#7fbc41\"],[0.9,\"#4d9221\"],[1,\"#276419\"]]},\"xaxis\":{\"gridcolor\":\"#EBF0F8\",\"linecolor\":\"#EBF0F8\",\"ticks\":\"\",\"title\":{\"standoff\":15},\"zerolinecolor\":\"#EBF0F8\",\"automargin\":true,\"zerolinewidth\":2},\"yaxis\":{\"gridcolor\":\"#EBF0F8\",\"linecolor\":\"#EBF0F8\",\"ticks\":\"\",\"title\":{\"standoff\":15},\"zerolinecolor\":\"#EBF0F8\",\"automargin\":true,\"zerolinewidth\":2},\"scene\":{\"xaxis\":{\"backgroundcolor\":\"white\",\"gridcolor\":\"#DFE8F3\",\"linecolor\":\"#EBF0F8\",\"showbackground\":true,\"ticks\":\"\",\"zerolinecolor\":\"#EBF0F8\",\"gridwidth\":2},\"yaxis\":{\"backgroundcolor\":\"white\",\"gridcolor\":\"#DFE8F3\",\"linecolor\":\"#EBF0F8\",\"showbackground\":true,\"ticks\":\"\",\"zerolinecolor\":\"#EBF0F8\",\"gridwidth\":2},\"zaxis\":{\"backgroundcolor\":\"white\",\"gridcolor\":\"#DFE8F3\",\"linecolor\":\"#EBF0F8\",\"showbackground\":true,\"ticks\":\"\",\"zerolinecolor\":\"#EBF0F8\",\"gridwidth\":2}},\"shapedefaults\":{\"line\":{\"color\":\"#2a3f5f\"}},\"annotationdefaults\":{\"arrowcolor\":\"#2a3f5f\",\"arrowhead\":0,\"arrowwidth\":1},\"geo\":{\"bgcolor\":\"white\",\"landcolor\":\"white\",\"subunitcolor\":\"#C8D4E3\",\"showland\":true,\"showlakes\":true,\"lakecolor\":\"white\"},\"title\":{\"x\":0.05},\"mapbox\":{\"style\":\"light\"}}},\"legend\":{\"tracegroupgap\":0},\"title\":{\"text\":\"Engagement Sources\"},\"piecolorway\":[\"#FFB6C1\",\"#87CEFA\",\"#90EE90\",\"#FFDAB9\"]},                        {\"responsive\": true}                    ).then(function(){\n",
       "                            \n",
       "var gd = document.getElementById('946fda02-fcd6-4017-b10a-e631a3ab6b9c');\n",
       "var x = new MutationObserver(function (mutations, observer) {{\n",
       "        var display = window.getComputedStyle(gd).display;\n",
       "        if (!display || display === 'none') {{\n",
       "            console.log([gd, 'removed!']);\n",
       "            Plotly.purge(gd);\n",
       "            observer.disconnect();\n",
       "        }}\n",
       "}});\n",
       "\n",
       "// Listen for the removal of the full notebook cells\n",
       "var notebookContainer = gd.closest('#notebook-container');\n",
       "if (notebookContainer) {{\n",
       "    x.observe(notebookContainer, {childList: true});\n",
       "}}\n",
       "\n",
       "// Listen for the clearing of the current output cell\n",
       "var outputEl = gd.closest('.output');\n",
       "if (outputEl) {{\n",
       "    x.observe(outputEl, {childList: true});\n",
       "}}\n",
       "\n",
       "                        })                };                });            </script>        </div>"
      ]
     },
     "metadata": {},
     "output_type": "display_data"
    }
   ],
   "source": [
    "\n",
    "Like = df[\"Likes\"].sum()\n",
    "Save =df[\"Saves\"].sum()\n",
    "Share= df[\"Shares\"].sum()\n",
    "Comments = df[\"Comments\"].sum()\n",
    "colors = ['#FFB6C1', '#87CEFA', '#90EE90', '#FFDAB9']\n",
    "labels = ['Likes','Saves','Share','Comments']\n",
    "values = [Like,Save,Share,Comments]\n",
    "fig = px.pie(data, values=values, names=labels,title='Engagement Sources',color_discrete_sequence=colors)\n",
    "fig.show()"
   ]
  },
  {
   "cell_type": "markdown",
   "id": "95e3b207-bc07-456a-b9e6-73232b9516b4",
   "metadata": {},
   "source": [
    "Q.9: Have a look at the relationship between the number of profile visits and follows as shown\n",
    "below\n"
   ]
  },
  {
   "cell_type": "code",
   "execution_count": 20,
   "id": "ee00472b-5166-452a-8ccc-81ac16b07217",
   "metadata": {},
   "outputs": [
    {
     "data": {
      "application/vnd.plotly.v1+json": {
       "config": {
        "plotlyServerURL": "https://plot.ly"
       },
       "data": [
        {
         "hovertemplate": "Profile Visits=%{x}<br>Follows=%{marker.size}<extra></extra>",
         "legendgroup": "",
         "marker": {
          "color": "#636efa",
          "size": [
           2,
           10,
           12,
           8,
           0,
           2,
           0,
           6,
           4,
           6,
           4,
           0,
           2,
           4,
           42,
           6,
           2,
           2,
           30,
           0,
           0,
           24,
           100,
           2,
           4,
           6,
           6,
           6,
           2,
           2,
           20,
           2,
           4,
           8,
           26,
           2,
           2,
           4,
           0,
           2,
           94,
           8,
           18,
           10,
           4,
           4,
           4,
           4,
           18,
           38,
           10,
           12,
           4,
           4,
           74,
           0,
           6,
           6,
           0,
           6,
           12,
           10,
           8,
           8,
           46,
           12,
           10,
           94,
           6,
           10,
           6,
           4,
           12,
           16,
           12,
           8,
           32,
           8,
           16,
           6,
           10,
           10,
           6,
           2,
           2,
           30,
           0,
           4,
           4,
           18,
           38,
           10,
           2,
           4,
           6,
           6,
           6,
           2,
           2,
           14,
           8,
           14,
           28,
           18,
           12,
           34,
           26,
           260,
           16,
           96,
           20,
           30,
           58,
           100,
           80,
           18,
           10,
           214,
           228
          ],
          "sizemode": "area",
          "sizeref": 0.65,
          "symbol": "circle"
         },
         "mode": "markers",
         "name": "",
         "orientation": "v",
         "showlegend": false,
         "type": "scatter",
         "x": [
          35,
          48,
          62,
          23,
          8,
          9,
          26,
          12,
          36,
          31,
          29,
          15,
          8,
          20,
          181,
          17,
          16,
          21,
          77,
          10,
          9,
          11,
          144,
          14,
          10,
          19,
          69,
          11,
          19,
          9,
          57,
          13,
          11,
          24,
          81,
          4,
          7,
          14,
          18,
          8,
          330,
          21,
          19,
          32,
          19,
          21,
          14,
          30,
          39,
          42,
          31,
          20,
          12,
          22,
          306,
          13,
          26,
          16,
          15,
          15,
          39,
          21,
          8,
          45,
          50,
          37,
          25,
          347,
          26,
          48,
          16,
          26,
          17,
          52,
          22,
          41,
          155,
          12,
          22,
          20,
          23,
          25,
          17,
          16,
          21,
          77,
          10,
          14,
          30,
          39,
          42,
          31,
          14,
          10,
          19,
          69,
          11,
          19,
          9,
          38,
          42,
          92,
          75,
          21,
          26,
          39,
          74,
          467,
          24,
          70,
          22,
          46,
          61,
          237,
          73,
          20,
          34,
          148,
          611
         ],
         "xaxis": "x",
         "y": [
          2,
          10,
          12,
          8,
          0,
          2,
          0,
          6,
          4,
          6,
          4,
          0,
          2,
          4,
          42,
          6,
          2,
          2,
          30,
          0,
          0,
          24,
          100,
          2,
          4,
          6,
          6,
          6,
          2,
          2,
          20,
          2,
          4,
          8,
          26,
          2,
          2,
          4,
          0,
          2,
          94,
          8,
          18,
          10,
          4,
          4,
          4,
          4,
          18,
          38,
          10,
          12,
          4,
          4,
          74,
          0,
          6,
          6,
          0,
          6,
          12,
          10,
          8,
          8,
          46,
          12,
          10,
          94,
          6,
          10,
          6,
          4,
          12,
          16,
          12,
          8,
          32,
          8,
          16,
          6,
          10,
          10,
          6,
          2,
          2,
          30,
          0,
          4,
          4,
          18,
          38,
          10,
          2,
          4,
          6,
          6,
          6,
          2,
          2,
          14,
          8,
          14,
          28,
          18,
          12,
          34,
          26,
          260,
          16,
          96,
          20,
          30,
          58,
          100,
          80,
          18,
          10,
          214,
          228
         ],
         "yaxis": "y"
        },
        {
         "hovertemplate": "<b>OLS trendline</b><br>Follows = 0.400884 * Profile Visits + 0.46283<br>R<sup>2</sup>=0.727868<br><br>Profile Visits=%{x}<br>Follows=%{y} <b>(trend)</b><extra></extra>",
         "legendgroup": "",
         "marker": {
          "color": "#636efa",
          "symbol": "circle"
         },
         "mode": "lines",
         "name": "",
         "showlegend": false,
         "type": "scatter",
         "x": [
          4,
          7,
          8,
          8,
          8,
          8,
          9,
          9,
          9,
          9,
          10,
          10,
          10,
          10,
          11,
          11,
          11,
          11,
          12,
          12,
          12,
          13,
          13,
          14,
          14,
          14,
          14,
          14,
          15,
          15,
          15,
          16,
          16,
          16,
          16,
          17,
          17,
          17,
          18,
          19,
          19,
          19,
          19,
          19,
          19,
          20,
          20,
          20,
          20,
          21,
          21,
          21,
          21,
          21,
          21,
          22,
          22,
          22,
          22,
          23,
          23,
          24,
          24,
          25,
          25,
          26,
          26,
          26,
          26,
          26,
          29,
          30,
          30,
          31,
          31,
          31,
          32,
          34,
          35,
          36,
          37,
          38,
          39,
          39,
          39,
          39,
          41,
          42,
          42,
          42,
          45,
          46,
          48,
          48,
          50,
          52,
          57,
          61,
          62,
          69,
          69,
          70,
          73,
          74,
          75,
          77,
          77,
          81,
          92,
          144,
          148,
          155,
          181,
          237,
          306,
          330,
          347,
          467,
          611
         ],
         "xaxis": "x",
         "y": [
          2.066365070422533,
          3.269016056338026,
          3.669899718309857,
          3.669899718309857,
          3.669899718309857,
          3.669899718309857,
          4.0707833802816875,
          4.0707833802816875,
          4.0707833802816875,
          4.0707833802816875,
          4.471667042253519,
          4.471667042253519,
          4.471667042253519,
          4.471667042253519,
          4.87255070422535,
          4.87255070422535,
          4.87255070422535,
          4.87255070422535,
          5.273434366197181,
          5.273434366197181,
          5.273434366197181,
          5.6743180281690115,
          5.6743180281690115,
          6.075201690140843,
          6.075201690140843,
          6.075201690140843,
          6.075201690140843,
          6.075201690140843,
          6.476085352112674,
          6.476085352112674,
          6.476085352112674,
          6.876969014084505,
          6.876969014084505,
          6.876969014084505,
          6.876969014084505,
          7.277852676056336,
          7.277852676056336,
          7.277852676056336,
          7.678736338028167,
          8.079619999999998,
          8.079619999999998,
          8.079619999999998,
          8.079619999999998,
          8.079619999999998,
          8.079619999999998,
          8.480503661971829,
          8.480503661971829,
          8.480503661971829,
          8.480503661971829,
          8.88138732394366,
          8.88138732394366,
          8.88138732394366,
          8.88138732394366,
          8.88138732394366,
          8.88138732394366,
          9.282270985915492,
          9.282270985915492,
          9.282270985915492,
          9.282270985915492,
          9.683154647887322,
          9.683154647887322,
          10.084038309859153,
          10.084038309859153,
          10.484921971830984,
          10.484921971830984,
          10.885805633802814,
          10.885805633802814,
          10.885805633802814,
          10.885805633802814,
          10.885805633802814,
          12.088456619718308,
          12.48934028169014,
          12.48934028169014,
          12.89022394366197,
          12.89022394366197,
          12.89022394366197,
          13.291107605633801,
          14.092874929577462,
          14.493758591549295,
          14.894642253521125,
          15.295525915492956,
          15.696409577464788,
          16.097293239436617,
          16.097293239436617,
          16.097293239436617,
          16.097293239436617,
          16.89906056338028,
          17.29994422535211,
          17.29994422535211,
          17.29994422535211,
          18.502595211267604,
          18.903478873239436,
          19.705246197183097,
          19.705246197183097,
          20.50701352112676,
          21.30878084507042,
          23.313199154929578,
          24.9167338028169,
          25.317617464788732,
          28.123803098591548,
          28.123803098591548,
          28.52468676056338,
          29.727337746478874,
          30.128221408450703,
          30.529105070422535,
          31.330872394366196,
          31.330872394366196,
          32.934407042253525,
          37.34412732394367,
          58.19007774647888,
          59.79361239436619,
          62.59979802816902,
          73.02277323943662,
          95.47225830985916,
          123.13323098591549,
          132.75443887323945,
          139.56946112676056,
          187.6755005633803,
          245.40274788732395
         ],
         "yaxis": "y"
        }
       ],
       "layout": {
        "autosize": true,
        "legend": {
         "itemsizing": "constant",
         "tracegroupgap": 0
        },
        "template": {
         "data": {
          "bar": [
           {
            "error_x": {
             "color": "#2a3f5f"
            },
            "error_y": {
             "color": "#2a3f5f"
            },
            "marker": {
             "line": {
              "color": "white",
              "width": 0.5
             },
             "pattern": {
              "fillmode": "overlay",
              "size": 10,
              "solidity": 0.2
             }
            },
            "type": "bar"
           }
          ],
          "barpolar": [
           {
            "marker": {
             "line": {
              "color": "white",
              "width": 0.5
             },
             "pattern": {
              "fillmode": "overlay",
              "size": 10,
              "solidity": 0.2
             }
            },
            "type": "barpolar"
           }
          ],
          "carpet": [
           {
            "aaxis": {
             "endlinecolor": "#2a3f5f",
             "gridcolor": "#C8D4E3",
             "linecolor": "#C8D4E3",
             "minorgridcolor": "#C8D4E3",
             "startlinecolor": "#2a3f5f"
            },
            "baxis": {
             "endlinecolor": "#2a3f5f",
             "gridcolor": "#C8D4E3",
             "linecolor": "#C8D4E3",
             "minorgridcolor": "#C8D4E3",
             "startlinecolor": "#2a3f5f"
            },
            "type": "carpet"
           }
          ],
          "choropleth": [
           {
            "colorbar": {
             "outlinewidth": 0,
             "ticks": ""
            },
            "type": "choropleth"
           }
          ],
          "contour": [
           {
            "colorbar": {
             "outlinewidth": 0,
             "ticks": ""
            },
            "colorscale": [
             [
              0,
              "#0d0887"
             ],
             [
              0.1111111111111111,
              "#46039f"
             ],
             [
              0.2222222222222222,
              "#7201a8"
             ],
             [
              0.3333333333333333,
              "#9c179e"
             ],
             [
              0.4444444444444444,
              "#bd3786"
             ],
             [
              0.5555555555555556,
              "#d8576b"
             ],
             [
              0.6666666666666666,
              "#ed7953"
             ],
             [
              0.7777777777777778,
              "#fb9f3a"
             ],
             [
              0.8888888888888888,
              "#fdca26"
             ],
             [
              1,
              "#f0f921"
             ]
            ],
            "type": "contour"
           }
          ],
          "contourcarpet": [
           {
            "colorbar": {
             "outlinewidth": 0,
             "ticks": ""
            },
            "type": "contourcarpet"
           }
          ],
          "heatmap": [
           {
            "colorbar": {
             "outlinewidth": 0,
             "ticks": ""
            },
            "colorscale": [
             [
              0,
              "#0d0887"
             ],
             [
              0.1111111111111111,
              "#46039f"
             ],
             [
              0.2222222222222222,
              "#7201a8"
             ],
             [
              0.3333333333333333,
              "#9c179e"
             ],
             [
              0.4444444444444444,
              "#bd3786"
             ],
             [
              0.5555555555555556,
              "#d8576b"
             ],
             [
              0.6666666666666666,
              "#ed7953"
             ],
             [
              0.7777777777777778,
              "#fb9f3a"
             ],
             [
              0.8888888888888888,
              "#fdca26"
             ],
             [
              1,
              "#f0f921"
             ]
            ],
            "type": "heatmap"
           }
          ],
          "heatmapgl": [
           {
            "colorbar": {
             "outlinewidth": 0,
             "ticks": ""
            },
            "colorscale": [
             [
              0,
              "#0d0887"
             ],
             [
              0.1111111111111111,
              "#46039f"
             ],
             [
              0.2222222222222222,
              "#7201a8"
             ],
             [
              0.3333333333333333,
              "#9c179e"
             ],
             [
              0.4444444444444444,
              "#bd3786"
             ],
             [
              0.5555555555555556,
              "#d8576b"
             ],
             [
              0.6666666666666666,
              "#ed7953"
             ],
             [
              0.7777777777777778,
              "#fb9f3a"
             ],
             [
              0.8888888888888888,
              "#fdca26"
             ],
             [
              1,
              "#f0f921"
             ]
            ],
            "type": "heatmapgl"
           }
          ],
          "histogram": [
           {
            "marker": {
             "pattern": {
              "fillmode": "overlay",
              "size": 10,
              "solidity": 0.2
             }
            },
            "type": "histogram"
           }
          ],
          "histogram2d": [
           {
            "colorbar": {
             "outlinewidth": 0,
             "ticks": ""
            },
            "colorscale": [
             [
              0,
              "#0d0887"
             ],
             [
              0.1111111111111111,
              "#46039f"
             ],
             [
              0.2222222222222222,
              "#7201a8"
             ],
             [
              0.3333333333333333,
              "#9c179e"
             ],
             [
              0.4444444444444444,
              "#bd3786"
             ],
             [
              0.5555555555555556,
              "#d8576b"
             ],
             [
              0.6666666666666666,
              "#ed7953"
             ],
             [
              0.7777777777777778,
              "#fb9f3a"
             ],
             [
              0.8888888888888888,
              "#fdca26"
             ],
             [
              1,
              "#f0f921"
             ]
            ],
            "type": "histogram2d"
           }
          ],
          "histogram2dcontour": [
           {
            "colorbar": {
             "outlinewidth": 0,
             "ticks": ""
            },
            "colorscale": [
             [
              0,
              "#0d0887"
             ],
             [
              0.1111111111111111,
              "#46039f"
             ],
             [
              0.2222222222222222,
              "#7201a8"
             ],
             [
              0.3333333333333333,
              "#9c179e"
             ],
             [
              0.4444444444444444,
              "#bd3786"
             ],
             [
              0.5555555555555556,
              "#d8576b"
             ],
             [
              0.6666666666666666,
              "#ed7953"
             ],
             [
              0.7777777777777778,
              "#fb9f3a"
             ],
             [
              0.8888888888888888,
              "#fdca26"
             ],
             [
              1,
              "#f0f921"
             ]
            ],
            "type": "histogram2dcontour"
           }
          ],
          "mesh3d": [
           {
            "colorbar": {
             "outlinewidth": 0,
             "ticks": ""
            },
            "type": "mesh3d"
           }
          ],
          "parcoords": [
           {
            "line": {
             "colorbar": {
              "outlinewidth": 0,
              "ticks": ""
             }
            },
            "type": "parcoords"
           }
          ],
          "pie": [
           {
            "automargin": true,
            "type": "pie"
           }
          ],
          "scatter": [
           {
            "fillpattern": {
             "fillmode": "overlay",
             "size": 10,
             "solidity": 0.2
            },
            "type": "scatter"
           }
          ],
          "scatter3d": [
           {
            "line": {
             "colorbar": {
              "outlinewidth": 0,
              "ticks": ""
             }
            },
            "marker": {
             "colorbar": {
              "outlinewidth": 0,
              "ticks": ""
             }
            },
            "type": "scatter3d"
           }
          ],
          "scattercarpet": [
           {
            "marker": {
             "colorbar": {
              "outlinewidth": 0,
              "ticks": ""
             }
            },
            "type": "scattercarpet"
           }
          ],
          "scattergeo": [
           {
            "marker": {
             "colorbar": {
              "outlinewidth": 0,
              "ticks": ""
             }
            },
            "type": "scattergeo"
           }
          ],
          "scattergl": [
           {
            "marker": {
             "colorbar": {
              "outlinewidth": 0,
              "ticks": ""
             }
            },
            "type": "scattergl"
           }
          ],
          "scattermapbox": [
           {
            "marker": {
             "colorbar": {
              "outlinewidth": 0,
              "ticks": ""
             }
            },
            "type": "scattermapbox"
           }
          ],
          "scatterpolar": [
           {
            "marker": {
             "colorbar": {
              "outlinewidth": 0,
              "ticks": ""
             }
            },
            "type": "scatterpolar"
           }
          ],
          "scatterpolargl": [
           {
            "marker": {
             "colorbar": {
              "outlinewidth": 0,
              "ticks": ""
             }
            },
            "type": "scatterpolargl"
           }
          ],
          "scatterternary": [
           {
            "marker": {
             "colorbar": {
              "outlinewidth": 0,
              "ticks": ""
             }
            },
            "type": "scatterternary"
           }
          ],
          "surface": [
           {
            "colorbar": {
             "outlinewidth": 0,
             "ticks": ""
            },
            "colorscale": [
             [
              0,
              "#0d0887"
             ],
             [
              0.1111111111111111,
              "#46039f"
             ],
             [
              0.2222222222222222,
              "#7201a8"
             ],
             [
              0.3333333333333333,
              "#9c179e"
             ],
             [
              0.4444444444444444,
              "#bd3786"
             ],
             [
              0.5555555555555556,
              "#d8576b"
             ],
             [
              0.6666666666666666,
              "#ed7953"
             ],
             [
              0.7777777777777778,
              "#fb9f3a"
             ],
             [
              0.8888888888888888,
              "#fdca26"
             ],
             [
              1,
              "#f0f921"
             ]
            ],
            "type": "surface"
           }
          ],
          "table": [
           {
            "cells": {
             "fill": {
              "color": "#EBF0F8"
             },
             "line": {
              "color": "white"
             }
            },
            "header": {
             "fill": {
              "color": "#C8D4E3"
             },
             "line": {
              "color": "white"
             }
            },
            "type": "table"
           }
          ]
         },
         "layout": {
          "annotationdefaults": {
           "arrowcolor": "#2a3f5f",
           "arrowhead": 0,
           "arrowwidth": 1
          },
          "autotypenumbers": "strict",
          "coloraxis": {
           "colorbar": {
            "outlinewidth": 0,
            "ticks": ""
           }
          },
          "colorscale": {
           "diverging": [
            [
             0,
             "#8e0152"
            ],
            [
             0.1,
             "#c51b7d"
            ],
            [
             0.2,
             "#de77ae"
            ],
            [
             0.3,
             "#f1b6da"
            ],
            [
             0.4,
             "#fde0ef"
            ],
            [
             0.5,
             "#f7f7f7"
            ],
            [
             0.6,
             "#e6f5d0"
            ],
            [
             0.7,
             "#b8e186"
            ],
            [
             0.8,
             "#7fbc41"
            ],
            [
             0.9,
             "#4d9221"
            ],
            [
             1,
             "#276419"
            ]
           ],
           "sequential": [
            [
             0,
             "#0d0887"
            ],
            [
             0.1111111111111111,
             "#46039f"
            ],
            [
             0.2222222222222222,
             "#7201a8"
            ],
            [
             0.3333333333333333,
             "#9c179e"
            ],
            [
             0.4444444444444444,
             "#bd3786"
            ],
            [
             0.5555555555555556,
             "#d8576b"
            ],
            [
             0.6666666666666666,
             "#ed7953"
            ],
            [
             0.7777777777777778,
             "#fb9f3a"
            ],
            [
             0.8888888888888888,
             "#fdca26"
            ],
            [
             1,
             "#f0f921"
            ]
           ],
           "sequentialminus": [
            [
             0,
             "#0d0887"
            ],
            [
             0.1111111111111111,
             "#46039f"
            ],
            [
             0.2222222222222222,
             "#7201a8"
            ],
            [
             0.3333333333333333,
             "#9c179e"
            ],
            [
             0.4444444444444444,
             "#bd3786"
            ],
            [
             0.5555555555555556,
             "#d8576b"
            ],
            [
             0.6666666666666666,
             "#ed7953"
            ],
            [
             0.7777777777777778,
             "#fb9f3a"
            ],
            [
             0.8888888888888888,
             "#fdca26"
            ],
            [
             1,
             "#f0f921"
            ]
           ]
          },
          "colorway": [
           "#636efa",
           "#EF553B",
           "#00cc96",
           "#ab63fa",
           "#FFA15A",
           "#19d3f3",
           "#FF6692",
           "#B6E880",
           "#FF97FF",
           "#FECB52"
          ],
          "font": {
           "color": "#2a3f5f"
          },
          "geo": {
           "bgcolor": "white",
           "lakecolor": "white",
           "landcolor": "white",
           "showlakes": true,
           "showland": true,
           "subunitcolor": "#C8D4E3"
          },
          "hoverlabel": {
           "align": "left"
          },
          "hovermode": "closest",
          "mapbox": {
           "style": "light"
          },
          "paper_bgcolor": "white",
          "plot_bgcolor": "white",
          "polar": {
           "angularaxis": {
            "gridcolor": "#EBF0F8",
            "linecolor": "#EBF0F8",
            "ticks": ""
           },
           "bgcolor": "white",
           "radialaxis": {
            "gridcolor": "#EBF0F8",
            "linecolor": "#EBF0F8",
            "ticks": ""
           }
          },
          "scene": {
           "xaxis": {
            "backgroundcolor": "white",
            "gridcolor": "#DFE8F3",
            "gridwidth": 2,
            "linecolor": "#EBF0F8",
            "showbackground": true,
            "ticks": "",
            "zerolinecolor": "#EBF0F8"
           },
           "yaxis": {
            "backgroundcolor": "white",
            "gridcolor": "#DFE8F3",
            "gridwidth": 2,
            "linecolor": "#EBF0F8",
            "showbackground": true,
            "ticks": "",
            "zerolinecolor": "#EBF0F8"
           },
           "zaxis": {
            "backgroundcolor": "white",
            "gridcolor": "#DFE8F3",
            "gridwidth": 2,
            "linecolor": "#EBF0F8",
            "showbackground": true,
            "ticks": "",
            "zerolinecolor": "#EBF0F8"
           }
          },
          "shapedefaults": {
           "line": {
            "color": "#2a3f5f"
           }
          },
          "ternary": {
           "aaxis": {
            "gridcolor": "#DFE8F3",
            "linecolor": "#A2B1C6",
            "ticks": ""
           },
           "baxis": {
            "gridcolor": "#DFE8F3",
            "linecolor": "#A2B1C6",
            "ticks": ""
           },
           "bgcolor": "white",
           "caxis": {
            "gridcolor": "#DFE8F3",
            "linecolor": "#A2B1C6",
            "ticks": ""
           }
          },
          "title": {
           "x": 0.05
          },
          "xaxis": {
           "automargin": true,
           "gridcolor": "#EBF0F8",
           "linecolor": "#EBF0F8",
           "ticks": "",
           "title": {
            "standoff": 15
           },
           "zerolinecolor": "#EBF0F8",
           "zerolinewidth": 2
          },
          "yaxis": {
           "automargin": true,
           "gridcolor": "#EBF0F8",
           "linecolor": "#EBF0F8",
           "ticks": "",
           "title": {
            "standoff": 15
           },
           "zerolinecolor": "#EBF0F8",
           "zerolinewidth": 2
          }
         }
        },
        "title": {
         "text": "Profile Visits vs.Follows"
        },
        "xaxis": {
         "anchor": "y",
         "autorange": true,
         "domain": [
          0,
          1
         ],
         "range": [
          -32.633368655024746,
          656.2491016705401
         ],
         "title": {
          "text": "Profile Visits"
         },
         "type": "linear"
        },
        "yaxis": {
         "anchor": "x",
         "autorange": true,
         "domain": [
          0,
          1
         ],
         "range": [
          -21.789442351429294,
          305.05219292001016
         ],
         "title": {
          "text": "Follows"
         },
         "type": "linear"
        }
       }
      },
      "image/png": "[encoded data removed]",
      "text/html": [
       "<div>                            <div id=\"8e560599-d09c-423b-9e7f-33cf6678d4f3\" class=\"plotly-graph-div\" style=\"height:525px; width:100%;\"></div>            <script type=\"text/javascript\">                require([\"plotly\"], function(Plotly) {                    window.PLOTLYENV=window.PLOTLYENV || {};                                    if (document.getElementById(\"8e560599-d09c-423b-9e7f-33cf6678d4f3\")) {                    Plotly.newPlot(                        \"8e560599-d09c-423b-9e7f-33cf6678d4f3\",                        [{\"hovertemplate\":\"Profile Visits=%{x}\\u003cbr\\u003eFollows=%{marker.size}\\u003cextra\\u003e\\u003c\\u002fextra\\u003e\",\"legendgroup\":\"\",\"marker\":{\"color\":\"#636efa\",\"size\":[2,10,12,8,0,2,0,6,4,6,4,0,2,4,42,6,2,2,30,0,0,24,100,2,4,6,6,6,2,2,20,2,4,8,26,2,2,4,0,2,94,8,18,10,4,4,4,4,18,38,10,12,4,4,74,0,6,6,0,6,12,10,8,8,46,12,10,94,6,10,6,4,12,16,12,8,32,8,16,6,10,10,6,2,2,30,0,4,4,18,38,10,2,4,6,6,6,2,2,14,8,14,28,18,12,34,26,260,16,96,20,30,58,100,80,18,10,214,228],\"sizemode\":\"area\",\"sizeref\":0.65,\"symbol\":\"circle\"},\"mode\":\"markers\",\"name\":\"\",\"orientation\":\"v\",\"showlegend\":false,\"x\":[35,48,62,23,8,9,26,12,36,31,29,15,8,20,181,17,16,21,77,10,9,11,144,14,10,19,69,11,19,9,57,13,11,24,81,4,7,14,18,8,330,21,19,32,19,21,14,30,39,42,31,20,12,22,306,13,26,16,15,15,39,21,8,45,50,37,25,347,26,48,16,26,17,52,22,41,155,12,22,20,23,25,17,16,21,77,10,14,30,39,42,31,14,10,19,69,11,19,9,38,42,92,75,21,26,39,74,467,24,70,22,46,61,237,73,20,34,148,611],\"xaxis\":\"x\",\"y\":[2,10,12,8,0,2,0,6,4,6,4,0,2,4,42,6,2,2,30,0,0,24,100,2,4,6,6,6,2,2,20,2,4,8,26,2,2,4,0,2,94,8,18,10,4,4,4,4,18,38,10,12,4,4,74,0,6,6,0,6,12,10,8,8,46,12,10,94,6,10,6,4,12,16,12,8,32,8,16,6,10,10,6,2,2,30,0,4,4,18,38,10,2,4,6,6,6,2,2,14,8,14,28,18,12,34,26,260,16,96,20,30,58,100,80,18,10,214,228],\"yaxis\":\"y\",\"type\":\"scatter\"},{\"hovertemplate\":\"\\u003cb\\u003eOLS trendline\\u003c\\u002fb\\u003e\\u003cbr\\u003eFollows = 0.400884 * Profile Visits + 0.46283\\u003cbr\\u003eR\\u003csup\\u003e2\\u003c\\u002fsup\\u003e=0.727868\\u003cbr\\u003e\\u003cbr\\u003eProfile Visits=%{x}\\u003cbr\\u003eFollows=%{y} \\u003cb\\u003e(trend)\\u003c\\u002fb\\u003e\\u003cextra\\u003e\\u003c\\u002fextra\\u003e\",\"legendgroup\":\"\",\"marker\":{\"color\":\"#636efa\",\"symbol\":\"circle\"},\"mode\":\"lines\",\"name\":\"\",\"showlegend\":false,\"x\":[4,7,8,8,8,8,9,9,9,9,10,10,10,10,11,11,11,11,12,12,12,13,13,14,14,14,14,14,15,15,15,16,16,16,16,17,17,17,18,19,19,19,19,19,19,20,20,20,20,21,21,21,21,21,21,22,22,22,22,23,23,24,24,25,25,26,26,26,26,26,29,30,30,31,31,31,32,34,35,36,37,38,39,39,39,39,41,42,42,42,45,46,48,48,50,52,57,61,62,69,69,70,73,74,75,77,77,81,92,144,148,155,181,237,306,330,347,467,611],\"xaxis\":\"x\",\"y\":[2.066365070422533,3.269016056338026,3.669899718309857,3.669899718309857,3.669899718309857,3.669899718309857,4.0707833802816875,4.0707833802816875,4.0707833802816875,4.0707833802816875,4.471667042253519,4.471667042253519,4.471667042253519,4.471667042253519,4.87255070422535,4.87255070422535,4.87255070422535,4.87255070422535,5.273434366197181,5.273434366197181,5.273434366197181,5.6743180281690115,5.6743180281690115,6.075201690140843,6.075201690140843,6.075201690140843,6.075201690140843,6.075201690140843,6.476085352112674,6.476085352112674,6.476085352112674,6.876969014084505,6.876969014084505,6.876969014084505,6.876969014084505,7.277852676056336,7.277852676056336,7.277852676056336,7.678736338028167,8.079619999999998,8.079619999999998,8.079619999999998,8.079619999999998,8.079619999999998,8.079619999999998,8.480503661971829,8.480503661971829,8.480503661971829,8.480503661971829,8.88138732394366,8.88138732394366,8.88138732394366,8.88138732394366,8.88138732394366,8.88138732394366,9.282270985915492,9.282270985915492,9.282270985915492,9.282270985915492,9.683154647887322,9.683154647887322,10.084038309859153,10.084038309859153,10.484921971830984,10.484921971830984,10.885805633802814,10.885805633802814,10.885805633802814,10.885805633802814,10.885805633802814,12.088456619718308,12.48934028169014,12.48934028169014,12.89022394366197,12.89022394366197,12.89022394366197,13.291107605633801,14.092874929577462,14.493758591549295,14.894642253521125,15.295525915492956,15.696409577464788,16.097293239436617,16.097293239436617,16.097293239436617,16.097293239436617,16.89906056338028,17.29994422535211,17.29994422535211,17.29994422535211,18.502595211267604,18.903478873239436,19.705246197183097,19.705246197183097,20.50701352112676,21.30878084507042,23.313199154929578,24.9167338028169,25.317617464788732,28.123803098591548,28.123803098591548,28.52468676056338,29.727337746478874,30.128221408450703,30.529105070422535,31.330872394366196,31.330872394366196,32.934407042253525,37.34412732394367,58.19007774647888,59.79361239436619,62.59979802816902,73.02277323943662,95.47225830985916,123.13323098591549,132.75443887323945,139.56946112676056,187.6755005633803,245.40274788732395],\"yaxis\":\"y\",\"type\":\"scatter\"}],                        {\"template\":{\"data\":{\"histogram2dcontour\":[{\"type\":\"histogram2dcontour\",\"colorbar\":{\"outlinewidth\":0,\"ticks\":\"\"},\"colorscale\":[[0.0,\"#0d0887\"],[0.1111111111111111,\"#46039f\"],[0.2222222222222222,\"#7201a8\"],[0.3333333333333333,\"#9c179e\"],[0.4444444444444444,\"#bd3786\"],[0.5555555555555556,\"#d8576b\"],[0.6666666666666666,\"#ed7953\"],[0.7777777777777778,\"#fb9f3a\"],[0.8888888888888888,\"#fdca26\"],[1.0,\"#f0f921\"]]}],\"choropleth\":[{\"type\":\"choropleth\",\"colorbar\":{\"outlinewidth\":0,\"ticks\":\"\"}}],\"histogram2d\":[{\"type\":\"histogram2d\",\"colorbar\":{\"outlinewidth\":0,\"ticks\":\"\"},\"colorscale\":[[0.0,\"#0d0887\"],[0.1111111111111111,\"#46039f\"],[0.2222222222222222,\"#7201a8\"],[0.3333333333333333,\"#9c179e\"],[0.4444444444444444,\"#bd3786\"],[0.5555555555555556,\"#d8576b\"],[0.6666666666666666,\"#ed7953\"],[0.7777777777777778,\"#fb9f3a\"],[0.8888888888888888,\"#fdca26\"],[1.0,\"#f0f921\"]]}],\"heatmap\":[{\"type\":\"heatmap\",\"colorbar\":{\"outlinewidth\":0,\"ticks\":\"\"},\"colorscale\":[[0.0,\"#0d0887\"],[0.1111111111111111,\"#46039f\"],[0.2222222222222222,\"#7201a8\"],[0.3333333333333333,\"#9c179e\"],[0.4444444444444444,\"#bd3786\"],[0.5555555555555556,\"#d8576b\"],[0.6666666666666666,\"#ed7953\"],[0.7777777777777778,\"#fb9f3a\"],[0.8888888888888888,\"#fdca26\"],[1.0,\"#f0f921\"]]}],\"heatmapgl\":[{\"type\":\"heatmapgl\",\"colorbar\":{\"outlinewidth\":0,\"ticks\":\"\"},\"colorscale\":[[0.0,\"#0d0887\"],[0.1111111111111111,\"#46039f\"],[0.2222222222222222,\"#7201a8\"],[0.3333333333333333,\"#9c179e\"],[0.4444444444444444,\"#bd3786\"],[0.5555555555555556,\"#d8576b\"],[0.6666666666666666,\"#ed7953\"],[0.7777777777777778,\"#fb9f3a\"],[0.8888888888888888,\"#fdca26\"],[1.0,\"#f0f921\"]]}],\"contourcarpet\":[{\"type\":\"contourcarpet\",\"colorbar\":{\"outlinewidth\":0,\"ticks\":\"\"}}],\"contour\":[{\"type\":\"contour\",\"colorbar\":{\"outlinewidth\":0,\"ticks\":\"\"},\"colorscale\":[[0.0,\"#0d0887\"],[0.1111111111111111,\"#46039f\"],[0.2222222222222222,\"#7201a8\"],[0.3333333333333333,\"#9c179e\"],[0.4444444444444444,\"#bd3786\"],[0.5555555555555556,\"#d8576b\"],[0.6666666666666666,\"#ed7953\"],[0.7777777777777778,\"#fb9f3a\"],[0.8888888888888888,\"#fdca26\"],[1.0,\"#f0f921\"]]}],\"surface\":[{\"type\":\"surface\",\"colorbar\":{\"outlinewidth\":0,\"ticks\":\"\"},\"colorscale\":[[0.0,\"#0d0887\"],[0.1111111111111111,\"#46039f\"],[0.2222222222222222,\"#7201a8\"],[0.3333333333333333,\"#9c179e\"],[0.4444444444444444,\"#bd3786\"],[0.5555555555555556,\"#d8576b\"],[0.6666666666666666,\"#ed7953\"],[0.7777777777777778,\"#fb9f3a\"],[0.8888888888888888,\"#fdca26\"],[1.0,\"#f0f921\"]]}],\"mesh3d\":[{\"type\":\"mesh3d\",\"colorbar\":{\"outlinewidth\":0,\"ticks\":\"\"}}],\"scatter\":[{\"fillpattern\":{\"fillmode\":\"overlay\",\"size\":10,\"solidity\":0.2},\"type\":\"scatter\"}],\"parcoords\":[{\"type\":\"parcoords\",\"line\":{\"colorbar\":{\"outlinewidth\":0,\"ticks\":\"\"}}}],\"scatterpolargl\":[{\"type\":\"scatterpolargl\",\"marker\":{\"colorbar\":{\"outlinewidth\":0,\"ticks\":\"\"}}}],\"bar\":[{\"error_x\":{\"color\":\"#2a3f5f\"},\"error_y\":{\"color\":\"#2a3f5f\"},\"marker\":{\"line\":{\"color\":\"white\",\"width\":0.5},\"pattern\":{\"fillmode\":\"overlay\",\"size\":10,\"solidity\":0.2}},\"type\":\"bar\"}],\"scattergeo\":[{\"type\":\"scattergeo\",\"marker\":{\"colorbar\":{\"outlinewidth\":0,\"ticks\":\"\"}}}],\"scatterpolar\":[{\"type\":\"scatterpolar\",\"marker\":{\"colorbar\":{\"outlinewidth\":0,\"ticks\":\"\"}}}],\"histogram\":[{\"marker\":{\"pattern\":{\"fillmode\":\"overlay\",\"size\":10,\"solidity\":0.2}},\"type\":\"histogram\"}],\"scattergl\":[{\"type\":\"scattergl\",\"marker\":{\"colorbar\":{\"outlinewidth\":0,\"ticks\":\"\"}}}],\"scatter3d\":[{\"type\":\"scatter3d\",\"line\":{\"colorbar\":{\"outlinewidth\":0,\"ticks\":\"\"}},\"marker\":{\"colorbar\":{\"outlinewidth\":0,\"ticks\":\"\"}}}],\"scattermapbox\":[{\"type\":\"scattermapbox\",\"marker\":{\"colorbar\":{\"outlinewidth\":0,\"ticks\":\"\"}}}],\"scatterternary\":[{\"type\":\"scatterternary\",\"marker\":{\"colorbar\":{\"outlinewidth\":0,\"ticks\":\"\"}}}],\"scattercarpet\":[{\"type\":\"scattercarpet\",\"marker\":{\"colorbar\":{\"outlinewidth\":0,\"ticks\":\"\"}}}],\"carpet\":[{\"aaxis\":{\"endlinecolor\":\"#2a3f5f\",\"gridcolor\":\"#C8D4E3\",\"linecolor\":\"#C8D4E3\",\"minorgridcolor\":\"#C8D4E3\",\"startlinecolor\":\"#2a3f5f\"},\"baxis\":{\"endlinecolor\":\"#2a3f5f\",\"gridcolor\":\"#C8D4E3\",\"linecolor\":\"#C8D4E3\",\"minorgridcolor\":\"#C8D4E3\",\"startlinecolor\":\"#2a3f5f\"},\"type\":\"carpet\"}],\"table\":[{\"cells\":{\"fill\":{\"color\":\"#EBF0F8\"},\"line\":{\"color\":\"white\"}},\"header\":{\"fill\":{\"color\":\"#C8D4E3\"},\"line\":{\"color\":\"white\"}},\"type\":\"table\"}],\"barpolar\":[{\"marker\":{\"line\":{\"color\":\"white\",\"width\":0.5},\"pattern\":{\"fillmode\":\"overlay\",\"size\":10,\"solidity\":0.2}},\"type\":\"barpolar\"}],\"pie\":[{\"automargin\":true,\"type\":\"pie\"}]},\"layout\":{\"autotypenumbers\":\"strict\",\"colorway\":[\"#636efa\",\"#EF553B\",\"#00cc96\",\"#ab63fa\",\"#FFA15A\",\"#19d3f3\",\"#FF6692\",\"#B6E880\",\"#FF97FF\",\"#FECB52\"],\"font\":{\"color\":\"#2a3f5f\"},\"hovermode\":\"closest\",\"hoverlabel\":{\"align\":\"left\"},\"paper_bgcolor\":\"white\",\"plot_bgcolor\":\"white\",\"polar\":{\"bgcolor\":\"white\",\"angularaxis\":{\"gridcolor\":\"#EBF0F8\",\"linecolor\":\"#EBF0F8\",\"ticks\":\"\"},\"radialaxis\":{\"gridcolor\":\"#EBF0F8\",\"linecolor\":\"#EBF0F8\",\"ticks\":\"\"}},\"ternary\":{\"bgcolor\":\"white\",\"aaxis\":{\"gridcolor\":\"#DFE8F3\",\"linecolor\":\"#A2B1C6\",\"ticks\":\"\"},\"baxis\":{\"gridcolor\":\"#DFE8F3\",\"linecolor\":\"#A2B1C6\",\"ticks\":\"\"},\"caxis\":{\"gridcolor\":\"#DFE8F3\",\"linecolor\":\"#A2B1C6\",\"ticks\":\"\"}},\"coloraxis\":{\"colorbar\":{\"outlinewidth\":0,\"ticks\":\"\"}},\"colorscale\":{\"sequential\":[[0.0,\"#0d0887\"],[0.1111111111111111,\"#46039f\"],[0.2222222222222222,\"#7201a8\"],[0.3333333333333333,\"#9c179e\"],[0.4444444444444444,\"#bd3786\"],[0.5555555555555556,\"#d8576b\"],[0.6666666666666666,\"#ed7953\"],[0.7777777777777778,\"#fb9f3a\"],[0.8888888888888888,\"#fdca26\"],[1.0,\"#f0f921\"]],\"sequentialminus\":[[0.0,\"#0d0887\"],[0.1111111111111111,\"#46039f\"],[0.2222222222222222,\"#7201a8\"],[0.3333333333333333,\"#9c179e\"],[0.4444444444444444,\"#bd3786\"],[0.5555555555555556,\"#d8576b\"],[0.6666666666666666,\"#ed7953\"],[0.7777777777777778,\"#fb9f3a\"],[0.8888888888888888,\"#fdca26\"],[1.0,\"#f0f921\"]],\"diverging\":[[0,\"#8e0152\"],[0.1,\"#c51b7d\"],[0.2,\"#de77ae\"],[0.3,\"#f1b6da\"],[0.4,\"#fde0ef\"],[0.5,\"#f7f7f7\"],[0.6,\"#e6f5d0\"],[0.7,\"#b8e186\"],[0.8,\"#7fbc41\"],[0.9,\"#4d9221\"],[1,\"#276419\"]]},\"xaxis\":{\"gridcolor\":\"#EBF0F8\",\"linecolor\":\"#EBF0F8\",\"ticks\":\"\",\"title\":{\"standoff\":15},\"zerolinecolor\":\"#EBF0F8\",\"automargin\":true,\"zerolinewidth\":2},\"yaxis\":{\"gridcolor\":\"#EBF0F8\",\"linecolor\":\"#EBF0F8\",\"ticks\":\"\",\"title\":{\"standoff\":15},\"zerolinecolor\":\"#EBF0F8\",\"automargin\":true,\"zerolinewidth\":2},\"scene\":{\"xaxis\":{\"backgroundcolor\":\"white\",\"gridcolor\":\"#DFE8F3\",\"linecolor\":\"#EBF0F8\",\"showbackground\":true,\"ticks\":\"\",\"zerolinecolor\":\"#EBF0F8\",\"gridwidth\":2},\"yaxis\":{\"backgroundcolor\":\"white\",\"gridcolor\":\"#DFE8F3\",\"linecolor\":\"#EBF0F8\",\"showbackground\":true,\"ticks\":\"\",\"zerolinecolor\":\"#EBF0F8\",\"gridwidth\":2},\"zaxis\":{\"backgroundcolor\":\"white\",\"gridcolor\":\"#DFE8F3\",\"linecolor\":\"#EBF0F8\",\"showbackground\":true,\"ticks\":\"\",\"zerolinecolor\":\"#EBF0F8\",\"gridwidth\":2}},\"shapedefaults\":{\"line\":{\"color\":\"#2a3f5f\"}},\"annotationdefaults\":{\"arrowcolor\":\"#2a3f5f\",\"arrowhead\":0,\"arrowwidth\":1},\"geo\":{\"bgcolor\":\"white\",\"landcolor\":\"white\",\"subunitcolor\":\"#C8D4E3\",\"showland\":true,\"showlakes\":true,\"lakecolor\":\"white\"},\"title\":{\"x\":0.05},\"mapbox\":{\"style\":\"light\"}}},\"xaxis\":{\"anchor\":\"y\",\"domain\":[0.0,1.0],\"title\":{\"text\":\"Profile Visits\"}},\"yaxis\":{\"anchor\":\"x\",\"domain\":[0.0,1.0],\"title\":{\"text\":\"Follows\"}},\"legend\":{\"tracegroupgap\":0,\"itemsizing\":\"constant\"},\"title\":{\"text\":\"Profile Visits vs.Follows\"}},                        {\"responsive\": true}                    ).then(function(){\n",
       "                            \n",
       "var gd = document.getElementById('8e560599-d09c-423b-9e7f-33cf6678d4f3');\n",
       "var x = new MutationObserver(function (mutations, observer) {{\n",
       "        var display = window.getComputedStyle(gd).display;\n",
       "        if (!display || display === 'none') {{\n",
       "            console.log([gd, 'removed!']);\n",
       "            Plotly.purge(gd);\n",
       "            observer.disconnect();\n",
       "        }}\n",
       "}});\n",
       "\n",
       "// Listen for the removal of the full notebook cells\n",
       "var notebookContainer = gd.closest('#notebook-container');\n",
       "if (notebookContainer) {{\n",
       "    x.observe(notebookContainer, {childList: true});\n",
       "}}\n",
       "\n",
       "// Listen for the clearing of the current output cell\n",
       "var outputEl = gd.closest('.output');\n",
       "if (outputEl) {{\n",
       "    x.observe(outputEl, {childList: true});\n",
       "}}\n",
       "\n",
       "                        })                };                });            </script>        </div>"
      ]
     },
     "metadata": {},
     "output_type": "display_data"
    }
   ],
   "source": [
    "figure=px.scatter(data_frame=data,x=\"Profile Visits\",y=\"Follows\",size=\"Follows\",trendline=\"ols\",title=\"Profile Visits vs.Follows\")\n",
    "figure.show()"
   ]
  },
  {
   "cell_type": "markdown",
   "id": "f730bf83-8ca1-4c11-a857-65551ee82d60",
   "metadata": {},
   "source": [
    "Q.10: Have a look at the type of hashtags used in the posts using a wordcloud as shown below"
   ]
  },
  {
   "cell_type": "code",
   "execution_count": 54,
   "id": "6a3c8e34-bac8-4089-8301-735210abd13d",
   "metadata": {},
   "outputs": [
    {
     "data": {
      "application/vnd.plotly.v1+json": {
       "config": {
        "plotlyServerURL": "https://plot.ly"
       },
       "data": [
        {
         "hovertemplate": "x: %{x}<br>y: %{y}<br>color: [%{z[0]}, %{z[1]}, %{z[2]}]<extra></extra>",
         "name": "0",
         "source": "data:image/png;base64,iVBORw0KGgoAAAANSUhEUgAAAZAAAADICAIAAABJdyC1AACr/klEQVR4Xuydd2DcxpXwHzqw2N7ZOyWRVO+S1WzLknt3Ysd2HCd24rRL4u9SLnGaL+XSLrmS3u7SLnHvcdyLbHXJ6hJFib0st1d0fH9gCYLYQlLNkqzfH+TgvTdv3szuDgaDwQDgAhe4wAUucI5SYZ1pPGRwu/HQpD0XQXAUwVCzdCKTGuiUspxKKYVMJdekBmcGKuAoJbHOrJyoKac6taA4imKIWTpNULxkC5f3r2nL25wkuFnwHsZJV9oIH4WzLOH2MDVJPqSAUmeffzyxXVUVTcLirhrbnJQYFmVOk6igWAlPnB/CEMJJV6aE0Rg3YHZ9doBSBGYhEQy1z66JvHGYCjqE0STG0nKGx+2MkuMJlxUQBLfRdKUzsbNbVVQAkNMc4WL5UBIACBcLAHJWwCyklMhSAYetozqxs1vhRcJlFcIpzEJKyRzusACAfXZN9M3DuMMipTjMQspZAbczcprDLKTRXkzkqKBDGE2dZGxnALY1yNR60wcHMQsZuGbh0CNbVUl2zKvLHB1RZUWTyCmObQ6mDw0WGusqusrlXNSYOjgAAJqNlRJpOxnuSrJemksKAMClRIuTysZ5q4dORziLk+KSAuMkhYzEeun4QEbXSoIMAEJGIlkcxdDaRd4jLw+SLC5yssQrCApWD82nRdZLJ4eyJItnIjwAEDRGsriQkRgnSVpwvXQhKy25vWnTLw+zXjrak3ZWWXJxQc+r+e96Y5j10qlQjrTgtI2g7eTQgZjFSQFA7SJv7/awbhPvzzgqLYmhrMVJ8RmRtOCZCO+ssiRHchYnlQrlJrTvFLjQYY3jpqqPJbY2OpbgKMlJGRdd3Z3ckeJH00LYQQU1iaxKfak9jY4lEa5Xk0RyvThKS4pY5ehIC2E7GThrOyym2uW/fN7x//qHqqredbNwG6NKssyJKIFnjg7nejm2OSAmsqCqpNfmWtYCCNCVzvSRYVWQtE7BvbKVrnSGX9rvv3xepmskc2RIswy/vJ9tDrgvapWSHO5gqICj5xcvq6pacfNSKuAYeXKH//J52eOjmaPDjkvbpSRntFcEEbcxyXd6TjK2M4ECuJVWOIEfjmePhXLdo2xrhRBJ2zpqhh/bpkkAACGwosa6yr1yxuDfNgMA2xzUbGy1FlVRFUUNznJSVtxVw3Ip0VnJHt8ckgS5o7nGWckO7Y8NH4yHU6ngLOfM9ZW61uqlXTXsvqf75t1Y//y331EV1V1nnXdj/eC+GJ8ScQqTBLl7y2hwlhMnUc0GADSb0c7k8ME4ZSP00ocPxEKdSS1dM98ztD+WifLGvLrlzEsrc3Eh1p9RFXXZXS3OSvbF7+9RFTUVyuk2lbNdjIMkGMxZycYHMrm4oMjq0P6Ybs9nJEP7Tk7Jsd97EF7JVlnbURR30VUESqmgqKpC4haWcOsSDMGrbB28ktUlCIKISs5NV6eEURwl4/yg2e9Zg62jRuFFpsZjqfOqsqJIsioruI2WOSF9eIj0WJlaDzcYo4JOPpTkBmNiNM0NxPmRhKXBr3nQJJofRZB0Sy2vlhZGk7HNR0mP1VLn1dKavVZKob0WycnHdgZAMERK5mwdNaqsEC6WqfHYOqpxKw2KqkuYGg/b6Gebg4XGuirXF6m4YYl1RoVuE+tNO6tYm4/2NtjSYS7Wm0kO5zpfG4ocT/lbHFpayEqD+2KajVGr2dcs8Eqc7Gmw+ZrsWnp4f9xVY9VstFyaXKuLltZ8GkvPxYVMhNfSkqDocqN/TZIYzMb6MlpeLR6rn/E12Y02qqzKoqJpNXvNZ75GuXwwFzhBEMhfe08vgeT7fV1ylmKIzndpR+Dq+bidAaQg5kklY0cIWmCpYbRHJmmV8UgKJZNGUlRyOhmfQdPLLUyMUcR4DL3pdJvCxtQkxr+ltAAwoZERAICG5X5/ix3K2owfFfjXKJ53IuZIDMy+unbh+xoZJ2nUlrG/wAUucIELTAGypsosmiYIjuNup1l6SiH8PrPoNINZWcyZv2eE+7woTU3UTxUExy1zO3Cfx6y4wAXOX07jHJZt3UUmiWXBHECnUSJCEpjdZpaeUnCv2yyayHRjnhSiupJubtDSlrntmNs1UT9VVFlWFdkyu82seJfY/E5gwxW0WVrAKW3LKdHYhL+xPbC3K/ja1lMw27V4GfnMy76CK7wT5zxrt1Jxnqp2O/V3CVHW4rxqgxxPAABms9ovWY2yluQrmxAcs1+6hvD7uM5jUmhUl8uxmPPqjaAq6c07hP5B59UbEILgjnRxBw/b160SQ6N8dx9K0/YN6xAMy2zdSQR8uNeDuZ3ZHe9wncd0e77zmNEGc7twlzP15hY5kbCtWYHSNH+8h+s85rhsHQCkN22RkynryqVE0J87cNjoXxgY0n3KiaQeszg4NB5n3/h9QGMd6dZGwueRInGEodKvv63LyQq/HrOWi6ypIioCAGBdtgihyOyOd8ShkfE2McSM2axC/xAR8MnptNA3aF+7UrMRB4fkWILwefVITgAEQVVVBVDNitPG0y/5rl4/Kk/v1tBJcaxLWrVo5JobmPu/eGpOfpKoqmeuwfKcK+1WJs5T0m4l+sOTwLp0UXrzttTrbyE4LqfSqdff4jqPWea2C7394uBw4h+v8F3HjXLUYkEZOvGPV4W+AaZ9phQKxx55Krf3gCrJmR27tUtCdvliOZ7gDnU6NlyMuZx8T1/s4afYpQuN9mabY92xx562X3wRgmGE3xd79Onsrr32tStTr78de/xZ+/q1So5LvviadkYw5jX6NMZsjNNYX2NdiIpgevMOVZJQijLKjTEDAFEZtMyfndm2CwByBw5rcqO9MWbM5aIa6zCng6qvlRNJ3cYYw4mBYoS3cjZJWUnKarEF7O56FCNIyqppcYKxWP0oRpC0XdNOyHxCBIJYY9OpP0eeSbZtFq7dEDZLTzPnSruVifNUtdup77AQilQ5XuEFUBR2yQLLgrlKLodoI8WxDtYolyLR+JN/d1y2lpnVitK0nM4YvWmgDKVwvCpJiedfBgA5mVJFERDEaG+yUQVRlWQEwwBAG+4BAEKSKseBomhyHWNecwxjMRvjHNdOrAtIoirLqiCY5YaYAQCz2zBbvl/Q5Wb7sZhVQQAEAVVVZYVdPH9Ce54c/uoFJGUjaFvtjPUUbUdRnLH6ames17SqqlidVcHaxS5fq6admBsIAnnw3xw7DwY37Qx86B6W4/INNXc+8Zs/urfsCew4EPzTI55Z7QQAUBTy6LPe51/3AcCezor9xyv2H6/QPoSi9mXkm3YGNl5J/+Uxz56jwX+84b/8qvz1VCn7oixeRr7TGbTZxi9Rvvdj5/d+7AQAFIX7v2R7fZt/z9HgK2/7P/PP+fFFRRWmCbftD+q5ytiX4rxstzJxlmo3AFiynPzTI57dR4I7DwYfftrr8aAwWXuegu+9ieyuPY7LL3VsvFgVRZBl3Ocla6tVVQEAoXfAdcOVVGO9UU5UBtkViwHDAUFy+w+yi+c7r9rAzGnHfV7riiVUSxPTMSuzeQfd2kQ1NZimtIz2JhvryqXu912f3b3PaJ9+a6vzmo2um67O7NxjlBvzGn2CIWZjnMa8pjpOLgfgDnWmN21xXnXZBGkJeykcAQAxNIqgyIR2C/jYZYvoGS1M2wyj/dRRVRkjGIe7QZaFXCZCs24trWlJ2s5Y/aqq4KRF007MDR+5j71oNXX7zZEbrwzPW0j6A/lzQDyuPv1E7rqN4ctWhfp65H/9ngMAeF694YrwB98fAYA5LUPtDUPtDUOyXNK+jBwAvvEdxy/+K716cehvf85+50dOtwctb1/Its3C0IB8+dX5tRQkiVx8Gf3o37IAcPV1zMYrmTvfF71oQegzn4htfTvfIEMD8urFoU9/NKY70ShlX4rzst3KxFmq3Wrr8d/80b15k3D5utENa0K//Gk6ElFg+u15KkBR/VeN4BPGMgieP1Eb5QiOGSfrTMMfnanItbT90jVEwFd8AhBBjHLfh28f1xT4yaeNMRfzaaqjTil5KaZiPxWbaYAgML6qypA2on2UBfOlL27yf/DDrJauqMIO9VYUTh7PX0juO1ahZ527gDjUW4GZx2rjmOyLyjftDHzxq/kHPFEU9h2rWLaCNBpDMT/X3MCYJo/vuc/6p0c8Wvri9fRLb/k1+/ffbnnhTb/ej5hYewllGimUty/kfG03KBtnYbt9/duOP/wt78dI+fYs5vvkUcbHCKo0YTGrKuWn44xys43WMxcwFbmWlkJh7Zp03EhHVbWrPKZtBj2zRZtIymsK/OTTxWI2Ml15KaZiPxWbaWCcBS01I6rJJ2oxHCoqsa6j+ZYZGpB5Pm/g8aAf+7R1+UqKtSIoCjgOKAZFZ2E1StmXkgNA5+G8O0WBXE612tAyfkrx6EPZf/pnW00t1tcrb7ySfuyhnFbFJx7NrbmYenGT74W/c7//VWbvO6I550SmZX8et9t0aWrBd+0oMnoq355FxgvnAdk9+/U5IBNV1RgAXHEtkztwOPbo09k9+80WJbjiWgYA5sw3n5Smgl6oWXEugyATOjFp7Hv1n79y1dbhH749um5Z6DP3xcctSlDKvpQcALhckZ9IGfuiRMLKqy9x197IEASy9lLq8YezmjyXVe+7O3br9RGeU//ymPfeT+RnG0sxXfvztd2mC4pC0bvT5dvz9Iywzg6uuIZhrUjnYcntQV/+B3fpRnpoQL7tLvb3v0zXN+I332Y5ekRSFGiZgR/cL9Y14CyLHD0iRSPKRWup3TsEHEc0FUEgM2YRXh8aCGLts4k9u4QrrmU0Y1mGlhl4Lqc++0T+ufMTK7SiEtNyEQTU1OHHjkqqmrfBMEQrYnRE1lSJuLJ0BXVwv9jcijuc6MiwTNOIljjWKc1bRB7aL+J43s/uYiexk0eWYGhQbmrGN73OA4DHi7JWBAAoCpm/kPzwB6IjwzIA1DdOGNhr520MReSxr2op+1LyUkzXXuPhv2Q//4B97zviwX1Sf9+Eoev+veK//L/EpteFb33f8cv/ThtVRZmi/fndboVxlqGrU+qYW3KCv1R7np8jLI2KKuyhP2cXLiFVFRYtJTEMOXRQPHxA7DwsKTI89Ofs7LnEvIXkw3/JLltJ1dbhmuTSjfSffpfZv0fUVQuXkH/9Y4bj1JFhmSAAAHTjhiac49RkYvza88QK1XMFK7HtW4TdOwTdRi9CV7FWJDQiL1xCkiSSTqmMBdETl1/DpFNKxxxCN9YDO+U88tfsXfewbR2EP4D985ft2jU0z6uRsLJ0BUkQSMcc4qMTT499vbIkwRVX0xYWCVZgZexLyUsxXXuNN17jLRbk1jtYbbpd4+L19OJlpMuNejzovIVEX+8k1+DTtT9f2w2KxVmG//l1Zsky6qOftPoDmMeLXnIZrd18LN+e53OHxVqR62+xRCPK6y9zd3/M+soLnCyB1481NOHZTL6LGQ3J19zAjAzLuuR4l/TBe6yz55G6KhpRrr3JQtNIQxM+s51o6yB043RKqazChgfH2/TECtVzAYAm1G2MRWiqBYspuwOVZVAUUBQV1PHEoQMiy6La1IDu/DTx659lNm/i//Sw57HnvPv2iHt25zvHL34uvvFKeuehwDe/6/jyPycEYfxkm4grX/+XxGc+b3trZ+AXv3eVty8lL0Up+2//wPHWrsC3f+AMBLEdB4KvbvEvWZ6/rpdlePRvuUVLyeef43Q/Ljf6re85Xtns//vr/qZm/LOfiGnyL3/DvmlX4D9/6bLZkJ0Hg69t9a+9mCpjX4rztd2gRJyl2q3rqPSxD0UvuYx+cZPvhTf8H7mPxXAEpt+epwYEQfU9DN4t7rib1e7pNTTht96Zvy9TeJevUKLfIdRVhTYaH/u0bVY78ZGPj5+XTqxQPZcRTVJYhK4qSolbqRcozv1fsn3zuw6z9AKTcba0G4pgDG5HEYzGrThKUrjVSnq0vZ9Ywk1iFhKzFGoxhCAxiybR0jRurbDOwlESQVDNp+ZBS59MWRPjLYe2zAQAKquwMr/wk4GikOZW3Hgf98QK1XMVUljE6QNBMQRBtb9m3buBFkb5YE4sWpJEWCuybAW5dV+gocTi7JPE3TjfeEha3cbDMpCsIzB7nVk6xtT9nA7OQLuVx1xkgG1RVMlKehnckZMSgpzLinFtLYCdChAoZSGcosKZtCzpqrbN4eW0IOcS/FC1bc6B8IsAaoBtERUeQ3BFlSK5XjsVsFN+RZVyUvKEy5oQblm0KywAGByYZFphUlAcBRUU2XyRxfPq0SOSUXJiheq5oKCswiJODIygMJySRA7DKZyyYJQlFx1UVQUQBKcsEp/FcApBUVugKTXSZQs0xfr2YTilyAKGUyKfoaxuMZvU7DGckoQsZXXzmRhBsbLIYwQlCTmcskhcBiMZiUuTVpeQTRAUK/IZkrYJXIqkbZLIEYxNzCZ0n3wmpsoSipMYnt+1QpZ4vVxboCnWv99dNzc5eFiLXJZ4LVoEQVVV0WOOHN85sbqTsHQF+V+/csWiyje/kjzedQqa14jVX8+4KwnGRjv8tormbHRAVWT/rItG9r2qKoomkfmclqCsbpSguPiIxGU0SSbUo33PnbUd8d59zrrZQibOOAOZ0R6UoDQ/udiwudQzwmltt6lg7rAyYtRvacpJyZQQxlGSlzJZKe5hajkpbSU9SX5YBVVRJZPWinhlVcxJST6/j7DIEm4r6R1KH/Ja6qO5Xr+lKS1EraRnJHPEb2kayRw94bJg2ttATxucxgkLIXESwRJCSiAsBIIhwQXBvjf6ZEFGUITxMEJaYDxMejDNeJj0UBoAnA1O0k7Gj8UZDyMkBQAQ0gLloPgEz3iYXCRHOSghJVAOSsyKWl5dK/MyAIhZUS+r97VeLQZTiZnhDGEhctFpt0Jg5iqJz6bDPf7mpbG+faqqOms7xFyKtnkz0X6cYv3NS7u3PgqqKmQToKq03edvXirkkhKfVWQRJxmRz4i5lMRn/M1L05E+nGRQnKKsLi45KoscAJKJ9ruqO2SJRxA0E+2vaFtAWV3JoU5FFq0YochicriTdVdTtXN0nyOH3gQAraxsfJi2ecLHd+rlqorsqZ9HMHZnTYcWeTY+nIn2u+vmqrKcSwy7a+doMZtrOxlvvMrPbTldv3lrsHF4z8vBORdjBCVmk9ZAY2j/a9noYC42zHprNEl66KiWQDF8aPcL/vbVmZHjmiQT6hnzpFqDjQiKgqpiFCOLPJ+KaH6MxZ1JTmu7TQVzh5XkQyl+VAUVAUQdG84MiPtUUDujb+pmhVpdFcnlm7sz+qaHqYtku1NCWPOpeUjxo5rBiZWly08f9lp763Wt2dEsn+BH9422Xte6+XubVVWtW1cnpAWMwmReHto25Jnhcbe6ZV7WOiyL36Iqqiqrnhke0kraqm1CSrBWWge3Dsq87GpyWSut4QPhyOGIcFzwzPDUX1yvay1ei63a1vVcl16WFkN4f9hUIkZimo056MngMzExl7L5G2RZ5FJhe7BFVRV7oDGXHM2EewMzL5JlkXb4GWdA+4vTrCyLWi6CtqqKjCCoPdAocmlZFlVFVhVZyMZz8SHGWYGRjJBNZMK9rLsKpywSl6asbk3LZ2Ku6vZY/35XdXsuEWIc/lxyVPepPb+vRSXmknpaK5dk7ACqMXJZ4jPhXmfVLEnJMM6gHrM24DLX+V1CzKU9LYtRjLAGGiQhB6qiKoo24NIlekIWeS2XLmFcQcZVaXFXJfoONl36oa6X/8firpS4jC3YFD22S/PDJUITy3yvYFiEf4ExZt0yiw2ysc5YLpJz1DvYINv5ZGfjxsbj/zhetbxqaNtQzeqa7he6Gy9v7Hm5p2Z1zTu/fgcArJXWysWVI7tHGi9vjByMaOMmIS2kh9I1q2syQxkhLRAWouu5Lkedo/HyxlRfStfGOmOMh0FxVC+Li3JskD369FFTiZp8+39sNwc9VZD8ZbW2fnF8FeOYfJxxibdxEUpQ0e7dkpAFFQBUo8RTNy/Ss3t8mIMgoKr5HsRYysQVk+Me+MzE0gsj0SiUF0rOGvTKTiWhM1FCO/y2ypbRg5sAAEFRVXtyozDXBd7rGLtxQ7pyaaWr2QUwYTvqUmmjpNQm1mZ5QblFSjT7uMB5C2l1gf6c3gUKIX22qluWmKWlKXyXpAnd4XQ9nz5sMyvMogtc4ALnCDgA+NbNwixktjuc3D+gjTa962biFirTHU7tH9DsdBsxmXPMq80cDamSXHHdgoGHttFBR3Rzl3tZk5wV6EpntjcipTjNJnVwUHMojKa0BFPj1lR00KE5VGXF0uBVOEnOCZqf3EBMswFV1VTZvoi9rSrTFSL9Ni0wFEO1skAFS7030xWSM7xzcUPqwKCqKJqxIsqWOk/q4CBmobSEzInW1mDq0JBeHb300VcOjrfKBS5wgbMSFADoSufwM+9YZ4xv/kD57cPPvOPoqNYlug1mIYVI2j67OnNsNNMVynaH6UonANBVLtJnS+zpTx0Y1G307Dq6SnfI1HoUXpLSnO5Ht9FV3rUzpQxvbQ3qgell2dorR57b45hf67modejxnekjw7oxqCpupeWcqCeEcBrBJ1RZL8IU59lA4HP3+T56p1l67lDxL5+xX7LKLH0vcU58gghF1f38+9bli8yKsxIUAORc/uEAS73X0uhjm/y4hfJvmC3Exx8U0m3sHdW4lVYVRZUVws0yNW4pxfkv68BZCgAUTjDa6A71hK7SHcoZngo4+NGU7mfcZkyV7RrFLGTywIAxMK0sMZLxX9ouhNPZvkjlTYusMyt0Y8BQMZmzz6nWE0yNm23yW1sChaVrh+8KKGshqi5cqE6Js7Otzs6o3kNUXr+w3GyfripM6BRKdCaqaj6wnG32V79/6QQVgphU2qxz8cDGJPrM9HhCf0ul/krLiUwo/V3CdvEq9wduNEvPkfPzGaZUW727lIrqnPgEz70RViGjrxwsd+tUVxUmdAolOhNVAw9tUyVl4KFtE1SqalKpigqlAhuTaDYTEmPrxfWEiQmlv0swba1m0QVKcHa21dkZ1ZQp+EGdxZgXjmqIhovB040iSNnusFkKAMVUpzywwiKmS/CfP5HdcwDBcdua5ShDc4eORv70iLZ9IFERqPza/wv9929ze8dn9P2f/DDK0MPf/28A8H3sg3RLI8paAMC2aplm0PPxL+h7paqy7Lj8Etua5ajFIgwOxx5+ij96fMwT0LNanddsIKsrFY7P7twTf+wZhcuvQgx87j7u4BFQVduaFShrzlsmZo2af39w9Bf/i7udjssvwVxOORYb+cmvpHBU05YpF8Hx2v/4lv5wdnbX3tFf/K+W1iCrKpw3XkU3N6iynNt7IPq3JxXDKz8QknBeud6ycA7mdKo8Lw6NhH/zZykWhym0FT2j2Xn1ZURVBYIiUiSWfnt78oXX8n7LUqY1ztpPEMq2VXnPAGCZP9t53eW4xyUOjsQefso0CCj/Gb27FO+wLjAtHJet5Y50hX/7F5ShXTdf7fvoHcP/9l8AIA6N8F3d1pVL9K87ylroWS2x/3tcO4z99QlAEf+n7xF6+uNPPJd3Z9jZmWmfiXvckT89ogqi85oN/vvuGvjydxSOAwB6RnPgUx9Ov7Ut/tizqI11XXc5WfXh4R/9XM9uv3S1GApH/lwkL5SOWcd+8UqEIKJ/e0LJcXRzgxSJafLy5aqS1PPxLyAEgdKU7+N3GR0CAO71BP754/yRY6Gf/g6lSOcNV/o/9sHhH/w0r0ZR/6c+QlZVJJ55ke/pQxmabm6QxrrR8m2F2W3+T344/eaW2KPPIARB1lYpmWmc20q1xtn7CZZtq/KeyaoK3713ZLbtjv7pEczt9Nx5i5ZLY5LP6N3mXO2wnJWW+OBUv5FVc1wDe/K/t6lTqoiOK6r2PZtf7aGhKmr4N3/Wtn5XBcH/qY9QTfV8VzcApN7Y7L3zFsxuk5MpAGAXzQVVzYy9TjV/PpQVhef1HsEIgmOh//6tdn6L/l+24sufJeuqucNHAcB5zQb+WE/kjw9rluLwaOUDn7PM68iOvRAIIYlSeaFszBp4wD/4jR9oX3HjiX3ScgFAFUVZFFXR/Pi3Y+M6leNHf/kHrVw5nQn+8yfoWS3cwU4AsMxpo1saQ//1m9y+Q5q9cVxTvq1wnwch8NSbW8SBIQDQqzlFyrTG2fkJlm+r8p5tl6yS4onw7/6SH1hJsvcjH9Dzlv+MTgBtL41T9eDU2dJhuevY5pX+/ndiKIb4W+zDhxKBGXbGQaZGOFVVKRYPHU0xTvLIq8Ota4OpELfktoa3f38UJdCaee7hQwkUQ9w17OixlCKpviZb/zsxFVTNYWqUq2xzDOyJBWc5NGNHBUNZ8FBXKhPlNRtFUTVV3678VU9Fm9NUhG7sqbMuvKku1JXSjcX+Af1FFdyRLgAgqyu1r3t2xx7llmvZpQu0yxN28fzcngNKdqqPLgs9/fpoXPs9YA4bACA4RjXUxp98XrcUB4bkWIKe2ax/3UvlzduXjjkv3H/YOFLQmEq5ZaBnNHOHu/RyhZ5+UFWypkr7MdCtjUqO03+B00Lo6RdHRgP/dE/q5TfSb++QE0mzRVnKtMbZ+QmWaatJPZM1lfyRY/ploPFDh8k+Ix0CpUic5cQkjlEEShMoHeMGAABDCAwlFVXEUFKSeQwlUQRxMTWjmS5ZlRBAKIyVFJ7E2ZyYoDBW27hl6pwtHdasSyo2/fYoACy/s+nt/+1aeXezkJX4tERYMMZObPrt0ZV3N8uiAgDuWvboGyMjhxOho6lLP9sW6kxWtjtzcaFnRyTam6mY5aDthJCT5lxVrTkEAIxAAaBjY5VmTLH46784suyORoxANRvdj94HjRxOmIrAybxx80X+HQ/3LLujUTc2fn1VUVJFUX9PqiqKmS07rSuXJF94DXc7qab60M9+rxtPSpHXyiIIACA0DSgqT7zqkdMZzJrfMlA7NCgBIJ9Xo0zMGkWyT63cMqCshV26gF26wCjEHPYxLTvdjkZHlaTh7/yHff1q28WrnNdszGzbFX3oqanPvJRpjbPzEyzTVpN6xmxWPjM+ZFZyEzrf8p+RjrYHlIepl1WBk9J698eSrmr7HF5KCwqX4Aar7XMOjL4IqhpgW0WFwxBcUeVIrsdOBeykX1Hlc7XDCh9PL7+zqXdXNBXm5lxdnRzhKBbXbvZRLD7vutpMVFAVde61NbQVV2TV6qW9DdbhwwnaRvTtjnrrrUJWAgAUR7MxoW6hR3fIp8XgDEfFLIduXDvfbSpUV+nxFBZh89GasVaQEYShx9MEjhCEdvmgkXpzi23dSqqhjmppkNPZomfFkhTeEgUAADXHgaKYugnMyvLHe8aPS+TVKB9zKaZUbmmUbI47eCTx95eNQjmV/1kqOc70otxpoXBc/Kl/JJ59ybJoruvGq3z33D7y778wG5WgfGuchZ9gmbaa1LOcyqAso6u0OwY65T8jHQq3WgkPJ6cIlI6KfR6mTtv3yUVXy6qUk5K8rO00JbGkvtNUQzTX42eb02LESnhGMkf8bPNIZnpXmmdLh3X4lWEERVRFHdgb0xK6auntje882adJdNVLPzmoKmr4eFqTDO6La8YDe2NDB+KKPMH48a/sAoChgwmj8eY/HNNtCguFgiKMxnp2DaquBsFxbRRNz2gGAKF/UNeKA0P88R528VyysT67bVfhdZYiCChJmITlUWWZ6zzOdMxMPPeSJiGqKjCXgz/SNdGwJOVjLsVJlssdPkrV1wj9Q0V/ilznMdvaFfTMFu5QyS/xpG2lynJmy07Myjqvu9ysK0351jgLP8EybTWpZ6F/kJ7RBGO7PlANdXpemOwz0skIUW0PKG33pwFxrybvSezUbSKQ7yI7o296LPWRbHdKGC2609TUQc2Cdw+9vzB1HPueHShUFSZ0tN4KiqnKSKaiKrTRQHDM99E76Vktlnkd7ttu5Lu6+WMTRhzpN7Ywczuouur05h1GuYZwvJeZ3WaZ10HWVdOzWszqEsSf/DtZX+O542a6tcmyYI7/Y3cK3X2ZnfnvzaRMGnMpTqbcxLMvYk6H72MfZDpmUo117KK53g+9Xz/D53bvE7r7fPfcbluzgmqqZ9pnOK+73HQxUqqtLPM6XDdcycxpo+prLPM6rBct5Y6Mn1EmZdLWONs+wfJtVd5z6uU3cJfTe9f76dZGdsl8x1XrjV1w+c+oEG2vOuOOeEXReiuYaDlprkLOlhFWGTLR8fUjZyeZnXvlWNx7920oTXEHOyN/esRssH236+ZrxOGQ0NtvUgFA/Ol/YHar585bAEHEkdHhqd2O4bu6Qz/5pfO6K/yf/ojK8dnd+2KPPlN48i/FpDGX4mTKlSKxoX/7T9e1l3vvvg0hCTme5A51qqKoaVVZHvnxL53XbLBvXIc77Eo2x/f267O/GqXaSo4nyPpa64rFCEMryXRu/6HY42OLDKbApK1xtn2C5duqvGehb3D01390XXu5ZeFccXA48oeHjCsbyn9GFzjnCf7zJ4x3hYuC4FjNj77p2LjOrHiXmErMJ0/gc/f57r3DLD37mEprnG2f4HuWM31J2NyCL1hM2u1oYzPu9aJeL0qSSCCIkSRSVY1paYZBKioxzcaoLe9hYjlnmPG7b0WxLJiDkGT6re1mxbvJJDGfPJjdOpWJ/LODSVrjrPwES6JtVOde22ZWTMbUs0xaBOm1BW/KL/2fCuyMSrOoGGf6kjAQxBQVZEVt7yBsNqS2Hk8mlKoa7K03BJ5Xr70Br6rB9u0R9+8Vk0mpvYPYeAWtawf65TIevvONZDo97Uvi0wpK00TQhzkdrhuvSr/+1rnz6z1x2CXzpWgcFMWyYA4R8EX/8pjZ4pzi7P8E3WvaMAuZ6w7jDia+udO1opUPJf1XLxx5dCtd5fZdPi/XE1YVlanz5o6FqCoXxpC5nrAUz9oXNWYODgCGaioEx5gGH+GyWpoC1lnV2WMj6QP5i98TKyJ9oF+bttcdSsmcbW5dtmsEJTCqwsX1hcmAQzMWRhJsSzBzeNC9tk2TqLLC1PsUXoy+esBY3zM9wurplqprMH8Aa2rBQyGlp1saGpJfeYE/1iXNnIVr6WxG3bNb1GyM2vIestmzq7cCANzn9v/TvZ47b8ntOxR77Fmz+nzEtnZl4FMfCXz2o/TM5vBv/jzdFednG2f/J0j67KPP7bZ2VAOAraMGMDR3PJQ7Hsr1jKqKOvrcbra1wjqrKvz8O7a5dVSFS5M4V7aGntye6RzSVdaO6tFndymC6F7dJmd5tmV8t5wTK0LPrjvELKQYSdk6akifPbWvN31wQDcWIikExwBAl9A1HoWX5FT+STKdSUbCpwMUNU8sahLj31Jao6TQ5gIXeK9RdecafigGAJGX9jZ/9aaj33pUFeXqD60Lv7jHsbBx5PFtgesWi/GM9q4w3GHRJPxwnKpwpQ/0UxVOTYXgmKqqVMDJDUQwls52DmWODJ1MEcldx4M3Lx95dCtd69EcWttr5DSHWWkpkU3uOi7GMoHrFmvGiR3HKm5ePvLkdltHTT7CkQRT44lv6cz1hI31vQAAQPtHHnQ0zzVLCyncius0Q7n8bR/6+pz7vt/2oa+ZdWUoEae1qmnGB75wBs5SZ0l7nrL6lohz2v5L+DkZAtcu1tzSNR7/VWPL0wsLKpAYXmtiToyrAOAkitApUtZkVNy60tIUCN6y3CQ/05eE5zQzb/sCMvXXz58K+FjowO++3vfy/5kVZSkXpyLD9Be/nCbKxXmqOBX1LRfndPyX83OiRF7br00VKbwUemZXXlq45rNAMr6oUFeNJUzrDU+4CJ0iZU3GyCNbVEkeeWSLSX6mJ93PXQjWQbn8ZunZR5k40wNdh//yA7P0XaJMnKeKU1LfMnFOy38ZPyeDNLZDnBBKTNScMs5AEYUoglT0YvA92mEhGFa95kZny3xFFEI7X1al/Lo4S6AuuHSjxV+DoFguMjjw2qO58ACC4S03fZpyBQBg9n3f0yz3/vTzqqoUtS/lBwDa7/7GwOuPeueusfirxXRi6O1n4kd3l7EvirWqqfGaj+7/zVdlIT8lWbv+AwDQ9/JfS8VJ2lzNN/0TTlsUWdr3y38Z8wQAYK1qDi67nPFVg6pwsdDxp34l5dKAIBXLr3TNWITTFjGbih3eMby53JTz6W7PMvEUjb9Mff0L1nnnrMIoS260f+DNx3OhfijxuZSJs6T/YnGW8TOe8QKnG22bm5MHQTEEQbW/Zt1pI7B4/awPPsD4qgmrs37jB+d+4ofanAvl9LlnLSasTpyx1lx6a+stn9OzWIJ1cz/5I9OQvpR9KXn73d/o+Mi/2uvbcJr1L7h49sf+DWesZew1XDMWmuawZt7+JU97fpELguEd937bWp1/IqRonBr2+raOe79tlFAO75z7vh9cupG0uQjW7miao8ldMxbNuvPLlNOHUYwlWGeraTXmKuR0t2epeErFr1FYX3fb0hkf+ALjq8Jp1r/wkvaPPIjTLJT+XKBEnBqF/kvFCWX9TAuk7JRZee15wIk3n6dxIWlxoDiFYgSC4aTVhZEM7fBjBEVY7AiGkxaHJi/UMs6A1d+g2RC01d0wT/ur2SAoRtt9mjbvDUEpm0eTmOM4IdyzloZ3v5Yb7RfT8cFNT+pzgXx8NHpwm5iOS7l0dP/btLcCyn4DStmXkgNA9NC2ZPcBicuEdr2CoCjtqShvX5TogS2umYu1tK12hsxl0/0nsoDAN39tZrh7eMvfhVRMzCQTXXs0OUqQAKCIvMznssM9qb4jE7IVcLrbs1Q8peIvhX/BxSPbXsiNDkhcJrTjJQQQe31+6WPRz2W6lIrzZEAAseAODMEpjMUQPGhpoTALjeX701JaDMFpzDbR0/nAiV8SEha7o7pNkQQxl8JpVpXF5FAn66mm6uZIfBanWNLqSg51qrKIYIRJy6XCoKoV7etIq6tv25OqqgrZhKqqoCqsp9rqrcMoBsMp0uoS0lGJz6qKnIn0V7Qv0Oxl0bw6Y1ogKErYnFwspB0KqZgq5x/CwhlrYNF6a00LRtKAIAiKFe7iYKSUfSk5AHDR4XxmVVUkESPpMn4MRU0gemhbcNnlpN0jJCPO5nmxQ9umPvVrhHYHMkPdZilA7PB2e92sWXd+JXFs7+iu17KhXrOFgTPQnqXiKRV/URAMoxzeustur7vsdl1I2FxaoujnMl1KxXkyVLHtSWHEy9bLqogCiqJ4NdvB4PZD8dclRSilTQgjSWGUk8+6la4nyYl3WACAU4yoSLZgY6xnr7OmPZcI0Q4/lxgVcynSImZjQ0Im5qxpj/ftN2n5VNhe0SJk4tnYkDbgoh1+xhnIRgdoh59LhFRF1rQYQYm5FGGxUVa3JpGlU/AsNAKI8ReuyrKWqL/iQ7LAHXviF2ImwVbUN9/4ad2mKKXsS8kBQBEFPa1Txr4oUjaV7D7gmrkotONFe33bkb/+0GwxRUpchiuicPyZ3zD+au/si5pv+tTwlr+HduT3KinK6W7PkvGUiL8ECCBw7KlfpfsNDyePTSQV/VymS8k4TwIFJAa3q6AQKC0qHIVQOTmZEsOyIpbR4giZEMa64POIE++whva+BAgCqqr9zcYGQVUHdv193MIgL9SOHt2q59Xk+l9v0yJQId5/QBKy+n1QBEFVVcmXeHKoiiKkYpQrkOo9DAC4xYaSFAAgGM5W1Gu/FgCgnL4J2bSVqQgKkP+Kl7IvJS/FdO01oge2VK68JjfSmxsdEJLRcUVBnGXgoiOMv8YsHSMX6u976f9SvYdrLnlfmR/e6W5PncJ4ysdvQpUlPh5mvJWpnoNmXRkK4pyUwjgBTsSPxmDmkLbnVOHfSbXnH9M6QRWg9R3Gv0amrp1IuGt76PAmic8YtflbKsXsT4Dowa2+eWsYXzXB2itXXK05V2VJyqatVc0Ihln8Nf6Flxqz8MmIqsjOlnkoQRFWZxn7UvJSTNdeI9VzCCVIz+yV0YNbjfLCOMsQ3v2atarJv+hSgrXjFpujoUO7FLI3tFurmnCaxRkrG6wXEhFzzomc1vaE0vGUir8UI9te8M9fZ29oxyiGdHg8Hcu1WacyFMZZhlJxwjT9mDDuOVW4/1Sh/F3srXCH07l6nVnocmsJuqZuombanPgI65wmtPNl0u5uvuGTisiPbH+RdHg1ee+Lf6lafb1v/jouOtT30v81XXefnkXmsv2vPlyx7IrqtTcJibC2AKeUfSl5KUrZ11zyfnt9G0YxCIrNvvc7spDrfeHP6YGjAKCqSvTgVu/c1T1//1+jq6JxVq263tk6HyMZBMNmf/Q7ssD1v/JQsvsAFxs5/vRvgks3BhdfpipyLjyUGToOADhj9V90LcE6VEXOjvT2PP8HYxGFnO72LBVPqfhL1Td2eDtKEJUrryHtbpnLZoaOxw5tH4uoOEXjLOW/VJyl/JyjED4/09QsDA7gLg9KUcLIsJzNaBKut0ezYds6Mgf2se2zpXjMsWJV/PVXlVyWqq7m+noIr8/SOpPr7QYA0h/genvE8KjR/wXOTypWXFW97maz9Iww48bP2WtmmqWnn+ar72O8VWbpmeXdqrsJZ9PcGTd+bt693z+ZBjmx9qSqa9m2Dufqda6L1wOA46LVugQAtL9sWzvT0GSdPRdBUcdFq7WMWsK55uK8n6pqx8rVuN2uHU6Fk7skvMC7AYLhKElZq1s87ctHd79mVp8dMN4qZ+Mcs/SkOfrUz8osqT1LOE11NxHveufwIz8SM0mzYjqcWHsy9Q0ow4CqKEL+DpguIQNBMlhBVVZlDh10rl6XObhfVRTcZid8fsLnpyqqqKpqcTTkXLWGqqkFFJWzGbqhaaL7crxHLwnPaaxVzQ1X3i3l0gOvPcKPLSY440wyS+Ks75BPxX23s5L3ct0BAOJvvma8/ZV483WA/E02AAj97c8AQPj82SMHtV2bI39/Jq966C8AwA/06/urCAP96nQ2WpnQYVEY2+HfsGPoUaNwUhpdS6ttc7YPPZQV42bd9JnpWdubfCcrxsyKU4fP0uSgA0ejbxmFUy/3Xa9vqvfQnp993iwtgMZtTa5l+0dfMCuKYSGck1aHDdTXrLkZI6jUQKf+ZfXMXBqYfzGKE4osD29/PnpkO2l11qy5hQ3Uq7LknbUUAA7+9XuqqhRaAoDFX1uz6kacsSIoFj/2Tv+bjwEASlCVS6901LUhGC4L3JHHfiLzOUddW3DRBsZdcfSpn6WHj2ulUw5vzUU3Uk6fqsihPa+H92/CKGbmTfeP7n3D07Ycp5jIwS2DW58t5bMwu+a2kNNR90JhqeALLQ2hjeOoawssXH/k0Z9ohzWrbpRy6aHtzxdt5KLtWdSyOIW3vyZKVElMbB77iRUaj3VS0+qtzFAYu7DiBrN0CswNXGUhnGbp2YrP0tTsXmGWTodzq76TQmHsLG9+WqEUCIK2f+ABV9M8AGAD9fM/+kNtHodyeLWnW2hXYM6HvqXb16271T93wt2iopYN6z/obV8JAAiGU3aPJqxdc0v9+jtRnAQA0ppf2Kkx65bPW4MN+QMEmXnT/RZfNQBgFNP+gQdYfx1GMfM/9qPgwvUAQFjsc+7+NuX0Q1GfxbLnPU/kNNW9UFgq+EJLnfYPPGCYhELa3v9FrUYIhs++60GtpkUbWWNCe5a1PEvIj7A6fBtwlBSUnHbY6l7FEA4cJQ5H3kgLYeMhSzgrrLNkVWJw24HwS2nBfMPblHeO/woUwUjMciD8YlqILKy4IcENWwhnjOvnpEyVrV0BmcHtR6ObIrneeueiWvvcncNPpIWwz9Jk1EZzfR3+jQggXkt9KNO1b/R5Y6FtvkslmWdJNy+lCYx5Z+RpU7mVtrYK60xFlUezx3gp66Kr5gSunEq5kVyvqUbGcuFM1Xc022VqdqPnvuSeNt+lBEpjCH4o8lpWjDW7ljOEg8EdWwf/WhiksTUS3HCTa7mN8s72Xx7KHB3JdLZ5LyEwBkOIY/HNcS6/ixtpc+EMG+vaDQCZkW4+mW8H2un3z10LCAIqYBSDoGipc2ZRy8ihLTWrb7L4qqOHt6WHjmmW9rq2rmd+qUgCAAjpkmNPyuZmPJWNGz88LnH6uEQIAEb3vgEAYjbJJ8Mk6+DjoUKfRbNnQvmbXEZOU90LhZpxYfCFliUKUkN7Xve2r+x99a/O+o5sqFeradFGLsrULc8A3tr5kpATsnFXZdvg4Ve1tTI4ALjoKgDYPfKUm6ltcC5y0pU4Sr4z8rSFcM30rDkW32o8HEjtU1R5b+g5OxVodC3bM/KMsQxT3p3Dj+8JPQsAAbYlwLakhYiFcB4Mv6xdffgsTQiC7Bl+xkp6m1zLIrne7vh2Gzm+XNCozYhxAqV3Dj/W7FqeFqO6Td4SkKH0wRb3Rd2J7bO8lwCAsVxBztba520Z+Iu2PsVnaZIUYc/IlMqVVclUI90Mzmx9Tc1u9Bxgm0WZOzD6IkM4Znku3jn82NHY2xhKLAzeUBjkvtHnja0BAN2JbZXWtgPh/BJHN1OzdfBvgpzVDouiqioA4DRbf9ldhx/6ARcP4Yx19ge/abYbo5Rlsu/Qgf/7rqO+vWLplWI63v3iHwAAmfI2b6oi7//jg8ZtDzCKAQB9HwtQARAESvgszD4VTkndiwo1TMGXsSwkemRbYMGlGMW4Zy6JHHhbExZt5KJM3fIMgGIETgLrrIwPH2Zs/mxyGLS7hAzhyIhRANBmUqyEx0lXzQ1c1eJeqb1U2ngIADkpqRkzuN1YQGFeHKXm+K+Y5b240jYLRXAAkBXROFeiDVgkhcfRIuv3jFpOSqqgdPg22KlANNdnNgUQFV5WJVHmAMBULoM700LEuJpu6uUWVt/ImayvqdmNni2EWxvq5sQEQ0zyoRS2hon9oy90+DbM9l9OoOOLMIV0TOKy2mWRxVdNObwAgBIUqKqYTQKAdimhIwscOfaYHpS2tPhqQFXjXe/0vf6Qoy7/HHKy91Bg3sUohgMAwToQrPitIT4V5ROj/nn5iy/GU1nKEor5nHr201H3osKiTN0SABRJjB7Z7utYxbgrEj37NWHRRi7K1C3PANnEMIJiuVTIVTGLy+RHtTgA5MSki64GAAZ3AEBajKSE0N5Q/jEaJ11pPAywzdr0jYVw5cSEJtQx5a20zsqK8aOxt2rt8yjcOtEWYLIluSYtiuAHwy/JqmQUFsVvaTSWm5MSVnLCBfnUyzXVyMSZrG+ZZs+IESdVOQTAEI6cmDRpTUGSmMXUGoqqYCihH8a4gdjwY7X2edX22cfj2zShqijdL/6hdvXNlcuuSvUfSfYeBAAhFQ3v3zTrfZ+XBT56eBufHO/Qw/s31a+/s/32r8pc5tDDPyxl6Zm11NkwW1VkWeB7X/ubJuzf9FjV8mtm3folBMEkPtP5xH/LslS37lbaU0E5vLUX3yZlkwNvPZkJ9Rz7+2+rVlzXfvtXERTj4yNdz/5aD8BEEZ98tjB70Y/ndNS9qLAopSwb1n+QcngJ1t6w/k4xl+5/45FcZBAAwvvemPW+L4QPvK1fNhZt5KLtWdTy3QJBUZxgcILpP/jiuFD7N9u/EUOIrJSwEp6dw481u1dYCS8AjGaPDaT2GQ8lhatzLOCkNIVbD4y+KCpck2uZz9KU4IfC2W6TcTTXOzdwVVqMKIosKlxn9M0V1Xe81Z8fZ+p362jc1u5bvyf0XLNruc/SkORHI7luTsoYtftCz3f4N0iKgCJYWoh0Rt/M1wAAANp967tim2d41hwYfWFO4MoDoy+ayq22zw6wrbIiRHK9nJSeerk7hh411mg0e+xdqW+SHzY2e0aMGj0DQJv3EhKzoAh+OPJqRowBgHZJqM1hmT5QY2v0Jd9BEWxhxQ2izA+k9if4wdn+yyVFwFHyUPhVbeh9gXMIjKQ77vzGob99r0wneE4QaFw2cmyzWTpdAmzzSd5iOzGa3SvcTC0AIAi6tOpWs/q8w1TfE2h2ErMsrLjRLL3AeQ5SsXhj48a7zeKzhqlv1emtnV8969KKllVGYfGL9rOQUOZoi3tlla0NR+nu+Haz+rzjZOrrYepq7HMonO2KnfQJ6gLnDq7mBdUrrxNS0WPP/96smzIoRmAErcoSQdtyqRAAMPYATjK5xAhB2yQxBwCykMMpVuIzBG0TuRROsZKQxSlWEXmCtvGZ6LiWT2MErUgCRlCSkMMIGkFQu68xNnhAUSQEEIK2ySKn5SJoG5+N6ZGEe3cBAOvSF20A6JeEF7jABS4AAKyz0t+4rHfPM67KNq3LcARaAdR0pNdV2YYRDG31yGKOYt2JkSOKLFkcQYp1p6N9mdhALjniqmyjrR5dy2ei/sZlQi4pCZl0pMffuOz4zke9tfMQFJfFHIoRiiwlRjpdlW0AqiJL0YF9WhhWd63VVY2gGOusOrrt//TwpjQ2u8AFLvAeweZrVGSBZOyMPYCgGABw6TDFujWJyCW5dJjPxmOD+3PJkMVRoaUVSUhHezUbo1bzJmRjXDqspRmbn7EHM7F+2urVbLRcWloPIx3tjQ7uH+p8Y+DQy+PBnRjVP/6aZeFss7SQYitfTiHUjMaKB+8/BaWU8DBt/1O3PEVU/egBy5K5ZukY046/ACLoq/rhV2p+/u2q7/+LWXf6Ofn4T57gffeRVRMuScpT+bnPMjNnmqXTh507t/Jzn63//vemVfoJM7GaxRq88FPQJMa/RsblRtV42hFozXdPxryGtLd2fk37ZVUz19W0XzZucFpHWBUP3g8n/Y6QSZDlIo8pTZNycU7Hfzk/7xbTib8QcXh04P5/jf7+IbPijHFy8Z88wz/7mTAw7c0MTp7MO+8M/ujf5aR5hcppYmI1izV44aegSYx/jYzLjarxdGLkSDYxBDAxryEd7t0lcKmBQ69wmaixIztdPzDM5SCC42u4Twf84WNDX/+xWTpNysQ5Lf9l/LxbTCv+s5BzMv7Cn+4FTpRsfKhq5joEJuyKPqW7hAiOuT5wHbtknsILyb+/qoqiJicba53XrifrqwHDxL6h2J+fEPoGEQIPfPHjRIUfAGp/nn9Qs/djXwZFKWoPAIAgzhs2sssXoFaLnExn394Zfyz/qCA9o9Fx3QayrgpUVRwKjf7kd3IqjbudgX/5BGq1qKLU/6mvaZYa9o1rbBevQFmL0DsQ+7+nhJ4BAKj60QOxPz9hW38RWVclxxLxR/+e3banTJwl/ReLs4yf8YwG2JWLqMZaIujDK/zhn/3RefMVuMc1+p+/F7r7S7ZPiXYAANzrDnzp48Z6AUCp+Iu2g6Yq2m5lKGpfKn6yptL78dtDP/6t50M3k/XVcjI98q3/khOpUvFMN36EwF23XsN0zEBZC0KRSo7LvLUj9pcn9YzlsS1d6rh4HUKQqizFn38+vX0HAFja2pwbLiMrKoZ/9nPu+HFzHgNUfb335ptQisp1jm/kQHi9nhtvIHw+VVaSr7+e3LSpqBBj2Yp/+nRq8xbbksUIjsee+3t6x44J3g0UZocSwTvWrUUpGvd6mKYmQJD+7/8AFKXq/s8l33jTtnwZyjCpLVtjzz4LxaqJMkxRS6q21nPdtYCgZHWVkk7HX3o5+eaEtZCnHFWRVRUURTYrJsVx1SWV3/sSWVeFuRze+26v/dV3tTksPOBlVy7C3E7MZvXcfUvwgU/rWajG2tpf/5vpEqmUPbt8QeV3voAHvKiFoRpr6baWvL3fU/PzbzuuXY+7nZjDZpo4Y+bMqv7Pbxgl1lWLKx68n6ytRK0W+xXrqn/8NdTKAkDVjx6o/snXmDmzUKvFvnFNzU//FbWxWpaicWoU+i8VJ5T1Y4Jduaj6P79BVFd4Pvy+6v/8BtVU57r1Gs+H3wel26dUO5SpFxSLv5R9qXbTYJfNN81hlbIvFT9ZU1nzs2/5PnUX1ViLsha93UrFozH1+O1XrAs+8GmEIhEc83/2w+7brzfmmhTC60VZFgCIQKDuW/9qVFV9/p/phgajxAyK1jzwFXbePACg6usbfvgDZuZMQJCq+z9HVVcDAMowNQ98haqrLSrEWLbhRz+0LV0CWunf+Tbucum+ax74yvjUUrHsUCJ4x7q1tQ9+U8uLsayWpeFHP3SuXw8AmN1e9+1vEX5/3vPEapayrPz0pyxtbQBgXbggeO+9et7Th79hKQD46hYaLwmnNMJiL1qUeuEN7Swa/+vT+g9GGglLI/lnfNKvbfF//qOAlHurTSl7hCIBQOUFJZvjj/Xq9vbLVgtdPYknXtAOszv26qqi2DeujT/xgtA7CADJZ1+xb1jNzJmZeWsHAGTe2pHbcxAAks+/7rh+A1kV5A51mbJPSqk4p4sUioj9Q9zBo2RDDd/Vg3lctjVLoXT7lGmH6darqH2ZditKKftS8QMAQuCpF97QGo070Km7KhqPri2kqD1ZX80d7lJ5AQC4g0eZubPM2cpC+P3etWsBQQBUlCmzF0IRCJcLY9nM7t0AwHd3i+EwAOBuN1lZGfjw3eNmPp+czhQKpXAEANI7dwGAODIiDAxQdXVSLKbb6BT1yff0lgqe6+zUpqXkTEbPknzjDQCQk0kpHMYdDjEU0lUmCi0RktR241MlCbDJT8wnTy45XNG6RuSS07wkRFHc7RQH83WTonFVzD/dhtms9qsupmc1ozQFCIJgWPkOq5R95u2dzOyZld/9Qm7n/uQ/Xhe6+zV7ojLAd/VM9FESBMdwv8d7761w7/g6eNyTP1+JAyN5kaqqgogw44/1Tp1ScU4XJccBgCpJSiYLACDLCIFD6fYp0w7TrVehffl2K6SMfan4NRuhP79TjZHCeCaoCyhqL42EqdYGBMdVRaFaGoS+IgWVAmNZ/10fHPjBD8VQCLNaa785YUw3bbTeGUCV5d4H/9U4LUB4PIVCbfiDoGi+jQxDCRNFfZYJXuF5PT0u5DgtoUK5sqCYZfSJJ3133C4MDSE4HnnscYPt6UJVlKEjr1ndtUbhFDosMNdNf02m9xN3KDku9O+/kWMJqqku8KWPG80KKWWv8sLof/6erKuyXbwi8KWPJ554IfnsKwBQvvszgyAAMPqT3xpP0aqc/3QVQdCFJ0zJOKeLXqmJtSvVPmXaYbr1KmJftt2KUNq+ZPyazdh5zkiReMpS1D75zMv+mfdU/fDLSpYTuvsSj//DbFEahKJAVbX7cbaVK8zqyZBiMTmbZefNy+zeTVVXE14vAIjRqDgadq5bF3/pJQAgKyvFUKioUHNiXbQouWkTEQiQlZV8T4kzU7HsJxn8tCACgcyu3ZHHHy/1VTzlWD116VifzduQifXrWwBNocNSFCkSJyr83P4jAIDZrShNAQBC4FRTnfbtBAB84j0ybVxqHF2XtwcAoWcg8ruHcvuPeO66WesIxKEQWV9tMiuFKkpSKEJUV+T2HjbrSlMY56QUxgkn5MdEmfaZVjtMl+m2Wyn7MvGfbjCvC3M5Br/8fSWdNesmQ4pGk5s2VX3+8yrPpbZtEyMRTe679f1kRQXh9Xpvu1VOJqNPPsn3FJkEUBVl9A9/9Nx8k/uqK3NHjmQPHgQAUNWR3/7Wc921NV99AMEwcSQ0/OtfgyQVEQKooohaLNVf+hKCoZGHH9GuB/0fvJPwejG73X/nnXI6FXnkEWFwqDB7qeCnTmE1xdCo2UgDAeuSxeyc2YCiYiQS+t3v5VTKbHNKiQ8fqpq5LpcMGTcsm0KHBZB5c5tt/UV853E5kXLesFEblKqiJCfT9IxG/sgxorrCccU6YxZpNKrKsmXJ3OyOvaiFkWOJMvbMvDYlx4kDIwiCUE110mi+3VMvvBH8+mfsV16c2bRdu8nIHz6mXU8VJfH0S673Xy0OjvCd3ShroduaM5t3aVMbpSiM02xhoFScME0/RSnTPtNth+ky3XYrZV8q/tONyosISVT/+GsAoPJCbv+RyG/+WiZ+E9Enn4o++ZSWTrycPwON/mX8cZDycMePD3zv+yahFImM/Oa3kwsJAiGI+AsvxF/IT1BqhP7nf42HGkWylwg+8cqruoGGkssd/9z9+uHgj/5dSxStZqEl3dRoXbCw9ysPaFdXnptutC5aWFjKqYVLhwcOma9gptRhJf/+Gu5zBz7/MYUXks+8jAe8mjzy27+5b7vWtmGNODAc+f1D/vvv0bMomWzsj485r9/gvv16KRTWFtSUssesrOuWqzCnXZVl4Xhf+Bd/1uTiUGj0P37vvO4yx9WXgKwI/UOjR7sBwHXrNZYlc1GGQXCs5r8fVLK56B8eze05lHl7J0ISrluuwrwuJZPjO49n3t6puSpF0ThL+S8VZyk/06VU+5Rqh1KUit9sN0apdvN86GZmzizEQiMYVv1f31RzXOTX/8cdPlbKvlT802Va8aM0Ffj8R6N/eCy35yAoCmqz+j5+h+3iFcnnXjWbXuBEwVirKknaxSBK02RFBXe03L2R08eEyakiICioKkxc/IqgGIB6wtc+F7jAKYSe2eT96Af6P/tNXeK551Y5log//KzB6iwFY9naB79pHNGcnSAo6rnpRrq5GWQZANI7dsZffNFs9K6DEqS9bR7O2nCbAyUpBMUQDMdtDtzmsLcvQHACt9pRisZtDk2OEiRhd2qdIMZYaH8lSpA4a9PyamkEwwmHCxCUdHk0e4xmSI9f80N5A0x1gzmO9x4IghaeSxAU099TcOZ5d0svA+Z21vz828zcWYCiKEOzS+fV/PeD9Mwms90FzjW8tfOdwZkWe7Bq5sX6FlrmX4UR57xlKEGiJEU43dneYwrPUb4g4XSPvPiEtWkWZmEVgcctNoXPYRYr4XRzQ33ccH9usBcAUIq2t83nBnud85blBnsVnhMTUee8Zdm+Y6okYRaWG+pjquq44X4+PGJtaSdsToXPCfEIqGqme3ydznsQFCftjW3p/i4ERaVcBmdYReBRkgIAtqopcXQPzrAyl0NJShF4jLHIfA4jKEUScYtNzCQwgpK4DGl3C8mYKksIhhMWm5hN4QwrCxxGUBjFYLSFiwzjFpvM5wBA5nMmbS40gJKUto2RzHMoSSEoylY1JY/vVyUJEISw2GSBwy02IRklLDYhFTNX4wxiWTTHcdUluN+jiqI4PJp6/vXszn1mo3edsVeHFgFFQVVNd98QDFNVtWSW9wD+hiWKLFIWV3z4sKrI2ksoys5hKQpKM2I8yo8OSZkUU1ErJuP86BButVO+oJSMY4wFwTCUtmhylKS03goAFJ5TRcFS06hIghANMRW1hN2pSIIQCVlb2sV4lHC6FYHPDfaSHj/lDaiShNIWIXaYrW8FeE93WM6ZC1CcdHcsI+1uIRkl7W4+NqoIudihHaCqvoXrSLs78s6b7o5lXHgoN9rvmrVIzmVjh3cw/mqHY46cyyqSiNGWyDtvAICjabYiS05PkLS7hWREzmX5RBhUVVUVxl+NUTTp8Mp8zqSlXD53xzIxk5Bz2exwj7tj2cArj4CqOprmyHwOxQlFltJ9Rxh/NeOrUmTp3e2wstv3ZLfvMUvfVVCGRmhKzXGqKGmPRuB+D3egU8nmUIZWeQGhKTmeBACEJJi5bfyRY4Cimj0giLaCn25tyO7ajzK0KogITSmpDGpjlUwWtbJyLHHGlhe8W2QTw4zdr72EYvDIq5qwXIcV37M1vwIIQUBVcwM9AKClR197Tkvb2+YnD+zSbfS8TGWdKkvR7W9q81+5gR4AREtzoUFQVUBQUBUAECKh0dees7cv0PzE39miO3lvoioKRjFCMsqFhzCK4cJDtLcCoyyE1Ul7gnw8zIWH2MpGRRIUkc8O91JOn5hNEayDdgf4WEjMpnCLTVVkVVEBgI+F7I3tQjLGhYcwkhKzKSEetta2iukE7Q5kQ/2ggiKJJi3qDiqSICZjYjallUW5/LQnGD+yy1Y3M93XaW9s56MjtDuQOLrH3tie7JrkIYT3GtY1S5Ucp4qSks2pggiqirkczLw2BEUVXsCcdiWTzW7epXA8u2w+QpLWVUswj4vvPK7kOLIqiHlc8b89raqq9aLFCi9gNlbJcZjNinlcQk+/0DMgR+PmIs87yr2E4gIAEPjsfUo6M/qrIneUzzSG8wQgiLN1fvzIrvHzAYKACqY7IUZcsxahBBU/slvmMgATvWkUrkQ1a8HgP3+mAQBrbauUTXHhoQL74sH47r1Tjiejf3vcrDjXmO53w3HVJaos5945yHTMyO7cR89qVkVRTqZxnxuhSCWZlpNpcWBYTqTYlYtwj1MKx5RsTkmmyYYaJccp2Zw0PGpZNl+OJRCKRElSlWU5kVKyOZSmMpt3mcubjIovfSazZUfy5TfMirOYoi+hKDfCOl9BWQvmcIiD03iA40yj/f7H/sYPT1ycUaJ30Ikd3D7h2OjNKDFSTjt+mO49MiYrY28E0Z+LOCc4Vd8NMRTJbnuHntWcO3BECkfTb24r1b9nNm03nlHyz6giCKhqfsk+glgWz81ue0e30fO+u5yqtiqFLPHVsy6VJX6o81zqZ089tnWr3LfeaJYCBD57n++eO83SC7yXuPDdmDql2urUYnoJxdl4o/p0w8xqNYsucAEAuPDdmA6nta2s7tpg04qKllUVzauM8nNvDit4/yeyew8gOG5bvRxlaO7Q0chfHpHjCQAgKgKVD/y/0M9+m9t7ULf3f/zDKEMP//C/AcB37wfplkaUtehaAOj55Be0m8eBz94nJ5Li4LBt9XLUYhEGh2OPPMV3Hdct6Vmtzqs3kFWVCs9nd+6JP/6MwuWfiQ989j7u4BFQVduaFYV5y8SsUfPDB0d/+b+42+nYeAnmcsqx2Mh//EqKRDVtmXIBgOmY6bx6IxEMaFs+AAB3pGvkxz/X0mU8YzarfcM6pn0W7nYq2Rx39Hjs4SflRBIAmLYZzqs3pLfucl27Mbtnf+K5l/z3fQgwLPybP/LHesprtXKrvvFF3OcBgMyOd8K/+aMm1CjfVjBZjcpQpp3fg98NBMdrf/wtfY+27K69pjk4sqrCecNVdFODKsu5vQeiDz+ppMf3okFIwnnFesuCOZjTqfK8ODQS/t2fpVgcJmsrAKBnNDuvuoyorEBQRIrE0pu3J198zWg8FUjGIeQSjM2vvW1M45ycw3KsX8sd6Qr/7i8oQ7tuutp3zx3D3/8vABCHRviubuuKJfqXEmUt9KyW2Nikb+yhJwBF/J+6R+jpjz/5XN6dYakL0z4T97ojf3lEFUTnVRv8H7tr4IHvaFtt0DOaA5/4cPrtbfHHn0WtrOvay8nKDw//+Od6dvslq8XRcNG8UDpmHfu6lQhBRB9+QslxdFODFI1p8vLlEn6f7967Es++kHrjl2Rttf9jH0o8+0Li+Zen4lkRRNzhSD7/shgK4z6P+5Zr0dtuCv3st5qWqAziHmfkz49477qVCPijf33cfulqxxXrQ//160m1ADDw9X9DGTrwqeI7vZVpq6nUqAyl2vk9+N1QJannk19ACAKlKd/H7jI6BADc6wnc/3G+81joZ79DKdJ5/ZX+ez84/KOf5tUo6v/kR8iqisQzL/I9faiFppsapLFutHxbYXab/+MfTm/aEnvsGYQgyJqq/DZK08Tua8RwUlXhnO+wVFUN/+7P+e3EBMH/yY9QTfV8VzcApN7c7L3jFsxuk5MpAGAXzgVVzWx/R8uonR9AVhSOlyL5T90IgmOhn/5WO89EM9mKf/ksWVfNHT4KAM6rNvDHeiJ/elizFIdHK7/yOcvcjuyu/AoghCRK5YWyMWvgQf/gN3+gfer80fFTd/ly6faZqiQlnn8ZVJU7eCR34BDV3ADP67kBSntWeX50bOzDH+smAj7b2pW6FiGI5AuvyYmk85rL+eO9uf2HcI/Lvn7tVLQAAKqqZHNafQsp01ZTqVEZyrTze+27oaGKoiyKqmS+9eHYsE7l+NFf/UErV85kgvd/gp7Zwh3qBADL7Da6uTH009/k9uUf4TSOTMu3Fe7zIASeenOLNh+vV3O6kIxDFnmA8XMGnKNzWGLfgP5L4Dq7AICsqtQOszv3KBzPLlmgHbKL5+f2HlByOe1wUoTefn1UrJ3HMLsNABAcoxpqc/vHn78VB4fkeIKe2axLSuXVKBNzXrj/cOGy5knLRSlywqtlZKVwtUNRz4VI4QhK08ZdnrUftpLNyrEYACgcjxDEFLXlKdNWU6lRGcq083vtu1EeurWZO9Kllyv09IOqkjX5GW66tVHJcXpvNS2Enn4xNBr49D2ODeswh92snjKSkEUQxPRA2Dk5wlKy418yVZRUUcRs1rFDMbN1p3XFkuSLr+FuJ9VYH/r573XjSZFT49fw+d8JggAAQtOAovLEka2czmCGvc9L5dUoE7OGbJg+0Jm03Nz+Q86rN9hWLU+/vY2oqqDbZsQfe9poDCU8AwCgqG31csuCOYTXg7IsgmMTtIqi9xpF9t4rr52MMm01lRqVoUw7v9e+G+VBrRZ2yQK9+9bQ+xeUZbXZzBNAlaTh7/6H/dLVtnWrnFdvzGzbFX3kKePs2BRRZBFBENMqjnOywzJupIsQOEIQ2tleI/XmFtvalVRDHdXcIGeyxlPQ5JRY5KLmOFAU01cBs7L88fwcM0DJvBrlYy7FpOUKfQPRh55w33qD6+Zr5UQi+fzLqTen+qiA++Zr2SXzo397gu88JidT7LJFnttO+13qPKXb6mRqBJO183vqu1EeJZvjDhwxTQ7qPaOS44xjwOmicFz86X8knnvJsnCu64arfB++feQnvzAbTUbRS8JzssOi6moQHNdGs3RrMwAIA4O6Vhwc4o/3sIvmkg312W27CsfSCi+g5FQvXjRUWeaOHmfaZyb+/pImISorMKeDPzLVXYHKx1yKqZRrXbYo/sRzU5+W1mHmtGW27c5s2aEdktUTLkPeRU64RjBZO7/Xvhtl4A4fpeprhIGhop0pd/SYbc0KekYLd7jkg72TtpUqy5mtOzEr67z2crNuCkhCFkVxGNunQeMUzGFZV84xiwxQzdVm0UmD4Jjv3jvpmS2WeR3uW2/ku7r1u+ka6Te3MHM6qLrq9Niv0YjQ3cvMabPM6yDrqumZLWZ1CeJP/p2sr/HcfjPd2mSZP8f/0TuFnr7Mrr1muxJMGnMpypeLEDhZXSnF4sZLjCkihcL0jGaqoY6sqnBsvMQyr8NscRIgGIZaWQTHUQJHWQuCTbzeLM3J1Aim0M7vne9GeRLPvYg5HL6PfpBpn0k11rEL53o/+H59pUJu9z6hp8/3kdttq1dQjfVM2wzntZebJqRKtZVlbofr+iuZ2W1UfY1lXod15VKu85gh31TJJUdQnEQx0ig8BSMsosJrv3Sx0DuC2izZHYcsC2fKsRRZ7ec6+1ReoBqr+KP91pVzUJoS+kMqL1CttULPsCpKmg3KUFpCHAqbXZcgs2uvHIt7P3QbSlPcoc7Inx8xG+zY7brpGnE4JPT2m1QAEH/mH5jN6rn9FkAQcWR0+FDJc4gR/lh36D9+6bz2Cv8nP6JyfPadfbHHnik8RZdi0phLUb5cVZJz+w9577rVe9etAKBksrmDh6N/flS/ZV6GyF8e8dx6Y+CfPqrKUm7PgZGf/KLygf9nNjoh7Bevdt109dhRdc33vwEAkT89nN40+cXdydQIptDO753vRnmkSGzo+//puuZy74duQ0hCTiS5Q536O5JVWR75yS+dV2+wb1iHO+xKNsf39pvu+ZZqKzmRIOtrrcsXIwytpNK5/YdiT4wtfZgOFmcVlxrFSMspfiDJec0qAHBes9pxxQoAcFyxgmqodFy+HHPZtEMAcN2wVku7b7vMumqe4/Lluo3ReCoE7/+E9+4PmKUTQXCs5offdGxYZ1a8S0wl5hMBQQKfusd/34eo5gayupKsqWI6ZlV/+yuu664wW54rnFyNptLO75XvxkQCn73Pd88dZunZDWPzWd01Fa2rjcJTMMJCSMK2doGcTIOi2tbMRy00YKicyjKzGvjuIbKugmqoVDhBMxZ6hlELzR3p1W3EUFRLpN8aXzwyCZNdLFjmz0EIMv32drPiXWSymE8Awu+lZ7UOffvfhf6xKY++AXEkhLmcRrNziFNQo8na+T3y3TCB2aziwJBZenaDk5ZUpCcd7ZsgNB6cGLGHXx4fs40lhOOD2rvqRn/2CADwxwcBIPHsWwCgb72o2+iJkwSlaSLow5wO1w1Xpd94ayq3Ws5ppFhc4Xj7+rXJl1/X9kuyzJtNtzaP/voPZtNzhNNXo/fadwMA2MXzpWgcVMUyfw4R8EX/+pjZ4uyGsQdEPiNLvMiNf1inoMMCMNy11dfmlOmA9PmXMZtyxtMB97r9n7oXQM3u2ht7/Fmz+rxDFcTQf/3KedWGwCfvQRlayXFC/+Dor/43u3uf2fQc4fTV6L323QAA25qVZHWFNsEU/t2fT3jF+bsFl47YPHUAMNpT5PZIcZCCp6MRQAuFFyiDw3rq75OeMYigB2Uo/RAhcNzrHFcXgBA4u6iNCLjNiqkxqf+pQ1R4zaIThWo42QUfp7BepTiF9T1LKPoSiklGWEGkLqqO4EAQQGYhDQAIIC7EN6z2amkaWB5yBBDayEoBGQNcAlEFlQGWADIJUQIoCQQCKAE4EmgecjSwIvAU0DnIEEBJIOJACMDRwPKQJYDiYaoPTJwmAt7ZOEalsyEUQRnancmNAoCV8aeywwggrCWgKCIvJDWVKOXc9sZUdohl/ATO8EISRQktEUt226yViXR/0DsHw8hMNqSqipZ9ODzlObt3D8uittw7R4S+Ee0QIQnMYZXC8QlGBlRJVhXFsmBm4rm3zLopMKn/qUP43eXvO7PLOjJbD0zlnpp943JtZkNn6nk1TmG9SnEK63uWgGIETgLrrIwPH2Zs/im8hAKABsaHVGpdlR+qGLAOqz36DcZKpCGpRr1IgwwSChgDVgF4CUQFJB7yN6HrYCYDbBKiSTXmQLwKyB4IJtWoAJwNcfmhhgE2B2kRBBXUpBoNIjMZYI+ouyXI32F9V6BJZ8/gG/VVq3ghGU92Z7lobcXK3qFNdZWrBDGtKKIo5WjKoans1ipeTDltdbIiSDKPYSSCoFqCF5IoggMAQ7uP979aW7FClHJadnORZxz7hmVEwCOF4yhDJV/Y4rjyIszKJP7+ttAfct98KUISuQPHAMC2ZgFCkZnNe7nDPY7LV4hDYb6r37p8Nu53415nZvNe/tiA89o1CI6l3tgt9AxJkYQ2wkIZSpfLsaTuX4olHZct0+69IBiq+ynlX+gZdl63FqFJsX9ETqRxrwv3OJIvbTX64Q4ed16zGhAk+fI2OZ62rVtEVvmy7xwxxiD0Duv1kmMp55UXEUEvd/C40DfiuuVSUNT0G7u0yVYNzGpx3XyJFE2CCpid1eNHcFzPKw6Fx+sVSYz76R7Sy8rt6dTrZYyHrPTqdcwdOK7bcwePT7A5U/U92yj6EopJFo5ykM1COqemGWB54HKQRgGzgl27KlRAZhBWARUHckyLEkAggLjAp+XiIDsKgzJISYhm1aQNHFouChgW7JpWK0WT6/bmUM4sOE5V+hcIYgYAJFkAAEFMVfjm8UJSkjmacnJCQlc5bXUERquqCqoKqgKGBMv4bGzQxlbKcv4+qTH7uwtZE0i/sUsVJZQm5WQm+cKW3MHj7KI2y7xWcTgS+eOz2Z2HACD7zpHIH561XjRPleT0W3u0SxvM4+SP9Wty29qFUjSZ29vlum6N0b9RbvSP4DhR4Yv88bnM1v1GP6X8U621XGdvdvsBOZHGPE7uSE/kT885Ll9h9GPfsDz5wtboX553XrVKyXKJZ94EDDXFYKwXf3xA6BtJPPU6d7gHtTIoQ8efesP067Wunp96bWfyhS0IgRvjN+Y1yo1+jGUZ62WMx1hHo73J5ozV96xDVQnKhmJk/8EXFTnfIUwywhpS8ytuB9Xj6thT8wk1omsRQFRQtb8AEERqR9Q+XaLl0rUpiKfVhC7pUvcBgK7V00bJu4UoZoZCu4xhDIf3aIE1VK8Nxw77XDO7B17XVL1Db5WJef/RRwEglRkEgN6ht/Tsmez4Lj/vCqogqZKsCiIgiPWieZjTJg6OAoaiDGV8WFeOp1VBBNQ8canLUYaSwnFVFGOPv2Y0MMqN/gFAio7315P65w4c833iZv5of/L5t22XLlUFUZVk7VFt3Q9KkwrHq7JieoTbGANZ5ZvwEPIYUigW+9sLzqtXZXcfye0ZXymKUqTC8QongKKa4tcxyo1+TG2oY4yHmd1sbEPd3mRzxup7tmFxVg4efsVXt9C4cHSSDkun1K9Rk+tabW7LJDfmLSUppX23GA7vKQxDk/QMvsnQ7p7BNwtVU6Fo9ncfWSaCbpQiQFGyu494776Gaq7hjw0YTYigx75uIVETsPQOG+Wp13e5brxYCsX4YwOqKNrWLCACbmFg1Cg3+jfmNVLKP0JTmI3FnDaqtQ4AbOsW2QAyWw8YbZKvbHfdsl7lhfTmCfcTjTEY65XdcZA/NuC+bWNmyz4lx7NL2k2/fABIb93nuv5icWhUFQRT/Hpeo5ysCeh+jGWJAyG9XhPaxIDR3mRzxup7tpFLDle0rhG55Klc5n6B8wbTN3jqT/9plLLX5Sf8C/HceSVmtQCC+D52o+OqVUSlF5k4zMmDIMbNvAL/9P5xjSG2CemxLZgRHCvuE0X1VZ3m9jHkHRdO9DNpm5gojPNM1/dsQlvTYGKqI6wLnPeYNqWc7uu5Stnr8sJNL6dI+vVdjitXqrKS/PvbuNehckLxhXva1CEAM6fFMrspvemdcY0htgnpsZ28SsZmGA+a26dYXrPNZG1iojBOaTh8Rut7NlF04ejpgrS7AcA5Y4FZcZahRzitUAmr07donVl6gQtc4NRh9zX56hb66hYahadghOWcMR8laS4yhDPWZNc+e/NsMRXzzF0V3vEq6fK5Zy/nIsOgKrSnIjc6QDl9KElxkWHS5tRyIShGOrx8dARA1WwQBKW8QVUUxUxCU8lc1lrbnAsNUJ4gTlvEdALBCS3BR0csFQ250QEERTXj7FC3Fhjl8pty5Ub6NQlp92hh4BYrYbWTLr8eqpzLaDYIhmsOUZIkHV4hPiqmEpoqO9Rz4bL6Ahc4raiKTDJ2kUsbhafgOpawuaJ732arGgFUtqoJQVFudJALD3CRIVCV6N63LcEaS2V9dN9ma00L6fRoEj0XYXNmBrqyQ926DeX2q5Io81ldhZK0mE6yVY0ohssChxKknnC0zpeFnCVQoxvrgRXJNSbRw1BB9S2+NNN3VA9Vt9Edkg6vJVhDOjy6arzyp5AST8AybfU1P/p0oZYIuCq/9uGG/3mg/ldftK9frMtL2Zdi6vZEla/+559v/NPX6372z2bddPzkmbJlqXJLyTWmHc9Zxrke/8ljcQQHDr0CMOGrcgo6LJSkXe1LpGw6deygb9G6ZNd+VVFwi51y+xUx/4o0KZ1yzlokphO6RM8FAJpQt5F5jrC7xFRcV7FVDRjNqKqiqiooKqigJ7jRQYykMoPdurFOYS5dolsiCBLZs8k5a6Eu0W1gzCHB2mL7t+KsQ1fRniDjq6B9VWNFnQJqf/ipkvOgxpcyjOG6cR0oSu+nf9T/xZ+m355wq6iofTmmZi8OjHZ/7HujP3/MrNCZmh+NcvWdSKlyS8nHmU48ZyPnVPxT/DSnjixylTPW0VZPRfNFBGU1q08Y7/zVWhdIuf2euSvz0sIzw0SJnmsCCAIA/qXrGX+Vb/Elhaqi6M8ZFaEwV6GkkDI2ZVQnAe62N/31wWl95FXf+IjrxrVm6enHtmpu0RHNtDiB+pYqt5T8AqcVe4PLOyeIEhjjYxEUsVbZ669oZbz5DeY1CUpglqBN+zsx94lzCuaw4od3aucBRRIje8aeICs8M0yU6LkmoKoAMLrjFcrhDe94pVBVFG00VJzCXIWSQsrYlFGNQTdXu953Cd1YBRgq9AyHf/cM3z0EAFR9ReBz7x/6zh/8911PNVbKiUz/V36hpHNVD95DVvkAoPGPX9M8dH3gG6AouNdR9a8fxayMKkrHP/Qt3X/1v32cqPCgFEnPqHXftA4Aej/zE3EkWsoeAJi2Bvf7LqEaK1VFFQdHh777BzmRKWVfKv5SlPJT/8svhH/7jOPK5VRDpRRNRv/yQvrtfQiBl6ovADivucixcRlqZYTjQ+H/eZY/diJLsUvFgxC4964rLfNbUCuDUqSS41Ov7Qr/7hkoUW7R+DVXRduzlJ9SlGrnUvGfVTA+FhR15gfmshW2yP6R6MFRxm+tXFXX83ynlBUbrpoRPThavaZBFiSMDMiClB0+/Xf6zioQFDO9oawoCILCNDeTmKLnqUNUeGxr5+MeB+Zg/R+/ofo792lyqr6i8Y9fC37+A3RLDWplmNlNeha6pabUiMOyYEbD775slgJUffMebR9XE4X2RNDd+Kevu2++GPc6MJeNXdpu1BaxLxG/RqkRTaGf+l9+oeE3/2JZMAOzWZzXrGr8w1cxe/4MXLS+9osX1vzo01R9BWazuK5bXf/rL2G2/BbjULrcUvLCeFzXra7+zn0oRSI4VvHlD/o+fLUmL1VuqfhLtWcpP6Uo386F8Z9VsJW2xmtm1l/RWrWqvm5ja9WahroNLYHFVbTHAgCaxNniabt7ofbXnP9EOQUjrFLQ7gBGW7jIMG6xyXwOAGQ+hzOslMsQFpuYTeEMK3M5jLEoAo9bbEIyqmulXAYlKUUSMIKSeQ4lKQRF2aqm5PH9qiQBghAWmyxwWi7CYhNSMQBAcdLe2Jbu7wIAnLZgtCUXGtD8qJKEEqRuL3FZUBUARPec6j6IW2wyl0EpRkonUZLSPGjxi6kYRjGyyGMEJWaSppqaEIci4lBESydf3F759bsByT9bgBB44tm3uc4+AMjt7TLmOn04r7qIO9IXfehl7TCzZf9EvZky8U+X5Gu7sjsPA0D8qTfd77+ErA3k9h0zG43hvOai6EOvaKOM2OOvO6++yLJgRuq1XWa7E4VqqsodOK7wAgDk9naxC2dq8jLlFo2/VHuW8VOUU9jOZ57MYOr404dVRUVQRP+ra3v+fkSTJLqi2l9D1ilB2F2Mv5r2VYQ2v2Bsk9PYYeFWB6iqqiqMvxqjaNLhlfkcaXene48osuT0BEm7OzfSlxvt5/gRxl/taJmra8Vk1N2xTMwk5Fw2O9zj7lg28MojoKqOpjkyn0NxQpGldN8Rxl/N+KoUWdI6LOfMBShOEqzd3bEs0bUXVJVy+dwdy7LDvbLAGe0xghSzKTmX0T1rcaZ6Djka29N9R3UPmtxa26qIPGF1yLls7PAORZgwu28Cc7Cu69cws5tQhgIEQTAMQRFVzje60DPhuZMzAFHt4w/3mqWlKR//tND3pQFVVXkRNWytZQLBMSLoCXz65sCnb9aFuM85bnHSiINhuq0eIXBVVuiZdXz3MExWbtH4i7ZneT9FOYXt/K6g9VDGv1PXToqUSSE4nuzab+rBT2OHJcTD1tpWMZ2g3YFsqB9UUCSRCw+JqZi9sV1IxrjwEEZS2eFeyuWn3QE+Hta1pNWpSIKYjInZFFvZqEgC5fLTnmD8yC5b3cx0X6e9sZ2PjtDuQOLoHntje7JrLwCoioJRjGavlY66g4ok8LGQJVBLsA7dXkjFrFVNUjate86NDtDuAIJhQipu9KDFL6bjOG3R4kFxsnyHFbz/NiXLDX3rf6Rokm6trXrwHqP2BN6TfJIgCDKt70v5+KeFyk95jyAEAYCh7/wht98wBCv94OEJEHv89cqOxvqff17OcHxXf/RvLwJMUm7R+Iu3Z1k/RTmF7Xz+gTMsRtK2+pnc6OAZGmEJyWh0/xZQ1eG3DS/5QRBQ1Vx4EFRVHwDzsVDeZlwLMPY4cbq3U0sPv/2ctbY11XuYCw9pHrRcuXB+ajN2YCsgiJ43un+Lns4O92ge8vb50vNaTW6IEzF4GIt/asN1hMDp1prBb/2PFE0CAFHpMVsUI//sBYpC0YcwTg5hYJRumuoKjBOLf7oU1lcVJXE4StYHs7uPGC1PIbjPiXkcvZ/5sZzK6sITKLdoe07Xz5lp53MUBEXZulaMsQCA6UdXZJb3VFL4C9ckxr9GxuVG1Xg63XuECw8BTMxrTo8dmv2MUbwUI0YPuqyU8QRUUZITGaa9AcExqrHKdd1qs0UxxFBUlWXr8g6UJnGP3aw+ORLPvEW31buuX4O7bJjDyi6ahVrG341u4sTiny5F6xt79FXX1RexC2eiLEME3PZLF6MUOTHfSaHyIkoS9b/+UtNfH2z4nweC99+K0iRMv9xS7TktP6epnQmP3Xv9CrO0AKY13+GSficAOFZ3GLVFOX2eC1EVJd19WEontQlro+o0jrDes4R++oj3Q1c5r75I6BsJ/fzxyq/cZbYoQEnnwr9+yv3+9b6PXCOORPr++b8BwHvXFdYVc1CWRnCs4X8eULLc6K+e1OaAi1LKXhgYHf63P7pvucR141pVVoTeYe5wTxn7UvH777vesmAGytIIhjX8/itKlg/918O5A8dL+THGZqJofVOv70ZIwnPHBtzvUtI57lBP6vXdULrcUvKi8XAHuyu//uHRXz+Z3XFYVRTMzgb/3632jcvij79eqtxSlGrP6fop1c5F4y/fnlSVh53TwB0bzh7u1063TGsVXedXeFEciVO1Pu74CEoTZNDF94fF0QTTXJE7MsA0VbivXBJ54m2q0uPesIDrHaWqvZiVkSLJ+Ov5BRyn3DM/GKVqvLnDA/xg/oZDURQ+h5KUIgpTHChcYJz5qz/t8s8wS08DZ6wgE7OX38vaT/Y9C2c5THtD/a++aJQEPnWz5wMbjJJzF6al0r50hjYC8l6/HACcF891ru6wLmj2XrsMALw3rHCunU1WuDV7zzVLAQDBUC3hu2WVJnRfsci9YaHrsgVjjk+9Z6apwnP1Utw9yVJS2lfpnrPcOWuho3WuUX6aLwnfG1gdVd6K2WbpaeA0FbT37V9mkuWWOJ4HiMNR1EKzC2ciGIoylPWiOZbFM6c433T2Y5lVi1lpUBSq1kfXBeiGoJLlCb9TDCfEWNq5bo4USQGA9j5jqtrLNASZpgpVVnCnlar26u85BkVVFcU4qDn1nlFUTmbZ9lq9iKKIqXj80K74oZ1CKm7WTQsy4DCLAADAtWbCckQjhNfuv3GZWXr6YWeYZ0ZPjPmrJhn41M1YX920xiydPmesoPcm1mUdNd//ZOMfvtrwm3+pevAedkmb2eKcZuJcj++WVXRj0HfjykLVBMqodE6156ILpE0QVkfVZe+zN3ec1ByWpbnCd/WikUc3IzhmnVWdPTYsxbP2hU2ZQ/1Uldu7cX6ud5T0OTCGzPWOgqLSdb7csZFs55A2i83OrNIkCIrSdT6FFxVeTGw+4lw+I/52/hLdtboNs1C5nlEER6kKF9cbBgBTLjGa0lRSmrPNrc91DdO1PsxGi5EUShJaIr23l2kOZg4PuNa05+ORVS177LVJVk4CgN1V1zznRgyn4uFOffvjYO2S6uY1KEaqstRz5IVQ/06KcbbMudHmqlNVOVi7BAB2vPpDVVUKLSd4N3A6CrI5a5pnX09QVgRBw0N7u/Y9AQAYTtXPutztn4WimCRx77z535KYcwdm1bWut9iDe9/+ZTLarZXOsJ6m2dczrFdVlYFjbwx1v40TzPzVnxk8vilYtwQnLCO9W7sP/b2Uz8Lsmtt3nfTmfaYNhc8rJs71hB9/mwy6wo+/XaiaQBmVzqn2XHw/wolIuYyQjKIUU8bP5CAY6r92CQBUfuhi97oO37VLAjct11TB918EAP5rl+gJ//VLAUAz8N+wDAB0ifuSOa617faFTY6lrdaOWudFs/IFjNkHblruXtdBVbqK5tJVltZKx7JW/43LvFcu9F6+wLNxvp7QYgBDYHp2vaxSIAi65NIv+SrnAoDdVbfqqn/TBj4M6yFICwBYrP7lG7+h27fOe59p4FPK0sRpKmjWwtsr6pcDAIritCU/udAy98aZCz+AYgQAUIxTE2osXHu/3V2fP0CQBWs+Y3VUAwBOMEsu/ZLNVYsTzKqrv1fbcgkAkLR9xeXfZKw+KOqzWPa853MQXxUFACuuKrnmwB0kr/pIhVl6VmKsRfPc4psfTLc6pfyUwhhD+bJIp4f2V9lbZpu2NpjeCEuVFdxtpas9uWMjmJXOHOwn3Fb/9UvT+/uUXP5iVU+I0bT74tlCJEXX+ZgGP9MY0CUKJ9I1nsTxEN8Xbnjg5uPffkQvArVQnvVzpUQWAJScaPSj58LtjKayttVI6RwoKqiqqi3SG0vQ1R6mKWBpCurxyFleyz5WVEkoi4sgraOD7wBAMtaTy4Y1OWP1VzetBkAAACcYBEFLPXc9RcvTVNBw79bmOTdYHVWhvh2J6HHN0u2ftW/LbxRZBAA+Fzf4mADNuFhbRfuSD+oShvXm0qMAMNi9CQAELpnLRCjakUuPFvosmj0VM68LnxTC5nTMnB/e9opZAQAApN0tJKNmqQHHzAWJQyVHtVOkoYO97I7AM78ZCjbQF7/f39+ZFXJKywJbz8FMMiLNXe3o3JU+tjejDQDq2yyayuYidrwYW3SZK9zPaxIMQ/y19GBXzltFMVas/0gWw/MSVYWaVqbnYBZFkepWRsgpsZCgqdJxqX25vftAtrqFsTrw6IhA0qiWGOzKmTx37srvcrf2Zp9mc3xfRsuejudD1Wsx2i80dFiOvpNecZWHtmLGeh3ZkTZVJxXNh0GQ+bJ8VZSWq9CPIoFWC5LJhxrq47UK4gRSM8Pi9BG6Z72sxtlsVTNzdHd66Din1QIAxETM2bFElSXTN396HRYADP7+FVBVrj+iPz2kJbJHBgEg9MRWzSyfGFts2fPDJwEgd2xEkwTff1Fi21HHkpaErCS3d6ni+A7TUiIbeXGPcRwYe22/KdfIQ29pqtDjW8qs5+z50VMAkO0aBoDQE1v17FzPqNm0LKqqAgBBsrMW3bHrtR9n0yGCsi677KtmuzGmbmniVBUUGz2y45UfuINt9bMu53PxQzv/DABQZhMeIwiiqPLWF79j/KLgBAMAkqh/n9T8zEKhz2LZNRwzF2AkxUWGFVGwVDZwowMYbUl17bc1tSs8RzrzW8uyNc1caCA71KNdHxfmUiXRPX9VZPurOGsjnV4hNqqIAuWt4EIDKEFqfnCLFbfaKZc/03fUFMbU6T2Y7TmY7T+SW3Sp+vL/hTbeFXT6iP4j2cYOK0EhT/1yyGi87EqPpoqPCs3zrDiO6JJ0XDy0LTXSw81YZHv6V0NX31sRGxE0yRV3B5/97fBV91QkIqLAKZmk5KkgNVXjHDYWEmcusvE5OZeWKQuK44iWKPSsh0GQeRvGhmnZERS0UOescmi1OLJjGCNQAPDXUo//dNBYryM78h2fXsSRXSnNT3w0H3P7cruWq9BPJilptWAdlBZG6wKrVkEEgad+OXT1vRXjnsfKUhRg7TiXmfCFwVgrgqJiMmkUwoncJRzrHfTng8o9KFTYlagqAIQe3axKcujRzYoghZ+dcCaMvWZ+egjAnKtQNRWKZy8Gn42JQka7UrM6qhnWCwAYToGqCnwSACrq8hfCGrKUoywu/bCMpYnTVJDVWa2CGh7c07nnEXcgf7kdCx2qbl6LojgAkLRDSxTCZaO5TLi6eY12yNorSllCMZ9lspNOT3TP20ywxjFjvsLnmEAN6fQAAOn0EjZnpr8rO9iNkrSUSVqqG8dKKJKLGx3kRge48BDp9DLBGsLpsVTWx/ZuZmtbdD8Aqm/JpSfTWwGALKtOH1HZSHPZ/G+p92CWZrEju1KDx7gr7g42zWGrW5jaGUzdLIuu2vFS/MZPV+14Ka5LAIDPygDAWLE1N/qSEUmXxEPiRdd5YyNCLiV7q6jIkKCrZiy0sXZMUVRFAUVRQQU9UehZR7fRs+uh6rWobKTrZ1nq28clusPC6uh+YKysMn70Wuhh6BVMRqRVN3hJGi0sC8MgFRNnLpmw0EEReIy24Bbz6gfEdHwBDbu7vmXOjShGxMOdJGUb7H47Fjrc0HaVr2quLPEjfdsrapduf+X72jjCYvXPXPgBnGAkMbvztR8DQCnLQk5HQc1zbvAEO1RVliW+98iLowO7AQAn6Ia2q1y+VgRBRSG7562fS2K2dd77WHvQYgsIuYTAp44deDoV66Ut7sb2a6yOSgTFcunQ/i2/Q1Bs+cZvvPHU57WY56/+9PGDz8VHO4v6LMyuvfXas3B1ZMfrnoWrpUwao+jcSD/l9gOCkA63EAune49ImZRn4RqFy2K0JdV92Lfk4vCO19iaJlOu3HBvYNVV8f1bHTPnp3uOWGtb+dgogqLaqWvMz+p092HGXx0/uCPf0CcEgoLpc0MxRJFVY6JQVUqy8YPB5/8wbHKoFXHdxyt3vxqfs8rx5C/GB26FpesUllWInn0qxoU2uqRMGCbK16JMPBiGyBMlhNXhX7ExdWx/4fPP5ymGN8qdJMXvwp46/+9BxmdSC9uwUDLGieU6e7B7CLNoDIJCq1sYDDsHalGGU1gLBMN9y9Y72xebFeclKEXYVnbgTivutJLVPmZmLUoRuNOKEDjhcwKKEkE3ytJklRchcNxtRxkKd9s0uSbBrAxVH0RIAnfZHGvn4W57Pu8p8j+ey+vQ8mr2mqUxjeAYWenRX4F5gQu8F6DcfuesBYGVl5vkp6AvPAtxrF+IkkT2QLfz0oXprYdURZXTWeelC7MHe1VBxOws1zUgDsesi2YQARfhd4ojMTmdU2WF6xqwLpxB+J2h3/3dftFsBMcUTsBdVjmdk7O8KojprYdOif/Upn2qopKVHu7YoCrJzksXjv7xReuiGYTfKadzydf36GmVF1EbE392y1RWr1zgAucHGMWoqkJYHXx0wm39Yhc75wGygrK0ZVadwovCUJQIuPLpgVGqLqiKEuF34S4bWe2Vwon09sPiaEIYimhyTaJwgsKLqiyjVgYAUJbR8p4q/1ouJSdwnQNaXs1eszSmVUVRJbncnY0xFrfeNbfxFrP0XOb8q9G7ztymW2bWmIctZyEYYyGdXsoTKPeKmWlhnbvAeIi73MZDI3RNnVk0EdzhdK5ep6XLGOtFlLEZB0HG5zVMaQAwbuJunP7Q5AhCt1TbVrSPa41/NU7O/wS50aAA+9p5zo1LjLuDEzhjZfwGkzzn7s/7/KvRWcu8pvfNqL7MLD37QBDUNXuZs22RSX4iMyN0XT0ZrMRtNsLnZ5qahcEBVZYdK1bFX39VVWRNglltmQP72PbZfF8vVV3N9fVQ1TWkP8D19pA+f+bgfnZWuxAe1Yy53h7NM253aMakP0DV1MrZjBgOm4pQclnNhq6tIwMV/NAA4fGhFCWMDHM9x8ejNN5ZKEwbt4I0asdWn3Kd/Vxn/7jW+FejfHoy/xPkZW+CJF/dbZJUuOdYad+B3qdN8nOX869GZy27u/5qFr2rUAwqS6okmn8CuM0h5zK0rwKQCQstT2S4Rdc3Jre8pYgiStFyMknXNwpDg/zQgDAypEsQHKdr6xAMk5IJwDAAAFVFGYsq8LjHAwCEx6sb6551YyE0gpJU7mhnYRG6DV1Xn9y2mWlqITye5Na3qZoa3c/5jdc++dNF5xbnX40uMBXcAWL1de6rPhwovOw7lXu6y5m0beFilCCY+gY5lwVVURUFt9kJn1+XZA7sC9559/D//pbw+amKKqqqGlBUzmbohiYlm7UtXIzStG5MBoJksIKqrFJEUTMmA0GEIAiPt7AIANBspGTKtmCRlExgLGsO8SxmyYy7RxOHUQSv9i0iMDqSOnag52leTAGAlfataP/4rqN/GU0c0e0XNN+GY/TWw78FgHlN73NZ6wicAYBq30LN4IWdD+qLvFRVbqxYVeNbjGN0Ohc63P+PeLp3zBN47I3NlRfbmICkCCOxA50DL0hy/rmlxa13RVJdqqrW+BYTOFOYtwznYo3KxKxx8bwv7u76K0M6GipW06SdExI7Ov+Q4+Oatky5AOB1tDRXrrPSPn3RbDTVvf3I/2jpMp5JnG0IXuR1tDCkQ5S5WLrncN/zWlRee3NT5bqh6J6WqktG44ePDb0+v/lWBMH2HHsonukvr9XKvajj0xbKBQDDsf17jj2sCTXKtxVMVqMTJpdRLDYMw2DFla5NT8WMKoxi2KpGJlA9HBowysvNnpRDH6eVSRSAoGj+ib8pGI9TxrhQctazZMbdLO2Nprr7RrcRGN1as0EQU1sO/UbXClJGH7cTOLN2zv872Pds/+gOAKBJOwLowpbbE9nBowMvazY5Ia4lFrfeZbMEM1z42NDrsiI2V65jae8b+34iyTwAuG0NC1vuGIzsGoruJXBLS9UlvJjefuT32vNAi1vvsjL+LB8tmrc852KNyscMABfP+2Is1Y2iRG9oiyRzTmtt9/AmbTuN8uVaaM+Ktvu6Bl/rD2+3WyrmN93aNfTa8eE3p+IZQ8n2+mvCic4sH7VQ7pk1G2Pp3l1H/wIAXnvzvKb39Y1uT2aHZjdcn8wOHR18uT6wQlWVHZ1/LK/ViyYwemHrHVk+VthhlWmrSWt0YmAYsvxKl6qo1S3MX/990KRFCZJ0+diqxsiuN2FsFxM4sREWQLH5l8JEAfneCqZkPE4Z40LJuYAK6t7jjyiqDACyIi5o+YDTWhNP9wFAf3hHe901JMEKYgYAgq52FdThaH4/HE5IAoCiKrIs6L9qIyiC7Tz6Z1HKAsDBvtzyWR+1WyqjqeMA0Fy5Lp7p29/zlGaZ4cIr2u7zO2eNxA5oEgwlSuWdlHOxRmVi1mBp76YDP9XGejHDcKN8uV57s6LIx4ffAIBI8lg4edRlrTsOE37epTzLiqB3JfF0n4Xy1PqX6FoUxbtH3uLFVEvVxYnMQDhxlCGd9YGVU9FqiDKnKBMe5dEp01ZTqdGJgMCBLalcWuk+mDOrAGh/FYrhiiSOvRAmT8G143lEEK3T0w7EY9DkMRoAAIOcoUvLVHZY+50AQDTdDQA2Jr9gYji2X1KESvdc7bDCPXs0fliSx59uLU8yO6h95wCA4+MAQBFWAEARzMFWhxOdumU6F+KEpNvWoEtK5Z0K52KNysSsEU4eLXygatJycYxUx9wCgKoqE35wAFDCcyE5IYZjlPG+viCmAUCUOU5IAIAkC8YnPctry1OmraZSoxNAllRVhYuudbmDRR4AkLksIEim94hpUHI+d1gWsFWjzU7ESyGMHXEDgAPxVKFNQbTOiXir0WYWsbOIvRptcSBeO+JuRDusiEOXmN2dOkR5/JSiKJKiSCSR7ysVRRqK7KnyzgcAmnQ4rbWDkXd040kRxr5zMP6dQgAAwygEQURpwqlMlLIkPr5aolTeqXAu1qhMzBrG7DqTlhtOHMVxusa3CEUwB1vpsTeHEoeNxlDCMwAgCFrrX7J4xl2rZ3/20vlfbqu72qhVVVXf4lFRJC2BjNWovHZSyrTVVGp0YnAZxebEnd5iHVYua2+e7Z43YYQIJ35JeC6ggNyvHK1H2+LKAe00xSJ2GSRRFZyIv1s5UI+2YYDzkHMhvh7lUEqNp9WEHXFrkoSa353qlENgtJ5GURxFce3cqNEf3lHrX+Jgq13WWkHKhpPT2HJAm0YpRJI5VVUIw48ZAAjcIozNyELpvFPhXKxR+ZhLMWm5yezQ4b6/z6q9ckbNRl5IHR9+Q5utmwozazZWuGcf6nsulurhxXSlZ15b3VVmo9NDmbY6mRqVJ5eRH/3psFkKoPW00b2b2apGmHhNOD7Cuvm6CZ+BiaoK7DMft5ulpVm8gDSLSjBFz7rDuhocJotWAwWsEm0UgGMRuw1x2RGXBCIDLA9ZAbhKtAFDMBfiI4BUQVVBpRCaRey6xOzu1GG3VKIIpqXdtnoASGXHP7Z0LpTI9Fe4OwKutuHo3sJrB1kRULTISakMqqrE0r0+R4susTJ+mrTHUt3jRifBuVij8jGXYirlVnrmdQ689OLOf31j30+mNTntc8wYiu4bjOzJCQlFlW2WCZeo7yInXKMTA0EQtrqJrW7CaItpjIgDwNJF1Ow2wu/D5naQSxdTe/YJuZyqJaorMbsN3X9I3LKd17pg3SYSVdZcRO3ZJ5IkNNYRhzvF2hrMZkUPHBZ7+6R5c8htO4Wbr7NoEllW22aQ2Zzy0OP5kWdLE6Fl37oj73nxAlKz6emT22YQe/YLFguiee4byDucP4f86Ids//GLZEsTcfft1gOHxRnNhMuFDg7Jf3sso9dK45iyDwFE63r2y5sBwItUjqqDXqSqWzmgq/TEUXmPCmpGTeqS0wSKYnOb3tcb2oyh5MyajfF0n37vWaN/dEdj5RqadBzsfcYo10hkBio9c/zOmZyQJHA6kjxmtijG0cGXF7fe1V53zVB0j3ZvK5EZHIkfNNudEOdijSaNuRTly0VR3MYEe0benphpSmT5iNvW4GCrFUX0OloDzvxeZqcEBEFxjEZRDENwAmckmS88cxTlZGpUnhkLrSSF+Kuplx8OG2NRVSV17IBj1gJF4ExzWDgArFxK/ei/k5/7hP3Gay0HDokL5pLBAKYlKBL5958mP/cJ+5bt+dvbus2W7fzwsLxiKTU8Ir+5mTvWLa1d5fi3Hyc+cY9t8zaeJBAAaKwnNEk8oeQ4NZ4YD8puQ7TsW3fkPbc2E5rN0kXkf/4i9dmP24fGPAOA5nDvAWHvAeHAIfHqjfDbP6Y/cY9NENVUSmEtxa/VTf1Ot3LIglh7lINGVZnEaWIkdpATErMbbsBRSlsBZDIYju2fUbMxw4WT2fF9hXS6hl4lCba9/loEkAwXnuLPO57u2975vy1Vly5ouV2W+VD80JH+F6b4lZ2Uc7FGk8ZcivLlqoocTnbObrhhdsMNACBKuUiy60Dv01NZIHKg5+m2uqsWtd6pqnIofnh75/+saPu42eiEqAssm1G9IX9ggXXOzwPAgZ6n+sM7jWZFOZkalSeTkKggufetZOGHpohCbM9ms1SbV7vjfayiQl0N3tklOhzorneExnpcS1y5wXK8WwSA7buFz33C/p+/SM1oyauWL6HiCcXlREfDyitvcCMh+RP32P77V6lP3GN74RXu/k/af/ab1MpllCbp7ZNmtBDP/CN38LCoFfzJe21a9hdf5TTPdTWYZtMxi8BxRFEAQUDz3NpMaA537xW++WXnH/+aWb+O1jzzvCpJAAC///PkExBnA0tm3M0JiT3HHzErDKAItnbu/zs+vOkMDL9PnnOxRlOJ+cRY2HKHokrdw5skRUAAoQhrW93Vg5E9nQMvmk3PEU5fjVx+YtGljuEefu+m8SW7OihJKyJvGmHl0Z/V1Z6i0RMf/4jN+BivUQWGXJPyhc845naQ939ywlyVKbvRpoznMqpzgiUz7p7TeJNZOpEK9+xLF3xl6qsK3l3OxRpNJeYTgKU9ly38mmnuaVHrndrY5FzktNaIYbEbPh5cda3brICS7yXM//r1FZ3y2HoLLfHQ41njY7xGFUx8wrc8P/lZUhDVn/w8aRSashttynguozrXwTHKwVb5nTNbqy/rH93OT+Gm1VnO+Vej8nBCUpKF+sAKu6XSQrmd1poZ1Ze5bQ2hKc+snW2c1hoxVtRfQ3EZucizhCXeS4gbDwoZDRdfFztdOF7VLwZLMRWb8xuGci1suQNAHYkdPHLS4+2zgfOvRuWRFXFn5x+aKtctbLkdx2hJ5lK54d1dfw3FD5lNzxFOa41SMWm0n7fY8cI5LMLmSB07QDrcZd5xd4ELXOACZw6Hl7jjS1Xrb/OaFQCl9sMqGIoVQNrcAOBqWmBWjEGwzsCcdWZpaVh/nVk0BSYNQ6O8wXRDPWGIigDVWI8yDBHwYzYbZrMhOI45HZoWwXHc7dJsEJLAbDajvVGrSQBFca9Hk08s5wIXOLcZ6RXio/l1+Ua09xJKmQmTSGC6JHQ1zccIOhcbwmlromefs362kI752leF9rxKO3zemcu52LCqKoy7IhsZoOw+jKC42HB65LiW3eKpYgMNuciAxGVsVc3Z8ACC4ZTdy8VHSKtbM+bTUYu3OhPqcTUt0CSqqtCuoCKJsa78HdYTC0MFlXFXEhabHgZGs/nsqagm0UNl/XVj2b1aWaokajaAolrMmZFuzfgEwBwOUFVQFbK2CqVp3OdRshzuccUeeUrhOMvcDlWSFF4AVSX8PuvKpdl39uv2ZHWlrtUkVFOD0NtHze1QJUmKxsyFnVlqH/x65LEnMjt3mRUAAEA3N3lvvrH/u98vfnNnChABf8Un7kNZVkmne7/2TbP6NHPy8Z9iCvYjKd/+5xZWB5ZNyY0dlm0vxE2qUu8lnDDCIq2u8KG3rcFGANVa0YSgaC46mIsM5GJDqqqED71t8dWwgfrwoc22yhbK7tEkenZX03xZyFl8NShJC5mkNdhIss70UFdmpFs3FjMJBMUAQJfQTr8qi7Iw/ijTiYVhDTaGD76lSOJ4GBjO+usQFNMlehF6dr0s3UaPWTc+AaTRMO5xYw47EfTLyZQ0GpHj8dzeAwrPA4A4EiKqKjQbqrlBFUSjvVGrSVRJwj1uTW4u6exDlZWT+bWLI6Her34j/Jf8djRnnpOM/9RS/cXPI+f6ffHSxEfFHS8l3ngialYAYCRNOjyKyJvuEk4YYWEE7WldIuXSyd6DjZfdfezF36uKQljstNOviPlFYmI25W5ZJGYSOJ1/UpR2BRl3BeOpykYGcYpOj3Rbgw0yn9WmyhSJBwA9O+30M54qi7dal8gCRzv92cigdggnGoaUS3taF6M4oYfBRQcbL7v72D9+CwiqSfRQ9ey0M6CVJaTjeRuHT4v5ZJAi0fTbW0FV4089Py4dO1sK/YPCwBCoavrtrQCgCY3241rdA4qCoggDRVZdnlVwR7sGvvcDs/Tc4ayKH3M4iIDfLD2PqG5htJXuQ92caWK91F3CCb2Xv2N1aP8boKq002+rbBk9sAmgyKC0iGSM8Sn90jYmgvPXJ3sP2GtmDu9+SZOceBhjksI7C4USzVgvq7jN+YJ1yWK6vo7w+4mAP/S7/3VfcxXudo/8+jd8bx9VV+u6fCNVWwMYJgwMRh55TBgY0HLRzU2uKy6naqpVRRFDoZFf/FpOp2sf/HrytTeY9jaqplqKJ2LPPJvZtRsAcJer8jOfRlmLKkk9X/yyXnTtg1+PPPKYfc1qkz0AOC5eZ199EWax8P390cee4Pv69VzWRQvdV19puiQsal8qfrKqyv+hD4784lfe295H1dTIqdTgv/+HnEyWime68SME7rn+eqZtJmaxICSpcFx66/bIo4/pGU3Ufeub4b897LhkHVlZKY6MhP/vb3xfP93cFPzovb0PfE3h8vvt+G6/DQDCf/1b5T99iggEEILQF/Ic/39fAEUp1f4IhrmuvMK6eCFKM1xXV+ThR8RwBErHfzZQ3Uy7g+RwNxfqH9+vVYNy+5lANeUOjGx6zqQaB2fy6/pIq8s0Ejt9oBhOu4LGce+ZDEMv6/zGumRx3Xe/RVZW+D5wW913v0XV13tuuN73gdsAgPB5rUsW404nZrX6bnt/5f2f1bIQXm/9D7/nunwD7nJhdjs7d44mr33w63XfftDS3oayrOOSdfXf/y5mHW9DS3tb3Xe/pR9CaXvbsqXVX/o8WV2Fsqzz0kvqvvVN41bX1kULa7/x1XEvpe1LxU9WVdV//98C99xN1dehFgvT2qrJS8WjMfX4nZdeUnn/ZxGSRDAs+LF7PTffaMxVSN23vlnz1a9Q9fWY3ea95eaar35Z+85Xf/mLtuXLNBsEx+u++y2mpVk7pOrrGn78Q9MlYal4XFddWf3Fz5PVVZjD7rn+2uqvfAnBsDL2ZwMuP7H+Nu/sleaJKgDAKAYlKcptHmBOaAspl1/XJ6Rj5sHLaUORJS42PL4Z6ZkNQy/rvEcKh4XBoVxnp5xM8t3dfHc37nICgDgaTm/dJsXjcjqdenszWVmhnSQc69bwx7tjzz0vxWJyMpl5Z4/uKrV1e3b/ASWTSbz8KqAoWTHJpgJF7R2XrIs//4LQP6D8//bOOzyO6tz/77Sdme19V7uSVsXqtnHBBYMxlm2MseE6tIRQY24cyiX80kjy/H6kwIUkEPLk5iY3IeFSkkCA0EIoCdgG996wZcvqxZJWu9red6f8/pjVastsMZIFOPo8evTMnvM97/ueszNn55w5MxMKebdsBQShW5qzS6aRT58vfgBACNz/0Y5YXz8XDkc6OlKmROMpgKierKyIdnXx8TjPspGOzqJGACCw/0Csr4/1B9xv/R1Tqaj6OgAI7DsgX5S8eE83NnDhcKSrO6NYDrnxIBimWrHc/fY78bNDrM/v/tvfUQkpWzAvnz7D3PmhlKm3As/DyvdewiILR2e4YOAiUQDgGYYLhwGAZ1mEIAAAk8vVV66m6utQikIQBMEwBEF4nifM5mhvX6aNJImR8ak0nucTCYSiMrJzyNUjGEbo9YbbbzXcfmtKhmvyLtoooM8Xv6CJDYvM+uXGk5Gdg6g+7nBStTUIjvMcR9VWx4cmJmHzwYyNCRtcNMr6fIROFwEIHjioufoqXKdjXC7ZvIuCBw4V/ZHOjQfXahGCiI9Xlue4uN0uMScv0eTqkx+nGpyUEnJ1zOfEJLSyvME/1JEI+bJFaQgr3Qc7IggKWZMxCZ9HPXsxzzJZszRFOiwEw3iWBQBpU3P49Kns7EwwmUyxaKl/7y7hWtjnFKrSlnCNsaGMh9Wk2uHzS+oYznpUm/GuO7lI1P7b37M+H1VdVfbA/ckMBIE8T63gEud2Q4KIHkUAwP7UH6JdXROJbP4JxPz6vPELCHfGZyIST0FE9b4PttD1d1c+/EMuEokNDHre/Ue2IpfUXbgAAIjQuGwgEDl1Wr5ooe+DrdKW5qGf/yJNI45YPDwApM9II2lzKWL68wLPczKDTW6u4RIxQqpUVTa7Ow9zTPb8VIoCK90/yXsJMblce9UGqtIGALStmtDphbdsAQBpseIqtbBN6PRkRSUgCBsK8UwCkSSftJfSCL+EKEmiNJ2ejkpITK6gKqsARTGFgtAbcLUmKx0AyPIKTJEc5VKVVVSlDaXpdA2CYVRVtVAWUygkRpPEXCbYTG3n8yuYTUFV2MhKG0rRGTbT2iE9/QIAIXCqqsr/0Q7W5wMA3GBIZSVGR8nKiYUgUwufYBJjLtJq4RPMxF/+20Tz6QvEf77BtVpcpR589KeDjzzmeP5PXCSSrciBMCSXdKMUhamUqROuwN598vnz6Yb6+NkhxuWeKCD04Dl7aS6My83FYhKLRfiIoChhMsXt9kzVeYeNRzkmznMsRkoBACelfJ53XgioDcRAR9RglYjcS5jnvYQ5wjQQDMdoOvn0FgDSYlVfvhKlKMX8hYTRpGldjclkdG2dbPZclCQzi0K6RjFvASaTK5csQ3AiPV1iNmtXr0UIAnhetWy5xGRWr2hFSSo9XbnkEkyuUF++EpPK5PMXYgqFcskynmHSNZhcgWCYdu3VAKBZuUa1bLm0vlFa15C+nc9veszKRUsxpZK0VgBAus30dkhPvwDgEwwbCFJ1sxAMIysq1GtWpbJ8H+2gamvVa1ZhKiWmUEjnzEandCjhff99VetKaUsLKqUJvU6x7JLUT50oovoC8Z9v+EQckRC2Rx+u/uWTtp89Ztx0Z+5RkIViyWKqpgZTKrTXXsN6fZHO5NliuP0MQpKKS5cFDhxI1ydcLp5lZfPnoSSJj98mIQrPcb5tH2o3XC0pt2JKhebaa3gmMf1XA2VGG88xY6f3Ok7usB/baj++rXCH5XUmJCRyaIs39wxLeC+humlBVnqhISHj87KhYGx4CAAAQYInP0alMpSWSqzljNeTcLkQDCfLKwJHDrKB7MfZpGsCx47I587D5HI24E9PB4BwV0ekuxMAEBQNt59CaSmuVqenE1qdf/9eBMcJvSExapfPvzg2MsQnEuka0lqOa7QYRQMAGwxw8Vi0p5swGNO38/lNhzAY/O/uE87m0m2mt0N6+oWB88W/6K6/TtV6RWJkZOwvL5vvvVtIT4yOjv7hfzVXX6VeeyXPsvHhkWhPb2bRDHTXbZQtmI/SNIJhtp89xkejYy//NXwq7z39wYOHEUKi3XgNrtVy4XC0pzd48BAA6G/+orSlOWWHi0Sdf34h2tWdT58v/nPlnOJHSbLs/vvGXnk13HYKeA6TyY133alcfql3y7ZsaRr+nbu0G6+VWC0Ju3302ecnHjzCccH9B5Qrljue/1O6nguHXX99TbP+av2N1yfGXIUXiHk/2IoQhPnuzShJRXt77L/7Q+pUY9oIOfpDjn4ASJ4KFJ2Mi/O73/ZkpwIAAJeIiT7TPW3UK4Zu/b8lnA7/gb26dRtc772tXLIs3NFOqDV0XT0Xi3l3fiQxmJSLlzJej2/PTkJv0KxeGxvo9+/fQ1orUhrgOMP1N0U6zgRPHKera1PpVHkFplCG2k4AgHbtei4SJgzGsTdfJa3lqXRpfSNpLccUCtd7b0vMZapLLosNDvgP7iMt1pRGfdkKQBC6ZtbI809rWtekOilCp5/ovPx+Ub/pSOsbqaoawmBw/+MdWVNLyiaktUO6r6ziM/zrQNXNMt5x28D/+2EqxXDbLazP537r7TRVBsI6rPSLrelor1mP0tKxV/6KICjP8/lmDz8Bn9PVhVJrNYrhhErnObm/aMeXAZIxUzgOik6skEIQ8WF2uiYdsXTdVetF0wEmro/q1m1AcFy5aClpLc+UlHQNNZ/9dNLtZNlMtUNJvma4oMHV6qonH5e2tCAoilKUfOGCqsd/Qo2vnxLF9ujDqbVsKRAcR0mSrptl+8l/EkYjihF660USSkGQCqnCpNRVoRhBkArhDydoWmHEcFJCKdO3ERSj5cmXyCdLobiEUiEISsl0xsqLJZQyy+9nH1JnktvqJSptVnqhIaGA+NWx9PlRnhfvAvPNoYqlh06fEk0HmHhftG/fbsXCRYzHExs6mylJe6d0AUrQpNvJsplqh5J8zXBBw3i9zj+9oNmwznjnbXwiER91OP/8YnR8Tqp0qLpZpk1fYUMh16uvJxwOc9USFJMQpMJctcQ10gY8T8sN5qolYb+dkukcg0ekChNlmZOIh52DR+Qqq7DNsQmCkA737AIACa0CnrfWXUFJNQH3QMA7SNIqbVmLc/AIO+kbzqYTNhLWzbuMY+L27X9PTy9yxjHDDDNMG6bKRaRUzcTDpFQz0rNHbahDMZyUavyuPoJShHzDWlNjJOiMRwOxiNdYsUDYJigFTlAjPXsBeEqqVRvqOJ5lExEMp1gmhuGSeDQQDtjj0eyJ5k8LM1ZlZ/tUqN7HJa+T5oDgMjkuU8qsNa6ju85hDmuGGWaYVhAEeEgeounb+TFWLMRw0jl0jBEeeSIsXEIQ4PlPdwJLiij0mNXLORFA5Kg6wHlQQBWoRoLQZ5lOI1YxyJwxY1U4QgQ5Hw+cHFWzPGNn+xAEVdbPxWVKjKQd+95PH8AVHxJeGEj0igUv3DvwzPbhl/dl5wEAQPXX15rWz9u39mfZGZ8x6h/aqL2sQdhu/79/9R7qycyfLNPTDue7Fp9j0mdXRGdacnAMHs74nHaF7lPsrQDAhFf2JtoAwIY39zOnqogWBKA30VZNtMT4MAooAEhRRU/ihA1vSkCcA5aBOADw+d9LODN//Dmj+xfvHf/3pwef25GdcY5YblpKaCZuNp5mpqoWM3yWCXF+G96sQvUxPmzBa2J8OM5HLXgtCrgMVSlQjRLVsnxy7QXDxylEFuWTz8UT3kvoOZmxMA3+dc6wLhjYUCwSikXOurMzzgVMSlbcudx7oDvhybgDadqYklrM8BnHwQ4KL1H3wVjui9ZPxvcAgJ9zA0A/c7qGmONkhwxYeZDzZljJZOYM618R1Xwbgs189TOcd3Lfpp7vtep9iVM8cH2JtuyMTKbjDAvBUMOa2bormqVVelxBJzxB996uwWe2s5E4AMhqjbN/dcfJB/5Y/9AXUAnW9cQ7GEVU/5+r2FCs6yd/D3aMFLUAANVfXyurMXY/+a7t7lXK2eVcjAmcHur//bbokCc9knTKblhs++rKwWe3D72UnNXiOZ6u1Nm+Jm6haAwAUP/QRuCh6+fv2L66Uru8AaMl0WFPx8NvRIc8F7/2wMhf9wu+Ku+6wnLTku4n3nFuOQkAs757jUQnP/XgX0pxMUkq71qhXVZPWTUAMPepTan0/Vc/wY/fe1y4HQAAwTHrzZcYVrVIDMqEN+Ta3j74/E4ulnGHrXJuheXGJfImK0ZLmEAk1Gnv/fUHsVFfuqYABVxI9IoFf75n5PWD/b//ML1Iyy9vlWjlR+/4XXLCOr8FgQJfFgDUfGMdXa7t+dU/q+9dLW+ystG4a3v7wNMflW4BAHAlXXH7cs2yOkJFx0b9jn8cH3n1AM9NHLGkWVW5aYVyTgWhkacugMXHAkdu+R9hu7CLwjtM0SOrqECIYZItWSIcsIXPrQSmo8PiWc64fl7M7ht+eR8TiCovqjRfuwBBkN5fvy8IEBytumf18Cv7zNctqr7/SjYUG3xup+WmJbavtbZ964VSLAAAXaVv+ukX/ccHen/zAWlQlt24uPGRG49vfppnROYdzRsX2r66cvD5naneCgCA45p++iX/sX5RC6XEAACEXt7wo+vYYGzw2R0IjqoWVMcdfgAIdzvoquStufImCxuOyRstQoclrTb4DvdCyS4mg2t7u/dgr255g+naBd1PvhuzJ3uQjMVlBdsBEKh/aKNqvs3+t8ORfhdt05s3LpTVmU49+FJqflS/qmXWd9ZH7b6R1w7EHH7SrFLNrYy7ghMuClPQRXws4Ds2oLuiuf8PH6U8kmaVosk69OKe5O93QQspP/m+LAFpjaHp0Rtd29udW9sUTRbztQskWlnHI2+mBFDQAkZLWp68RWJQ2F8/FLV7FU2Wyk1XSKsMXY8nV8OjErzpsS/yLNv95LsJf8SwarZ548LBZ7fb3zo64aCgi6I7TNEjq6hgSlpyCpmODgsATt7/x9S2c8tJ0qjULKtLPw5dO9pH3zkGGFp935rOx95ybT8t0crKblicEhS1gNES5z8+7vvdVuEjG47Z7l4lb7QETqatMuV4ADCtn191z+qzf9w19OKeiSwABMfcO9oLWCgaAwAomqzDL+8beGa78HH078mdL9RlVy2oBgAEQ+X1ZueWk/LGMgBAcJSu0A69tFeQleJiMoS6RgFAVmsEgFCHPdznzFYUawftsnrN0lkdj7zp3nVGEMRdgap7VmuWzvLs7QQAjJZU37cmMuQ5cd9zXDT5Ozz0QkZTF6aoi7EtJ2u/s155UaX/WL8g0K9sBgDn1uSAoqgFgXxflgAmJQef22n/22EAcL5/gmd50zXzZbNMQhsKFLBQdsNiulJ36tsv+k8MAoDz/RNRu69y0wrn1jbh90lWZ6asmo6H3/Ae6gWAUKddt6JRWmtiwxkrPAu4gBJ2mKJHVmHBlLTkFPLpTGSEep0SnRxBJ1aBCWePcWcAAISjKOELY7Qk3800uRYAYPTd46ntYIcdAEiTaiIbgA3HDWtmV99/5dkXdp99YXd6lkBRC+mIxgAAI68dzEoBgFDnKF2hQ3BUWmMEQMa2nZJWG1EJTlfoEBwLdYo/CSSfi/NNgXbQLm/gognPno6UwHekDwBUF1UKH1XzbZiMHHntYKq3OleKunDv7uCiCX1rc0qgb20Jtg9Hx2fxi1pIIfplpXDvnrAwtrUNAJTzbBPZAJDfgvbS+siAS+itBEbfPgoAuuXJ9RyYjAQALj5+izIPPCN2V0l+F7nk7jBFj6zCgqlqyalims6wZPVm04b58oYyiUaOUgQqwQEA0h4Rx0bjAMm7Z5I7ujD+QBGe5UuxAADpUyRcggGApGwcWYPZsGp2dNgz9GeR3gqKWSglBjYST/iSl2bTCXWNIjhKWbWKJku41xHqHAUUkdWayDIVG45Fhz2CrBQX00CBdqCsGpQilrz3YEoggCuTT7AgyzQAEBnIt4i5OEVdsJG4e3eH7rKGvl9/wMUZ2SwTXalLP60oakEg35eVhIeEe2IYG3P6AYDUJx/NJlDAAmlWBdJ6KwBgQzEmEKUsGuFj4MRgwhsuv/VSxhdJBCKG1haJQenOnJiDgi6ghB2mwJFVVMCz/NS05NQxHR2WelFNw4+vD3WPDr+yPzLgYoJR6xeXGtddlK3LT4kWsuZ9c9G3toxtazOsmVP51ZX9T23Lzi5oocQY+IT4j2TkrJuNxOkKnbzREjwzwsUSkf4xWWOZRCsLdTmEvatEF9NAgXZAECThC/f+d/YoNT46PmchHAhpU8vnSnEXAM6tbfpVLerFte5dZ/StzTzDura3p3JLsQD5v6wkCGQ8nRVBIOd3o4iFXCZOfYCNxE9/76XmJ77c8stbeYaNnPV0P/GOa8dELQQKuJiGHWZqWnLqmI4Oq+y6RTzDnX7wpdTVLpQiMiVFmLwFgaEX9wy9uCfm9Jffcmm42yHMeZfIZGPg+XCPg7JopLXG4Zf2AUCwfVg2y4TLqNR4cLIuSuaT9yUA0RGvtMbo3dfF5dlHhYl8qlwbODWUnVcaRV0AgO9IX9wV1Lc2u3ed0S5v9BzoYfwTz/wsxUIpSPTKuDN5ZJJGJYwPnUohOuwly9TpKbicxOVU6mwaAHRXNCe8oWN3PsUEo2nCUpmGHWaqWnKqmI45LARH2XAs1aa4klYtqMpQFGPyFgSEK/dn/7TLvaez+oG18oaybEV+Jh9DqGuUtunoCl2gfRgAgmdGZDVGyqpOdViTd1EijC8MAIRWlp1RAq4d7QiGmq5dmJ0xfu7gP9bHRuJl1y3KGo+XTlEXAAA8P7atTX1xjXJOBWlUjmX+9pRkoQR0l9WntoUpM/+xvlRKYdw7TtMVOuXcibke04b5kDkvpppvizv8qQUl58o07DBT1ZJTxSfcpc4J3+Fe5dzKqntXew/0SIxKy/WLEu4QoZJm6/IzeQsZ8ND9+Nstv7y1/ofXnfiP59PnKQow+RhCXaO2za1MMBob8QJAsH2Yunc18JDqsIq6QAmM0MoxqYQu1wIAbdPFXQE2HE94QhNztyUQOHmWizFV96waefUgF2dwBWV/60i2KA/uXWfcO8/YvrpSWm0InBwEBKEsGu2yulPffSk+FgAAJhjrf2pbzQNXzfnNHc4P2uKugEQnV82z9f76A+HkomgtiroQGNvSZrlxScWmFUwg6tnfnUqHki0UhosxlpsvIU2qUI9D3mgxrZ/n3nUm1O3I1uVh5I1D2uWNDQ9fLyxrkDdaTFfPc+1o9x7sSWkc7x6r+ca6RW9+AwCA5+OuoGt7+8Az2/PNvmdRdIeZPFPSklPIdHRYw68ewOSUfmWzaf28mN038vrBcP9Yy5O3ZOvyM3kLWbCR+JkfvT7nv+9o+MEXTn3nxVJOdycfQ6jTjiuo1KEV6R8Djud5PjK+vq6oC82l9XXfvzb10ba5VdjofvJd5/snUulFiTn8HY+8UXHn5VX3reY5PjLgKr3DAh46Hv2b+d8WGNfO1a1o5Bk25vB79nUxgYlBjeO94zGH33LjYuvNS1EJnvBFgqeHUqOe4rUowQUAhPucoW6Hotk6+vbR7CO8NAtF4PnT33u56p5VxqvncdHE6FtH+p/+KFuTHy7GnHrwLxW3Lzeum4srpTGHb/D5HcOv7E8JjFfNtW1uHXpxT7hvjOc4lMDoSr3li0vZcOxsnotCWRTdYaaAKWnJzwUYSbd8+xfZqeefmtu+Ka9uzE49/1TddA9ltGYlGi+9qv7uH9ZvfkiV9jh9UaUopSiVDRfV3PbN5m8+kasspXjpiDoSTRSYWu/TTM031uVeGptCEBxd/NY3K//9iqz02b+6vemnX8pKnCHFVJ5hUUarRK3zd3ycnXFhka+afa/8NiuFUKh1C1d0/P5hNhpJLXsBMWU+SlH6zxz3nzlev/mh7IzSikP+GmUh6kg0UaBE7/+aoASOSojU9JMALicpi0ZYVjqDKFPZYSlnzeYSGV/Ap0NpTxH6xJReTUKpYUJ+NhoBOO9RTYbSazTDVMFG4t7DPZYbFvNxNtzrQAiMsmqN6y5CSXzkjUPZ6hnGKdRhYbSs5pYHPB/vU89ejGK4Y/d73lOHFbXNhqVrel74L0FTtvp6Nhz0nNhvufIm2lLFs4x6zhIA6H72cQDgOVa/aKV6zhKMoj0n9jt2vgsAtKncvOo6QqFmYxHHjncCPacwkq69/Vuuozs1cy9JV6IS0rR8vaKmGcFxNhbtffG/2GgktzgASC1VZVfeiBFkcKAz1TVI1Pqy1ddLNAbgWNfhHe5jeecFNHOW6Be3IjjBs6xzzz+9pw4BgH7RSlRCStR6aUUtgiBdzz2B4kRuNXmeU9Q2Gy5ZSxnK+l75bXioFwBQCVn5hbsIpZaQq2Zt+h4A9L/y20TQl6sUxLnVFFWKxilKbnHRRiYUatEald50ouR6BwC6rNK8ciOCIJSxnIkEx/ZvdR/dletINE7I00q5xTPi+GzT+dhb1psvMV59kUSnABRJuIKBtrOd//lmuNeZLZ2hFDBa1vLtX2jmLAEAUmdq+vpPCKUGAJm16Xu0qRwAEAxvvO8RQplcuWtdd7N+0cqJ4iTd8u1fGJauAQBcpmz6+mOk1ogSZMM9P5JXNQCARK1vuOfHEo1BVAkAlitvKt9wO0pIAEDwIlocQdD6zQ+pGuYBgNRS1fKtJ+XVjYAgtbd/S4gTo+j6zQ/RZbbx0LKRqPUYLQMAUmdqvP9RIVG/aGXjfY8IszBCrkBWNVPMuvNBqbU6PUVqrRZ6qyyylLnVTJGlFI1ToH7zQ7kTRunF8zUy5NaoYNOJOhJNzAq++stfV9Q2A4CqaaHths0A4o7yxSnSSmLFx73NcGFS6AxLwHf6CADEXKNRx5DUYvP5Pe7DOzTzLo3882Vl3eyIfSDhn1gIl4v76E4AYEL+uGcMl6twmZKNRYN9ZwAg7h0LDXQoqhu9bYdylTG3Q1Hb3P/q74XRiuCFNlfkFg/0nMJome/MMQAID/fFvWMAIFFqKYOl4gt3jQcCpMYQGelPfUyH1Bl1F1+BIAjPA0bSCIoKTy8IDnRGHUMAwEZC2WWmjtxq5iNfnKWT28jZinNsutJBCQnHMADAswyCYpDHUdztALE4c1tJtPjk45zhs0zxDmvinYPJR+KDt+3grKWrMYpWz17sOZ58zEA+2Fjy8icPgoW8B1i2MvU/g+RwrwDJ2ykQ4Dm286lHij7WGqNlFdfc2f3Hn8fcDlwqb7j34VQWF8+4b/58IVJNEQrEWToijZxLyU13Ttg//Fv5httiYyMIho9sewNA3BFG0iAaZ260YsUvYCRybTzo1tbOd3cfzc5Lo7BAIlNpahaMnvgwO+PcKTGeXIQiMkNlyDmQnVeM4h2Wuvli97HdpM5EGSzhkX4A4JiEt+2Qdv5yUl8W6G5LKdlYNGtEk0vEPohKSHl1Y7C3XaLWy2z1zr0fZIvGCfa06xe3Dv3zJZ5hCLmKiYREiyf8HjYaVjXM8505RpvKJRo9AMR97rjHqVu8cmz/VgCgDJaY28GzIqsrMQnJA8+E/ACgmXdpdnYOpVTznMit5pTEWTpZNSq96c4JUmfytx8d2fZm6ldH1FF6kXRyW0m0+OTj/CygrZmPSsiox45Tcm//SbVtTjzkMTZfNnriI1Jp0DcujXpGeZ6jNeawa5hS6VGCjHpGAXhaYyGkCqnOKjNVRVzDOCVLFg+6hZTgaK/Q/jKjLVlcqRd8cUxC0CAISip1Ea8j5OibTDyJSEBV3hh09CMoKmShGCZESEhVUn1FyDmgrZ0viHmOpTVlHBsv3P0V6bA4JoFR0rq7vo+g2MiWV1MDFvfRnbO+8l3P8b3pQxLPsd3l19xe/7UfsJFQ9x+fTKWnwyXiA68/XbbqOsuVN3Gx6PD7r8bcDuFHNRf7h2+Yrri2btP3ERRjoqG+l37DRsO5xQHg7Nt/sqy50Xj5hlB/R7DnNAAAzw+88Yy5dWP9136AoFjMPTrw+tO82PrQuM/tOba79s4HuXjM23Yw7nVlKzLJraZ13c2Uvkyi0VvXfZkJ+e0fvZVvYCKqFKkmy4gqReOsuOYOiUaPy5UV19zOhIMjW16LOodziwtDLVGya5Sn6UQdiSbmeo+M9AOCqOcsVtTPRRA07nMNvvksEw7kOsoObhyRVoqGc4uLfsWfOyRytf3jD81zW6PeUbm5BkHRiHs47BqOeOxq25yx9n3GlssRBBk9ud08dyWC4iPHPjC2XI5iuP3jbea5rZqaeRGPXaovT4QDMqMNQbFUSnC0V3AhN1YJxQFA8IWRtKBhYuGAvSfmH5uSeADANHvFuC9EiDAR9gnTAqRCL4jZeIRjE0xs4oZQUXJOs9PAaFnjfY+0/fyb2RkAqIRquPfH3c89XvTwnmEGAJCW15pXbOh96dfCC7TLVt+Q8LnGDk7BwOSCxLJwXSzgAgB356Ha1V/p3vY8zzLWRetdnQeV1kZH2w5jy+VMNIAgKM/zOCUXUthEFHieVGijPgcmocNjgxH3SO3qTd1bnlFXzRFSOCZhmtvqOLmdUhuF4pTaJPji2YSgIVXGwFBHIjJx580niycedJMKXXC0l1TqhCwEw4UI3T1HzXNbHW275OaalJhSm3wDbRFP8k61c0a4SpidCgCAGC+9qnLjpuzkGWbIg7J+bvWX7kNQFAAwkqq++X7hqu4MohhblgtzdpTaaGgaH/6LzOLlTUGQ8anncXJTBHHKF4hqAGAS8UwYTGXlaATK5q2R6qzmi1qzMzIRLywgeoalalxgbt2Y8LkH33ouEfCmZ80wQz4QFC1bfYOscpZwhuU7fdi5b0u2aIZxcFrORIIAIJFr4iHveV11nPJVgGmIB8VwUqmP+hzneuF7hhlmmGGGGWaYYYbJ8f8Btvh7XGSVD9AAAAAASUVORK5CYII=",
         "type": "image",
         "xaxis": "x",
         "yaxis": "y"
        }
       ],
       "layout": {
        "autosize": true,
        "margin": {
         "t": 60
        },
        "template": {
         "data": {
          "bar": [
           {
            "error_x": {
             "color": "#2a3f5f"
            },
            "error_y": {
             "color": "#2a3f5f"
            },
            "marker": {
             "line": {
              "color": "white",
              "width": 0.5
             },
             "pattern": {
              "fillmode": "overlay",
              "size": 10,
              "solidity": 0.2
             }
            },
            "type": "bar"
           }
          ],
          "barpolar": [
           {
            "marker": {
             "line": {
              "color": "white",
              "width": 0.5
             },
             "pattern": {
              "fillmode": "overlay",
              "size": 10,
              "solidity": 0.2
             }
            },
            "type": "barpolar"
           }
          ],
          "carpet": [
           {
            "aaxis": {
             "endlinecolor": "#2a3f5f",
             "gridcolor": "#C8D4E3",
             "linecolor": "#C8D4E3",
             "minorgridcolor": "#C8D4E3",
             "startlinecolor": "#2a3f5f"
            },
            "baxis": {
             "endlinecolor": "#2a3f5f",
             "gridcolor": "#C8D4E3",
             "linecolor": "#C8D4E3",
             "minorgridcolor": "#C8D4E3",
             "startlinecolor": "#2a3f5f"
            },
            "type": "carpet"
           }
          ],
          "choropleth": [
           {
            "colorbar": {
             "outlinewidth": 0,
             "ticks": ""
            },
            "type": "choropleth"
           }
          ],
          "contour": [
           {
            "colorbar": {
             "outlinewidth": 0,
             "ticks": ""
            },
            "colorscale": [
             [
              0,
              "#0d0887"
             ],
             [
              0.1111111111111111,
              "#46039f"
             ],
             [
              0.2222222222222222,
              "#7201a8"
             ],
             [
              0.3333333333333333,
              "#9c179e"
             ],
             [
              0.4444444444444444,
              "#bd3786"
             ],
             [
              0.5555555555555556,
              "#d8576b"
             ],
             [
              0.6666666666666666,
              "#ed7953"
             ],
             [
              0.7777777777777778,
              "#fb9f3a"
             ],
             [
              0.8888888888888888,
              "#fdca26"
             ],
             [
              1,
              "#f0f921"
             ]
            ],
            "type": "contour"
           }
          ],
          "contourcarpet": [
           {
            "colorbar": {
             "outlinewidth": 0,
             "ticks": ""
            },
            "type": "contourcarpet"
           }
          ],
          "heatmap": [
           {
            "colorbar": {
             "outlinewidth": 0,
             "ticks": ""
            },
            "colorscale": [
             [
              0,
              "#0d0887"
             ],
             [
              0.1111111111111111,
              "#46039f"
             ],
             [
              0.2222222222222222,
              "#7201a8"
             ],
             [
              0.3333333333333333,
              "#9c179e"
             ],
             [
              0.4444444444444444,
              "#bd3786"
             ],
             [
              0.5555555555555556,
              "#d8576b"
             ],
             [
              0.6666666666666666,
              "#ed7953"
             ],
             [
              0.7777777777777778,
              "#fb9f3a"
             ],
             [
              0.8888888888888888,
              "#fdca26"
             ],
             [
              1,
              "#f0f921"
             ]
            ],
            "type": "heatmap"
           }
          ],
          "heatmapgl": [
           {
            "colorbar": {
             "outlinewidth": 0,
             "ticks": ""
            },
            "colorscale": [
             [
              0,
              "#0d0887"
             ],
             [
              0.1111111111111111,
              "#46039f"
             ],
             [
              0.2222222222222222,
              "#7201a8"
             ],
             [
              0.3333333333333333,
              "#9c179e"
             ],
             [
              0.4444444444444444,
              "#bd3786"
             ],
             [
              0.5555555555555556,
              "#d8576b"
             ],
             [
              0.6666666666666666,
              "#ed7953"
             ],
             [
              0.7777777777777778,
              "#fb9f3a"
             ],
             [
              0.8888888888888888,
              "#fdca26"
             ],
             [
              1,
              "#f0f921"
             ]
            ],
            "type": "heatmapgl"
           }
          ],
          "histogram": [
           {
            "marker": {
             "pattern": {
              "fillmode": "overlay",
              "size": 10,
              "solidity": 0.2
             }
            },
            "type": "histogram"
           }
          ],
          "histogram2d": [
           {
            "colorbar": {
             "outlinewidth": 0,
             "ticks": ""
            },
            "colorscale": [
             [
              0,
              "#0d0887"
             ],
             [
              0.1111111111111111,
              "#46039f"
             ],
             [
              0.2222222222222222,
              "#7201a8"
             ],
             [
              0.3333333333333333,
              "#9c179e"
             ],
             [
              0.4444444444444444,
              "#bd3786"
             ],
             [
              0.5555555555555556,
              "#d8576b"
             ],
             [
              0.6666666666666666,
              "#ed7953"
             ],
             [
              0.7777777777777778,
              "#fb9f3a"
             ],
             [
              0.8888888888888888,
              "#fdca26"
             ],
             [
              1,
              "#f0f921"
             ]
            ],
            "type": "histogram2d"
           }
          ],
          "histogram2dcontour": [
           {
            "colorbar": {
             "outlinewidth": 0,
             "ticks": ""
            },
            "colorscale": [
             [
              0,
              "#0d0887"
             ],
             [
              0.1111111111111111,
              "#46039f"
             ],
             [
              0.2222222222222222,
              "#7201a8"
             ],
             [
              0.3333333333333333,
              "#9c179e"
             ],
             [
              0.4444444444444444,
              "#bd3786"
             ],
             [
              0.5555555555555556,
              "#d8576b"
             ],
             [
              0.6666666666666666,
              "#ed7953"
             ],
             [
              0.7777777777777778,
              "#fb9f3a"
             ],
             [
              0.8888888888888888,
              "#fdca26"
             ],
             [
              1,
              "#f0f921"
             ]
            ],
            "type": "histogram2dcontour"
           }
          ],
          "mesh3d": [
           {
            "colorbar": {
             "outlinewidth": 0,
             "ticks": ""
            },
            "type": "mesh3d"
           }
          ],
          "parcoords": [
           {
            "line": {
             "colorbar": {
              "outlinewidth": 0,
              "ticks": ""
             }
            },
            "type": "parcoords"
           }
          ],
          "pie": [
           {
            "automargin": true,
            "type": "pie"
           }
          ],
          "scatter": [
           {
            "fillpattern": {
             "fillmode": "overlay",
             "size": 10,
             "solidity": 0.2
            },
            "type": "scatter"
           }
          ],
          "scatter3d": [
           {
            "line": {
             "colorbar": {
              "outlinewidth": 0,
              "ticks": ""
             }
            },
            "marker": {
             "colorbar": {
              "outlinewidth": 0,
              "ticks": ""
             }
            },
            "type": "scatter3d"
           }
          ],
          "scattercarpet": [
           {
            "marker": {
             "colorbar": {
              "outlinewidth": 0,
              "ticks": ""
             }
            },
            "type": "scattercarpet"
           }
          ],
          "scattergeo": [
           {
            "marker": {
             "colorbar": {
              "outlinewidth": 0,
              "ticks": ""
             }
            },
            "type": "scattergeo"
           }
          ],
          "scattergl": [
           {
            "marker": {
             "colorbar": {
              "outlinewidth": 0,
              "ticks": ""
             }
            },
            "type": "scattergl"
           }
          ],
          "scattermapbox": [
           {
            "marker": {
             "colorbar": {
              "outlinewidth": 0,
              "ticks": ""
             }
            },
            "type": "scattermapbox"
           }
          ],
          "scatterpolar": [
           {
            "marker": {
             "colorbar": {
              "outlinewidth": 0,
              "ticks": ""
             }
            },
            "type": "scatterpolar"
           }
          ],
          "scatterpolargl": [
           {
            "marker": {
             "colorbar": {
              "outlinewidth": 0,
              "ticks": ""
             }
            },
            "type": "scatterpolargl"
           }
          ],
          "scatterternary": [
           {
            "marker": {
             "colorbar": {
              "outlinewidth": 0,
              "ticks": ""
             }
            },
            "type": "scatterternary"
           }
          ],
          "surface": [
           {
            "colorbar": {
             "outlinewidth": 0,
             "ticks": ""
            },
            "colorscale": [
             [
              0,
              "#0d0887"
             ],
             [
              0.1111111111111111,
              "#46039f"
             ],
             [
              0.2222222222222222,
              "#7201a8"
             ],
             [
              0.3333333333333333,
              "#9c179e"
             ],
             [
              0.4444444444444444,
              "#bd3786"
             ],
             [
              0.5555555555555556,
              "#d8576b"
             ],
             [
              0.6666666666666666,
              "#ed7953"
             ],
             [
              0.7777777777777778,
              "#fb9f3a"
             ],
             [
              0.8888888888888888,
              "#fdca26"
             ],
             [
              1,
              "#f0f921"
             ]
            ],
            "type": "surface"
           }
          ],
          "table": [
           {
            "cells": {
             "fill": {
              "color": "#EBF0F8"
             },
             "line": {
              "color": "white"
             }
            },
            "header": {
             "fill": {
              "color": "#C8D4E3"
             },
             "line": {
              "color": "white"
             }
            },
            "type": "table"
           }
          ]
         },
         "layout": {
          "annotationdefaults": {
           "arrowcolor": "#2a3f5f",
           "arrowhead": 0,
           "arrowwidth": 1
          },
          "autotypenumbers": "strict",
          "coloraxis": {
           "colorbar": {
            "outlinewidth": 0,
            "ticks": ""
           }
          },
          "colorscale": {
           "diverging": [
            [
             0,
             "#8e0152"
            ],
            [
             0.1,
             "#c51b7d"
            ],
            [
             0.2,
             "#de77ae"
            ],
            [
             0.3,
             "#f1b6da"
            ],
            [
             0.4,
             "#fde0ef"
            ],
            [
             0.5,
             "#f7f7f7"
            ],
            [
             0.6,
             "#e6f5d0"
            ],
            [
             0.7,
             "#b8e186"
            ],
            [
             0.8,
             "#7fbc41"
            ],
            [
             0.9,
             "#4d9221"
            ],
            [
             1,
             "#276419"
            ]
           ],
           "sequential": [
            [
             0,
             "#0d0887"
            ],
            [
             0.1111111111111111,
             "#46039f"
            ],
            [
             0.2222222222222222,
             "#7201a8"
            ],
            [
             0.3333333333333333,
             "#9c179e"
            ],
            [
             0.4444444444444444,
             "#bd3786"
            ],
            [
             0.5555555555555556,
             "#d8576b"
            ],
            [
             0.6666666666666666,
             "#ed7953"
            ],
            [
             0.7777777777777778,
             "#fb9f3a"
            ],
            [
             0.8888888888888888,
             "#fdca26"
            ],
            [
             1,
             "#f0f921"
            ]
           ],
           "sequentialminus": [
            [
             0,
             "#0d0887"
            ],
            [
             0.1111111111111111,
             "#46039f"
            ],
            [
             0.2222222222222222,
             "#7201a8"
            ],
            [
             0.3333333333333333,
             "#9c179e"
            ],
            [
             0.4444444444444444,
             "#bd3786"
            ],
            [
             0.5555555555555556,
             "#d8576b"
            ],
            [
             0.6666666666666666,
             "#ed7953"
            ],
            [
             0.7777777777777778,
             "#fb9f3a"
            ],
            [
             0.8888888888888888,
             "#fdca26"
            ],
            [
             1,
             "#f0f921"
            ]
           ]
          },
          "colorway": [
           "#636efa",
           "#EF553B",
           "#00cc96",
           "#ab63fa",
           "#FFA15A",
           "#19d3f3",
           "#FF6692",
           "#B6E880",
           "#FF97FF",
           "#FECB52"
          ],
          "font": {
           "color": "#2a3f5f"
          },
          "geo": {
           "bgcolor": "white",
           "lakecolor": "white",
           "landcolor": "white",
           "showlakes": true,
           "showland": true,
           "subunitcolor": "#C8D4E3"
          },
          "hoverlabel": {
           "align": "left"
          },
          "hovermode": "closest",
          "mapbox": {
           "style": "light"
          },
          "paper_bgcolor": "white",
          "plot_bgcolor": "white",
          "polar": {
           "angularaxis": {
            "gridcolor": "#EBF0F8",
            "linecolor": "#EBF0F8",
            "ticks": ""
           },
           "bgcolor": "white",
           "radialaxis": {
            "gridcolor": "#EBF0F8",
            "linecolor": "#EBF0F8",
            "ticks": ""
           }
          },
          "scene": {
           "xaxis": {
            "backgroundcolor": "white",
            "gridcolor": "#DFE8F3",
            "gridwidth": 2,
            "linecolor": "#EBF0F8",
            "showbackground": true,
            "ticks": "",
            "zerolinecolor": "#EBF0F8"
           },
           "yaxis": {
            "backgroundcolor": "white",
            "gridcolor": "#DFE8F3",
            "gridwidth": 2,
            "linecolor": "#EBF0F8",
            "showbackground": true,
            "ticks": "",
            "zerolinecolor": "#EBF0F8"
           },
           "zaxis": {
            "backgroundcolor": "white",
            "gridcolor": "#DFE8F3",
            "gridwidth": 2,
            "linecolor": "#EBF0F8",
            "showbackground": true,
            "ticks": "",
            "zerolinecolor": "#EBF0F8"
           }
          },
          "shapedefaults": {
           "line": {
            "color": "#2a3f5f"
           }
          },
          "ternary": {
           "aaxis": {
            "gridcolor": "#DFE8F3",
            "linecolor": "#A2B1C6",
            "ticks": ""
           },
           "baxis": {
            "gridcolor": "#DFE8F3",
            "linecolor": "#A2B1C6",
            "ticks": ""
           },
           "bgcolor": "white",
           "caxis": {
            "gridcolor": "#DFE8F3",
            "linecolor": "#A2B1C6",
            "ticks": ""
           }
          },
          "title": {
           "x": 0.05
          },
          "xaxis": {
           "automargin": true,
           "gridcolor": "#EBF0F8",
           "linecolor": "#EBF0F8",
           "ticks": "",
           "title": {
            "standoff": 15
           },
           "zerolinecolor": "#EBF0F8",
           "zerolinewidth": 2
          },
          "yaxis": {
           "automargin": true,
           "gridcolor": "#EBF0F8",
           "linecolor": "#EBF0F8",
           "ticks": "",
           "title": {
            "standoff": 15
           },
           "zerolinecolor": "#EBF0F8",
           "zerolinewidth": 2
          }
         }
        },
        "title": {
         "text": "Hahtags Word Cloud"
        },
        "xaxis": {
         "anchor": "y",
         "autorange": true,
         "domain": [
          0.26694915254237284,
          0.7330508474576272
         ],
         "range": [
          -0.5,
          399.5
         ]
        },
        "yaxis": {
         "anchor": "x",
         "autorange": true,
         "domain": [
          0,
          1
         ],
         "range": [
          199.5,
          -0.5
         ]
        }
       }
      },
      "image/png": "[encoded data removed]",
      "text/html": [
       "<div>                            <div id=\"537e03e8-ea82-4f6e-8902-46485e338ddd\" class=\"plotly-graph-div\" style=\"height:525px; width:100%;\"></div>            <script type=\"text/javascript\">                require([\"plotly\"], function(Plotly) {                    window.PLOTLYENV=window.PLOTLYENV || {};                                    if (document.getElementById(\"537e03e8-ea82-4f6e-8902-46485e338ddd\")) {                    Plotly.newPlot(                        \"537e03e8-ea82-4f6e-8902-46485e338ddd\",                        [{\"name\":\"0\",\"source\":\"data:image\\u002fpng;base64,iVBORw0KGgoAAAANSUhEUgAAAZAAAADICAIAAABJdyC1AACr\\u002fklEQVR4Xuydd2DcxpXwHzqw2N7ZOyWRVO+S1WzLknt3Ysd2HCd24rRL4u9SLnGaL+XSLrmS3u7SLnHvcdyLbHXJ6hJFib0st1d0fH9gCYLYQlLNkqzfH+TgvTdv3szuDgaDwQDgAhe4wAUucI5SYZ1pPGRwu\\u002fHQpD0XQXAUwVCzdCKTGuiUspxKKYVMJdekBmcGKuAoJbHOrJyoKac6taA4imKIWTpNULxkC5f3r2nL25wkuFnwHsZJV9oIH4WzLOH2MDVJPqSAUmeffzyxXVUVTcLirhrbnJQYFmVOk6igWAlPnB\\u002fCEMJJV6aE0Rg3YHZ9doBSBGYhEQy1z66JvHGYCjqE0STG0nKGx+2MkuMJlxUQBLfRdKUzsbNbVVQAkNMc4WL5UBIACBcLAHJWwCyklMhSAYetozqxs1vhRcJlFcIpzEJKyRzusACAfXZN9M3DuMMipTjMQspZAbczcprDLKTRXkzkqKBDGE2dZGxnALY1yNR60wcHMQsZuGbh0CNbVUl2zKvLHB1RZUWTyCmObQ6mDw0WGusqusrlXNSYOjgAAJqNlRJpOxnuSrJemksKAMClRIuTysZ5q4dORziLk+KSAuMkhYzEeun4QEbXSoIMAEJGIlkcxdDaRd4jLw+SLC5yssQrCApWD82nRdZLJ4eyJItnIjwAEDRGsriQkRgnSVpwvXQhKy25vWnTLw+zXjrak3ZWWXJxQc+r+e96Y5j10qlQjrTgtI2g7eTQgZjFSQFA7SJv7\\u002fawbhPvzzgqLYmhrMVJ8RmRtOCZCO+ssiRHchYnlQrlJrTvFLjQYY3jpqqPJbY2OpbgKMlJGRdd3Z3ckeJH00LYQQU1iaxKfak9jY4lEa5Xk0RyvThKS4pY5ehIC2E7GThrOyym2uW\\u002ffN7x\\u002f\\u002fqHqqredbNwG6NKssyJKIFnjg7nejm2OSAmsqCqpNfmWtYCCNCVzvSRYVWQtE7BvbKVrnSGX9rvv3xepmskc2RIswy\\u002fvJ9tDrgvapWSHO5gqICj5xcvq6pacfNSKuAYeXKH\\u002f\\u002fJ52eOjmaPDjkvbpSRntFcEEbcxyXd6TjK2M4ECuJVWOIEfjmePhXLdo2xrhRBJ2zpqhh\\u002fbpkkAACGwosa6yr1yxuDfNgMA2xzUbGy1FlVRFUUNznJSVtxVw3Ip0VnJHt8ckgS5o7nGWckO7Y8NH4yHU6ngLOfM9ZW61uqlXTXsvqf75t1Y\\u002f\\u002fy331EV1V1nnXdj\\u002feC+GJ8ScQqTBLl7y2hwlhMnUc0GADSb0c7k8ME4ZSP00ocPxEKdSS1dM98ztD+WifLGvLrlzEsrc3Eh1p9RFXXZXS3OSvbF7+9RFTUVyuk2lbNdjIMkGMxZycYHMrm4oMjq0P6Ybs9nJEP7Tk7Jsd97EF7JVlnbURR30VUESqmgqKpC4haWcOsSDMGrbB28ktUlCIKISs5NV6eEURwl4\\u002fyg2e9Zg62jRuFFpsZjqfOqsqJIsioruI2WOSF9eIj0WJlaDzcYo4JOPpTkBmNiNM0NxPmRhKXBr3nQJJofRZB0Sy2vlhZGk7HNR0mP1VLn1dKavVZKob0WycnHdgZAMERK5mwdNaqsEC6WqfHYOqpxKw2KqkuYGg\\u002fb6Gebg4XGuirXF6m4YYl1RoVuE+tNO6tYm4\\u002f2NtjSYS7Wm0kO5zpfG4ocT\\u002flbHFpayEqD+2KajVGr2dcs8Eqc7Gmw+ZrsWnp4f9xVY9VstFyaXKuLltZ8GkvPxYVMhNfSkqDocqN\\u002fTZIYzMb6MlpeLR6rn\\u002fE12Y02qqzKoqJpNXvNZ75GuXwwFzhBEMhfe08vgeT7fV1ylmKIzndpR+Dq+bidAaQg5kklY0cIWmCpYbRHJmmV8UgKJZNGUlRyOhmfQdPLLUyMUcR4DL3pdJvCxtQkxr+ltAAwoZERAICG5X5\\u002fix3K2owfFfjXKJ53IuZIDMy+unbh+xoZJ2nUlrG\\u002fwAUucIELTAGypsosmiYIjuNup1l6SiH8PrPoNINZWcyZv2eE+7woTU3UTxUExy1zO3Cfx6y4wAXOX07jHJZt3UUmiWXBHECnUSJCEpjdZpaeUnCv2yyayHRjnhSiupJubtDSlrntmNs1UT9VVFlWFdkyu82seJfY\\u002fE5gwxW0WVrAKW3LKdHYhL+xPbC3K\\u002fja1lMw27V4GfnMy76CK7wT5zxrt1Jxnqp2O\\u002fV3CVHW4rxqgxxPAABms9ovWY2yluQrmxAcs1+6hvD7uM5jUmhUl8uxmPPqjaAq6c07hP5B59UbEILgjnRxBw\\u002fb160SQ6N8dx9K0\\u002fYN6xAMy2zdSQR8uNeDuZ3ZHe9wncd0e77zmNEGc7twlzP15hY5kbCtWYHSNH+8h+s85rhsHQCkN22RkynryqVE0J87cNjoXxgY0n3KiaQeszg4NB5n3\\u002fh9QGMd6dZGwueRInGEodKvv63LyQq\\u002fHrOWi6ypIioCAGBdtgihyOyOd8ShkfE2McSM2axC\\u002fxAR8MnptNA3aF+7UrMRB4fkWILwefVITgAEQVVVBVDNitPG0y\\u002f5rl4\\u002fKk\\u002fv1tBJcaxLWrVo5JobmPu\\u002feGpOfpKoqmeuwfKcK+1WJs5T0m4l+sOTwLp0UXrzttTrbyE4LqfSqdff4jqPWea2C7394uBw4h+v8F3HjXLUYkEZOvGPV4W+AaZ9phQKxx55Krf3gCrJmR27tUtCdvliOZ7gDnU6NlyMuZx8T1\\u002fs4afYpQuN9mabY92xx562X3wRgmGE3xd79Onsrr32tStTr78de\\u002fxZ+\\u002fq1So5LvviadkYw5jX6NMZsjNNYX2NdiIpgevMOVZJQijLKjTEDAFEZtMyfndm2CwByBw5rcqO9MWbM5aIa6zCng6qvlRNJ3cYYw4mBYoS3cjZJWUnKarEF7O56FCNIyqppcYKxWP0oRpC0XdNOyHxCBIJYY9OpP0eeSbZtFq7dEDZLTzPnSruVifNUtdup77AQilQ5XuEFUBR2yQLLgrlKLodoI8WxDtYolyLR+JN\\u002fd1y2lpnVitK0nM4YvWmgDKVwvCpJiedfBgA5mVJFERDEaG+yUQVRlWQEwwBAG+4BAEKSKseBomhyHWNecwxjMRvjHNdOrAtIoirLqiCY5YaYAQCz2zBbvl\\u002fQ5Wb7sZhVQQAEAVVVZYVdPH9Ce54c\\u002fuoFJGUjaFvtjPUUbUdRnLH6ames17SqqlidVcHaxS5fq6admBsIAnnw3xw7DwY37Qx86B6W4\\u002fINNXc+8Zs\\u002furfsCew4EPzTI55Z7QQAUBTy6LPe51\\u002f3AcCezor9xyv2H6\\u002fQPoSi9mXkm3YGNl5J\\u002f+Uxz56jwX+84b\\u002f8qvz1VCn7oixeRr7TGbTZxi9Rvvdj5\\u002fd+7AQAFIX7v2R7fZt\\u002fz9HgK2\\u002f7P\\u002fPP+fFFRRWmCbftD+q5ytiX4rxstzJxlmo3AFiynPzTI57dR4I7DwYfftrr8aAwWXuegu+9ieyuPY7LL3VsvFgVRZBl3Ocla6tVVQEAoXfAdcOVVGO9UU5UBtkViwHDAUFy+w+yi+c7r9rAzGnHfV7riiVUSxPTMSuzeQfd2kQ1NZimtIz2JhvryqXu912f3b3PaJ9+a6vzmo2um67O7NxjlBvzGn2CIWZjnMa8pjpOLgfgDnWmN21xXnXZBGkJeykcAQAxNIqgyIR2C\\u002fjYZYvoGS1M2wyj\\u002fdRRVRkjGIe7QZaFXCZCs24trWlJ2s5Y\\u002faqq4KRF007MDR+5j71oNXX7zZEbrwzPW0j6A\\u002flzQDyuPv1E7rqN4ctWhfp65H\\u002f9ngMAeF694YrwB98fAYA5LUPtDUPtDUOyXNK+jBwAvvEdxy\\u002f+K716cehvf85+50dOtwctb1\\u002fIts3C0IB8+dX5tRQkiVx8Gf3o37IAcPV1zMYrmTvfF71oQegzn4htfTvfIEMD8urFoU9\\u002fNKY70ShlX4rzst3KxFmq3Wrr8d\\u002f80b15k3D5utENa0K\\u002f\\u002fGk6ElFg+u15KkBR\\u002fVeN4BPGMgieP1Eb5QiOGSfrTMMfnanItbT90jVEwFd8AhBBjHLfh28f1xT4yaeNMRfzaaqjTil5KaZiPxWbaYAgML6qypA2on2UBfOlL27yf\\u002fDDrJauqMIO9VYUTh7PX0juO1ahZ527gDjUW4GZx2rjmOyLyjftDHzxq\\u002fkHPFEU9h2rWLaCNBpDMT\\u002fX3MCYJo\\u002fvuc\\u002f6p0c8Wvri9fRLb\\u002fk1+\\u002fffbnnhTb\\u002fej5hYewllGimUty\\u002fkfG03KBtnYbt9\\u002fduOP\\u002fwt78dI+fYs5vvkUcbHCKo0YTGrKuWn44xys43WMxcwFbmWlkJh7Zp03EhHVbWrPKZtBj2zRZtIymsK\\u002fOTTxWI2Ml15KaZiPxWbaWCcBS01I6rJJ2oxHCoqsa6j+ZYZGpB5Pm\\u002fg8aAf+7R1+UqKtSIoCjgOKAZFZ2E1StmXkgNA5+G8O0WBXE612tAyfkrx6EPZf\\u002fpnW00t1tcrb7ySfuyhnFbFJx7NrbmYenGT74W\\u002fc7\\u002f\\u002fVWbvO6I550SmZX8et9t0aWrBd+0oMnoq355FxgvnAdk9+\\u002fU5IBNV1RgAXHEtkztwOPbo09k9+80WJbjiWgYA5sw3n5Smgl6oWXEugyATOjFp7Hv1n79y1dbhH749um5Z6DP3xcctSlDKvpQcALhckZ9IGfuiRMLKqy9x197IEASy9lLq8YezmjyXVe+7O3br9RGeU\\u002f\\u002fymPfeT+RnG0sxXfvztd2mC4pC0bvT5dvz9Iywzg6uuIZhrUjnYcntQV\\u002f+B3fpRnpoQL7tLvb3v0zXN+I332Y5ekRSFGiZgR\\u002fcL9Y14CyLHD0iRSPKRWup3TsEHEc0FUEgM2YRXh8aCGLts4k9u4QrrmU0Y1mGlhl4Lqc++0T+ufMTK7SiEtNyEQTU1OHHjkqqmrfBMEQrYnRE1lSJuLJ0BXVwv9jcijuc6MiwTNOIljjWKc1bRB7aL+J43s\\u002fuYiexk0eWYGhQbmrGN73OA4DHi7JWBAAoCpm\\u002fkPzwB6IjwzIA1DdOGNhr520MReSxr2op+1LyUkzXXuPhv2Q\\u002f\\u002f4B97zviwX1Sf9+Eoev+veK\\u002f\\u002fL\\u002fEpteFb33f8cv\\u002fThtVRZmi\\u002ffndboVxlqGrU+qYW3KCv1R7np8jLI2KKuyhP2cXLiFVFRYtJTEMOXRQPHxA7DwsKTI89Ofs7LnEvIXkw3\\u002fJLltJ1dbhmuTSjfSffpfZv0fUVQuXkH\\u002f9Y4bj1JFhmSAAAHTjhiac49RkYvza88QK1XMFK7HtW4TdOwTdRi9CV7FWJDQiL1xCkiSSTqmMBdETl1\\u002fDpFNKxxxCN9YDO+U88tfsXfewbR2EP4D985ft2jU0z6uRsLJ0BUkQSMcc4qMTT499vbIkwRVX0xYWCVZgZexLyUsxXXuNN17jLRbk1jtYbbpd4+L19OJlpMuNejzovIVEX+8k1+DTtT9f2w2KxVmG\\u002f\\u002fl1Zsky6qOftPoDmMeLXnIZrd18LN+e53OHxVqR62+xRCPK6y9zd3\\u002fM+soLnCyB1481NOHZTL6LGQ3J19zAjAzLuuR4l\\u002fTBe6yz55G6KhpRrr3JQtNIQxM+s51o6yB043RKqazChgfH2\\u002fTECtVzAYAm1G2MRWiqBYspuwOVZVAUUBQV1PHEoQMiy6La1IDu\\u002fDTx659lNm\\u002fi\\u002f\\u002fSw57HnvPv2iHt25zvHL34uvvFKeuehwDe\\u002f6\\u002fjyPycEYfxkm4grX\\u002f+XxGc+b3trZ+AXv3eVty8lL0Up+2\\u002f\\u002fwPHWrsC3f+AMBLEdB4KvbvEvWZ6\\u002frpdlePRvuUVLyeef43Q\\u002fLjf6re85Xtns\\u002f\\u002fvr\\u002fqZm\\u002fLOfiGnyL3\\u002fDvmlX4D9\\u002f6bLZkJ0Hg69t9a+9mCpjX4rztd2gRJyl2q3rqPSxD0UvuYx+cZPvhTf8H7mPxXAEpt+epwYEQfU9DN4t7rib1e7pNTTht96Zvy9TeJevUKLfIdRVhTYaH\\u002fu0bVY78ZGPj5+XTqxQPZcRTVJYhK4qSolbqRcozv1fsn3zuw6z9AKTcba0G4pgDG5HEYzGrThKUrjVSnq0vZ9Ywk1iFhKzFGoxhCAxiybR0jRurbDOwlESQVDNp+ZBS59MWRPjLYe2zAQAKquwMr\\u002fwk4GikOZW3Hgf98QK1XMVUljE6QNBMQRBtb9m3buBFkb5YE4sWpJEWCuybAW5dV+gocTi7JPE3TjfeEha3cbDMpCsIzB7nVk6xtT9nA7OQLuVx1xkgG1RVMlKehnckZMSgpzLinFtLYCdChAoZSGcosKZtCzpqrbN4eW0IOcS\\u002fFC1bc6B8IsAaoBtERUeQ3BFlSK5XjsVsFN+RZVyUvKEy5oQblm0KywAGByYZFphUlAcBRUU2XyRxfPq0SOSUXJiheq5oKCswiJODIygMJySRA7DKZyyYJQlFx1UVQUQBKcsEp\\u002fFcApBUVugKTXSZQs0xfr2YTilyAKGUyKfoaxuMZvU7DGckoQsZXXzmRhBsbLIYwQlCTmcskhcBiMZiUuTVpeQTRAUK\\u002fIZkrYJXIqkbZLIEYxNzCZ0n3wmpsoSipMYnt+1QpZ4vVxboCnWv99dNzc5eFiLXJZ4LVoEQVVV0WOOHN85sbqTsHQF+V+\\u002fcsWiyje\\u002fkjzedQqa14jVX8+4KwnGRjv8tormbHRAVWT\\u002frItG9r2qKoomkfmclqCsbpSguPiIxGU0SSbUo33PnbUd8d59zrrZQibOOAOZ0R6UoDQ\\u002fudiwudQzwmltt6lg7rAyYtRvacpJyZQQxlGSlzJZKe5hajkpbSU9SX5YBVVRJZPWinhlVcxJST6\\u002fj7DIEm4r6R1KH\\u002fJa6qO5Xr+lKS1EraRnJHPEb2kayRw94bJg2ttATxucxgkLIXESwRJCSiAsBIIhwQXBvjf6ZEFGUITxMEJaYDxMejDNeJj0UBoAnA1O0k7Gj8UZDyMkBQAQ0gLloPgEz3iYXCRHOSghJVAOSsyKWl5dK\\u002fMyAIhZUS+r97VeLQZTiZnhDGEhctFpt0Jg5iqJz6bDPf7mpbG+faqqOms7xFyKtnkz0X6cYv3NS7u3PgqqKmQToKq03edvXirkkhKfVWQRJxmRz4i5lMRn\\u002fM1L05E+nGRQnKKsLi45KoscAJKJ9ruqO2SJRxA0E+2vaFtAWV3JoU5FFq0YochicriTdVdTtXN0nyOH3gQAraxsfJi2ecLHd+rlqorsqZ9HMHZnTYcWeTY+nIn2u+vmqrKcSwy7a+doMZtrOxlvvMrPbTldv3lrsHF4z8vBORdjBCVmk9ZAY2j\\u002fa9noYC42zHprNEl66KiWQDF8aPcL\\u002fvbVmZHjmiQT6hnzpFqDjQiKgqpiFCOLPJ+KaH6MxZ1JTmu7TQVzh5XkQyl+VAUVAUQdG84MiPtUUDujb+pmhVpdFcnlm7sz+qaHqYtku1NCWPOpeUjxo5rBiZWly08f9lp763Wt2dEsn+BH9422Xte6+XubVVWtW1cnpAWMwmReHto25Jnhcbe6ZV7WOiyL36Iqqiqrnhke0kraqm1CSrBWWge3Dsq87GpyWSut4QPhyOGIcFzwzPDUX1yvay1ei63a1vVcl16WFkN4f9hUIkZimo056MngMzExl7L5G2RZ5FJhe7BFVRV7oDGXHM2EewMzL5JlkXb4GWdA+4vTrCyLWi6CtqqKjCCoPdAocmlZFlVFVhVZyMZz8SHGWYGRjJBNZMK9rLsKpywSl6asbk3LZ2Ku6vZY\\u002f35XdXsuEWIc\\u002flxyVPepPb+vRSXmknpaK5dk7ACqMXJZ4jPhXmfVLEnJMM6gHrM24DLX+V1CzKU9LYtRjLAGGiQhB6qiKoo24NIlekIWeS2XLmFcQcZVaXFXJfoONl36oa6X\\u002f8firpS4jC3YFD22S\\u002fPDJUITy3yvYFiEf4ExZt0yiw2ysc5YLpJz1DvYINv5ZGfjxsbj\\u002fzhetbxqaNtQzeqa7he6Gy9v7Hm5p2Z1zTu\\u002ffgcArJXWysWVI7tHGi9vjByMaOMmIS2kh9I1q2syQxkhLRAWouu5Lkedo\\u002fHyxlRfStfGOmOMh0FxVC+Li3JskD369FFTiZp8+39sNwc9VZD8ZbW2fnF8FeOYfJxxibdxEUpQ0e7dkpAFFQBUo8RTNy\\u002fSs3t8mIMgoKr5HsRYysQVk+Me+MzE0gsj0SiUF0rOGvTKTiWhM1FCO\\u002fy2ypbRg5sAAEFRVXtyozDXBd7rGLtxQ7pyaaWr2QUwYTvqUmmjpNQm1mZ5QblFSjT7uMB5C2l1gf6c3gUKIX22qluWmKWlKXyXpAnd4XQ9nz5sMyvMogtc4ALnCDgA+NbNwixktjuc3D+gjTa962biFirTHU7tH9DsdBsxmXPMq80cDamSXHHdgoGHttFBR3Rzl3tZk5wV6EpntjcipTjNJnVwUHMojKa0BFPj1lR00KE5VGXF0uBVOEnOCZqf3EBMswFV1VTZvoi9rSrTFSL9Ni0wFEO1skAFS7030xWSM7xzcUPqwKCqKJqxIsqWOk\\u002fq4CBmobSEzInW1mDq0JBeHb300VcOjrfKBS5wgbMSFADoSufwM+9YZ4xv\\u002fkD57cPPvOPoqNYlug1mIYVI2j67OnNsNNMVynaH6UonANBVLtJnS+zpTx0Y1G307Dq6SnfI1HoUXpLSnO5Ht9FV3rUzpQxvbQ3qgell2dorR57b45hf67modejxnekjw7oxqCpupeWcqCeEcBrBJ1RZL8IU59lA4HP3+T56p1l67lDxL5+xX7LKLH0vcU58gghF1f38+9bli8yKsxIUAORc\\u002fuEAS73X0uhjm\\u002fy4hfJvmC3Exx8U0m3sHdW4lVYVRZUVws0yNW4pxfkv68BZCgAUTjDa6A71hK7SHcoZngo4+NGU7mfcZkyV7RrFLGTywIAxMK0sMZLxX9ouhNPZvkjlTYusMyt0Y8BQMZmzz6nWE0yNm23yW1sChaVrh+8KKGshqi5cqE6Js7Otzs6o3kNUXr+w3GyfripM6BRKdCaqaj6wnG32V79\\u002f6QQVgphU2qxz8cDGJPrM9HhCf0ul\\u002fkrLiUwo\\u002fV3CdvEq9wduNEvPkfPzGaZUW727lIrqnPgEz70RViGjrxwsd+tUVxUmdAolOhNVAw9tUyVl4KFtE1SqalKpigqlAhuTaDYTEmPrxfWEiQmlv0swba1m0QVKcHa21dkZ1ZQp+EGdxZgXjmqIhovB040iSNnusFkKAMVUpzywwiKmS\\u002fCfP5HdcwDBcdua5ShDc4eORv70iLZ9IFERqPza\\u002fwv9929ze8dn9P2f\\u002fDDK0MPf\\u002f28A8H3sg3RLI8paAMC2aplm0PPxL+h7paqy7Lj8Etua5ajFIgwOxx5+ij96fMwT0LNanddsIKsrFY7P7twTf+wZhcuvQgx87j7u4BFQVduaFShrzlsmZo2af39w9Bf\\u002fi7udjssvwVxOORYb+cmvpHBU05YpF8Hx2v\\u002f4lv5wdnbX3tFf\\u002fK+W1iCrKpw3XkU3N6iynNt7IPq3JxXDKz8QknBeud6ycA7mdKo8Lw6NhH\\u002fzZykWhym0FT2j2Xn1ZURVBYIiUiSWfnt78oXX8n7LUqY1ztpPEMq2VXnPAGCZP9t53eW4xyUOjsQefso0CCj\\u002fGb27FO+wLjAtHJet5Y50hX\\u002f7F5ShXTdf7fvoHcP\\u002f9l8AIA6N8F3d1pVL9K87ylroWS2x\\u002f3tcO4z99QlAEf+n7xF6+uNPPJd3Z9jZmWmfiXvckT89ogqi85oN\\u002fvvuGvjydxSOAwB6RnPgUx9Ov7Ut\\u002ftizqI11XXc5WfXh4R\\u002f9XM9uv3S1GApH\\u002flwkL5SOWcd+8UqEIKJ\\u002fe0LJcXRzgxSJafLy5aqS1PPxLyAEgdKU7+N3GR0CAO71BP754\\u002fyRY6Gf\\u002fg6lSOcNV\\u002fo\\u002f9sHhH\\u002fw0r0ZR\\u002f6c+QlZVJJ55ke\\u002fpQxmabm6QxrrR8m2F2W3+T344\\u002feaW2KPPIARB1lYpmWmc20q1xtn7CZZtq\\u002fKeyaoK3713ZLbtjv7pEczt9Nx5i5ZLY5LP6N3mXO2wnJWW+OBUv5FVc1wDe\\u002fK\\u002ft6lTqoiOK6r2PZtf7aGhKmr4N3\\u002fWtn5XBcH\\u002fqY9QTfV8VzcApN7Y7L3zFsxuk5MpAGAXzQVVzYy9TjV\\u002fPpQVhef1HsEIgmOh\\u002f\\u002f6tdn6L\\u002fl+24sufJeuqucNHAcB5zQb+WE\\u002fkjw9rluLwaOUDn7PM68iOvRAIIYlSeaFszBp4wD\\u002f4jR9oX3HjiX3ScgFAFUVZFFXR\\u002fPi3Y+M6leNHf\\u002fkHrVw5nQn+8yfoWS3cwU4AsMxpo1saQ\\u002f\\u002f1m9y+Q5q9cVxTvq1wnwch8NSbW8SBIQDQqzlFyrTG2fkJlm+r8p5tl6yS4onw7\\u002f6SH1hJsvcjH9Dzlv+MTgBtL41T9eDU2dJhuevY5pX+\\u002fndiKIb4W+zDhxKBGXbGQaZGOFVVKRYPHU0xTvLIq8Ota4OpELfktoa3f38UJdCaee7hQwkUQ9w17OixlCKpviZb\\u002fzsxFVTNYWqUq2xzDOyJBWc5NGNHBUNZ8FBXKhPlNRtFUTVV3678VU9Fm9NUhG7sqbMuvKku1JXSjcX+Af1FFdyRLgAgqyu1r3t2xx7llmvZpQu0yxN28fzcngNKdqqPLgs9\\u002ffpoXPs9YA4bACA4RjXUxp98XrcUB4bkWIKe2ax\\u002f3UvlzduXjjkv3H\\u002fYOFLQmEq5ZaBnNHOHu\\u002fRyhZ5+UFWypkr7MdCtjUqO03+B00Lo6RdHRgP\\u002fdE\\u002fq5TfSb++QE0mzRVnKtMbZ+QmWaatJPZM1lfyRY\\u002fploPFDh8k+Ix0CpUic5cQkjlEEShMoHeMGAABDCAwlFVXEUFKSeQwlUQRxMTWjmS5ZlRBAKIyVFJ7E2ZyYoDBW27hl6pwtHdasSyo2\\u002ffYoACy\\u002fs+nt\\u002f+1aeXezkJX4tERYMMZObPrt0ZV3N8uiAgDuWvboGyMjhxOho6lLP9sW6kxWtjtzcaFnRyTam6mY5aDthJCT5lxVrTkEAIxAAaBjY5VmTLH46784suyORoxANRvdj94HjRxOmIrAybxx80X+HQ\\u002f3LLujUTc2fn1VUVJFUX9PqiqKmS07rSuXJF94DXc7qab60M9+rxtPSpHXyiIIACA0DSgqT7zqkdMZzJrfMlA7NCgBIJ9Xo0zMGkWyT63cMqCshV26gF26wCjEHPYxLTvdjkZHlaTh7\\u002fyHff1q28WrnNdszGzbFX3oqanPvJRpjbPzEyzTVpN6xmxWPjM+ZFZyEzrf8p+RjrYHlIepl1WBk9J698eSrmr7HF5KCwqX4Aar7XMOjL4IqhpgW0WFwxBcUeVIrsdOBeykX1Hlc7XDCh9PL7+zqXdXNBXm5lxdnRzhKBbXbvZRLD7vutpMVFAVde61NbQVV2TV6qW9DdbhwwnaRvTtjnrrrUJWAgAUR7MxoW6hR3fIp8XgDEfFLIduXDvfbSpUV+nxFBZh89GasVaQEYShx9MEjhCEdvmgkXpzi23dSqqhjmppkNPZomfFkhTeEgUAADXHgaKYugnMyvLHe8aPS+TVKB9zKaZUbmmUbI47eCTx95eNQjmV\\u002f1kqOc70otxpoXBc\\u002fKl\\u002fJJ59ybJoruvGq3z33D7y778wG5WgfGuchZ9gmbaa1LOcyqAso6u0OwY65T8jHQq3WgkPJ6cIlI6KfR6mTtv3yUVXy6qUk5K8rO00JbGkvtNUQzTX42eb02LESnhGMkf8bPNIZnpXmmdLh3X4lWEERVRFHdgb0xK6auntje882adJdNVLPzmoKmr4eFqTDO6La8YDe2NDB+KKPMH48a\\u002fsAoChgwmj8eY\\u002fHNNtCguFgiKMxnp2DaquBsFxbRRNz2gGAKF\\u002fUNeKA0P88R528VyysT67bVfhdZYiCChJmITlUWWZ6zzOdMxMPPeSJiGqKjCXgz\\u002fSNdGwJOVjLsVJlssdPkrV1wj9Q0V\\u002filznMdvaFfTMFu5QyS\\u002fxpG2lynJmy07Myjqvu9ysK0351jgLP8EybTWpZ6F\\u002fkJ7RBGO7PlANdXpemOwz0skIUW0PKG33pwFxrybvSezUbSKQ7yI7o296LPWRbHdKGC2609TUQc2Cdw+9vzB1HPueHShUFSZ0tN4KiqnKSKaiKrTRQHDM99E76Vktlnkd7ttu5Lu6+WMTRhzpN7Ywczuouur05h1GuYZwvJeZ3WaZ10HWVdOzWszqEsSf\\u002fDtZX+O542a6tcmyYI7\\u002fY3cK3X2ZnfnvzaRMGnMpTqbcxLMvYk6H72MfZDpmUo117KK53g+9Xz\\u002fD53bvE7r7fPfcbluzgmqqZ9pnOK+73HQxUqqtLPM6XDdcycxpo+prLPM6rBct5Y6Mn1EmZdLWONs+wfJtVd5z6uU3cJfTe9f76dZGdsl8x1XrjV1w+c+oEG2vOuOOeEXReiuYaDlprkLOlhFWGTLR8fUjZyeZnXvlWNx7920oTXEHOyN\\u002fesRssH236+ZrxOGQ0NtvUgFA\\u002fOl\\u002fYHar585bAEHEkdHhqd2O4bu6Qz\\u002f5pfO6K\\u002fyf\\u002fojK8dnd+2KPPlN48i\\u002fFpDGX4mTKlSKxoX\\u002f7T9e1l3vvvg0hCTme5A51qqKoaVVZHvnxL53XbLBvXIc77Eo2x\\u002ff267O\\u002fGqXaSo4nyPpa64rFCEMryXRu\\u002f6HY42OLDKbApK1xtn2C5duqvGehb3D01390XXu5ZeFccXA48oeHjCsbyn9GFzjnCf7zJ4x3hYuC4FjNj77p2LjOrHiXmErMJ0\\u002fgc\\u002ff57r3DLD37mEprnG2f4HuWM31J2NyCL1hM2u1oYzPu9aJeL0qSSCCIkSRSVY1paYZBKioxzcaoLe9hYjlnmPG7b0WxLJiDkGT6re1mxbvJJDGfPJjdOpWJ\\u002fLODSVrjrPwES6JtVOde22ZWTMbUs0xaBOm1BW\\u002fKL\\u002f2fCuyMSrOoGGf6kjAQxBQVZEVt7yBsNqS2Hk8mlKoa7K03BJ5Xr70Br6rB9u0R9+8Vk0mpvYPYeAWtawf65TIevvONZDo97Uvi0wpK00TQhzkdrhuvSr\\u002f+1rnz6z1x2CXzpWgcFMWyYA4R8EX\\u002f8pjZ4pzi7P8E3WvaMAuZ6w7jDia+udO1opUPJf1XLxx5dCtd5fZdPi\\u002fXE1YVlanz5o6FqCoXxpC5nrAUz9oXNWYODgCGaioEx5gGH+GyWpoC1lnV2WMj6QP5i98TKyJ9oF+bttcdSsmcbW5dtmsEJTCqwsX1hcmAQzMWRhJsSzBzeNC9tk2TqLLC1PsUXoy+esBY3zM9wurplqprMH8Aa2rBQyGlp1saGpJfeYE\\u002f1iXNnIVr6WxG3bNb1GyM2vIestmzq7cCANzn9v\\u002fTvZ47b8ntOxR77Fmz+nzEtnZl4FMfCXz2o\\u002fTM5vBv\\u002fjzdFednG2f\\u002fJ0j67KPP7bZ2VAOAraMGMDR3PJQ7Hsr1jKqKOvrcbra1wjqrKvz8O7a5dVSFS5M4V7aGntye6RzSVdaO6tFndymC6F7dJmd5tmV8t5wTK0LPrjvELKQYSdk6akifPbWvN31wQDcWIikExwBAl9A1HoWX5FT+STKdSUbCpwMUNU8sahLj31Jao6TQ5gIXeK9RdecafigGAJGX9jZ\\u002f9aaj33pUFeXqD60Lv7jHsbBx5PFtgesWi\\u002fGM9q4w3GHRJPxwnKpwpQ\\u002f0UxVOTYXgmKqqVMDJDUQwls52DmWODJ1MEcldx4M3Lx95dCtd69EcWttr5DSHWWkpkU3uOi7GMoHrFmvGiR3HKm5ePvLkdltHTT7CkQRT44lv6cz1hI31vQAAQPtHHnQ0zzVLCyncius0Q7n8bR\\u002f6+pz7vt\\u002f2oa+ZdWUoEae1qmnGB75wBs5SZ0l7nrL6lohz2v5L+DkZAtcu1tzSNR7\\u002fVWPL0wsLKpAYXmtiToyrAOAkitApUtZkVNy60tIUCN6y3CQ\\u002f05eE5zQzb\\u002fsCMvXXz58K+FjowO++3vfy\\u002f5kVZSkXpyLD9Be\\u002fnCbKxXmqOBX1LRfndPyX83OiRF7br00VKbwUemZXXlq45rNAMr6oUFeNJUzrDU+4CJ0iZU3GyCNbVEkeeWSLSX6mJ93PXQjWQbn8ZunZR5k40wNdh\\u002f\\u002fyA7P0XaJMnKeKU1LfMnFOy38ZPyeDNLZDnBBKTNScMs5AEYUoglT0YvA92mEhGFa95kZny3xFFEI7X1al\\u002fLo4S6AuuHSjxV+DoFguMjjw2qO58ACC4S03fZpyBQBg9n3f0yz3\\u002fvTzqqoUtS\\u002flBwDa7\\u002f7GwOuPeueusfirxXRi6O1n4kd3l7EvirWqqfGaj+7\\u002fzVdlIT8lWbv+AwDQ9\\u002fJfS8VJ2lzNN\\u002f0TTlsUWdr3y38Z8wQAYK1qDi67nPFVg6pwsdDxp34l5dKAIBXLr3TNWITTFjGbih3eMby53JTz6W7PMvEUjb9Mff0L1nnnrMIoS260f+DNx3OhfijxuZSJs6T\\u002fYnGW8TOe8QKnG22bm5MHQTEEQbW\\u002fZt1pI7B4\\u002fawPPsD4qgmrs37jB+d+4ofanAvl9LlnLSasTpyx1lx6a+stn9OzWIJ1cz\\u002f5I9OQvpR9KXn73d\\u002fo+Mi\\u002f2uvbcJr1L7h49sf+DWesZew1XDMWmuawZt7+JU97fpELguEd937bWp1\\u002fIqRonBr2+raOe79tlFAO75z7vh9cupG0uQjW7miao8ldMxbNuvPLlNOHUYwlWGeraTXmKuR0t2epeErFr1FYX3fb0hkf+ALjq8Jp1r\\u002fwkvaPPIjTLJT+XKBEnBqF\\u002fkvFCWX9TAuk7JRZee15wIk3n6dxIWlxoDiFYgSC4aTVhZEM7fBjBEVY7AiGkxaHJi\\u002fUMs6A1d+g2RC01d0wT\\u002fur2SAoRtt9mjbvDUEpm0eTmOM4IdyzloZ3v5Yb7RfT8cFNT+pzgXx8NHpwm5iOS7l0dP\\u002fbtLcCyn4DStmXkgNA9NC2ZPcBicuEdr2CoCjtqShvX5TogS2umYu1tK12hsxl0\\u002f0nsoDAN39tZrh7eMvfhVRMzCQTXXs0OUqQAKCIvMznssM9qb4jE7IVcLrbs1Q8peIvhX\\u002fBxSPbXsiNDkhcJrTjJQQQe31+6WPRz2W6lIrzZEAAseAODMEpjMUQPGhpoTALjeX701JaDMFpzDbR0\\u002fnAiV8SEha7o7pNkQQxl8JpVpXF5FAn66mm6uZIfBanWNLqSg51qrKIYIRJy6XCoKoV7etIq6tv25OqqgrZhKqqoCqsp9rqrcMoBsMp0uoS0lGJz6qKnIn0V7Qv0Oxl0bw6Y1ogKErYnFwspB0KqZgq5x\\u002fCwhlrYNF6a00LRtKAIAiKFe7iYKSUfSk5AHDR4XxmVVUkESPpMn4MRU0gemhbcNnlpN0jJCPO5nmxQ9umPvVrhHYHMkPdZilA7PB2e92sWXd+JXFs7+iu17KhXrOFgTPQnqXiKRV\\u002fURAMoxzeustur7vsdl1I2FxaoujnMl1KxXkyVLHtSWHEy9bLqogCiqJ4NdvB4PZD8dclRSilTQgjSWGUk8+6la4nyYl3WACAU4yoSLZgY6xnr7OmPZcI0Q4\\u002flxgVcynSImZjQ0Im5qxpj\\u002fftN2n5VNhe0SJk4tnYkDbgoh1+xhnIRgdoh59LhFRF1rQYQYm5FGGxUVa3JpGlU\\u002fAsNAKI8ReuyrKWqL\\u002fiQ7LAHXviF2ImwVbUN9\\u002f4ad2mKKXsS8kBQBEFPa1Txr4oUjaV7D7gmrkotONFe33bkb\\u002f+0GwxRUpchiuicPyZ3zD+au\\u002fsi5pv+tTwlr+HduT3KinK6W7PkvGUiL8ECCBw7KlfpfsNDyePTSQV\\u002fVymS8k4TwIFJAa3q6AQKC0qHIVQOTmZEsOyIpbR4giZEMa64POIE++whva+BAgCqqr9zcYGQVUHdv193MIgL9SOHt2q59Xk+l9v0yJQId5\\u002fQBKy+n1QBEFVVcmXeHKoiiKkYpQrkOo9DAC4xYaSFAAgGM5W1Gu\\u002fFgCgnL4J2bSVqQgKkP+Kl7IvJS\\u002fFdO01oge2VK68JjfSmxsdEJLRcUVBnGXgoiOMv8YsHSMX6u976f9SvYdrLnlfmR\\u002fe6W5PncJ4ysdvQpUlPh5mvJWpnoNmXRkK4pyUwjgBTsSPxmDmkLbnVOHfSbXnH9M6QRWg9R3Gv0amrp1IuGt76PAmic8YtflbKsXsT4Dowa2+eWsYXzXB2itXXK05V2VJyqatVc0Ihln8Nf6Flxqz8MmIqsjOlnkoQRFWZxn7UvJSTNdeI9VzCCVIz+yV0YNbjfLCOMsQ3v2atarJv+hSgrXjFpujoUO7FLI3tFurmnCaxRkrG6wXEhFzzomc1vaE0vGUir8UI9te8M9fZ29oxyiGdHg8Hcu1WacyFMZZhlJxwjT9mDDuOVW4\\u002f1Sh\\u002fF3srXCH07l6nVnocmsJuqZuombanPgI65wmtPNl0u5uvuGTisiPbH+RdHg1ee+Lf6lafb1v\\u002fjouOtT30v81XXefnkXmsv2vPlyx7IrqtTcJibC2AKeUfSl5KUrZ11zyfnt9G0YxCIrNvvc7spDrfeHP6YGjAKCqSvTgVu\\u002fc1T1\\u002f\\u002f1+jq6JxVq263tk6HyMZBMNmf\\u002fQ7ssD1v\\u002fJQsvsAFxs5\\u002fvRvgks3BhdfpipyLjyUGToOADhj9V90LcE6VEXOjvT2PP8HYxGFnO72LBVPqfhL1Td2eDtKEJUrryHtbpnLZoaOxw5tH4uoOEXjLOW\\u002fVJyl\\u002fJyjED4\\u002f09QsDA7gLg9KUcLIsJzNaBKut0ezYds6Mgf2se2zpXjMsWJV\\u002fPVXlVyWqq7m+noIr8\\u002fSOpPr7QYA0h\\u002fgenvE8KjR\\u002fwXOTypWXFW97maz9Iww48bP2WtmmqWnn+ar72O8VWbpmeXdqrsJZ9PcGTd+bt693z+ZBjmx9qSqa9m2Dufqda6L1wOA46LVugQAtL9sWzvT0GSdPRdBUcdFq7WMWsK55uK8n6pqx8rVuN2uHU6Fk7skvMC7AYLhKElZq1s87ctHd79mVp8dMN4qZ+Mcs\\u002fSkOfrUz8osqT1LOE11NxHveufwIz8SM0mzYjqcWHsy9Q0ow4CqKEL+DpguIQNBMlhBVVZlDh10rl6XObhfVRTcZid8fsLnpyqqqKpqcTTkXLWGqqkFFJWzGbqhaaL7crxHLwnPaaxVzQ1X3i3l0gOvPcKPLSY440wyS+Ks75BPxX23s5L3ct0BAOJvvma8\\u002fZV483WA\\u002fE02AAj97c8AQPj82SMHtV2bI39\\u002fJq966C8AwA\\u002f06\\u002furCAP96nQ2WpnQYVEY2+HfsGPoUaNwUhpdS6ttc7YPPZQV42bd9JnpWdubfCcrxsyKU4fP0uSgA0ejbxmFUy\\u002f3Xa9vqvfQnp993iwtgMZtTa5l+0dfMCuKYSGck1aHDdTXrLkZI6jUQKf+ZfXMXBqYfzGKE4osD29\\u002fPnpkO2l11qy5hQ3Uq7LknbUUAA7+9XuqqhRaAoDFX1uz6kacsSIoFj\\u002f2Tv+bjwEASlCVS6901LUhGC4L3JHHfiLzOUddW3DRBsZdcfSpn6WHj2ulUw5vzUU3Uk6fqsihPa+H92\\u002fCKGbmTfeP7n3D07Ycp5jIwS2DW58t5bMwu+a2kNNR90JhqeALLQ2hjeOoawssXH\\u002fk0Z9ohzWrbpRy6aHtzxdt5KLtWdSyOIW3vyZKVElMbB77iRUaj3VS0+qtzFAYu7DiBrN0CswNXGUhnGbp2YrP0tTsXmGWTodzq76TQmHsLG9+WqEUCIK2f+ABV9M8AGAD9fM\\u002f+kNtHodyeLWnW2hXYM6HvqXb16271T93wt2iopYN6z\\u002fobV8JAAiGU3aPJqxdc0v9+jtRnAQA0ppf2Kkx65bPW4MN+QMEmXnT\\u002fRZfNQBgFNP+gQdYfx1GMfM\\u002f9qPgwvUAQFjsc+7+NuX0Q1GfxbLnPU\\u002fkNNW9UFgq+EJLnfYPPGCYhELa3v9FrUYIhs++60GtpkUbWWNCe5a1PEvIj7A6fBtwlBSUnHbY6l7FEA4cJQ5H3kgLYeMhSzgrrLNkVWJw24HwS2nBfMPblHeO\\u002fwoUwUjMciD8YlqILKy4IcENWwhnjOvnpEyVrV0BmcHtR6ObIrneeueiWvvcncNPpIWwz9Jk1EZzfR3+jQggXkt9KNO1b\\u002fR5Y6FtvkslmWdJNy+lCYx5Z+RpU7mVtrYK60xFlUezx3gp66Kr5gSunEq5kVyvqUbGcuFM1Xc022VqdqPnvuSeNt+lBEpjCH4o8lpWjDW7ljOEg8EdWwf\\u002fWhiksTUS3HCTa7mN8s72Xx7KHB3JdLZ5LyEwBkOIY\\u002fHNcS6\\u002fixtpc+EMG+vaDQCZkW4+mW8H2un3z10LCAIqYBSDoGipc2ZRy8ihLTWrb7L4qqOHt6WHjmmW9rq2rmd+qUgCAAjpkmNPyuZmPJWNGz88LnH6uEQIAEb3vgEAYjbJJ8Mk6+DjoUKfRbNnQvmbXEZOU90LhZpxYfCFliUKUkN7Xve2r+x99a\\u002fO+o5sqFeradFGLsrULc8A3tr5kpATsnFXZdvg4Ve1tTI4ALjoKgDYPfKUm6ltcC5y0pU4Sr4z8rSFcM30rDkW32o8HEjtU1R5b+g5OxVodC3bM\\u002fKMsQxT3p3Dj+8JPQsAAbYlwLakhYiFcB4Mv6xdffgsTQiC7Bl+xkp6m1zLIrne7vh2Gzm+XNCozYhxAqV3Dj\\u002fW7FqeFqO6Td4SkKH0wRb3Rd2J7bO8lwCAsVxBztba520Z+Iu2PsVnaZIUYc\\u002fIlMqVVclUI90Mzmx9Tc1u9Bxgm0WZOzD6IkM4Znku3jn82NHY2xhKLAzeUBjkvtHnja0BAN2JbZXWtgPh\\u002fBJHN1OzdfBvgpzVDouiqioA4DRbf9ldhx\\u002f6ARcP4Yx19ge\\u002fabYbo5Rlsu\\u002fQgf\\u002f7rqO+vWLplWI63v3iHwAAmfI2b6oi7\\u002f\\u002fjg8ZtDzCKAQB9HwtQARAESvgszD4VTkndiwo1TMGXsSwkemRbYMGlGMW4Zy6JHHhbExZt5KJM3fIMgGIETgLrrIwPH2Zs\\u002fmxyGLS7hAzhyIhRANBmUqyEx0lXzQ1c1eJeqb1U2ngIADkpqRkzuN1YQGFeHKXm+K+Y5b240jYLRXAAkBXROFeiDVgkhcfRIuv3jFpOSqqgdPg22KlANNdnNgUQFV5WJVHmAMBULoM700LEuJpu6uUWVt\\u002fImayvqdmNni2EWxvq5sQEQ0zyoRS2hon9oy90+DbM9l9OoOOLMIV0TOKy2mWRxVdNObwAgBIUqKqYTQKAdimhIwscOfaYHpS2tPhqQFXjXe\\u002f0vf6Qoy7\\u002fHHKy91Bg3sUohgMAwToQrPitIT4V5ROj\\u002fnn5iy\\u002fGU1nKEor5nHr201H3osKiTN0SABRJjB7Z7utYxbgrEj37NWHRRi7K1C3PANnEMIJiuVTIVTGLy+RHtTgA5MSki64GAAZ3AEBajKSE0N5Q\\u002fjEaJ11pPAywzdr0jYVw5cSEJtQx5a20zsqK8aOxt2rt8yjcOtEWYLIluSYtiuAHwy\\u002fJqmQUFsVvaTSWm5MSVnLCBfnUyzXVyMSZrG+ZZs+IESdVOQTAEI6cmDRpTUGSmMXUGoqqYCihH8a4gdjwY7X2edX22cfj2zShqijdL\\u002f6hdvXNlcuuSvUfSfYeBAAhFQ3v3zTrfZ+XBT56eBufHO\\u002fQw\\u002fs31a+\\u002fs\\u002f32r8pc5tDDPyxl6Zm11NkwW1VkWeB7X\\u002fubJuzf9FjV8mtm3folBMEkPtP5xH\\u002fLslS37lbaU0E5vLUX3yZlkwNvPZkJ9Rz7+2+rVlzXfvtXERTj4yNdz\\u002f5aD8BEEZ98tjB70Y\\u002fndNS9qLAopSwb1n+QcngJ1t6w\\u002fk4xl+5\\u002f45FcZBAAwvvemPW+L4QPvK1fNhZt5KLtWdTy3QJBUZxgcILpP\\u002fjiuFD7N9u\\u002fEUOIrJSwEp6dw481u1dYCS8AjGaPDaT2GQ8lhatzLOCkNIVbD4y+KCpck2uZz9KU4IfC2W6TcTTXOzdwVVqMKIosKlxn9M0V1Xe81Z8fZ+p362jc1u5bvyf0XLNruc\\u002fSkORHI7luTsoYtftCz3f4N0iKgCJYWoh0Rt\\u002fM1wAAANp967tim2d41hwYfWFO4MoDoy+ayq22zw6wrbIiRHK9nJSeerk7hh411mg0e+xdqW+SHzY2e0aMGj0DQJv3EhKzoAh+OPJqRowBgHZJqM1hmT5QY2v0Jd9BEWxhxQ2izA+k9if4wdn+yyVFwFHyUPhVbeh9gXMIjKQ77vzGob99r0wneE4QaFw2cmyzWTpdAmzzSd5iOzGa3SvcTC0AIAi6tOpWs\\u002fq8w1TfE2h2ErMsrLjRLL3AeQ5SsXhj48a7zeKzhqlv1emtnV8969KKllVGYfGL9rOQUOZoi3tlla0NR+nu+Haz+rzjZOrrYepq7HMonO2KnfQJ6gLnDq7mBdUrrxNS0WPP\\u002f96smzIoRmAErcoSQdtyqRAAMPYATjK5xAhB2yQxBwCykMMpVuIzBG0TuRROsZKQxSlWEXmCtvGZ6LiWT2MErUgCRlCSkMMIGkFQu68xNnhAUSQEEIK2ySKn5SJoG5+N6ZGEe3cBAOvSF20A6JeEF7jABS4AAKyz0t+4rHfPM67KNq3LcARaAdR0pNdV2YYRDG31yGKOYt2JkSOKLFkcQYp1p6N9mdhALjniqmyjrR5dy2ei\\u002fsZlQi4pCZl0pMffuOz4zke9tfMQFJfFHIoRiiwlRjpdlW0AqiJL0YF9WhhWd63VVY2gGOusOrrt\\u002f\\u002fTwpjQ2u8AFLvAeweZrVGSBZOyMPYCgGABw6TDFujWJyCW5dJjPxmOD+3PJkMVRoaUVSUhHezUbo1bzJmRjXDqspRmbn7EHM7F+2urVbLRcWloPIx3tjQ7uH+p8Y+DQy+PBnRjVP\\u002f6aZeFss7SQYitfTiHUjMaKB+8\\u002fBaWU8DBt\\u002f1O3PEVU\\u002fegBy5K5ZukY046\\u002fACLoq\\u002frhV2p+\\u002fu2q7\\u002f+LWXf6Ofn4T57gffeRVRMuScpT+bnPMjNnmqXTh507t\\u002fJzn63\\u002f\\u002fvemVfoJM7GaxRq88FPQJMa\\u002fRsblRtV42hFozXdPxryGtLd2fk37ZVUz19W0XzZucFpHWBUP3g8n\\u002fY6QSZDlIo8pTZNycU7Hfzk\\u002f7xbTib8QcXh04P5\\u002fjf7+IbPijHFy8Z88wz\\u002f7mTAw7c0MTp7MO+8M\\u002fujf5aR5hcppYmI1izV44aegSYx\\u002fjYzLjarxdGLkSDYxBDAxryEd7t0lcKmBQ69wmaixIztdPzDM5SCC42u4Twf84WNDX\\u002f+xWTpNysQ5Lf9l\\u002fLxbTCv+s5BzMv7Cn+4FTpRsfKhq5joEJuyKPqW7hAiOuT5wHbtknsILyb+\\u002fqoqiJicba53XrifrqwHDxL6h2J+fEPoGEQIPfPHjRIUfAGp\\u002fnn9Qs\\u002fdjXwZFKWoPAIAgzhs2sssXoFaLnExn394Zfyz\\u002fqCA9o9Fx3QayrgpUVRwKjf7kd3IqjbudgX\\u002f5BGq1qKLU\\u002f6mvaZYa9o1rbBevQFmL0DsQ+7+nhJ4BAKj60QOxPz9hW38RWVclxxLxR\\u002f+e3banTJwl\\u002fReLs4yf8YwG2JWLqMZaIujDK\\u002fzhn\\u002f3RefMVuMc1+p+\\u002fF7r7S7ZPiXYAANzrDnzp48Z6AUCp+Iu2g6Yq2m5lKGpfKn6yptL78dtDP\\u002f6t50M3k\\u002fXVcjI98q3\\u002fkhOpUvFMN36EwF23XsN0zEBZC0KRSo7LvLUj9pcn9YzlsS1d6rh4HUKQqizFn38+vX0HAFja2pwbLiMrKoZ\\u002f9nPu+HFzHgNUfb335ptQisp1jm\\u002fkQHi9nhtvIHw+VVaSr7+e3LSpqBBj2Yp\\u002f+nRq8xbbksUIjsee+3t6x44J3g0UZocSwTvWrUUpGvd6mKYmQJD+7\\u002f8AFKXq\\u002fs8l33jTtnwZyjCpLVtjzz4LxaqJMkxRS6q21nPdtYCgZHWVkk7HX3o5+eaEtZCnHFWRVRUURTYrJsVx1SWV3\\u002fsSWVeFuRze+26v\\u002fdV3tTksPOBlVy7C3E7MZvXcfUvwgU\\u002frWajG2tpf\\u002f5vpEqmUPbt8QeV3voAHvKiFoRpr6baWvL3fU\\u002fPzbzuuXY+7nZjDZpo4Y+bMqv7Pbxgl1lWLKx68n6ytRK0W+xXrqn\\u002f8NdTKAkDVjx6o\\u002fsnXmDmzUKvFvnFNzU\\u002f\\u002fFbWxWpaicWoU+i8VJ5T1Y4Jduaj6P79BVFd4Pvy+6v\\u002f8BtVU57r1Gs+H3wel26dUO5SpFxSLv5R9qXbTYJfNN81hlbIvFT9ZU1nzs2\\u002f5PnUX1ViLsha93UrFozH1+O1XrAs+8GmEIhEc83\\u002f2w+7brzfmmhTC60VZFgCIQKDuW\\u002f9qVFV9\\u002fp\\u002fphgajxAyK1jzwFXbePACg6usbfvgDZuZMQJCq+z9HVVcDAMowNQ98haqrLSrEWLbhRz+0LV0CWunf+Tbucum+ax74yvjUUrHsUCJ4x7q1tQ9+U8uLsayWpeFHP3SuXw8AmN1e9+1vEX5\\u002f3vPEapayrPz0pyxtbQBgXbggeO+9et7Th79hKQD46hYaLwmnNMJiL1qUeuEN7Swa\\u002f+vT+g9GGglLI\\u002flnfNKvbfF\\u002f\\u002fqOAlHurTSl7hCIBQOUFJZvjj\\u002fXq9vbLVgtdPYknXtAOszv26qqi2DeujT\\u002fxgtA7CADJZ1+xb1jNzJmZeWsHAGTe2pHbcxAAks+\\u002f7rh+A1kV5A51mbJPSqk4p4sUioj9Q9zBo2RDDd\\u002fVg3lctjVLoXT7lGmH6darqH2ZditKKftS8QMAQuCpF97QGo070Km7KhqPri2kqD1ZX80d7lJ5AQC4g0eZubPM2cpC+P3etWsBQQBUlCmzF0IRCJcLY9nM7t0AwHd3i+EwAOBuN1lZGfjw3eNmPp+czhQKpXAEANI7dwGAODIiDAxQdXVSLKbb6BT1yff0lgqe6+zUpqXkTEbPknzjDQCQk0kpHMYdDjEU0lUmCi0RktR241MlCbDJT8wnTy45XNG6RuSS07wkRFHc7RQH83WTonFVzD\\u002fdhtms9qsupmc1ozQFCIJgWPkOq5R95u2dzOyZld\\u002f9Qm7n\\u002fuQ\\u002fXhe6+zV7ojLAd\\u002fVM9FESBMdwv8d7761w7\\u002fg6eNyTP1+JAyN5kaqqgogw44\\u002f1Tp1ScU4XJccBgCpJSiYLACDLCIFD6fYp0w7TrVehffl2K6SMfan4NRuhP79TjZHCeCaoCyhqL42EqdYGBMdVRaFaGoS+IgWVAmNZ\\u002f10fHPjBD8VQCLNaa785YUw3bbTeGUCV5d4H\\u002f9U4LUB4PIVCbfiDoGi+jQxDCRNFfZYJXuF5PT0u5DgtoUK5sqCYZfSJJ3133C4MDSE4HnnscYPt6UJVlKEjr1ndtUbhFDosMNdNf02m9xN3KDku9O+\\u002fkWMJqqku8KWPG80KKWWv8sLof\\u002f6erKuyXbwi8KWPJ554IfnsKwBQvvszgyAAMPqT3xpP0aqc\\u002f3QVQdCFJ0zJOKeLXqmJtSvVPmXaYbr1KmJftt2KUNq+ZPyazdh5zkiReMpS1D75zMv+mfdU\\u002ffDLSpYTuvsSj\\u002f\\u002fDbFEahKJAVbX7cbaVK8zqyZBiMTmbZefNy+zeTVVXE14vAIjRqDgadq5bF3\\u002fpJQAgKyvFUKioUHNiXbQouWkTEQiQlZV8T4kzU7HsJxn8tCACgcyu3ZHHHy\\u002f1VTzlWD116VifzduQifXrWwBNocNSFCkSJyr83P4jAIDZrShNAQBC4FRTnfbtBAB84j0ybVxqHF2XtwcAoWcg8ruHcvuPeO66WesIxKEQWV9tMiuFKkpSKEJUV+T2HjbrSlMY56QUxgkn5MdEmfaZVjtMl+m2Wyn7MvGfbjCvC3M5Br\\u002f8fSWdNesmQ4pGk5s2VX3+8yrPpbZtEyMRTe679f1kRQXh9Xpvu1VOJqNPPsn3FJkEUBVl9A9\\u002f9Nx8k\\u002fuqK3NHjmQPHgQAUNWR3\\u002f7Wc921NV99AMEwcSQ0\\u002fOtfgyQVEQKooohaLNVf+hKCoZGHH9GuB\\u002f0fvJPwejG73X\\u002fnnXI6FXnkEWFwqDB7qeCnTmE1xdCo2UgDAeuSxeyc2YCiYiQS+t3v5VTKbHNKiQ8fqpq5LpcMGTcsm0KHBZB5c5tt\\u002fUV853E5kXLesFEblKqiJCfT9IxG\\u002fsgxorrCccU6YxZpNKrKsmXJ3OyOvaiFkWOJMvbMvDYlx4kDIwiCUE110mi+3VMvvBH8+mfsV16c2bRdu8nIHz6mXU8VJfH0S673Xy0OjvCd3ShroduaM5t3aVMbpSiM02xhoFScME0\\u002fRSnTPtNth+ky3XYrZV8q\\u002ftONyosISVT\\u002f+GsAoPJCbv+RyG\\u002f+WiZ+E9Enn4o++ZSWTrycPwON\\u002fmX8cZDycMePD3zv+yahFImM\\u002fOa3kwsJAiGI+AsvxF\\u002fIT1BqhP7nf42HGkWylwg+8cqruoGGkssd\\u002f9z9+uHgj\\u002f5dSxStZqEl3dRoXbCw9ysPaFdXnptutC5aWFjKqYVLhwcOma9gptRhJf\\u002f+Gu5zBz7\\u002fMYUXks+8jAe8mjzy27+5b7vWtmGNODAc+f1D\\u002fvvv0bMomWzsj485r9\\u002fgvv16KRTWFtSUssesrOuWqzCnXZVl4Xhf+Bd\\u002f1uTiUGj0P37vvO4yx9WXgKwI\\u002fUOjR7sBwHXrNZYlc1GGQXCs5r8fVLK56B8eze05lHl7J0ISrluuwrwuJZPjO49n3t6puSpF0ThL+S8VZyk\\u002f06VU+5Rqh1KUit9sN0apdvN86GZmzizEQiMYVv1f31RzXOTX\\u002f8cdPlbKvlT802Va8aM0Ffj8R6N\\u002feCy35yAoCmqz+j5+h+3iFcnnXjWbXuBEwVirKknaxSBK02RFBXe03L2R08eEyakiICioKkxc\\u002fIqgGIB6wtc+F7jAKYSe2eT96Af6P\\u002ftNXeK551Y5log\\u002f\\u002fKzB6iwFY9naB79pHNGcnSAo6rnpRrq5GWQZANI7dsZffNFs9K6DEqS9bR7O2nCbAyUpBMUQDMdtDtzmsLcvQHACt9pRisZtDk2OEiRhd2qdIMZYaH8lSpA4a9PyamkEwwmHCxCUdHk0e4xmSI9f80N5A0x1gzmO9x4IghaeSxAU099TcOZ5d0svA+Z21vz828zcWYCiKEOzS+fV\\u002fPeD9Mwms90FzjW8tfOdwZkWe7Bq5sX6FlrmX4UR57xlKEGiJEU43dneYwrPUb4g4XSPvPiEtWkWZmEVgcctNoXPYRYr4XRzQ33ccH9usBcAUIq2t83nBnud85blBnsVnhMTUee8Zdm+Y6okYRaWG+pjquq44X4+PGJtaSdsToXPCfEIqGqme3ydznsQFCftjW3p\\u002fi4ERaVcBmdYReBRkgIAtqopcXQPzrAyl0NJShF4jLHIfA4jKEUScYtNzCQwgpK4DGl3C8mYKksIhhMWm5hN4QwrCxxGUBjFYLSFiwzjFpvM5wBA5nMmbS40gJKUto2RzHMoSSEoylY1JY\\u002fvVyUJEISw2GSBwy02IRklLDYhFTNX4wxiWTTHcdUluN+jiqI4PJp6\\u002fvXszn1mo3edsVeHFgFFQVVNd98QDFNVtWSW9wD+hiWKLFIWV3z4sKrI2ksoys5hKQpKM2I8yo8OSZkUU1ErJuP86BButVO+oJSMY4wFwTCUtmhylKS03goAFJ5TRcFS06hIghANMRW1hN2pSIIQCVlb2sV4lHC6FYHPDfaSHj\\u002flDaiShNIWIXaYrW8FeE93WM6ZC1CcdHcsI+1uIRkl7W4+NqoIudihHaCqvoXrSLs78s6b7o5lXHgoN9rvmrVIzmVjh3cw\\u002fmqHY46cyyqSiNGWyDtvAICjabYiS05PkLS7hWREzmX5RBhUVVUVxl+NUTTp8Mp8zqSlXD53xzIxk5Bz2exwj7tj2cArj4CqOprmyHwOxQlFltJ9Rxh\\u002fNeOrUmTp3e2wstv3ZLfvMUvfVVCGRmhKzXGqKGmPRuB+D3egU8nmUIZWeQGhKTmeBACEJJi5bfyRY4Cimj0giLaCn25tyO7ajzK0KogITSmpDGpjlUwWtbJyLHHGlhe8W2QTw4zdr72EYvDIq5qwXIcV37M1vwIIQUBVcwM9AKClR197Tkvb2+YnD+zSbfS8TGWdKkvR7W9q81+5gR4AREtzoUFQVUBQUBUAECKh0dees7cv0PzE39miO3lvoioKRjFCMsqFhzCK4cJDtLcCoyyE1Ul7gnw8zIWH2MpGRRIUkc8O91JOn5hNEayDdgf4WEjMpnCLTVVkVVEBgI+F7I3tQjLGhYcwkhKzKSEetta2iukE7Q5kQ\\u002f2ggiKJJi3qDiqSICZjYjallUW5\\u002fLQnGD+yy1Y3M93XaW9s56MjtDuQOLrH3tie7JrkIYT3GtY1S5Ucp4qSks2pggiqirkczLw2BEUVXsCcdiWTzW7epXA8u2w+QpLWVUswj4vvPK7kOLIqiHlc8b89raqq9aLFCi9gNlbJcZjNinlcQk+\\u002f0DMgR+PmIs87yr2E4gIAEPjsfUo6M\\u002fqrIneUzzSG8wQgiLN1fvzIrvHzAYKACqY7IUZcsxahBBU\\u002fslvmMgATvWkUrkQ1a8HgP3+mAQBrbauUTXHhoQL74sH47r1Tjiejf3vcrDjXmO53w3HVJaos5945yHTMyO7cR89qVkVRTqZxnxuhSCWZlpNpcWBYTqTYlYtwj1MKx5RsTkmmyYYaJccp2Zw0PGpZNl+OJRCKRElSlWU5kVKyOZSmMpt3mcubjIovfSazZUfy5TfMirOYoi+hKDfCOl9BWQvmcIiD03iA40yj\\u002ff7H\\u002fsYPT1ycUaJ30Ikd3D7h2OjNKDFSTjt+mO49MiYrY28E0Z+LOCc4Vd8NMRTJbnuHntWcO3BECkfTb24r1b9nNm03nlHyz6giCKhqfsk+glgWz81ue0e30fO+u5yqtiqFLPHVsy6VJX6o81zqZ089tnWr3LfeaJYCBD57n++eO83SC7yXuPDdmDql2urUYnoJxdl4o\\u002fp0w8xqNYsucAEAuPDdmA6nta2s7tpg04qKllUVzauM8nNvDit4\\u002fyeyew8gOG5bvRxlaO7Q0chfHpHjCQAgKgKVD\\u002fy\\u002f0M9+m9t7ULf3f\\u002fzDKEMP\\u002f\\u002fC\\u002fAcB37wfplkaUtehaAOj55Be0m8eBz94nJ5Li4LBt9XLUYhEGh2OPPMV3Hdct6Vmtzqs3kFWVCs9nd+6JP\\u002f6MwuWfiQ989j7u4BFQVduaFYV5y8SsUfPDB0d\\u002f+b+42+nYeAnmcsqx2Mh\\u002f\\u002fEqKRDVtmXIBgOmY6bx6IxEMaFs+AAB3pGvkxz\\u002fX0mU8YzarfcM6pn0W7nYq2Rx39Hjs4SflRBIAmLYZzqs3pLfucl27Mbtnf+K5l\\u002fz3fQgwLPybP\\u002fLHesprtXKrvvFF3OcBgMyOd8K\\u002f+aMm1CjfVjBZjcpQpp3fg98NBMdrf\\u002fwtfY+27K69pjk4sqrCecNVdFODKsu5vQeiDz+ppMf3okFIwnnFesuCOZjTqfK8ODQS\\u002ft2fpVgcJmsrAKBnNDuvuoyorEBQRIrE0pu3J198zWg8FUjGIeQSjM2vvW1M45ycw3KsX8sd6Qr\\u002f7i8oQ7tuutp3zx3D3\\u002f8vABCHRviubuuKJfqXEmUt9KyW2Nikb+yhJwBF\\u002fJ+6R+jpjz\\u002f5XN6dYakL0z4T97ojf3lEFUTnVRv8H7tr4IHvaFtt0DOaA5\\u002f4cPrtbfHHn0WtrOvay8nKDw\\u002f\\u002f+Od6dvslq8XRcNG8UDpmHfu6lQhBRB9+QslxdFODFI1p8vLlEn6f7967Es++kHrjl2Rttf9jH0o8+0Li+Zen4lkRRNzhSD7\\u002fshgK4z6P+5Zr0dtuCv3st5qWqAziHmfkz49477qVCPijf33cfulqxxXrQ\\u002f\\u002f160m1ADDw9X9DGTrwqeI7vZVpq6nUqAyl2vk9+N1QJannk19ACAKlKd\\u002fH7jI6BADc6wnc\\u002f3G+81joZ79DKdJ5\\u002fZX+ez84\\u002fKOf5tUo6v\\u002fkR8iqisQzL\\u002fI9faiFppsapLFutHxbYXab\\u002f+MfTm\\u002faEnvsGYQgyJqq\\u002fDZK08Tua8RwUlXhnO+wVFUN\\u002f+7P+e3EBMH\\u002fyY9QTfV8VzcApN7c7L3jFsxuk5MpAGAXzgVVzWx\\u002fR8uonR9AVhSOlyL5T90IgmOhn\\u002f5WO89EM9mKf\\u002fksWVfNHT4KAM6rNvDHeiJ\\u002felizFIdHK7\\u002fyOcvcjuyu\\u002fAoghCRK5YWyMWvgQf\\u002fgN3+gfer80fFTd\\u002fly6faZqiQlnn8ZVJU7eCR34BDV3ADP67kBSntWeX50bOzDH+smAj7b2pW6FiGI5AuvyYmk85rL+eO9uf2HcI\\u002fLvn7tVLQAAKqqZHNafQsp01ZTqVEZyrTze+27oaGKoiyKqmS+9eHYsE7l+NFf\\u002fUErV85kgvd\\u002fgp7Zwh3qBADL7Da6uTH009\\u002fk9uUf4TSOTMu3Fe7zIASeenOLNh+vV3O6kIxDFnmA8XMGnKNzWGLfgP5L4Dq7AICsqtQOszv3KBzPLlmgHbKL5+f2HlByOe1wUoTefn1UrJ3HMLsNABAcoxpqc\\u002fvHn78VB4fkeIKe2axLSuXVKBNzXrj\\u002fcOGy5knLRSlywqtlZKVwtUNRz4VI4QhK08ZdnrUftpLNyrEYACgcjxDEFLXlKdNWU6lRGcq083vtu1EeurWZO9Kllyv09IOqkjX5GW66tVHJcXpvNS2Enn4xNBr49D2ODeswh92snjKSkEUQxPRA2Dk5wlKy418yVZRUUcRs1rFDMbN1p3XFkuSLr+FuJ9VYH\\u002fr573XjSZFT49fw+d8JggAAQtOAovLEka2czmCGvc9L5dUoE7OGbJg+0Jm03Nz+Q86rN9hWLU+\\u002fvY2oqqDbZsQfe9poDCU8AwCgqG31csuCOYTXg7IsgmMTtIqi9xpF9t4rr52MMm01lRqVoUw7v9e+G+VBrRZ2yQK9+9bQ+xeUZbXZzBNAlaTh7\\u002f6H\\u002fdLVtnWrnFdvzGzbFX3kKePs2BRRZBFBENMqjnOywzJupIsQOEIQ2tleI\\u002fXmFtvalVRDHdXcIGeyxlPQ5JRY5KLmOFAU01cBs7L88fwcM0DJvBrlYy7FpOUKfQPRh55w33qD6+Zr5UQi+fzLqTen+qiA++Zr2SXzo397gu88JidT7LJFnttO+13qPKXb6mRqBJO183vqu1EeJZvjDhwxTQ7qPaOS44xjwOmicFz86X8knnvJsnCu64arfB++feQnvzAbTUbRS8JzssOi6moQHNdGs3RrMwAIA4O6Vhwc4o\\u002f3sIvmkg312W27CsfSCi+g5FQvXjRUWeaOHmfaZyb+\\u002fpImISorMKeDPzLVXYHKx1yKqZRrXbYo\\u002fsRzU5+W1mHmtGW27c5s2aEdktUTLkPeRU64RjBZO7\\u002fXvhtl4A4fpeprhIGhop0pd\\u002fSYbc0KekYLd7jkg72TtpUqy5mtOzEr67z2crNuCkhCFkVxGNunQeMUzGFZV84xiwxQzdVm0UmD4Jjv3jvpmS2WeR3uW2\\u002fku7r1u+ka6Te3MHM6qLrq9Niv0YjQ3cvMabPM6yDrqumZLWZ1CeJP\\u002fp2sr\\u002fHcfjPd2mSZP8f\\u002f0TuFnr7Mrr1muxJMGnMpypeLEDhZXSnF4sZLjCkihcL0jGaqoY6sqnBsvMQyr8NscRIgGIZaWQTHUQJHWQuCTbzeLM3J1Aim0M7vne9GeRLPvYg5HL6PfpBpn0k11rEL53o\\u002f+H59pUJu9z6hp8\\u002f3kdttq1dQjfVM2wzntZebJqRKtZVlbofr+iuZ2W1UfY1lXod15VKu85gh31TJJUdQnEQx0ig8BSMsosJrv3Sx0DuC2izZHYcsC2fKsRRZ7ec6+1ReoBqr+KP91pVzUJoS+kMqL1CttULPsCpKmg3KUFpCHAqbXZcgs2uvHIt7P3QbSlPcoc7Inx8xG+zY7brpGnE4JPT2m1QAEH\\u002fmH5jN6rn9FkAQcWR0+FDJc4gR\\u002flh36D9+6bz2Cv8nP6JyfPadfbHHnik8RZdi0phLUb5cVZJz+w9577rVe9etAKBksrmDh6N\\u002fflS\\u002fZV6GyF8e8dx6Y+CfPqrKUm7PgZGf\\u002fKLygf9nNjoh7Bevdt109dhRdc33vwEAkT89nN40+cXdydQIptDO753vRnmkSGzo+\\u002f\\u002fpuuZy74duQ0hCTiS5Q536O5JVWR75yS+dV2+wb1iHO+xKNsf39pvu+ZZqKzmRIOtrrcsXIwytpNK5\\u002fYdiT4wtfZgOFmcVlxrFSMspfiDJec0qAHBes9pxxQoAcFyxgmqodFy+HHPZtEMAcN2wVku7b7vMumqe4\\u002fLluo3ReCoE7\\u002f+E9+4PmKUTQXCs5offdGxYZ1a8S0wl5hMBQQKfusd\\u002f34eo5gayupKsqWI6ZlV\\u002f+yuu664wW54rnFyNptLO75XvxkQCn73Pd88dZunZDWPzWd01Fa2rjcJTMMJCSMK2doGcTIOi2tbMRy00YKicyjKzGvjuIbKugmqoVDhBMxZ6hlELzR3p1W3EUFRLpN8aXzwyCZNdLFjmz0EIMv32drPiXWSymE8Awu+lZ7UOffvfhf6xKY++AXEkhLmcRrNziFNQo8na+T3y3TCB2aziwJBZenaDk5ZUpCcd7ZsgNB6cGLGHXx4fs40lhOOD2rvqRn\\u002f2CADwxwcBIPHsWwCgb72o2+iJkwSlaSLow5wO1w1Xpd94ayq3Ws5ppFhc4Xj7+rXJl1\\u002fX9kuyzJtNtzaP\\u002fvoPZtNzhNNXo\\u002ffadwMA2MXzpWgcVMUyfw4R8EX\\u002f+pjZ4uyGsQdEPiNLvMiNf1inoMMCMNy11dfmlOmA9PmXMZtyxtMB97r9n7oXQM3u2ht7\\u002fFmz+rxDFcTQf\\u002f3KedWGwCfvQRlayXFC\\u002f+Dor\\u002f43u3uf2fQc4fTV6L323QAA25qVZHWFNsEU\\u002ft2fT3jF+bsFl47YPHUAMNpT5PZIcZCCp6MRQAuFFyiDw3rq75OeMYigB2Uo\\u002fRAhcNzrHFcXgBA4u6iNCLjNiqkxqf+pQ1R4zaIThWo42QUfp7BepTiF9T1LKPoSiklGWEGkLqqO4EAQQGYhDQAIIC7EN6z2amkaWB5yBBDayEoBGQNcAlEFlQGWADIJUQIoCQQCKAE4EmgecjSwIvAU0DnIEEBJIOJACMDRwPKQJYDiYaoPTJwmAt7ZOEalsyEUQRnancmNAoCV8aeywwggrCWgKCIvJDWVKOXc9sZUdohl\\u002fATO8EISRQktEUt226yViXR\\u002f0DsHw8hMNqSqipZ9ODzlObt3D8uittw7R4S+Ee0QIQnMYZXC8QlGBlRJVhXFsmBm4rm3zLopMKn\\u002fqUP43eXvO7PLOjJbD0zlnpp943JtZkNn6nk1TmG9SnEK63uWgGIETgLrrIwPH2Zs\\u002fim8hAKABsaHVGpdlR+qGLAOqz36DcZKpCGpRr1IgwwSChgDVgF4CUQFJB7yN6HrYCYDbBKiSTXmQLwKyB4IJtWoAJwNcfmhhgE2B2kRBBXUpBoNIjMZYI+ouyXI32F9V6BJZ8\\u002fgG\\u002fVVq3ghGU92Z7lobcXK3qFNdZWrBDGtKKIo5WjKoans1ipeTDltdbIiSDKPYSSCoFqCF5IoggMAQ7uP979aW7FClHJadnORZxz7hmVEwCOF4yhDJV\\u002fY4rjyIszKJP7+ttAfct98KUISuQPHAMC2ZgFCkZnNe7nDPY7LV4hDYb6r37p8Nu53415nZvNe\\u002ftiA89o1CI6l3tgt9AxJkYQ2wkIZSpfLsaTuX4olHZct0+69IBiq+ynlX+gZdl63FqFJsX9ETqRxrwv3OJIvbTX64Q4ed16zGhAk+fI2OZ62rVtEVvmy7xwxxiD0Duv1kmMp55UXEUEvd\\u002fC40DfiuuVSUNT0G7u0yVYNzGpx3XyJFE2CCpid1eNHcFzPKw6Fx+sVSYz76R7Sy8rt6dTrZYyHrPTqdcwdOK7bcwePT7A5U\\u002fU92yj6EopJFo5ykM1COqemGWB54HKQRgGzgl27KlRAZhBWARUHckyLEkAggLjAp+XiIDsKgzJISYhm1aQNHFouChgW7JpWK0WT6\\u002fbmUM4sOE5V+hcIYgYAJFkAAEFMVfjm8UJSkjmacnJCQlc5bXUERquqCqoKqgKGBMv4bGzQxlbKcv4+qTH7uwtZE0i\\u002fsUsVJZQm5WQm+cKW3MHj7KI2y7xWcTgS+eOz2Z2HACD7zpHIH561XjRPleT0W3u0SxvM4+SP9Wty29qFUjSZ29vlum6N0b9RbvSP4DhR4Yv88bnM1v1GP6X8U621XGdvdvsBOZHGPE7uSE\\u002fkT885Ll9h9GPfsDz5wtboX553XrVKyXKJZ94EDDXFYKwXf3xA6BtJPPU6d7gHtTIoQ8efesP067Wunp96bWfyhS0IgRvjN+Y1yo1+jGUZ62WMx1hHo73J5ozV96xDVQnKhmJk\\u002f8EXFTnfIUwywhpS8ytuB9Xj6thT8wk1omsRQFRQtb8AEERqR9Q+XaLl0rUpiKfVhC7pUvcBgK7V00bJu4UoZoZCu4xhDIf3aIE1VK8Nxw77XDO7B17XVL1Db5WJef\\u002fRRwEglRkEgN6ht\\u002fTsmez4Lj\\u002fvCqogqZKsCiIgiPWieZjTJg6OAoaiDGV8WFeOp1VBBNQ8canLUYaSwnFVFGOPv2Y0MMqN\\u002fgFAio7315P65w4c833iZv5of\\u002fL5t22XLlUFUZVk7VFt3Q9KkwrHq7JieoTbGANZ5ZvwEPIYUigW+9sLzqtXZXcfye0ZXymKUqTC8QongKKa4tcxyo1+TG2oY4yHmd1sbEPd3mRzxup7tmFxVg4efsVXt9C4cHSSDkun1K9Rk+tabW7LJDfmLSUppX23GA7vKQxDk\\u002fQMvsnQ7p7BNwtVU6Fo9ncfWSaCbpQiQFGyu494776Gaq7hjw0YTYigx75uIVETsPQOG+Wp13e5brxYCsX4YwOqKNrWLCACbmFg1Cg3+jfmNVLKP0JTmI3FnDaqtQ4AbOsW2QAyWw8YbZKvbHfdsl7lhfTmCfcTjTEY65XdcZA\\u002fNuC+bWNmyz4lx7NL2k2\\u002ffABIb93nuv5icWhUFQRT\\u002fHpeo5ysCeh+jGWJAyG9XhPaxIDR3mRzxup7tpFLDle0rhG55Klc5n6B8wbTN3jqT\\u002f9plLLX5Sf8C\\u002fHceSVmtQCC+D52o+OqVUSlF5k4zMmDIMbNvAL\\u002f9P5xjSG2CemxLZgRHCvuE0X1VZ3m9jHkHRdO9DNpm5gojPNM1\\u002fdsQlvTYGKqI6wLnPeYNqWc7uu5Stnr8sJNL6dI+vVdjitXqrKS\\u002fPvbuNehckLxhXva1CEAM6fFMrspvemdcY0htgnpsZ28SsZmGA+a26dYXrPNZG1iojBOaTh8Rut7NlF04ejpgrS7AcA5Y4FZcZahRzitUAmr07donVl6gQtc4NRh9zX56hb66hYahadghOWcMR8laS4yhDPWZNc+e\\u002fNsMRXzzF0V3vEq6fK5Zy\\u002fnIsOgKrSnIjc6QDl9KElxkWHS5tRyIShGOrx8dARA1WwQBKW8QVUUxUxCU8lc1lrbnAsNUJ4gTlvEdALBCS3BR0csFQ250QEERTXj7FC3Fhjl8pty5Ub6NQlp92hh4BYrYbWTLr8eqpzLaDYIhmsOUZIkHV4hPiqmEpoqO9Rz4bL6Ahc4raiKTDJ2kUsbhafgOpawuaJ732arGgFUtqoJQVFudJALD3CRIVCV6N63LcEaS2V9dN9ma00L6fRoEj0XYXNmBrqyQ926DeX2q5Io81ldhZK0mE6yVY0ohssChxKknnC0zpeFnCVQoxvrgRXJNSbRw1BB9S2+NNN3VA9Vt9Edkg6vJVhDOjy6arzyp5AST8AybfU1P\\u002fp0oZYIuCq\\u002f9uGG\\u002f3mg\\u002fldftK9frMtL2Zdi6vZEla\\u002f+559v\\u002fNPX6372z2bddPzkmbJlqXJLyTWmHc9Zxrke\\u002f8ljcQQHDr0CMOGrcgo6LJSkXe1LpGw6deygb9G6ZNd+VVFwi51y+xUx\\u002f4o0KZ1yzlokphO6RM8FAJpQt5F5jrC7xFRcV7FVDRjNqKqiqiooKqigJ7jRQYykMoPdurFOYS5dolsiCBLZs8k5a6Eu0W1gzCHB2mL7t+KsQ1fRniDjq6B9VWNFnQJqf\\u002fipkvOgxpcyjOG6cR0oSu+nf9T\\u002fxZ+m355wq6iofTmmZi8OjHZ\\u002f7HujP3\\u002fMrNCZmh+NcvWdSKlyS8nHmU48ZyPnVPxT\\u002fDSnjixylTPW0VZPRfNFBGU1q08Y7\\u002fzVWhdIuf2euSvz0sIzw0SJnmsCCAIA\\u002fqXrGX+Vb\\u002fElhaqi6M8ZFaEwV6GkkDI2ZVQnAe62N\\u002f31wWl95FXf+IjrxrVm6enHtmpu0RHNtDiB+pYqt5T8AqcVe4PLOyeIEhjjYxEUsVbZ669oZbz5DeY1CUpglqBN+zsx94lzCuaw4od3aucBRRIje8aeICs8M0yU6LkmoKoAMLrjFcrhDe94pVBVFG00VJzCXIWSQsrYlFGNQTdXu953Cd1YBRgq9AyHf\\u002fcM3z0EAFR9ReBz7x\\u002f6zh\\u002f8911PNVbKiUz\\u002fV36hpHNVD95DVvkAoPGPX9M8dH3gG6AouNdR9a8fxayMKkrHP\\u002fQt3X\\u002f1v32cqPCgFEnPqHXftA4Aej\\u002fzE3EkWsoeAJi2Bvf7LqEaK1VFFQdHh777BzmRKWVfKv5SlPJT\\u002f8svhH\\u002f7jOPK5VRDpRRNRv\\u002fyQvrtfQiBl6ovADivucixcRlqZYTjQ+H\\u002feZY\\u002fdiJLsUvFgxC4964rLfNbUCuDUqSS41Ov7Qr\\u002f7hkoUW7R+DVXRduzlJ9SlGrnUvGfVTA+FhR15gfmshW2yP6R6MFRxm+tXFXX83ynlBUbrpoRPThavaZBFiSMDMiClB0+\\u002fXf6zioQFDO9oawoCILCNDeTmKLnqUNUeGxr5+MeB+Zg\\u002fR+\\u002fofo792lyqr6i8Y9fC37+A3RLDWplmNlNeha6pabUiMOyYEbD775slgJUffMebR9XE4X2RNDd+Kevu2++GPc6MJeNXdpu1BaxLxG\\u002fRqkRTaGf+l9+oeE3\\u002f2JZMAOzWZzXrGr8w1cxe\\u002f4MXLS+9osX1vzo01R9BWazuK5bXf\\u002frL2G2\\u002fBbjULrcUvLCeFzXra7+zn0oRSI4VvHlD\\u002fo+fLUmL1VuqfhLtWcpP6Uo386F8Z9VsJW2xmtm1l\\u002fRWrWqvm5ja9WahroNLYHFVbTHAgCaxNniabt7ofbXnP9EOQUjrFLQ7gBGW7jIMG6xyXwOAGQ+hzOslMsQFpuYTeEMK3M5jLEoAo9bbEIyqmulXAYlKUUSMIKSeQ4lKQRF2aqm5PH9qiQBghAWmyxwWi7CYhNSMQBAcdLe2Jbu7wIAnLZgtCUXGtD8qJKEEqRuL3FZUBUARPec6j6IW2wyl0EpRkonUZLSPGjxi6kYRjGyyGMEJWaSppqaEIci4lBESydf3F759bsByT9bgBB44tm3uc4+AMjt7TLmOn04r7qIO9IXfehl7TCzZf9EvZky8U+X5Gu7sjsPA0D8qTfd77+ErA3k9h0zG43hvOai6EOvaKOM2OOvO6++yLJgRuq1XWa7E4VqqsodOK7wAgDk9naxC2dq8jLlFo2\\u002fVHuW8VOUU9jOZ57MYOr404dVRUVQRP+ra3v+fkSTJLqi2l9D1ilB2F2Mv5r2VYQ2v2Bsk9PYYeFWB6iqqiqMvxqjaNLhlfkcaXene48osuT0BEm7OzfSlxvt5\\u002fgRxl\\u002ftaJmra8Vk1N2xTMwk5Fw2O9zj7lg28MojoKqOpjkyn0NxQpGldN8Rxl\\u002fN+KoUWdI6LOfMBShOEqzd3bEs0bUXVJVy+dwdy7LDvbLAGe0xghSzKTmX0T1rcaZ6Djka29N9R3UPmtxa26qIPGF1yLls7PAORZgwu28Cc7Cu69cws5tQhgIEQTAMQRFVzje60DPhuZMzAFHt4w\\u002f3mqWlKR\\u002f\\u002ftND3pQFVVXkRNWytZQLBMSLoCXz65sCnb9aFuM85bnHSiINhuq0eIXBVVuiZdXz3MExWbtH4i7ZneT9FOYXt\\u002fK6g9VDGv1PXToqUSSE4nuzab+rBT2OHJcTD1tpWMZ2g3YFsqB9UUCSRCw+JqZi9sV1IxrjwEEZS2eFeyuWn3QE+Hta1pNWpSIKYjInZFFvZqEgC5fLTnmD8yC5b3cx0X6e9sZ2PjtDuQOLoHntje7JrLwCoioJRjGavlY66g4ok8LGQJVBLsA7dXkjFrFVNUjate86NDtDuAIJhQipu9KDFL6bjOG3R4kFxsnyHFbz\\u002fNiXLDX3rf6Rokm6trXrwHqP2BN6TfJIgCDKt70v5+KeFyk95jyAEAYCh7\\u002fwht98wBCv94OEJEHv89cqOxvqff17OcHxXf\\u002fRvLwJMUm7R+Iu3Z1k\\u002fRTmF7Xz+gTMsRtK2+pnc6OAZGmEJyWh0\\u002fxZQ1eG3DS\\u002f5QRBQ1Vx4EFRVHwDzsVDeZlwLMPY4cbq3U0sPv\\u002f2ctbY11XuYCw9pHrRcuXB+ajN2YCsgiJ43un+Lns4O92ge8vb50vNaTW6IEzF4GIt\\u002fasN1hMDp1prBb\\u002f2PFE0CAFHpMVsUI\\u002f\\u002fsBYpC0YcwTg5hYJRumuoKjBOLf7oU1lcVJXE4StYHs7uPGC1PIbjPiXkcvZ\\u002f5sZzK6sITKLdoe07Xz5lp53MUBEXZulaMsQCA6UdXZJb3VFL4C9ckxr9GxuVG1Xg63XuECw8BTMxrTo8dmv2MUbwUI0YPuqyU8QRUUZITGaa9AcExqrHKdd1qs0UxxFBUlWXr8g6UJnGP3aw+ORLPvEW31buuX4O7bJjDyi6ahVrG341u4sTiny5F6xt79FXX1RexC2eiLEME3PZLF6MUOTHfSaHyIkoS9b\\u002f+UtNfH2z4nweC99+K0iRMv9xS7TktP6epnQmP3Xv9CrO0AKY13+GSficAOFZ3GLVFOX2eC1EVJd19WEontQlro+o0jrDes4R++oj3Q1c5r75I6BsJ\\u002ffzxyq\\u002fcZbYoQEnnwr9+yv3+9b6PXCOORPr++b8BwHvXFdYVc1CWRnCs4X8eULLc6K+e1OaAi1LKXhgYHf63P7pvucR141pVVoTeYe5wTxn7UvH777vesmAGytIIhjX8\\u002fitKlg\\u002f918O5A8dL+THGZqJofVOv70ZIwnPHBtzvUtI57lBP6vXdULrcUvKi8XAHuyu\\u002f\\u002fuHRXz+Z3XFYVRTMzgb\\u002f3632jcvij79eqtxSlGrP6fop1c5F4y\\u002ffnlSVh53TwB0bzh7u1063TGsVXedXeFEciVO1Pu74CEoTZNDF94fF0QTTXJE7MsA0VbivXBJ54m2q0uPesIDrHaWqvZiVkSLJ+Ov5BRyn3DM\\u002fGKVqvLnDA\\u002fxg\\u002foZDURQ+h5KUIgpTHChcYJz5qz\\u002ft8s8wS08DZ6wgE7OX38vaT\\u002fY9C2c5THtD\\u002fa++aJQEPnWz5wMbjJJzF6al0r50hjYC8l6\\u002fHACcF891ru6wLmj2XrsMALw3rHCunU1WuDV7zzVLAQDBUC3hu2WVJnRfsci9YaHrsgVjjk+9Z6apwnP1Utw9yVJS2lfpnrPcOWuho3WuUX6aLwnfG1gdVd6K2WbpaeA0FbT37V9mkuWWOJ4HiMNR1EKzC2ciGIoylPWiOZbFM6c433T2Y5lVi1lpUBSq1kfXBeiGoJLlCb9TDCfEWNq5bo4USQGA9j5jqtrLNASZpgpVVnCnlar26u85BkVVFcU4qDn1nlFUTmbZ9lq9iKKIqXj80K74oZ1CKm7WTQsy4DCLAADAtWbCckQjhNfuv3GZWXr6YWeYZ0ZPjPmrJhn41M1YX920xiydPmesoPcm1mUdNd\\u002f\\u002fZOMfvtrwm3+pevAedkmb2eKcZuJcj++WVXRj0HfjykLVBMqodE6156ILpE0QVkfVZe+zN3ec1ByWpbnCd\\u002fWikUc3IzhmnVWdPTYsxbP2hU2ZQ\\u002f1Uldu7cX6ud5T0OTCGzPWOgqLSdb7csZFs55A2i83OrNIkCIrSdT6FFxVeTGw+4lw+I\\u002f52\\u002fhLdtboNs1C5nlEER6kKF9cbBgBTLjGa0lRSmrPNrc91DdO1PsxGi5EUShJaIr23l2kOZg4PuNa05+ORVS177LVJVk4CgN1V1zznRgyn4uFOffvjYO2S6uY1KEaqstRz5IVQ\\u002f06KcbbMudHmqlNVOVi7BAB2vPpDVVUKLSd4N3A6CrI5a5pnX09QVgRBw0N7u\\u002fY9AQAYTtXPutztn4WimCRx77z535KYcwdm1bWut9iDe9\\u002f+ZTLarZXOsJ6m2dczrFdVlYFjbwx1v40TzPzVnxk8vilYtwQnLCO9W7sP\\u002fb2Uz8Lsmtt3nfTmfaYNhc8rJs71hB9\\u002fmwy6wo+\\u002fXaiaQBmVzqn2XHw\\u002fwolIuYyQjKIUU8bP5CAY6r92CQBUfuhi97oO37VLAjct11TB918EAP5rl+gJ\\u002f\\u002fVLAUAz8N+wDAB0ifuSOa617faFTY6lrdaOWudFs\\u002fIFjNkHblruXtdBVbqK5tJVltZKx7JW\\u002f43LvFcu9F6+wLNxvp7QYgBDYHp2vaxSIAi65NIv+SrnAoDdVbfqqn\\u002fTBj4M6yFICwBYrP7lG7+h27fOe59p4FPK0sRpKmjWwtsr6pcDAIritCU\\u002fudAy98aZCz+AYgQAUIxTE2osXHu\\u002f3V2fP0CQBWs+Y3VUAwBOMEsu\\u002fZLNVYsTzKqrv1fbcgkAkLR9xeXfZKw+KOqzWPa853MQXxUFACuuKrnmwB0kr\\u002fpIhVl6VmKsRfPc4psfTLc6pfyUwhhD+bJIp4f2V9lbZpu2NpjeCEuVFdxtpas9uWMjmJXOHOwn3Fb\\u002f9UvT+\\u002fuUXP5iVU+I0bT74tlCJEXX+ZgGP9MY0CUKJ9I1nsTxEN8Xbnjg5uPffkQvArVQnvVzpUQWAJScaPSj58LtjKayttVI6RwoKqiqqi3SG0vQ1R6mKWBpCurxyFleyz5WVEkoi4sgraOD7wBAMtaTy4Y1OWP1VzetBkAAACcYBEFLPXc9RcvTVNBw79bmOTdYHVWhvh2J6HHN0u2ftW\\u002fLbxRZBAA+Fzf4mADNuFhbRfuSD+oShvXm0qMAMNi9CQAELpnLRCjakUuPFvosmj0VM68LnxTC5nTMnB\\u002fe9opZAQAApN0tJKNmqQHHzAWJQyVHtVOkoYO97I7AM78ZCjbQF7\\u002ff39+ZFXJKywJbz8FMMiLNXe3o3JU+tjejDQDq2yyayuYidrwYW3SZK9zPaxIMQ\\u002fy19GBXzltFMVas\\u002f0gWw\\u002fMSVYWaVqbnYBZFkepWRsgpsZCgqdJxqX25vftAtrqFsTrw6IhA0qiWGOzKmTx37srvcrf2Zp9mc3xfRsuejudD1Wsx2i80dFiOvpNecZWHtmLGeh3ZkTZVJxXNh0GQ+bJ8VZSWq9CPIoFWC5LJhxrq47UK4gRSM8Pi9BG6Z72sxtlsVTNzdHd66Din1QIAxETM2bFElSXTN396HRYADP7+FVBVrj+iPz2kJbJHBgEg9MRWzSyfGFts2fPDJwEgd2xEkwTff1Fi21HHkpaErCS3d6ni+A7TUiIbeXGPcRwYe22\\u002fKdfIQ29pqtDjW8qs5+z50VMAkO0aBoDQE1v17FzPqNm0LKqqAgBBsrMW3bHrtR9n0yGCsi677KtmuzGmbmniVBUUGz2y45UfuINt9bMu53PxQzv\\u002fDABQZhMeIwiiqPLWF79j\\u002fKLgBAMAkqh\\u002fn9T8zEKhz2LZNRwzF2AkxUWGFVGwVDZwowMYbUl17bc1tSs8RzrzW8uyNc1caCA71KNdHxfmUiXRPX9VZPurOGsjnV4hNqqIAuWt4EIDKEFqfnCLFbfaKZc\\u002f03fUFMbU6T2Y7TmY7T+SW3Sp+vL\\u002fhTbeFXT6iP4j2cYOK0EhT\\u002f1yyGi87EqPpoqPCs3zrDiO6JJ0XDy0LTXSw81YZHv6V0NX31sRGxE0yRV3B5\\u002f97fBV91QkIqLAKZmk5KkgNVXjHDYWEmcusvE5OZeWKQuK44iWKPSsh0GQeRvGhmnZERS0UOescmi1OLJjGCNQAPDXUo\\u002f\\u002fdNBYryM78h2fXsSRXSnNT3w0H3P7cruWq9BPJilptWAdlBZG6wKrVkEEgad+OXT1vRXjnsfKUhRg7TiXmfCFwVgrgqJiMmkUwoncJRzrHfTng8o9KFTYlagqAIQe3axKcujRzYoghZ+dcCaMvWZ+egjAnKtQNRWKZy8Gn42JQka7UrM6qhnWCwAYToGqCnwSACrq8hfCGrKUoywu\\u002fbCMpYnTVJDVWa2CGh7c07nnEXcgf7kdCx2qbl6LojgAkLRDSxTCZaO5TLi6eY12yNorSllCMZ9lspNOT3TP20ywxjFjvsLnmEAN6fQAAOn0EjZnpr8rO9iNkrSUSVqqG8dKKJKLGx3kRge48BDp9DLBGsLpsVTWx\\u002fZuZmtbdD8Aqm\\u002fJpSfTWwGALKtOH1HZSHPZ\\u002fG+p92CWZrEju1KDx7gr7g42zWGrW5jaGUzdLIuu2vFS\\u002fMZPV+14Ka5LAIDPygDAWLE1N\\u002fqSEUmXxEPiRdd5YyNCLiV7q6jIkKCrZiy0sXZMUVRFAUVRQQU9UehZR7fRs+uh6rWobKTrZ1nq28clusPC6uh+YKysMn70Wuhh6BVMRqRVN3hJGi0sC8MgFRNnLpmw0EEReIy24Bbz6gfEdHwBDbu7vmXOjShGxMOdJGUb7H47Fjrc0HaVr2quLPEjfdsrapduf+X72jjCYvXPXPgBnGAkMbvztR8DQCnLQk5HQc1zbvAEO1RVliW+98iLowO7AQAn6Ia2q1y+VgRBRSG7562fS2K2dd77WHvQYgsIuYTAp44deDoV66Ut7sb2a6yOSgTFcunQ\\u002fi2\\u002fQ1Bs+cZvvPHU57WY56\\u002f+9PGDz8VHO4v6LMyuvfXas3B1ZMfrnoWrpUwao+jcSD\\u002fl9gOCkA63EAune49ImZRn4RqFy2K0JdV92Lfk4vCO19iaJlOu3HBvYNVV8f1bHTPnp3uOWGtb+dgogqLaqWvMz+p092HGXx0\\u002fuCPf0CcEgoLpc0MxRJFVY6JQVUqy8YPB5\\u002f8wbHKoFXHdxyt3vxqfs8rx5C\\u002fGB26FpesUllWInn0qxoU2uqRMGCbK16JMPBiGyBMlhNXhX7ExdWx\\u002f4fPP5ymGN8qdJMXvwp46\\u002f+9BxmdSC9uwUDLGieU6e7B7CLNoDIJCq1sYDDsHalGGU1gLBMN9y9Y72xebFeclKEXYVnbgTivutJLVPmZmLUoRuNOKEDjhcwKKEkE3ytJklRchcNxtRxkKd9s0uSbBrAxVH0RIAnfZHGvn4W57Pu8p8j+ey+vQ8mr2mqUxjeAYWenRX4F5gQu8F6DcfuesBYGVl5vkp6AvPAtxrF+IkkT2QLfz0oXprYdURZXTWeelC7MHe1VBxOws1zUgDsesi2YQARfhd4ojMTmdU2WF6xqwLpxB+J2h3\\u002f3dftFsBMcUTsBdVjmdk7O8KojprYdOif\\u002fUpn2qopKVHu7YoCrJzksXjv7xReuiGYTfKadzydf36GmVF1EbE392y1RWr1zgAucHGMWoqkJYHXx0wm39Yhc75wGygrK0ZVadwovCUJQIuPLpgVGqLqiKEuF34S4bWe2Vwon09sPiaEIYimhyTaJwgsKLqiyjVgYAUJbR8p4q\\u002f1ouJSdwnQNaXs1eszSmVUVRJbncnY0xFrfeNbfxFrP0XOb8q9G7ztymW2bWmIctZyEYYyGdXsoTKPeKmWlhnbvAeIi73MZDI3RNnVk0EdzhdK5ep6XLGOtFlLEZB0HG5zVMaQAwbuJunP7Q5AhCt1TbVrSPa41\\u002fNU7O\\u002fwS50aAA+9p5zo1LjLuDEzhjZfwGkzzn7s\\u002f7\\u002fKvRWcu8pvfNqL7MLD37QBDUNXuZs22RSX4iMyN0XT0ZrMRtNsLnZ5qahcEBVZYdK1bFX39VVWRNglltmQP72PbZfF8vVV3N9fVQ1TWkP8D19pA+f+bgfnZWuxAe1Yy53h7NM253aMakP0DV1MrZjBgOm4pQclnNhq6tIwMV\\u002fNAA4fGhFCWMDHM9x8ejNN5ZKEwbt4I0asdWn3Kd\\u002fVxn\\u002f7jW+FejfHoy\\u002fxPkZW+CJF\\u002fdbZJUuOdYad+B3qdN8nOX869GZy27u\\u002f5qFr2rUAwqS6okmn8CuM0h5zK0rwKQCQstT2S4Rdc3Jre8pYgiStFyMknXNwpDg\\u002fzQgDAypEsQHKdr6xAMk5IJwDAAAFVFGYsq8LjHAwCEx6sb6551YyE0gpJU7mhnYRG6DV1Xn9y2mWlqITye5Na3qZoa3c\\u002f5jdc++dNF5xbnX40uMBXcAWL1de6rPhwovOw7lXu6y5m0beFilCCY+gY5lwVVURUFt9kJn1+XZA7sC9559\\u002fD\\u002f\\u002fpbw+amKKqqqGlBUzmbohiYlm7UtXIzStG5MBoJksIKqrFJEUTMmA0GEIAiPt7AIANBspGTKtmCRlExgLGsO8SxmyYy7RxOHUQSv9i0iMDqSOnag52leTAGAlfataP\\u002f4rqN\\u002fGU0c0e0XNN+GY\\u002fTWw78FgHlN73NZ6wicAYBq30LN4IWdD+qLvFRVbqxYVeNbjGN0Ohc63P+PeLp3zBN47I3NlRfbmICkCCOxA50DL0hy\\u002frmlxa13RVJdqqrW+BYTOFOYtwznYo3KxKxx8bwv7u76K0M6GipW06SdExI7Ov+Q4+Oatky5AOB1tDRXrrPSPn3RbDTVvf3I\\u002f2jpMp5JnG0IXuR1tDCkQ5S5WLrncN\\u002fzWlRee3NT5bqh6J6WqktG44ePDb0+v\\u002flWBMH2HHsonukvr9XKvajj0xbKBQDDsf17jj2sCTXKtxVMVqMTJpdRLDYMw2DFla5NT8WMKoxi2KpGJlA9HBowysvNnpRDH6eVSRSAoGj+ib8pGI9TxrhQctazZMbdLO2Nprr7RrcRGN1as0EQU1sO\\u002fUbXClJGH7cTOLN2zv872Pds\\u002f+gOAKBJOwLowpbbE9nBowMvazY5Ia4lFrfeZbMEM1z42NDrsiI2V65jae8b+34iyTwAuG0NC1vuGIzsGoruJXBLS9UlvJjefuT32vNAi1vvsjL+LB8tmrc852KNyscMABfP+2Is1Y2iRG9oiyRzTmtt9\\u002fAmbTuN8uVaaM+Ktvu6Bl\\u002frD2+3WyrmN93aNfTa8eE3p+IZQ8n2+mvCic4sH7VQ7pk1G2Pp3l1H\\u002fwIAXnvzvKb39Y1uT2aHZjdcn8wOHR18uT6wQlWVHZ1\\u002fLK\\u002fViyYwemHrHVk+VthhlWmrSWt0YmAYsvxKl6qo1S3MX\\u002f990KRFCZJ0+diqxsiuN2FsFxM4sREWQLH5l8JEAfneCqZkPE4Z40LJuYAK6t7jjyiqDACyIi5o+YDTWhNP9wFAf3hHe901JMEKYgYAgq52FdThaH4\\u002fHE5IAoCiKrIs6L9qIyiC7Tz6Z1HKAsDBvtzyWR+1WyqjqeMA0Fy5Lp7p29\\u002fzlGaZ4cIr2u7zO2eNxA5oEgwlSuWdlHOxRmVi1mBp76YDP9XGejHDcKN8uV57s6LIx4ffAIBI8lg4edRlrTsOE37epTzLiqB3JfF0n4Xy1PqX6FoUxbtH3uLFVEvVxYnMQDhxlCGd9YGVU9FqiDKnKBMe5dEp01ZTqdGJgMCBLalcWuk+mDOrAGh\\u002fFYrhiiSOvRAmT8G143lEEK3T0w7EY9DkMRoAAIOcoUvLVHZY+50AQDTdDQA2Jr9gYji2X1KESvdc7bDCPXs0fliSx59uLU8yO6h95wCA4+MAQBFWAEARzMFWhxOdumU6F+KEpNvWoEtK5Z0K52KNysSsEU4eLXygatJycYxUx9wCgKoqE35wAFDCcyE5IYZjlPG+viCmAUCUOU5IAIAkC8YnPctry1OmraZSoxNAllRVhYuudbmDRR4AkLksIEim94hpUHI+d1gWsFWjzU7ESyGMHXEDgAPxVKFNQbTOiXir0WYWsbOIvRptcSBeO+JuRDusiEOXmN2dOkR5\\u002fJSiKJKiSCSR7ysVRRqK7KnyzgcAmnQ4rbWDkXd040kRxr5zMP6dQgAAwygEQURpwqlMlLIkPr5aolTeqXAu1qhMzBrG7DqTlhtOHMVxusa3CEUwB1vpsTeHEoeNxlDCMwAgCFrrX7J4xl2rZ3\\u002f20vlfbqu72qhVVVXf4lFRJC2BjNWovHZSyrTVVGp0YnAZxebEnd5iHVYua2+e7Z43YYQIJ35JeC6ggNyvHK1H2+LKAe00xSJ2GSRRFZyIv1s5UI+2YYDzkHMhvh7lUEqNp9WEHXFrkoSa353qlENgtJ5GURxFce3cqNEf3lHrX+Jgq13WWkHKhpPT2HJAm0YpRJI5VVUIw48ZAAjcIozNyELpvFPhXKxR+ZhLMWm5yezQ4b6\\u002fz6q9ckbNRl5IHR9+Q5utmwozazZWuGcf6nsulurhxXSlZ15b3VVmo9NDmbY6mRqVJ5eRH\\u002f3psFkKoPW00b2b2apGmHhNOD7Cuvm6CZ+BiaoK7DMft5ulpVm8gDSLSjBFz7rDuhocJotWAwWsEm0UgGMRuw1x2RGXBCIDLA9ZAbhKtAFDMBfiI4BUQVVBpRCaRey6xOzu1GG3VKIIpqXdtnoASGXHP7Z0LpTI9Fe4OwKutuHo3sJrB1kRULTISakMqqrE0r0+R4susTJ+mrTHUt3jRifBuVij8jGXYirlVnrmdQ689OLOf31j30+mNTntc8wYiu4bjOzJCQlFlW2WCZeo7yInXKMTA0EQtrqJrW7CaItpjIgDwNJF1Ow2wu\\u002fD5naQSxdTe\\u002fYJuZyqJaorMbsN3X9I3LKd17pg3SYSVdZcRO3ZJ5IkNNYRhzvF2hrMZkUPHBZ7+6R5c8htO4Wbr7NoEllW22aQ2Zzy0OP5kWdLE6Fl37oj73nxAlKz6emT22YQe\\u002fYLFguiee4byDucP4f86Ids\\u002f\\u002fGLZEsTcfft1gOHxRnNhMuFDg7Jf3sso9dK45iyDwFE63r2y5sBwItUjqqDXqSqWzmgq\\u002fTEUXmPCmpGTeqS0wSKYnOb3tcb2oyh5MyajfF0n37vWaN\\u002fdEdj5RqadBzsfcYo10hkBio9c\\u002fzOmZyQJHA6kjxmtijG0cGXF7fe1V53zVB0j3ZvK5EZHIkfNNudEOdijSaNuRTly0VR3MYEe0benphpSmT5iNvW4GCrFUX0OloDzvxeZqcEBEFxjEZRDENwAmckmS88cxTlZGpUnhkLrSSF+Kuplx8OG2NRVSV17IBj1gJF4ExzWDgArFxK\\u002fei\\u002fk5\\u002f7hP3Gay0HDokL5pLBAKYlKBL5958mP\\u002fcJ+5bt+dvbus2W7fzwsLxiKTU8Ir+5mTvWLa1d5fi3Hyc+cY9t8zaeJBAAaKwnNEk8oeQ4NZ4YD8puQ7TsW3fkPbc2E5rN0kXkf\\u002f4i9dmP24fGPAOA5nDvAWHvAeHAIfHqjfDbP6Y\\u002fcY9NENVUSmEtxa\\u002fVTf1Ot3LIglh7lINGVZnEaWIkdpATErMbbsBRSlsBZDIYju2fUbMxw4WT2fF9hXS6hl4lCba9\\u002floEkAwXnuLPO57u2975vy1Vly5ouV2W+VD80JH+F6b4lZ2Uc7FGk8ZcivLlqoocTnbObrhhdsMNACBKuUiy60Dv01NZIHKg5+m2uqsWtd6pqnIofnh75\\u002f+saPu42eiEqAssm1G9IX9ggXXOzwPAgZ6n+sM7jWZFOZkalSeTkKggufetZOGHpohCbM9ms1SbV7vjfayiQl0N3tklOhzorneExnpcS1y5wXK8WwSA7buFz33C\\u002fp+\\u002fSM1oyauWL6HiCcXlREfDyitvcCMh+RP32P77V6lP3GN74RXu\\u002fk\\u002faf\\u002fab1MpllCbp7ZNmtBDP\\u002fCN38LCoFfzJe21a9hdf5TTPdTWYZtMxi8BxRFEAQUDz3NpMaA537xW++WXnH\\u002f+aWb+O1jzzvCpJAAC\\u002f\\u002f\\u002fPkExBnA0tm3M0JiT3HHzErDKAItnbu\\u002fzs+vOkMDL9PnnOxRlOJ+cRY2HKHokrdw5skRUAAoQhrW93Vg5E9nQMvmk3PEU5fjVx+YtGljuEefu+m8SW7OihJKyJvGmHl0Z\\u002fV1Z6i0RMf\\u002f4jN+BivUQWGXJPyhc845naQ939ywlyVKbvRpoznMqpzgiUz7p7TeJNZOpEK9+xLF3xl6qsK3l3OxRpNJeYTgKU9ly38mmnuaVHrndrY5FzktNaIYbEbPh5cda3brICS7yXM\\u002f\\u002fr1FZ3y2HoLLfHQ41njY7xGFUx8wrc8P\\u002flZUhDVn\\u002fw8aRSashttynguozrXwTHKwVb5nTNbqy\\u002frH93OT+Gm1VnO+Vej8nBCUpKF+sAKu6XSQrmd1poZ1Ze5bQ2hKc+snW2c1hoxVtRfQ3EZucizhCXeS4gbDwoZDRdfFztdOF7VLwZLMRWb8xuGci1suQNAHYkdPHLS4+2zgfOvRuWRFXFn5x+aKtctbLkdx2hJ5lK54d1dfw3FD5lNzxFOa41SMWm0n7fY8cI5LMLmSB07QDrcZd5xd4ELXOACZw6Hl7jjS1Xrb\\u002fOaFQCl9sMqGIoVQNrcAOBqWmBWjEGwzsCcdWZpaVh\\u002fnVk0BSYNQ6O8wXRDPWGIigDVWI8yDBHwYzYbZrMhOI45HZoWwXHc7dJsEJLAbDajvVGrSQBFca9Hk08s5wIXOLcZ6RXio\\u002fl1+Ua09xJKmQmTSGC6JHQ1zccIOhcbwmlromefs362kI752leF9rxKO3zemcu52LCqKoy7IhsZoOw+jKC42HB65LiW3eKpYgMNuciAxGVsVc3Z8ACC4ZTdy8VHSKtbM+bTUYu3OhPqcTUt0CSqqtCuoCKJsa78HdYTC0MFlXFXEhabHgZGs\\u002fnsqagm0UNl\\u002fXVj2b1aWaokajaAolrMmZFuzfgEwBwOUFVQFbK2CqVp3OdRshzuccUeeUrhOMvcDlWSFF4AVSX8PuvKpdl39uv2ZHWlrtUkVFOD0NtHze1QJUmKxsyFnVlqH\\u002fx65LEnMjt3mRUAAEA3N3lvvrH\\u002fu98vfnNnChABf8Un7kNZVkmne7\\u002f2TbP6NHPy8Z9iCvYjKd\\u002f+5xZWB5ZNyY0dlm0vxE2qUu8lnDDCIq2u8KG3rcFGANVa0YSgaC46mIsM5GJDqqqED71t8dWwgfrwoc22yhbK7tEkenZX03xZyFl8NShJC5mkNdhIss70UFdmpFs3FjMJBMUAQJfQTr8qi7Iw\\u002fijTiYVhDTaGD76lSOJ4GBjO+usQFNMlehF6dr0s3UaPWTc+AaTRMO5xYw47EfTLyZQ0GpHj8dzeAwrPA4A4EiKqKjQbqrlBFUSjvVGrSVRJwj1uTW4u6exDlZWT+bWLI6Her34j\\u002fJf8djRnnpOM\\u002f9RS\\u002fcXPI+f6ffHSxEfFHS8l3ngialYAYCRNOjyKyJvuEk4YYWEE7WldIuXSyd6DjZfdfezF36uKQljstNOviPlFYmI25W5ZJGYSOJ1\\u002fUpR2BRl3BeOpykYGcYpOj3Rbgw0yn9WmyhSJBwA9O+30M54qi7dal8gCRzv92cigdggnGoaUS3taF6M4oYfBRQcbL7v72D9+CwiqSfRQ9ey0M6CVJaTjeRuHT4v5ZJAi0fTbW0FV4089Py4dO1sK\\u002fYPCwBCoavrtrQCgCY3241rdA4qCoggDRVZdnlVwR7sGvvcDs\\u002fTc4ayKH3M4iIDfLD2PqG5htJXuQ92caWK91F3CCb2Xv2N1aP8boKq002+rbBk9sAmgyKC0iGSM8Sn90jYmgvPXJ3sP2GtmDu9+SZOceBhjksI7C4USzVgvq7jN+YJ1yWK6vo7w+4mAP\\u002fS7\\u002f3VfcxXudo\\u002f8+jd8bx9VV+u6fCNVWwMYJgwMRh55TBgY0HLRzU2uKy6naqpVRRFDoZFf\\u002fFpOp2sf\\u002fHrytTeY9jaqplqKJ2LPPJvZtRsAcJer8jOfRlmLKkk9X\\u002fyyXnTtg1+PPPKYfc1qkz0AOC5eZ199EWax8P390cee4Pv69VzWRQvdV19puiQsal8qfrKqyv+hD4784lfe295H1dTIqdTgv\\u002f+HnEyWime68SME7rn+eqZtJmaxICSpcFx66\\u002fbIo4\\u002fpGU3Ufeub4b897LhkHVlZKY6MhP\\u002fvb3xfP93cFPzovb0PfE3h8vvt+G6\\u002fDQDCf\\u002f1b5T99iggEEILQF\\u002fIc\\u002f39fAEUp1f4IhrmuvMK6eCFKM1xXV+ThR8RwBErHfzZQ3Uy7g+RwNxfqH9+vVYNy+5lANeUOjGx6zqQaB2fy6\\u002fpIq8s0Ejt9oBhOu4LGce+ZDEMv6\\u002fzGumRx3Xe\\u002fRVZW+D5wW913v0XV13tuuN73gdsAgPB5rUsW404nZrX6bnt\\u002f5f2f1bIQXm\\u002f9D7\\u002fnunwD7nJhdjs7d44mr33w63XfftDS3oayrOOSdfXf\\u002fy5mHW9DS3tb3Xe\\u002fpR9CaXvbsqXVX\\u002fo8WV2Fsqzz0kvqvvVN41bX1kULa7\\u002fx1XEvpe1LxU9WVdV\\u002f\\u002f98C99xN1dehFgvT2qrJS8WjMfX4nZdeUnn\\u002fZxGSRDAs+LF7PTffaMxVSN23vlnz1a9Q9fWY3ea95eaar35Z+85Xf\\u002fmLtuXLNBsEx+u++y2mpVk7pOrrGn78Q9MlYal4XFddWf3Fz5PVVZjD7rn+2uqvfAnBsDL2ZwMuP7H+Nu\\u002fsleaJKgDAKAYlKcptHmBOaAspl1\\u002fXJ6Rj5sHLaUORJS42PL4Z6ZkNQy\\u002frvEcKh4XBoVxnp5xM8t3dfHc37nICgDgaTm\\u002fdJsXjcjqdenszWVmhnSQc69bwx7tjzz0vxWJyMpl5Z4\\u002fuKrV1e3b\\u002fASWTSbz8KqAoWTHJpgJF7R2XrIs\\u002f\\u002f4LQP6D8\\u002f\\u002fbOOzyO6tz\\u002f77Sdme19V7uSVsXqtnHBBYMxlm2MseE6tIRQY24cyiX80kjy\\u002fH6kwIUkEPLk5iY3IeFSkkCA0EIoCdgG996wZcvqxZJWu9red6f8\\u002fpjVastsMZIFOPo8evTMnvM97\\u002fueszNn55w5MxMKebdsBQShW5qzS6aRT58vfgBACNz\\u002f0Y5YXz8XDkc6OlKmROMpgKierKyIdnXx8TjPspGOzqJGACCw\\u002f0Csr4\\u002f1B9xv\\u002fR1Tqaj6OgAI7DsgX5S8eE83NnDhcKSrO6NYDrnxIBimWrHc\\u002ffY78bNDrM\\u002fv\\u002ftvfUQkpWzAvnz7D3PmhlKm3As\\u002fDyvdewiILR2e4YOAiUQDgGYYLhwGAZ1mEIAAAk8vVV66m6utQikIQBMEwBEF4nifM5mhvX6aNJImR8ak0nucTCYSiMrJzyNUjGEbo9YbbbzXcfmtKhmvyLtoooM8Xv6CJDYvM+uXGk5Gdg6g+7nBStTUIjvMcR9VWx4cmJmHzwYyNCRtcNMr6fIROFwEIHjioufoqXKdjXC7ZvIuCBw4V\\u002fZHOjQfXahGCiI9Xlue4uN0uMScv0eTqkx+nGpyUEnJ1zOfEJLSyvME\\u002f1JEI+bJFaQgr3Qc7IggKWZMxCZ9HPXsxzzJZszRFOiwEw3iWBQBpU3P49Kns7EwwmUyxaKl\\u002f7y7hWtjnFKrSlnCNsaGMh9Wk2uHzS+oYznpUm\\u002fGuO7lI1P7b37M+H1VdVfbA\\u002fckMBIE8T63gEud2Q4KIHkUAwP7UH6JdXROJbP4JxPz6vPELCHfGZyIST0FE9b4PttD1d1c+\\u002fEMuEokNDHre\\u002fUe2IpfUXbgAAIjQuGwgEDl1Wr5ooe+DrdKW5qGf\\u002fyJNI45YPDwApM9II2lzKWL68wLPczKDTW6u4RIxQqpUVTa7Ow9zTPb8VIoCK90\\u002fyXsJMblce9UGqtIGALStmtDphbdsAQBpseIqtbBN6PRkRSUgCBsK8UwCkSSftJfSCL+EKEmiNJ2ejkpITK6gKqsARTGFgtAbcLUmKx0AyPIKTJEc5VKVVVSlDaXpdA2CYVRVtVAWUygkRpPEXCbYTG3n8yuYTUFV2MhKG0rRGTbT2iE9\\u002fQIAIXCqqsr\\u002f0Q7W5wMA3GBIZSVGR8nKiYUgUwufYBJjLtJq4RPMxF\\u002f+20Tz6QvEf77BtVpcpR589KeDjzzmeP5PXCSSrciBMCSXdKMUhamUqROuwN598vnz6Yb6+NkhxuWeKCD04Dl7aS6My83FYhKLRfiIoChhMsXt9kzVeYeNRzkmznMsRkoBACelfJ53XgioDcRAR9RglYjcS5jnvYQ5wjQQDMdoOvn0FgDSYlVfvhKlKMX8hYTRpGldjclkdG2dbPZclCQzi0K6RjFvASaTK5csQ3AiPV1iNmtXr0UIAnhetWy5xGRWr2hFSSo9XbnkEkyuUF++EpPK5PMXYgqFcskynmHSNZhcgWCYdu3VAKBZuUa1bLm0vlFa15C+nc9veszKRUsxpZK0VgBAus30dkhPvwDgEwwbCFJ1sxAMIysq1GtWpbJ8H+2gamvVa1ZhKiWmUEjnzEandCjhff99VetKaUsLKqUJvU6x7JLUT50oovoC8Z9v+EQckRC2Rx+u\\u002fuWTtp89Ztx0Z+5RkIViyWKqpgZTKrTXXsN6fZHO5NliuP0MQpKKS5cFDhxI1ydcLp5lZfPnoSSJj98mIQrPcb5tH2o3XC0pt2JKhebaa3gmMf1XA2VGG88xY6f3Ok7usB\\u002fbaj++rXCH5XUmJCRyaIs39wxLeC+humlBVnqhISHj87KhYGx4CAAAQYInP0alMpSWSqzljNeTcLkQDCfLKwJHDrKB7MfZpGsCx47I587D5HI24E9PB4BwV0ekuxMAEBQNt59CaSmuVqenE1qdf\\u002f9eBMcJvSExapfPvzg2MsQnEuka0lqOa7QYRQMAGwxw8Vi0p5swGNO38\\u002flNhzAY\\u002fO\\u002fuE87m0m2mt0N6+oWB88W\\u002f6K6\\u002fTtV6RWJkZOwvL5vvvVtIT4yOjv7hfzVXX6VeeyXPsvHhkWhPb2bRDHTXbZQtmI\\u002fSNIJhtp89xkejYy\\u002f\\u002fNXwq7z39wYOHEUKi3XgNrtVy4XC0pzd48BAA6G\\u002f+orSlOWWHi0Sdf34h2tWdT58v\\u002fnPlnOJHSbLs\\u002fvvGXnk13HYKeA6TyY133alcfql3y7ZsaRr+nbu0G6+VWC0Ju3302ecnHjzCccH9B5Qrljue\\u002f1O6nguHXX99TbP+av2N1yfGXIUXiHk\\u002f2IoQhPnuzShJRXt77L\\u002f7Q+pUY9oIOfpDjn4ASJ4KFJ2Mi\\u002fO73\\u002fZkpwIAAJeIiT7TPW3UK4Zu\\u002fb8lnA7\\u002fgb26dRtc772tXLIs3NFOqDV0XT0Xi3l3fiQxmJSLlzJej2\\u002fPTkJv0KxeGxvo9+\\u002ffQ1orUhrgOMP1N0U6zgRPHKera1PpVHkFplCG2k4AgHbtei4SJgzGsTdfJa3lqXRpfSNpLccUCtd7b0vMZapLLosNDvgP7iMt1pRGfdkKQBC6ZtbI809rWtekOilCp5\\u002fovPx+Ub\\u002fpSOsbqaoawmBw\\u002f+MdWVNLyiaktUO6r6ziM\\u002fzrQNXNMt5x28D\\u002f+2EqxXDbLazP537r7TRVBsI6rPSLrelor1mP0tKxV\\u002f6KICjP8\\u002flmDz8Bn9PVhVJrNYrhhErnObm\\u002faMeXAZIxUzgOik6skEIQ8WF2uiYdsXTdVetF0wEmro\\u002fq1m1AcFy5aClpLc+UlHQNNZ\\u002f9dNLtZNlMtUNJvma4oMHV6qonH5e2tCAoilKUfOGCqsd\\u002fQo2vnxLF9ujDqbVsKRAcR0mSrptl+8l\\u002fEkYjihF660USSkGQCqnCpNRVoRhBkArhDydoWmHEcFJCKdO3ERSj5cmXyCdLobiEUiEISsl0xsqLJZQyy+9nH1JnktvqJSptVnqhIaGA+NWx9PlRnhfvAvPNoYqlh06fEk0HmHhftG\\u002ffbsXCRYzHExs6mylJe6d0AUrQpNvJsplqh5J8zXBBw3i9zj+9oNmwznjnbXwiER91OP\\u002f8YnR8Tqp0qLpZpk1fYUMh16uvJxwOc9USFJMQpMJctcQ10gY8T8sN5qolYb+dkukcg0ekChNlmZOIh52DR+Qqq7DNsQmCkA737AIACa0CnrfWXUFJNQH3QMA7SNIqbVmLc\\u002fAIO+kbzqYTNhLWzbuMY+L27X9PTy9yxjHDDDNMG6bKRaRUzcTDpFQz0rNHbahDMZyUavyuPoJShHzDWlNjJOiMRwOxiNdYsUDYJigFTlAjPXsBeEqqVRvqOJ5lExEMp1gmhuGSeDQQDtjj0eyJ5k8LM1ZlZ\\u002ftUqN7HJa+T5oDgMjkuU8qsNa6ju85hDmuGGWaYVhAEeEgeounb+TFWLMRw0jl0jBEeeSIsXEIQ4PlPdwJLiij0mNXLORFA5Kg6wHlQQBWoRoLQZ5lOI1YxyJwxY1U4QgQ5Hw+cHFWzPGNn+xAEVdbPxWVKjKQd+95PH8AVHxJeGEj0igUv3DvwzPbhl\\u002fdl5wEAQPXX15rWz9u39mfZGZ8x6h\\u002faqL2sQdhu\\u002f79\\u002f9R7qycyfLNPTDue7Fp9j0mdXRGdacnAMHs74nHaF7lPsrQDAhFf2JtoAwIY39zOnqogWBKA30VZNtMT4MAooAEhRRU\\u002fihA1vSkCcA5aBOADw+d9LODN\\u002f\\u002fDmj+xfvHf\\u002f3pwef25GdcY5YblpKaCZuNp5mpqoWM3yWCXF+G96sQvUxPmzBa2J8OM5HLXgtCrgMVSlQjRLVsnxy7QXDxylEFuWTz8UT3kvoOZmxMA3+dc6wLhjYUCwSikXOurMzzgVMSlbcudx7oDvhybgDadqYklrM8BnHwQ4KL1H3wVjui9ZPxvcAgJ9zA0A\\u002fc7qGmONkhwxYeZDzZljJZOYM618R1Xwbgs189TOcd3Lfpp7vtep9iVM8cH2JtuyMTKbjDAvBUMOa2bormqVVelxBJzxB996uwWe2s5E4AMhqjbN\\u002fdcfJB\\u002f5Y\\u002f9AXUAnW9cQ7GEVU\\u002f5+r2FCs6yd\\u002fD3aMFLUAANVfXyurMXY\\u002f+a7t7lXK2eVcjAmcHur\\u002f\\u002fbbokCc9knTKblhs++rKwWe3D72UnNXiOZ6u1Nm+Jm6haAwAUP\\u002fQRuCh6+fv2L66Uru8AaMl0WFPx8NvRIc8F7\\u002f2wMhf9wu+Ku+6wnLTku4n3nFuOQkAs757jUQnP\\u002fXgX0pxMUkq71qhXVZPWTUAMPepTan0\\u002fVc\\u002fwY\\u002ffe1y4HQAAwTHrzZcYVrVIDMqEN+Ta3j74\\u002fE4ulnGHrXJuheXGJfImK0ZLmEAk1Gnv\\u002ffUHsVFfuqYABVxI9IoFf75n5PWD\\u002fb\\u002f\\u002fML1Iyy9vlWjlR+\\u002f4XXLCOr8FgQJfFgDUfGMdXa7t+dU\\u002fq+9dLW+ystG4a3v7wNMflW4BAHAlXXH7cs2yOkJFx0b9jn8cH3n1AM9NHLGkWVW5aYVyTgWhkacugMXHAkdu+R9hu7CLwjtM0SOrqECIYZItWSIcsIXPrQSmo8PiWc64fl7M7ht+eR8TiCovqjRfuwBBkN5fvy8IEBytumf18Cv7zNctqr7\\u002fSjYUG3xup+WmJbavtbZ964VSLAAAXaVv+ukX\\u002fccHen\\u002fzAWlQlt24uPGRG49vfppnROYdzRsX2r66cvD5naneCgCA45p++iX\\u002fsX5RC6XEAACEXt7wo+vYYGzw2R0IjqoWVMcdfgAIdzvoquStufImCxuOyRstQoclrTb4DvdCyS4mg2t7u\\u002fdgr255g+naBd1PvhuzJ3uQjMVlBdsBEKh\\u002faKNqvs3+t8ORfhdt05s3LpTVmU49+FJqflS\\u002fqmXWd9ZH7b6R1w7EHH7SrFLNrYy7ghMuClPQRXws4Ds2oLuiuf8PH6U8kmaVosk69OKe5O93QQspP\\u002fm+LAFpjaHp0Rtd29udW9sUTRbztQskWlnHI2+mBFDQAkZLWp68RWJQ2F8\\u002fFLV7FU2Wyk1XSKsMXY8nV8OjErzpsS\\u002fyLNv95LsJf8SwarZ548LBZ7fb3zo64aCgi6I7TNEjq6hgSlpyCpmODgsATt7\\u002fx9S2c8tJ0qjULKtLPw5dO9pH3zkGGFp935rOx95ybT8t0crKblicEhS1gNES5z8+7vvdVuEjG47Z7l4lb7QETqatMuV4ADCtn191z+qzf9w19OKeiSwABMfcO9oLWCgaAwAomqzDL+8beGa78HH078mdL9RlVy2oBgAEQ+X1ZueWk\\u002fLGMgBAcJSu0A69tFeQleJiMoS6RgFAVmsEgFCHPdznzFYUawftsnrN0lkdj7zp3nVGEMRdgap7VmuWzvLs7QQAjJZU37cmMuQ5cd9zXDT5Ozz0QkZTF6aoi7EtJ2u\\u002fs155UaX\\u002fWL8g0K9sBgDn1uSAoqgFgXxflgAmJQef22n\\u002f22EAcL5\\u002fgmd50zXzZbNMQhsKFLBQdsNiulJ36tsv+k8MAoDz\\u002fRNRu69y0wrn1jbh90lWZ6asmo6H3\\u002fAe6gWAUKddt6JRWmtiwxkrPAu4gBJ2mKJHVmHBlLTkFPLpTGSEep0SnRxBJ1aBCWePcWcAAISjKOELY7Qk3800uRYAYPTd46ntYIcdAEiTaiIbgA3HDWtmV99\\u002f5dkXdp99YXd6lkBRC+mIxgAAI68dzEoBgFDnKF2hQ3BUWmMEQMa2nZJWG1EJTlfoEBwLdYo\\u002fCSSfi\\u002fNNgXbQLm\\u002fgognPno6UwHekDwBUF1UKH1XzbZiMHHntYKq3OleKunDv7uCiCX1rc0qgb20Jtg9Hx2fxi1pIIfplpXDvnrAwtrUNAJTzbBPZAJDfgvbS+siAS+itBEbfPgoAuuXJ9RyYjAQALj5+izIPPCN2V0l+F7nk7jBFj6zCgqlqyalims6wZPVm04b58oYyiUaOUgQqwQEA0h4Rx0bjAMm7Z5I7ujD+QBGe5UuxAADpUyRcggGApGwcWYPZsGp2dNgz9GeR3gqKWSglBjYST\\u002fiSl2bTCXWNIjhKWbWKJku41xHqHAUUkdWayDIVG45Fhz2CrBQX00CBdqCsGpQilrz3YEoggCuTT7AgyzQAEBnIt4i5OEVdsJG4e3eH7rKGvl9\\u002fwMUZ2SwTXalLP60oakEg35eVhIeEe2IYG3P6AYDUJx\\u002fNJlDAAmlWBdJ6KwBgQzEmEKUsGuFj4MRgwhsuv\\u002fVSxhdJBCKG1haJQenOnJiDgi6ghB2mwJFVVMCz\\u002fNS05NQxHR2WelFNw4+vD3WPDr+yPzLgYoJR6xeXGtddlK3LT4kWsuZ9c9G3toxtazOsmVP51ZX9T23Lzi5oocQY+IT4j2TkrJuNxOkKnbzREjwzwsUSkf4xWWOZRCsLdTmEvatEF9NAgXZAECThC\\u002ff+d\\u002fYoNT46PmchHAhpU8vnSnEXAM6tbfpVLerFte5dZ\\u002fStzTzDura3p3JLsQD5v6wkCGQ8nRVBIOd3o4iFXCZOfYCNxE9\\u002f76XmJ77c8stbeYaNnPV0P\\u002fGOa8dELQQKuJiGHWZqWnLqmI4Oq+y6RTzDnX7wpdTVLpQiMiVFmLwFgaEX9wy9uCfm9Jffcmm42yHMeZfIZGPg+XCPg7JopLXG4Zf2AUCwfVg2y4TLqNR4cLIuSuaT9yUA0RGvtMbo3dfF5dlHhYl8qlwbODWUnVcaRV0AgO9IX9wV1Lc2u3ed0S5v9BzoYfwTz\\u002fwsxUIpSPTKuDN5ZJJGJYwPnUohOuwly9TpKbicxOVU6mwaAHRXNCe8oWN3PsUEo2nCUpmGHWaqWnKqmI45LARH2XAs1aa4klYtqMpQFGPyFgSEK\\u002fdn\\u002f7TLvaez+oG18oaybEV+Jh9DqGuUtunoCl2gfRgAgmdGZDVGyqpOdViTd1EijC8MAIRWlp1RAq4d7QiGmq5dmJ0xfu7gP9bHRuJl1y3KGo+XTlEXAAA8P7atTX1xjXJOBWlUjmX+9pRkoQR0l9WntoUpM\\u002f+xvlRKYdw7TtMVOuXcibke04b5kDkvpppvizv8qQUl58o07DBT1ZJTxSfcpc4J3+Fe5dzKqntXew\\u002f0SIxKy\\u002fWLEu4QoZJm6\\u002fIzeQsZ8ND9+Nstv7y1\\u002fofXnfiP59PnKQow+RhCXaO2za1MMBob8QJAsH2Yunc18JDqsIq6QAmM0MoxqYQu1wIAbdPFXQE2HE94QhNztyUQOHmWizFV96waefUgF2dwBWV\\u002f60i2KA\\u002fuXWfcO8\\u002fYvrpSWm0InBwEBKEsGu2yulPffSk+FgAAJhjrf2pbzQNXzfnNHc4P2uKugEQnV82z9f76A+HkomgtiroQGNvSZrlxScWmFUwg6tnfnUqHki0UhosxlpsvIU2qUI9D3mgxrZ\\u002fn3nUm1O3I1uVh5I1D2uWNDQ9fLyxrkDdaTFfPc+1o9x7sSWkc7x6r+ca6RW9+AwCA5+OuoGt7+8Az2\\u002fPNvmdRdIeZPFPSklPIdHRYw68ewOSUfmWzaf28mN038vrBcP9Yy5O3ZOvyM3kLWbCR+JkfvT7nv+9o+MEXTn3nxVJOdycfQ6jTjiuo1KEV6R8Djud5PjK+vq6oC82l9XXfvzb10ba5VdjofvJd5\\u002fsnUulFiTn8HY+8UXHn5VX3reY5PjLgKr3DAh46Hv2b+d8WGNfO1a1o5Bk25vB79nUxgYlBjeO94zGH33LjYuvNS1EJnvBFgqeHUqOe4rUowQUAhPucoW6Hotk6+vbR7CO8NAtF4PnT33u56p5VxqvncdHE6FtH+p\\u002f+KFuTHy7GnHrwLxW3Lzeum4srpTGHb\\u002fD5HcOv7E8JjFfNtW1uHXpxT7hvjOc4lMDoSr3li0vZcOxsnotCWRTdYaaAKWnJzwUYSbd8+xfZqeefmtu+Ka9uzE49\\u002f1TddA9ltGYlGi+9qv7uH9ZvfkiV9jh9UaUopSiVDRfV3PbN5m8+kasspXjpiDoSTRSYWu\\u002fTTM031uVeGptCEBxd\\u002fNY3K\\u002f\\u002f9iqz02b+6vemnX8pKnCHFVJ5hUUarRK3zd3ycnXFhka+afa\\u002f8NiuFUKh1C1d0\\u002fP5hNhpJLXsBMWU+SlH6zxz3nzlev\\u002fmh7IzSikP+GmUh6kg0UaBE7\\u002f+aoASOSojU9JMALicpi0ZYVjqDKFPZYSlnzeYSGV\\u002fAp0NpTxH6xJReTUKpYUJ+NhoBOO9RTYbSazTDVMFG4t7DPZYbFvNxNtzrQAiMsmqN6y5CSXzkjUPZ6hnGKdRhYbSs5pYHPB\\u002fvU89ejGK4Y\\u002fd73lOHFbXNhqVrel74L0FTtvp6Nhz0nNhvufIm2lLFs4x6zhIA6H72cQDgOVa\\u002faKV6zhKMoj0n9jt2vgsAtKncvOo6QqFmYxHHjncCPacwkq69\\u002fVuuozs1cy9JV6IS0rR8vaKmGcFxNhbtffG\\u002f2GgktzgASC1VZVfeiBFkcKAz1TVI1Pqy1ddLNAbgWNfhHe5jeecFNHOW6Be3IjjBs6xzzz+9pw4BgH7RSlRCStR6aUUtgiBdzz2B4kRuNXmeU9Q2Gy5ZSxnK+l75bXioFwBQCVn5hbsIpZaQq2Zt+h4A9L\\u002fy20TQl6sUxLnVFFWKxilKbnHRRiYUatEald50ouR6BwC6rNK8ciOCIJSxnIkEx\\u002fZvdR\\u002fdletINE7I00q5xTPi+GzT+dhb1psvMV59kUSnABRJuIKBtrOd\\u002f\\u002flmuNeZLZ2hFDBa1vLtX2jmLAEAUmdq+vpPCKUGAJm16Xu0qRwAEAxvvO8RQplcuWtdd7N+0cqJ4iTd8u1fGJauAQBcpmz6+mOk1ogSZMM9P5JXNQCARK1vuOfHEo1BVAkAlitvKt9wO0pIAEDwIlocQdD6zQ+pGuYBgNRS1fKtJ+XVjYAgtbd\\u002fS4gTo+j6zQ\\u002fRZbbx0LKRqPUYLQMAUmdqvP9RIVG\\u002faGXjfY8IszBCrkBWNVPMuvNBqbU6PUVqrRZ6qyyylLnVTJGlFI1ToH7zQ7kTRunF8zUy5NaoYNOJOhJNzAq++stfV9Q2A4CqaaHths0A4o7yxSnSSmLFx73NcGFS6AxLwHf6CADEXKNRx5DUYvP5Pe7DOzTzLo3882Vl3eyIfSDhn1gIl4v76E4AYEL+uGcMl6twmZKNRYN9ZwAg7h0LDXQoqhu9bYdylTG3Q1Hb3P\\u002fq74XRiuCFNlfkFg\\u002f0nMJome\\u002fMMQAID\\u002ffFvWMAIFFqKYOl4gt3jQcCpMYQGelPfUyH1Bl1F1+BIAjPA0bSCIoKTy8IDnRGHUMAwEZC2WWmjtxq5iNfnKWT28jZinNsutJBCQnHMADAswyCYpDHUdztALE4c1tJtPjk45zhs0zxDmvinYPJR+KDt+3grKWrMYpWz17sOZ58zEA+2Fjy8icPgoW8B1i2MvU\\u002fg+RwrwDJ2ykQ4Dm286lHij7WGqNlFdfc2f3Hn8fcDlwqb7j34VQWF8+4b\\u002f58IVJNEQrEWToijZxLyU13Ttg\\u002f\\u002fFv5httiYyMIho9sewNA3BFG0iAaZ260YsUvYCRybTzo1tbOd3cfzc5Lo7BAIlNpahaMnvgwO+PcKTGeXIQiMkNlyDmQnVeM4h2Wuvli97HdpM5EGSzhkX4A4JiEt+2Qdv5yUl8W6G5LKdlYNGtEk0vEPohKSHl1Y7C3XaLWy2z1zr0fZIvGCfa06xe3Dv3zJZ5hCLmKiYREiyf8HjYaVjXM8505RpvKJRo9AMR97rjHqVu8cmz\\u002fVgCgDJaY28GzIqsrMQnJA8+E\\u002fACgmXdpdnYOpVTznMit5pTEWTpZNSq96c4JUmfytx8d2fZm6ldH1FF6kXRyW0m0+OTj\\u002fCygrZmPSsiox45Tcm\\u002f\\u002fSbVtTjzkMTZfNnriI1Jp0DcujXpGeZ6jNeawa5hS6VGCjHpGAXhaYyGkCqnOKjNVRVzDOCVLFg+6hZTgaK\\u002fQ\\u002fjKjLVlcqRd8cUxC0CAISip1Ea8j5OibTDyJSEBV3hh09CMoKmShGCZESEhVUn1FyDmgrZ0viHmOpTVlHBsv3P0V6bA4JoFR0rq7vo+g2MiWV1MDFvfRnbO+8l3P8b3pQxLPsd3l19xe\\u002f7UfsJFQ9x+fTKWnwyXiA68\\u002fXbbqOsuVN3Gx6PD7r8bcDuFHNRf7h2+Yrri2btP3ERRjoqG+l37DRsO5xQHg7Nt\\u002fsqy50Xj5hlB\\u002fR7DnNAAAzw+88Yy5dWP9136AoFjMPTrw+tO82PrQuM\\u002ftOba79s4HuXjM23Yw7nVlKzLJraZ13c2Uvkyi0VvXfZkJ+e0fvZVvYCKqFKkmy4gqReOsuOYOiUaPy5UV19zOhIMjW16LOodziwtDLVGya5Sn6UQdiSbmeo+M9AOCqOcsVtTPRRA07nMNvvksEw7kOsoObhyRVoqGc4uLfsWfOyRytf3jD81zW6PeUbm5BkHRiHs47BqOeOxq25yx9n3GlssRBBk9ud08dyWC4iPHPjC2XI5iuP3jbea5rZqaeRGPXaovT4QDMqMNQbFUSnC0V3AhN1YJxQFA8IWRtKBhYuGAvSfmH5uSeADANHvFuC9EiDAR9gnTAqRCL4jZeIRjE0xs4oZQUXJOs9PAaFnjfY+0\\u002ffyb2RkAqIRquPfH3c89XvTwnmEGAJCW15pXbOh96dfCC7TLVt+Q8LnGDk7BwOSCxLJwXSzgAgB356Ha1V\\u002fp3vY8zzLWRetdnQeV1kZH2w5jy+VMNIAgKM\\u002fzOCUXUthEFHieVGijPgcmocNjgxH3SO3qTd1bnlFXzRFSOCZhmtvqOLmdUhuF4pTaJPji2YSgIVXGwFBHIjJx580niycedJMKXXC0l1TqhCwEw4UI3T1HzXNbHW275OaalJhSm3wDbRFP8k61c0a4SpidCgCAGC+9qnLjpuzkGWbIg7J+bvWX7kNQFAAwkqq++X7hqu4MohhblgtzdpTaaGgaH\\u002f6LzOLlTUGQ8anncXJTBHHKF4hqAGAS8UwYTGXlaATK5q2R6qzmi1qzMzIRLywgeoalalxgbt2Y8LkH33ouEfCmZ80wQz4QFC1bfYOscpZwhuU7fdi5b0u2aIZxcFrORIIAIJFr4iHveV11nPJVgGmIB8VwUqmP+hzneuF7hhlmmGGGGWaYYYbJ8f8Btvh7XGSVD9AAAAAASUVORK5CYII=\",\"type\":\"image\",\"xaxis\":\"x\",\"yaxis\":\"y\",\"hovertemplate\":\"x: %{x}\\u003cbr\\u003ey: %{y}\\u003cbr\\u003ecolor: [%{z[0]}, %{z[1]}, %{z[2]}]\\u003cextra\\u003e\\u003c\\u002fextra\\u003e\"}],                        {\"template\":{\"data\":{\"histogram2dcontour\":[{\"type\":\"histogram2dcontour\",\"colorbar\":{\"outlinewidth\":0,\"ticks\":\"\"},\"colorscale\":[[0.0,\"#0d0887\"],[0.1111111111111111,\"#46039f\"],[0.2222222222222222,\"#7201a8\"],[0.3333333333333333,\"#9c179e\"],[0.4444444444444444,\"#bd3786\"],[0.5555555555555556,\"#d8576b\"],[0.6666666666666666,\"#ed7953\"],[0.7777777777777778,\"#fb9f3a\"],[0.8888888888888888,\"#fdca26\"],[1.0,\"#f0f921\"]]}],\"choropleth\":[{\"type\":\"choropleth\",\"colorbar\":{\"outlinewidth\":0,\"ticks\":\"\"}}],\"histogram2d\":[{\"type\":\"histogram2d\",\"colorbar\":{\"outlinewidth\":0,\"ticks\":\"\"},\"colorscale\":[[0.0,\"#0d0887\"],[0.1111111111111111,\"#46039f\"],[0.2222222222222222,\"#7201a8\"],[0.3333333333333333,\"#9c179e\"],[0.4444444444444444,\"#bd3786\"],[0.5555555555555556,\"#d8576b\"],[0.6666666666666666,\"#ed7953\"],[0.7777777777777778,\"#fb9f3a\"],[0.8888888888888888,\"#fdca26\"],[1.0,\"#f0f921\"]]}],\"heatmap\":[{\"type\":\"heatmap\",\"colorbar\":{\"outlinewidth\":0,\"ticks\":\"\"},\"colorscale\":[[0.0,\"#0d0887\"],[0.1111111111111111,\"#46039f\"],[0.2222222222222222,\"#7201a8\"],[0.3333333333333333,\"#9c179e\"],[0.4444444444444444,\"#bd3786\"],[0.5555555555555556,\"#d8576b\"],[0.6666666666666666,\"#ed7953\"],[0.7777777777777778,\"#fb9f3a\"],[0.8888888888888888,\"#fdca26\"],[1.0,\"#f0f921\"]]}],\"heatmapgl\":[{\"type\":\"heatmapgl\",\"colorbar\":{\"outlinewidth\":0,\"ticks\":\"\"},\"colorscale\":[[0.0,\"#0d0887\"],[0.1111111111111111,\"#46039f\"],[0.2222222222222222,\"#7201a8\"],[0.3333333333333333,\"#9c179e\"],[0.4444444444444444,\"#bd3786\"],[0.5555555555555556,\"#d8576b\"],[0.6666666666666666,\"#ed7953\"],[0.7777777777777778,\"#fb9f3a\"],[0.8888888888888888,\"#fdca26\"],[1.0,\"#f0f921\"]]}],\"contourcarpet\":[{\"type\":\"contourcarpet\",\"colorbar\":{\"outlinewidth\":0,\"ticks\":\"\"}}],\"contour\":[{\"type\":\"contour\",\"colorbar\":{\"outlinewidth\":0,\"ticks\":\"\"},\"colorscale\":[[0.0,\"#0d0887\"],[0.1111111111111111,\"#46039f\"],[0.2222222222222222,\"#7201a8\"],[0.3333333333333333,\"#9c179e\"],[0.4444444444444444,\"#bd3786\"],[0.5555555555555556,\"#d8576b\"],[0.6666666666666666,\"#ed7953\"],[0.7777777777777778,\"#fb9f3a\"],[0.8888888888888888,\"#fdca26\"],[1.0,\"#f0f921\"]]}],\"surface\":[{\"type\":\"surface\",\"colorbar\":{\"outlinewidth\":0,\"ticks\":\"\"},\"colorscale\":[[0.0,\"#0d0887\"],[0.1111111111111111,\"#46039f\"],[0.2222222222222222,\"#7201a8\"],[0.3333333333333333,\"#9c179e\"],[0.4444444444444444,\"#bd3786\"],[0.5555555555555556,\"#d8576b\"],[0.6666666666666666,\"#ed7953\"],[0.7777777777777778,\"#fb9f3a\"],[0.8888888888888888,\"#fdca26\"],[1.0,\"#f0f921\"]]}],\"mesh3d\":[{\"type\":\"mesh3d\",\"colorbar\":{\"outlinewidth\":0,\"ticks\":\"\"}}],\"scatter\":[{\"fillpattern\":{\"fillmode\":\"overlay\",\"size\":10,\"solidity\":0.2},\"type\":\"scatter\"}],\"parcoords\":[{\"type\":\"parcoords\",\"line\":{\"colorbar\":{\"outlinewidth\":0,\"ticks\":\"\"}}}],\"scatterpolargl\":[{\"type\":\"scatterpolargl\",\"marker\":{\"colorbar\":{\"outlinewidth\":0,\"ticks\":\"\"}}}],\"bar\":[{\"error_x\":{\"color\":\"#2a3f5f\"},\"error_y\":{\"color\":\"#2a3f5f\"},\"marker\":{\"line\":{\"color\":\"white\",\"width\":0.5},\"pattern\":{\"fillmode\":\"overlay\",\"size\":10,\"solidity\":0.2}},\"type\":\"bar\"}],\"scattergeo\":[{\"type\":\"scattergeo\",\"marker\":{\"colorbar\":{\"outlinewidth\":0,\"ticks\":\"\"}}}],\"scatterpolar\":[{\"type\":\"scatterpolar\",\"marker\":{\"colorbar\":{\"outlinewidth\":0,\"ticks\":\"\"}}}],\"histogram\":[{\"marker\":{\"pattern\":{\"fillmode\":\"overlay\",\"size\":10,\"solidity\":0.2}},\"type\":\"histogram\"}],\"scattergl\":[{\"type\":\"scattergl\",\"marker\":{\"colorbar\":{\"outlinewidth\":0,\"ticks\":\"\"}}}],\"scatter3d\":[{\"type\":\"scatter3d\",\"line\":{\"colorbar\":{\"outlinewidth\":0,\"ticks\":\"\"}},\"marker\":{\"colorbar\":{\"outlinewidth\":0,\"ticks\":\"\"}}}],\"scattermapbox\":[{\"type\":\"scattermapbox\",\"marker\":{\"colorbar\":{\"outlinewidth\":0,\"ticks\":\"\"}}}],\"scatterternary\":[{\"type\":\"scatterternary\",\"marker\":{\"colorbar\":{\"outlinewidth\":0,\"ticks\":\"\"}}}],\"scattercarpet\":[{\"type\":\"scattercarpet\",\"marker\":{\"colorbar\":{\"outlinewidth\":0,\"ticks\":\"\"}}}],\"carpet\":[{\"aaxis\":{\"endlinecolor\":\"#2a3f5f\",\"gridcolor\":\"#C8D4E3\",\"linecolor\":\"#C8D4E3\",\"minorgridcolor\":\"#C8D4E3\",\"startlinecolor\":\"#2a3f5f\"},\"baxis\":{\"endlinecolor\":\"#2a3f5f\",\"gridcolor\":\"#C8D4E3\",\"linecolor\":\"#C8D4E3\",\"minorgridcolor\":\"#C8D4E3\",\"startlinecolor\":\"#2a3f5f\"},\"type\":\"carpet\"}],\"table\":[{\"cells\":{\"fill\":{\"color\":\"#EBF0F8\"},\"line\":{\"color\":\"white\"}},\"header\":{\"fill\":{\"color\":\"#C8D4E3\"},\"line\":{\"color\":\"white\"}},\"type\":\"table\"}],\"barpolar\":[{\"marker\":{\"line\":{\"color\":\"white\",\"width\":0.5},\"pattern\":{\"fillmode\":\"overlay\",\"size\":10,\"solidity\":0.2}},\"type\":\"barpolar\"}],\"pie\":[{\"automargin\":true,\"type\":\"pie\"}]},\"layout\":{\"autotypenumbers\":\"strict\",\"colorway\":[\"#636efa\",\"#EF553B\",\"#00cc96\",\"#ab63fa\",\"#FFA15A\",\"#19d3f3\",\"#FF6692\",\"#B6E880\",\"#FF97FF\",\"#FECB52\"],\"font\":{\"color\":\"#2a3f5f\"},\"hovermode\":\"closest\",\"hoverlabel\":{\"align\":\"left\"},\"paper_bgcolor\":\"white\",\"plot_bgcolor\":\"white\",\"polar\":{\"bgcolor\":\"white\",\"angularaxis\":{\"gridcolor\":\"#EBF0F8\",\"linecolor\":\"#EBF0F8\",\"ticks\":\"\"},\"radialaxis\":{\"gridcolor\":\"#EBF0F8\",\"linecolor\":\"#EBF0F8\",\"ticks\":\"\"}},\"ternary\":{\"bgcolor\":\"white\",\"aaxis\":{\"gridcolor\":\"#DFE8F3\",\"linecolor\":\"#A2B1C6\",\"ticks\":\"\"},\"baxis\":{\"gridcolor\":\"#DFE8F3\",\"linecolor\":\"#A2B1C6\",\"ticks\":\"\"},\"caxis\":{\"gridcolor\":\"#DFE8F3\",\"linecolor\":\"#A2B1C6\",\"ticks\":\"\"}},\"coloraxis\":{\"colorbar\":{\"outlinewidth\":0,\"ticks\":\"\"}},\"colorscale\":{\"sequential\":[[0.0,\"#0d0887\"],[0.1111111111111111,\"#46039f\"],[0.2222222222222222,\"#7201a8\"],[0.3333333333333333,\"#9c179e\"],[0.4444444444444444,\"#bd3786\"],[0.5555555555555556,\"#d8576b\"],[0.6666666666666666,\"#ed7953\"],[0.7777777777777778,\"#fb9f3a\"],[0.8888888888888888,\"#fdca26\"],[1.0,\"#f0f921\"]],\"sequentialminus\":[[0.0,\"#0d0887\"],[0.1111111111111111,\"#46039f\"],[0.2222222222222222,\"#7201a8\"],[0.3333333333333333,\"#9c179e\"],[0.4444444444444444,\"#bd3786\"],[0.5555555555555556,\"#d8576b\"],[0.6666666666666666,\"#ed7953\"],[0.7777777777777778,\"#fb9f3a\"],[0.8888888888888888,\"#fdca26\"],[1.0,\"#f0f921\"]],\"diverging\":[[0,\"#8e0152\"],[0.1,\"#c51b7d\"],[0.2,\"#de77ae\"],[0.3,\"#f1b6da\"],[0.4,\"#fde0ef\"],[0.5,\"#f7f7f7\"],[0.6,\"#e6f5d0\"],[0.7,\"#b8e186\"],[0.8,\"#7fbc41\"],[0.9,\"#4d9221\"],[1,\"#276419\"]]},\"xaxis\":{\"gridcolor\":\"#EBF0F8\",\"linecolor\":\"#EBF0F8\",\"ticks\":\"\",\"title\":{\"standoff\":15},\"zerolinecolor\":\"#EBF0F8\",\"automargin\":true,\"zerolinewidth\":2},\"yaxis\":{\"gridcolor\":\"#EBF0F8\",\"linecolor\":\"#EBF0F8\",\"ticks\":\"\",\"title\":{\"standoff\":15},\"zerolinecolor\":\"#EBF0F8\",\"automargin\":true,\"zerolinewidth\":2},\"scene\":{\"xaxis\":{\"backgroundcolor\":\"white\",\"gridcolor\":\"#DFE8F3\",\"linecolor\":\"#EBF0F8\",\"showbackground\":true,\"ticks\":\"\",\"zerolinecolor\":\"#EBF0F8\",\"gridwidth\":2},\"yaxis\":{\"backgroundcolor\":\"white\",\"gridcolor\":\"#DFE8F3\",\"linecolor\":\"#EBF0F8\",\"showbackground\":true,\"ticks\":\"\",\"zerolinecolor\":\"#EBF0F8\",\"gridwidth\":2},\"zaxis\":{\"backgroundcolor\":\"white\",\"gridcolor\":\"#DFE8F3\",\"linecolor\":\"#EBF0F8\",\"showbackground\":true,\"ticks\":\"\",\"zerolinecolor\":\"#EBF0F8\",\"gridwidth\":2}},\"shapedefaults\":{\"line\":{\"color\":\"#2a3f5f\"}},\"annotationdefaults\":{\"arrowcolor\":\"#2a3f5f\",\"arrowhead\":0,\"arrowwidth\":1},\"geo\":{\"bgcolor\":\"white\",\"landcolor\":\"white\",\"subunitcolor\":\"#C8D4E3\",\"showland\":true,\"showlakes\":true,\"lakecolor\":\"white\"},\"title\":{\"x\":0.05},\"mapbox\":{\"style\":\"light\"}}},\"xaxis\":{\"anchor\":\"y\",\"domain\":[0.0,1.0]},\"yaxis\":{\"anchor\":\"x\",\"domain\":[0.0,1.0]},\"margin\":{\"t\":60},\"title\":{\"text\":\"Hahtags Word Cloud\"}},                        {\"responsive\": true}                    ).then(function(){\n",
       "                            \n",
       "var gd = document.getElementById('537e03e8-ea82-4f6e-8902-46485e338ddd');\n",
       "var x = new MutationObserver(function (mutations, observer) {{\n",
       "        var display = window.getComputedStyle(gd).display;\n",
       "        if (!display || display === 'none') {{\n",
       "            console.log([gd, 'removed!']);\n",
       "            Plotly.purge(gd);\n",
       "            observer.disconnect();\n",
       "        }}\n",
       "}});\n",
       "\n",
       "// Listen for the removal of the full notebook cells\n",
       "var notebookContainer = gd.closest('#notebook-container');\n",
       "if (notebookContainer) {{\n",
       "    x.observe(notebookContainer, {childList: true});\n",
       "}}\n",
       "\n",
       "// Listen for the clearing of the current output cell\n",
       "var outputEl = gd.closest('.output');\n",
       "if (outputEl) {{\n",
       "    x.observe(outputEl, {childList: true});\n",
       "}}\n",
       "\n",
       "                        })                };                });            </script>        </div>"
      ]
     },
     "metadata": {},
     "output_type": "display_data"
    }
   ],
   "source": [
    "text = \" \".join(i for i in data.Hashtags)\n",
    "stopwords = set(STOPWORDS)\n",
    "wordcloud = WordCloud(stopwords=stopwords, background_color=\"black\").generate(text)\n",
    "fig = px.imshow(wordcloud)\n",
    "fig.update_layout(template=\"plotly_white\",title_text=\"Hahtags Word Cloud\")\n",
    "fig.show()"
   ]
  },
  {
   "cell_type": "markdown",
   "id": "23023990-bf3c-48e5-b572-710825cd309b",
   "metadata": {},
   "source": [
    "Q.11: Have a look at the correlation between all the features as shown below"
   ]
  },
  {
   "cell_type": "code",
   "execution_count": 82,
   "id": "8471d459-e4d5-443c-a361-b61555966536",
   "metadata": {},
   "outputs": [
    {
     "data": {
      "application/vnd.plotly.v1+json": {
       "config": {
        "plotlyServerURL": "https://plot.ly"
       },
       "data": [
        {
         "colorscale": [
          [
           0,
           "rgb(103,0,31)"
          ],
          [
           0.1,
           "rgb(178,24,43)"
          ],
          [
           0.2,
           "rgb(214,96,77)"
          ],
          [
           0.3,
           "rgb(244,165,130)"
          ],
          [
           0.4,
           "rgb(253,219,199)"
          ],
          [
           0.5,
           "rgb(247,247,247)"
          ],
          [
           0.6,
           "rgb(209,229,240)"
          ],
          [
           0.7,
           "rgb(146,197,222)"
          ],
          [
           0.8,
           "rgb(67,147,195)"
          ],
          [
           0.9,
           "rgb(33,102,172)"
          ],
          [
           1,
           "rgb(5,48,97)"
          ]
         ],
         "type": "heatmap",
         "x": [
          "Impressions",
          "From Home",
          "From Hashtags",
          "From Explore",
          "From Other",
          "Saves",
          "Comments",
          "Shares",
          "Likes",
          "Profile Visits",
          "Follows"
         ],
         "y": [
          "Impressions",
          "From Home",
          "From Hashtags",
          "From Explore",
          "From Other",
          "Saves",
          "Comments",
          "Shares",
          "Likes",
          "Profile Visits",
          "Follows"
         ],
         "z": [
          [
           1,
           0.8446984764644079,
           0.5607600444158378,
           0.8936074202433567,
           0.5929604758091378,
           0.7792314114268593,
           -0.028523933548663824,
           0.6346751252181763,
           0.8498353377178177,
           0.7609809286546657,
           0.8893634430344086
          ],
          [
           0.8446984764644079,
           1,
           0.1775156543309878,
           0.800573110578866,
           0.5556659551465412,
           0.768817005684724,
           0.012716248342545502,
           0.6749850448685393,
           0.698329637893805,
           0.531076205366268,
           0.6726750588858736
          ],
          [
           0.5607600444158378,
           0.1775156543309878,
           1,
           0.1904532189703739,
           0.2296233181732429,
           0.30592870314657494,
           0.1614388259073108,
           0.21951145515685286,
           0.6621242000877943,
           0.6913449048454711,
           0.5554854735531087
          ],
          [
           0.8936074202433567,
           0.800573110578866,
           0.1904532189703739,
           1,
           0.49568473618614567,
           0.7478028035868068,
           -0.15856537914498336,
           0.6157309658741993,
           0.653699336224973,
           0.5318502558055156,
           0.7960189422044351
          ],
          [
           0.5929604758091378,
           0.5556659551465412,
           0.2296233181732429,
           0.49568473618614567,
           1,
           0.3319068864386735,
           -0.1087029734222875,
           0.15683375635736396,
           0.3935104122090607,
           0.6330799446255249,
           0.5467370225356449
          ],
          [
           0.7792314114268593,
           0.768817005684724,
           0.30592870314657494,
           0.7478028035868068,
           0.3319068864386735,
           1,
           -0.026912263707560984,
           0.860324185158795,
           0.8456432932068351,
           0.36062821319868793,
           0.6284608823148304
          ],
          [
           -0.028523933548663824,
           0.012716248342545502,
           0.1614388259073108,
           -0.15856537914498336,
           -0.1087029734222875,
           -0.026912263707560984,
           1,
           0.016932532855360494,
           0.1235861027264814,
           0.09671424134518669,
           -0.060630774375331827
          ],
          [
           0.6346751252181763,
           0.6749850448685393,
           0.21951145515685286,
           0.6157309658741993,
           0.15683375635736396,
           0.860324185158795,
           0.016932532855360494,
           1,
           0.707794002688105,
           0.24536082330737743,
           0.4930698051158401
          ],
          [
           0.8498353377178177,
           0.698329637893805,
           0.6621242000877943,
           0.653699336224973,
           0.3935104122090607,
           0.8456432932068351,
           0.1235861027264814,
           0.707794002688105,
           1,
           0.6261070345218044,
           0.746333165592919
          ],
          [
           0.7609809286546657,
           0.531076205366268,
           0.6913449048454711,
           0.5318502558055156,
           0.6330799446255249,
           0.36062821319868793,
           0.09671424134518669,
           0.24536082330737743,
           0.6261070345218044,
           1,
           0.8531517459145104
          ],
          [
           0.8893634430344086,
           0.6726750588858736,
           0.5554854735531087,
           0.7960189422044351,
           0.5467370225356449,
           0.6284608823148304,
           -0.060630774375331827,
           0.4930698051158401,
           0.746333165592919,
           0.8531517459145104,
           1
          ]
         ],
         "zmax": 1,
         "zmin": -1
        }
       ],
       "layout": {
        "autosize": true,
        "template": {
         "data": {
          "bar": [
           {
            "error_x": {
             "color": "#2a3f5f"
            },
            "error_y": {
             "color": "#2a3f5f"
            },
            "marker": {
             "line": {
              "color": "white",
              "width": 0.5
             },
             "pattern": {
              "fillmode": "overlay",
              "size": 10,
              "solidity": 0.2
             }
            },
            "type": "bar"
           }
          ],
          "barpolar": [
           {
            "marker": {
             "line": {
              "color": "white",
              "width": 0.5
             },
             "pattern": {
              "fillmode": "overlay",
              "size": 10,
              "solidity": 0.2
             }
            },
            "type": "barpolar"
           }
          ],
          "carpet": [
           {
            "aaxis": {
             "endlinecolor": "#2a3f5f",
             "gridcolor": "#C8D4E3",
             "linecolor": "#C8D4E3",
             "minorgridcolor": "#C8D4E3",
             "startlinecolor": "#2a3f5f"
            },
            "baxis": {
             "endlinecolor": "#2a3f5f",
             "gridcolor": "#C8D4E3",
             "linecolor": "#C8D4E3",
             "minorgridcolor": "#C8D4E3",
             "startlinecolor": "#2a3f5f"
            },
            "type": "carpet"
           }
          ],
          "choropleth": [
           {
            "colorbar": {
             "outlinewidth": 0,
             "ticks": ""
            },
            "type": "choropleth"
           }
          ],
          "contour": [
           {
            "colorbar": {
             "outlinewidth": 0,
             "ticks": ""
            },
            "colorscale": [
             [
              0,
              "#0d0887"
             ],
             [
              0.1111111111111111,
              "#46039f"
             ],
             [
              0.2222222222222222,
              "#7201a8"
             ],
             [
              0.3333333333333333,
              "#9c179e"
             ],
             [
              0.4444444444444444,
              "#bd3786"
             ],
             [
              0.5555555555555556,
              "#d8576b"
             ],
             [
              0.6666666666666666,
              "#ed7953"
             ],
             [
              0.7777777777777778,
              "#fb9f3a"
             ],
             [
              0.8888888888888888,
              "#fdca26"
             ],
             [
              1,
              "#f0f921"
             ]
            ],
            "type": "contour"
           }
          ],
          "contourcarpet": [
           {
            "colorbar": {
             "outlinewidth": 0,
             "ticks": ""
            },
            "type": "contourcarpet"
           }
          ],
          "heatmap": [
           {
            "colorbar": {
             "outlinewidth": 0,
             "ticks": ""
            },
            "colorscale": [
             [
              0,
              "#0d0887"
             ],
             [
              0.1111111111111111,
              "#46039f"
             ],
             [
              0.2222222222222222,
              "#7201a8"
             ],
             [
              0.3333333333333333,
              "#9c179e"
             ],
             [
              0.4444444444444444,
              "#bd3786"
             ],
             [
              0.5555555555555556,
              "#d8576b"
             ],
             [
              0.6666666666666666,
              "#ed7953"
             ],
             [
              0.7777777777777778,
              "#fb9f3a"
             ],
             [
              0.8888888888888888,
              "#fdca26"
             ],
             [
              1,
              "#f0f921"
             ]
            ],
            "type": "heatmap"
           }
          ],
          "heatmapgl": [
           {
            "colorbar": {
             "outlinewidth": 0,
             "ticks": ""
            },
            "colorscale": [
             [
              0,
              "#0d0887"
             ],
             [
              0.1111111111111111,
              "#46039f"
             ],
             [
              0.2222222222222222,
              "#7201a8"
             ],
             [
              0.3333333333333333,
              "#9c179e"
             ],
             [
              0.4444444444444444,
              "#bd3786"
             ],
             [
              0.5555555555555556,
              "#d8576b"
             ],
             [
              0.6666666666666666,
              "#ed7953"
             ],
             [
              0.7777777777777778,
              "#fb9f3a"
             ],
             [
              0.8888888888888888,
              "#fdca26"
             ],
             [
              1,
              "#f0f921"
             ]
            ],
            "type": "heatmapgl"
           }
          ],
          "histogram": [
           {
            "marker": {
             "pattern": {
              "fillmode": "overlay",
              "size": 10,
              "solidity": 0.2
             }
            },
            "type": "histogram"
           }
          ],
          "histogram2d": [
           {
            "colorbar": {
             "outlinewidth": 0,
             "ticks": ""
            },
            "colorscale": [
             [
              0,
              "#0d0887"
             ],
             [
              0.1111111111111111,
              "#46039f"
             ],
             [
              0.2222222222222222,
              "#7201a8"
             ],
             [
              0.3333333333333333,
              "#9c179e"
             ],
             [
              0.4444444444444444,
              "#bd3786"
             ],
             [
              0.5555555555555556,
              "#d8576b"
             ],
             [
              0.6666666666666666,
              "#ed7953"
             ],
             [
              0.7777777777777778,
              "#fb9f3a"
             ],
             [
              0.8888888888888888,
              "#fdca26"
             ],
             [
              1,
              "#f0f921"
             ]
            ],
            "type": "histogram2d"
           }
          ],
          "histogram2dcontour": [
           {
            "colorbar": {
             "outlinewidth": 0,
             "ticks": ""
            },
            "colorscale": [
             [
              0,
              "#0d0887"
             ],
             [
              0.1111111111111111,
              "#46039f"
             ],
             [
              0.2222222222222222,
              "#7201a8"
             ],
             [
              0.3333333333333333,
              "#9c179e"
             ],
             [
              0.4444444444444444,
              "#bd3786"
             ],
             [
              0.5555555555555556,
              "#d8576b"
             ],
             [
              0.6666666666666666,
              "#ed7953"
             ],
             [
              0.7777777777777778,
              "#fb9f3a"
             ],
             [
              0.8888888888888888,
              "#fdca26"
             ],
             [
              1,
              "#f0f921"
             ]
            ],
            "type": "histogram2dcontour"
           }
          ],
          "mesh3d": [
           {
            "colorbar": {
             "outlinewidth": 0,
             "ticks": ""
            },
            "type": "mesh3d"
           }
          ],
          "parcoords": [
           {
            "line": {
             "colorbar": {
              "outlinewidth": 0,
              "ticks": ""
             }
            },
            "type": "parcoords"
           }
          ],
          "pie": [
           {
            "automargin": true,
            "type": "pie"
           }
          ],
          "scatter": [
           {
            "fillpattern": {
             "fillmode": "overlay",
             "size": 10,
             "solidity": 0.2
            },
            "type": "scatter"
           }
          ],
          "scatter3d": [
           {
            "line": {
             "colorbar": {
              "outlinewidth": 0,
              "ticks": ""
             }
            },
            "marker": {
             "colorbar": {
              "outlinewidth": 0,
              "ticks": ""
             }
            },
            "type": "scatter3d"
           }
          ],
          "scattercarpet": [
           {
            "marker": {
             "colorbar": {
              "outlinewidth": 0,
              "ticks": ""
             }
            },
            "type": "scattercarpet"
           }
          ],
          "scattergeo": [
           {
            "marker": {
             "colorbar": {
              "outlinewidth": 0,
              "ticks": ""
             }
            },
            "type": "scattergeo"
           }
          ],
          "scattergl": [
           {
            "marker": {
             "colorbar": {
              "outlinewidth": 0,
              "ticks": ""
             }
            },
            "type": "scattergl"
           }
          ],
          "scattermapbox": [
           {
            "marker": {
             "colorbar": {
              "outlinewidth": 0,
              "ticks": ""
             }
            },
            "type": "scattermapbox"
           }
          ],
          "scatterpolar": [
           {
            "marker": {
             "colorbar": {
              "outlinewidth": 0,
              "ticks": ""
             }
            },
            "type": "scatterpolar"
           }
          ],
          "scatterpolargl": [
           {
            "marker": {
             "colorbar": {
              "outlinewidth": 0,
              "ticks": ""
             }
            },
            "type": "scatterpolargl"
           }
          ],
          "scatterternary": [
           {
            "marker": {
             "colorbar": {
              "outlinewidth": 0,
              "ticks": ""
             }
            },
            "type": "scatterternary"
           }
          ],
          "surface": [
           {
            "colorbar": {
             "outlinewidth": 0,
             "ticks": ""
            },
            "colorscale": [
             [
              0,
              "#0d0887"
             ],
             [
              0.1111111111111111,
              "#46039f"
             ],
             [
              0.2222222222222222,
              "#7201a8"
             ],
             [
              0.3333333333333333,
              "#9c179e"
             ],
             [
              0.4444444444444444,
              "#bd3786"
             ],
             [
              0.5555555555555556,
              "#d8576b"
             ],
             [
              0.6666666666666666,
              "#ed7953"
             ],
             [
              0.7777777777777778,
              "#fb9f3a"
             ],
             [
              0.8888888888888888,
              "#fdca26"
             ],
             [
              1,
              "#f0f921"
             ]
            ],
            "type": "surface"
           }
          ],
          "table": [
           {
            "cells": {
             "fill": {
              "color": "#EBF0F8"
             },
             "line": {
              "color": "white"
             }
            },
            "header": {
             "fill": {
              "color": "#C8D4E3"
             },
             "line": {
              "color": "white"
             }
            },
            "type": "table"
           }
          ]
         },
         "layout": {
          "annotationdefaults": {
           "arrowcolor": "#2a3f5f",
           "arrowhead": 0,
           "arrowwidth": 1
          },
          "autotypenumbers": "strict",
          "coloraxis": {
           "colorbar": {
            "outlinewidth": 0,
            "ticks": ""
           }
          },
          "colorscale": {
           "diverging": [
            [
             0,
             "#8e0152"
            ],
            [
             0.1,
             "#c51b7d"
            ],
            [
             0.2,
             "#de77ae"
            ],
            [
             0.3,
             "#f1b6da"
            ],
            [
             0.4,
             "#fde0ef"
            ],
            [
             0.5,
             "#f7f7f7"
            ],
            [
             0.6,
             "#e6f5d0"
            ],
            [
             0.7,
             "#b8e186"
            ],
            [
             0.8,
             "#7fbc41"
            ],
            [
             0.9,
             "#4d9221"
            ],
            [
             1,
             "#276419"
            ]
           ],
           "sequential": [
            [
             0,
             "#0d0887"
            ],
            [
             0.1111111111111111,
             "#46039f"
            ],
            [
             0.2222222222222222,
             "#7201a8"
            ],
            [
             0.3333333333333333,
             "#9c179e"
            ],
            [
             0.4444444444444444,
             "#bd3786"
            ],
            [
             0.5555555555555556,
             "#d8576b"
            ],
            [
             0.6666666666666666,
             "#ed7953"
            ],
            [
             0.7777777777777778,
             "#fb9f3a"
            ],
            [
             0.8888888888888888,
             "#fdca26"
            ],
            [
             1,
             "#f0f921"
            ]
           ],
           "sequentialminus": [
            [
             0,
             "#0d0887"
            ],
            [
             0.1111111111111111,
             "#46039f"
            ],
            [
             0.2222222222222222,
             "#7201a8"
            ],
            [
             0.3333333333333333,
             "#9c179e"
            ],
            [
             0.4444444444444444,
             "#bd3786"
            ],
            [
             0.5555555555555556,
             "#d8576b"
            ],
            [
             0.6666666666666666,
             "#ed7953"
            ],
            [
             0.7777777777777778,
             "#fb9f3a"
            ],
            [
             0.8888888888888888,
             "#fdca26"
            ],
            [
             1,
             "#f0f921"
            ]
           ]
          },
          "colorway": [
           "#636efa",
           "#EF553B",
           "#00cc96",
           "#ab63fa",
           "#FFA15A",
           "#19d3f3",
           "#FF6692",
           "#B6E880",
           "#FF97FF",
           "#FECB52"
          ],
          "font": {
           "color": "#2a3f5f"
          },
          "geo": {
           "bgcolor": "white",
           "lakecolor": "white",
           "landcolor": "white",
           "showlakes": true,
           "showland": true,
           "subunitcolor": "#C8D4E3"
          },
          "hoverlabel": {
           "align": "left"
          },
          "hovermode": "closest",
          "mapbox": {
           "style": "light"
          },
          "paper_bgcolor": "white",
          "plot_bgcolor": "white",
          "polar": {
           "angularaxis": {
            "gridcolor": "#EBF0F8",
            "linecolor": "#EBF0F8",
            "ticks": ""
           },
           "bgcolor": "white",
           "radialaxis": {
            "gridcolor": "#EBF0F8",
            "linecolor": "#EBF0F8",
            "ticks": ""
           }
          },
          "scene": {
           "xaxis": {
            "backgroundcolor": "white",
            "gridcolor": "#DFE8F3",
            "gridwidth": 2,
            "linecolor": "#EBF0F8",
            "showbackground": true,
            "ticks": "",
            "zerolinecolor": "#EBF0F8"
           },
           "yaxis": {
            "backgroundcolor": "white",
            "gridcolor": "#DFE8F3",
            "gridwidth": 2,
            "linecolor": "#EBF0F8",
            "showbackground": true,
            "ticks": "",
            "zerolinecolor": "#EBF0F8"
           },
           "zaxis": {
            "backgroundcolor": "white",
            "gridcolor": "#DFE8F3",
            "gridwidth": 2,
            "linecolor": "#EBF0F8",
            "showbackground": true,
            "ticks": "",
            "zerolinecolor": "#EBF0F8"
           }
          },
          "shapedefaults": {
           "line": {
            "color": "#2a3f5f"
           }
          },
          "ternary": {
           "aaxis": {
            "gridcolor": "#DFE8F3",
            "linecolor": "#A2B1C6",
            "ticks": ""
           },
           "baxis": {
            "gridcolor": "#DFE8F3",
            "linecolor": "#A2B1C6",
            "ticks": ""
           },
           "bgcolor": "white",
           "caxis": {
            "gridcolor": "#DFE8F3",
            "linecolor": "#A2B1C6",
            "ticks": ""
           }
          },
          "title": {
           "x": 0.05
          },
          "xaxis": {
           "automargin": true,
           "gridcolor": "#EBF0F8",
           "linecolor": "#EBF0F8",
           "ticks": "",
           "title": {
            "standoff": 15
           },
           "zerolinecolor": "#EBF0F8",
           "zerolinewidth": 2
          },
          "yaxis": {
           "automargin": true,
           "gridcolor": "#EBF0F8",
           "linecolor": "#EBF0F8",
           "ticks": "",
           "title": {
            "standoff": 15
           },
           "zerolinecolor": "#EBF0F8",
           "zerolinewidth": 2
          }
         }
        },
        "title": {
         "text": "Correlation Matrix"
        },
        "xaxis": {
         "autorange": true,
         "range": [
          -0.5,
          10.5
         ],
         "title": {
          "text": "Features"
         },
         "type": "category"
        },
        "yaxis": {
         "autorange": true,
         "range": [
          -0.5,
          10.5
         ],
         "title": {
          "text": "Features"
         },
         "type": "category"
        }
       }
      },
      "image/png": "[encoded data removed]",
      "text/html": [
       "<div>                            <div id=\"6ed57175-892d-484f-93bd-9cba16de2e5c\" class=\"plotly-graph-div\" style=\"height:525px; width:100%;\"></div>            <script type=\"text/javascript\">                require([\"plotly\"], function(Plotly) {                    window.PLOTLYENV=window.PLOTLYENV || {};                                    if (document.getElementById(\"6ed57175-892d-484f-93bd-9cba16de2e5c\")) {                    Plotly.newPlot(                        \"6ed57175-892d-484f-93bd-9cba16de2e5c\",                        [{\"colorscale\":[[0.0,\"rgb(103,0,31)\"],[0.1,\"rgb(178,24,43)\"],[0.2,\"rgb(214,96,77)\"],[0.3,\"rgb(244,165,130)\"],[0.4,\"rgb(253,219,199)\"],[0.5,\"rgb(247,247,247)\"],[0.6,\"rgb(209,229,240)\"],[0.7,\"rgb(146,197,222)\"],[0.8,\"rgb(67,147,195)\"],[0.9,\"rgb(33,102,172)\"],[1.0,\"rgb(5,48,97)\"]],\"x\":[\"Impressions\",\"From Home\",\"From Hashtags\",\"From Explore\",\"From Other\",\"Saves\",\"Comments\",\"Shares\",\"Likes\",\"Profile Visits\",\"Follows\"],\"y\":[\"Impressions\",\"From Home\",\"From Hashtags\",\"From Explore\",\"From Other\",\"Saves\",\"Comments\",\"Shares\",\"Likes\",\"Profile Visits\",\"Follows\"],\"z\":[[1.0,0.8446984764644079,0.5607600444158378,0.8936074202433567,0.5929604758091378,0.7792314114268593,-0.028523933548663824,0.6346751252181763,0.8498353377178177,0.7609809286546657,0.8893634430344086],[0.8446984764644079,1.0,0.1775156543309878,0.800573110578866,0.5556659551465412,0.768817005684724,0.012716248342545502,0.6749850448685393,0.698329637893805,0.531076205366268,0.6726750588858736],[0.5607600444158378,0.1775156543309878,1.0,0.1904532189703739,0.2296233181732429,0.30592870314657494,0.1614388259073108,0.21951145515685286,0.6621242000877943,0.6913449048454711,0.5554854735531087],[0.8936074202433567,0.800573110578866,0.1904532189703739,1.0,0.49568473618614567,0.7478028035868068,-0.15856537914498336,0.6157309658741993,0.653699336224973,0.5318502558055156,0.7960189422044351],[0.5929604758091378,0.5556659551465412,0.2296233181732429,0.49568473618614567,1.0,0.3319068864386735,-0.1087029734222875,0.15683375635736396,0.3935104122090607,0.6330799446255249,0.5467370225356449],[0.7792314114268593,0.768817005684724,0.30592870314657494,0.7478028035868068,0.3319068864386735,1.0,-0.026912263707560984,0.860324185158795,0.8456432932068351,0.36062821319868793,0.6284608823148304],[-0.028523933548663824,0.012716248342545502,0.1614388259073108,-0.15856537914498336,-0.1087029734222875,-0.026912263707560984,1.0,0.016932532855360494,0.1235861027264814,0.09671424134518669,-0.060630774375331827],[0.6346751252181763,0.6749850448685393,0.21951145515685286,0.6157309658741993,0.15683375635736396,0.860324185158795,0.016932532855360494,1.0,0.707794002688105,0.24536082330737743,0.4930698051158401],[0.8498353377178177,0.698329637893805,0.6621242000877943,0.653699336224973,0.3935104122090607,0.8456432932068351,0.1235861027264814,0.707794002688105,1.0,0.6261070345218044,0.746333165592919],[0.7609809286546657,0.531076205366268,0.6913449048454711,0.5318502558055156,0.6330799446255249,0.36062821319868793,0.09671424134518669,0.24536082330737743,0.6261070345218044,1.0,0.8531517459145104],[0.8893634430344086,0.6726750588858736,0.5554854735531087,0.7960189422044351,0.5467370225356449,0.6284608823148304,-0.060630774375331827,0.4930698051158401,0.746333165592919,0.8531517459145104,1.0]],\"zmax\":1,\"zmin\":-1,\"type\":\"heatmap\"}],                        {\"template\":{\"data\":{\"histogram2dcontour\":[{\"type\":\"histogram2dcontour\",\"colorbar\":{\"outlinewidth\":0,\"ticks\":\"\"},\"colorscale\":[[0.0,\"#0d0887\"],[0.1111111111111111,\"#46039f\"],[0.2222222222222222,\"#7201a8\"],[0.3333333333333333,\"#9c179e\"],[0.4444444444444444,\"#bd3786\"],[0.5555555555555556,\"#d8576b\"],[0.6666666666666666,\"#ed7953\"],[0.7777777777777778,\"#fb9f3a\"],[0.8888888888888888,\"#fdca26\"],[1.0,\"#f0f921\"]]}],\"choropleth\":[{\"type\":\"choropleth\",\"colorbar\":{\"outlinewidth\":0,\"ticks\":\"\"}}],\"histogram2d\":[{\"type\":\"histogram2d\",\"colorbar\":{\"outlinewidth\":0,\"ticks\":\"\"},\"colorscale\":[[0.0,\"#0d0887\"],[0.1111111111111111,\"#46039f\"],[0.2222222222222222,\"#7201a8\"],[0.3333333333333333,\"#9c179e\"],[0.4444444444444444,\"#bd3786\"],[0.5555555555555556,\"#d8576b\"],[0.6666666666666666,\"#ed7953\"],[0.7777777777777778,\"#fb9f3a\"],[0.8888888888888888,\"#fdca26\"],[1.0,\"#f0f921\"]]}],\"heatmap\":[{\"type\":\"heatmap\",\"colorbar\":{\"outlinewidth\":0,\"ticks\":\"\"},\"colorscale\":[[0.0,\"#0d0887\"],[0.1111111111111111,\"#46039f\"],[0.2222222222222222,\"#7201a8\"],[0.3333333333333333,\"#9c179e\"],[0.4444444444444444,\"#bd3786\"],[0.5555555555555556,\"#d8576b\"],[0.6666666666666666,\"#ed7953\"],[0.7777777777777778,\"#fb9f3a\"],[0.8888888888888888,\"#fdca26\"],[1.0,\"#f0f921\"]]}],\"heatmapgl\":[{\"type\":\"heatmapgl\",\"colorbar\":{\"outlinewidth\":0,\"ticks\":\"\"},\"colorscale\":[[0.0,\"#0d0887\"],[0.1111111111111111,\"#46039f\"],[0.2222222222222222,\"#7201a8\"],[0.3333333333333333,\"#9c179e\"],[0.4444444444444444,\"#bd3786\"],[0.5555555555555556,\"#d8576b\"],[0.6666666666666666,\"#ed7953\"],[0.7777777777777778,\"#fb9f3a\"],[0.8888888888888888,\"#fdca26\"],[1.0,\"#f0f921\"]]}],\"contourcarpet\":[{\"type\":\"contourcarpet\",\"colorbar\":{\"outlinewidth\":0,\"ticks\":\"\"}}],\"contour\":[{\"type\":\"contour\",\"colorbar\":{\"outlinewidth\":0,\"ticks\":\"\"},\"colorscale\":[[0.0,\"#0d0887\"],[0.1111111111111111,\"#46039f\"],[0.2222222222222222,\"#7201a8\"],[0.3333333333333333,\"#9c179e\"],[0.4444444444444444,\"#bd3786\"],[0.5555555555555556,\"#d8576b\"],[0.6666666666666666,\"#ed7953\"],[0.7777777777777778,\"#fb9f3a\"],[0.8888888888888888,\"#fdca26\"],[1.0,\"#f0f921\"]]}],\"surface\":[{\"type\":\"surface\",\"colorbar\":{\"outlinewidth\":0,\"ticks\":\"\"},\"colorscale\":[[0.0,\"#0d0887\"],[0.1111111111111111,\"#46039f\"],[0.2222222222222222,\"#7201a8\"],[0.3333333333333333,\"#9c179e\"],[0.4444444444444444,\"#bd3786\"],[0.5555555555555556,\"#d8576b\"],[0.6666666666666666,\"#ed7953\"],[0.7777777777777778,\"#fb9f3a\"],[0.8888888888888888,\"#fdca26\"],[1.0,\"#f0f921\"]]}],\"mesh3d\":[{\"type\":\"mesh3d\",\"colorbar\":{\"outlinewidth\":0,\"ticks\":\"\"}}],\"scatter\":[{\"fillpattern\":{\"fillmode\":\"overlay\",\"size\":10,\"solidity\":0.2},\"type\":\"scatter\"}],\"parcoords\":[{\"type\":\"parcoords\",\"line\":{\"colorbar\":{\"outlinewidth\":0,\"ticks\":\"\"}}}],\"scatterpolargl\":[{\"type\":\"scatterpolargl\",\"marker\":{\"colorbar\":{\"outlinewidth\":0,\"ticks\":\"\"}}}],\"bar\":[{\"error_x\":{\"color\":\"#2a3f5f\"},\"error_y\":{\"color\":\"#2a3f5f\"},\"marker\":{\"line\":{\"color\":\"white\",\"width\":0.5},\"pattern\":{\"fillmode\":\"overlay\",\"size\":10,\"solidity\":0.2}},\"type\":\"bar\"}],\"scattergeo\":[{\"type\":\"scattergeo\",\"marker\":{\"colorbar\":{\"outlinewidth\":0,\"ticks\":\"\"}}}],\"scatterpolar\":[{\"type\":\"scatterpolar\",\"marker\":{\"colorbar\":{\"outlinewidth\":0,\"ticks\":\"\"}}}],\"histogram\":[{\"marker\":{\"pattern\":{\"fillmode\":\"overlay\",\"size\":10,\"solidity\":0.2}},\"type\":\"histogram\"}],\"scattergl\":[{\"type\":\"scattergl\",\"marker\":{\"colorbar\":{\"outlinewidth\":0,\"ticks\":\"\"}}}],\"scatter3d\":[{\"type\":\"scatter3d\",\"line\":{\"colorbar\":{\"outlinewidth\":0,\"ticks\":\"\"}},\"marker\":{\"colorbar\":{\"outlinewidth\":0,\"ticks\":\"\"}}}],\"scattermapbox\":[{\"type\":\"scattermapbox\",\"marker\":{\"colorbar\":{\"outlinewidth\":0,\"ticks\":\"\"}}}],\"scatterternary\":[{\"type\":\"scatterternary\",\"marker\":{\"colorbar\":{\"outlinewidth\":0,\"ticks\":\"\"}}}],\"scattercarpet\":[{\"type\":\"scattercarpet\",\"marker\":{\"colorbar\":{\"outlinewidth\":0,\"ticks\":\"\"}}}],\"carpet\":[{\"aaxis\":{\"endlinecolor\":\"#2a3f5f\",\"gridcolor\":\"#C8D4E3\",\"linecolor\":\"#C8D4E3\",\"minorgridcolor\":\"#C8D4E3\",\"startlinecolor\":\"#2a3f5f\"},\"baxis\":{\"endlinecolor\":\"#2a3f5f\",\"gridcolor\":\"#C8D4E3\",\"linecolor\":\"#C8D4E3\",\"minorgridcolor\":\"#C8D4E3\",\"startlinecolor\":\"#2a3f5f\"},\"type\":\"carpet\"}],\"table\":[{\"cells\":{\"fill\":{\"color\":\"#EBF0F8\"},\"line\":{\"color\":\"white\"}},\"header\":{\"fill\":{\"color\":\"#C8D4E3\"},\"line\":{\"color\":\"white\"}},\"type\":\"table\"}],\"barpolar\":[{\"marker\":{\"line\":{\"color\":\"white\",\"width\":0.5},\"pattern\":{\"fillmode\":\"overlay\",\"size\":10,\"solidity\":0.2}},\"type\":\"barpolar\"}],\"pie\":[{\"automargin\":true,\"type\":\"pie\"}]},\"layout\":{\"autotypenumbers\":\"strict\",\"colorway\":[\"#636efa\",\"#EF553B\",\"#00cc96\",\"#ab63fa\",\"#FFA15A\",\"#19d3f3\",\"#FF6692\",\"#B6E880\",\"#FF97FF\",\"#FECB52\"],\"font\":{\"color\":\"#2a3f5f\"},\"hovermode\":\"closest\",\"hoverlabel\":{\"align\":\"left\"},\"paper_bgcolor\":\"white\",\"plot_bgcolor\":\"white\",\"polar\":{\"bgcolor\":\"white\",\"angularaxis\":{\"gridcolor\":\"#EBF0F8\",\"linecolor\":\"#EBF0F8\",\"ticks\":\"\"},\"radialaxis\":{\"gridcolor\":\"#EBF0F8\",\"linecolor\":\"#EBF0F8\",\"ticks\":\"\"}},\"ternary\":{\"bgcolor\":\"white\",\"aaxis\":{\"gridcolor\":\"#DFE8F3\",\"linecolor\":\"#A2B1C6\",\"ticks\":\"\"},\"baxis\":{\"gridcolor\":\"#DFE8F3\",\"linecolor\":\"#A2B1C6\",\"ticks\":\"\"},\"caxis\":{\"gridcolor\":\"#DFE8F3\",\"linecolor\":\"#A2B1C6\",\"ticks\":\"\"}},\"coloraxis\":{\"colorbar\":{\"outlinewidth\":0,\"ticks\":\"\"}},\"colorscale\":{\"sequential\":[[0.0,\"#0d0887\"],[0.1111111111111111,\"#46039f\"],[0.2222222222222222,\"#7201a8\"],[0.3333333333333333,\"#9c179e\"],[0.4444444444444444,\"#bd3786\"],[0.5555555555555556,\"#d8576b\"],[0.6666666666666666,\"#ed7953\"],[0.7777777777777778,\"#fb9f3a\"],[0.8888888888888888,\"#fdca26\"],[1.0,\"#f0f921\"]],\"sequentialminus\":[[0.0,\"#0d0887\"],[0.1111111111111111,\"#46039f\"],[0.2222222222222222,\"#7201a8\"],[0.3333333333333333,\"#9c179e\"],[0.4444444444444444,\"#bd3786\"],[0.5555555555555556,\"#d8576b\"],[0.6666666666666666,\"#ed7953\"],[0.7777777777777778,\"#fb9f3a\"],[0.8888888888888888,\"#fdca26\"],[1.0,\"#f0f921\"]],\"diverging\":[[0,\"#8e0152\"],[0.1,\"#c51b7d\"],[0.2,\"#de77ae\"],[0.3,\"#f1b6da\"],[0.4,\"#fde0ef\"],[0.5,\"#f7f7f7\"],[0.6,\"#e6f5d0\"],[0.7,\"#b8e186\"],[0.8,\"#7fbc41\"],[0.9,\"#4d9221\"],[1,\"#276419\"]]},\"xaxis\":{\"gridcolor\":\"#EBF0F8\",\"linecolor\":\"#EBF0F8\",\"ticks\":\"\",\"title\":{\"standoff\":15},\"zerolinecolor\":\"#EBF0F8\",\"automargin\":true,\"zerolinewidth\":2},\"yaxis\":{\"gridcolor\":\"#EBF0F8\",\"linecolor\":\"#EBF0F8\",\"ticks\":\"\",\"title\":{\"standoff\":15},\"zerolinecolor\":\"#EBF0F8\",\"automargin\":true,\"zerolinewidth\":2},\"scene\":{\"xaxis\":{\"backgroundcolor\":\"white\",\"gridcolor\":\"#DFE8F3\",\"linecolor\":\"#EBF0F8\",\"showbackground\":true,\"ticks\":\"\",\"zerolinecolor\":\"#EBF0F8\",\"gridwidth\":2},\"yaxis\":{\"backgroundcolor\":\"white\",\"gridcolor\":\"#DFE8F3\",\"linecolor\":\"#EBF0F8\",\"showbackground\":true,\"ticks\":\"\",\"zerolinecolor\":\"#EBF0F8\",\"gridwidth\":2},\"zaxis\":{\"backgroundcolor\":\"white\",\"gridcolor\":\"#DFE8F3\",\"linecolor\":\"#EBF0F8\",\"showbackground\":true,\"ticks\":\"\",\"zerolinecolor\":\"#EBF0F8\",\"gridwidth\":2}},\"shapedefaults\":{\"line\":{\"color\":\"#2a3f5f\"}},\"annotationdefaults\":{\"arrowcolor\":\"#2a3f5f\",\"arrowhead\":0,\"arrowwidth\":1},\"geo\":{\"bgcolor\":\"white\",\"landcolor\":\"white\",\"subunitcolor\":\"#C8D4E3\",\"showland\":true,\"showlakes\":true,\"lakecolor\":\"white\"},\"title\":{\"x\":0.05},\"mapbox\":{\"style\":\"light\"}}},\"title\":{\"text\":\"Correlation Matrix\"},\"xaxis\":{\"title\":{\"text\":\"Features\"}},\"yaxis\":{\"title\":{\"text\":\"Features\"}}},                        {\"responsive\": true}                    ).then(function(){\n",
       "                            \n",
       "var gd = document.getElementById('6ed57175-892d-484f-93bd-9cba16de2e5c');\n",
       "var x = new MutationObserver(function (mutations, observer) {{\n",
       "        var display = window.getComputedStyle(gd).display;\n",
       "        if (!display || display === 'none') {{\n",
       "            console.log([gd, 'removed!']);\n",
       "            Plotly.purge(gd);\n",
       "            observer.disconnect();\n",
       "        }}\n",
       "}});\n",
       "\n",
       "// Listen for the removal of the full notebook cells\n",
       "var notebookContainer = gd.closest('#notebook-container');\n",
       "if (notebookContainer) {{\n",
       "    x.observe(notebookContainer, {childList: true});\n",
       "}}\n",
       "\n",
       "// Listen for the clearing of the current output cell\n",
       "var outputEl = gd.closest('.output');\n",
       "if (outputEl) {{\n",
       "    x.observe(outputEl, {childList: true});\n",
       "}}\n",
       "\n",
       "                        })                };                });            </script>        </div>"
      ]
     },
     "metadata": {},
     "output_type": "display_data"
    }
   ],
   "source": [
    "numeric_data = data.select_dtypes(include=['number'])\n",
    "correlation_matrix = numeric_data.corr()\n",
    "fig = go.Figure(data=go.Heatmap(z=correlation_matrix.values, x=correlation_matrix.columns,y=correlation_matrix.index, colorscale='RdBu',zmin=-1,zmax=1))\n",
    "fig.update_layout(title='Correlation Matrix',xaxis_title='Features',yaxis_title='Features')\n",
    "fig.show()"
   ]
  },
  {
   "cell_type": "code",
   "execution_count": null,
   "id": "5a29478a-2520-403e-bbfd-0caeb3e21625",
   "metadata": {},
   "outputs": [],
   "source": []
  }
 ],
 "metadata": {
  "kernelspec": {
   "display_name": "Python 3 (ipykernel)",
   "language": "python",
   "name": "python3"
  },
  "language_info": {
   "codemirror_mode": {
    "name": "ipython",
    "version": 3
   },
   "file_extension": ".py",
   "mimetype": "text/x-python",
   "name": "python",
   "nbconvert_exporter": "python",
   "pygments_lexer": "ipython3",
   "version": "3.11.1"
  }
 },
 "nbformat": 4,
 "nbformat_minor": 5
}
